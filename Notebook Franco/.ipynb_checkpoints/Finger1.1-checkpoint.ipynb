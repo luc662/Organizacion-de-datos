{
 "cells": [
  {
   "cell_type": "code",
   "execution_count": 1,
   "metadata": {},
   "outputs": [],
   "source": [
    "import pandas as pd\n",
    "%config IPCompleter.greedy=True\n",
    "import numpy as np\n",
    "%config IPCompleter.greedy=True\n",
    "import matplotlib.pyplot as plt\n",
    "%config IPCompleter.greedy=True\n",
    "import seaborn as sns\n",
    "%config IPCompleter.greedy=True\n",
    "\n",
    "%matplotlib inline"
   ]
  },
  {
   "cell_type": "code",
   "execution_count": 2,
   "metadata": {},
   "outputs": [],
   "source": [
    "auctions = pd.read_csv('data/auctions.csv')"
   ]
  },
  {
   "cell_type": "code",
   "execution_count": 3,
   "metadata": {},
   "outputs": [
    {
     "data": {
      "text/html": [
       "<div>\n",
       "<style scoped>\n",
       "    .dataframe tbody tr th:only-of-type {\n",
       "        vertical-align: middle;\n",
       "    }\n",
       "\n",
       "    .dataframe tbody tr th {\n",
       "        vertical-align: top;\n",
       "    }\n",
       "\n",
       "    .dataframe thead th {\n",
       "        text-align: right;\n",
       "    }\n",
       "</style>\n",
       "<table border=\"1\" class=\"dataframe\">\n",
       "  <thead>\n",
       "    <tr style=\"text-align: right;\">\n",
       "      <th></th>\n",
       "      <th>auction_type_id</th>\n",
       "      <th>country</th>\n",
       "      <th>date</th>\n",
       "      <th>device_id</th>\n",
       "      <th>platform</th>\n",
       "      <th>ref_type_id</th>\n",
       "      <th>source_id</th>\n",
       "    </tr>\n",
       "  </thead>\n",
       "  <tbody>\n",
       "    <tr>\n",
       "      <th>0</th>\n",
       "      <td>NaN</td>\n",
       "      <td>6333597102633388268</td>\n",
       "      <td>2019-03-11 14:18:33.290763</td>\n",
       "      <td>6059599345986491085</td>\n",
       "      <td>1</td>\n",
       "      <td>1</td>\n",
       "      <td>0</td>\n",
       "    </tr>\n",
       "    <tr>\n",
       "      <th>1</th>\n",
       "      <td>NaN</td>\n",
       "      <td>6333597102633388268</td>\n",
       "      <td>2019-03-11 14:18:34.440157</td>\n",
       "      <td>1115994996230693426</td>\n",
       "      <td>1</td>\n",
       "      <td>1</td>\n",
       "      <td>0</td>\n",
       "    </tr>\n",
       "    <tr>\n",
       "      <th>2</th>\n",
       "      <td>NaN</td>\n",
       "      <td>6333597102633388268</td>\n",
       "      <td>2019-03-11 14:18:35.862360</td>\n",
       "      <td>7463856250762200923</td>\n",
       "      <td>1</td>\n",
       "      <td>1</td>\n",
       "      <td>0</td>\n",
       "    </tr>\n",
       "    <tr>\n",
       "      <th>3</th>\n",
       "      <td>NaN</td>\n",
       "      <td>6333597102633388268</td>\n",
       "      <td>2019-03-11 14:18:36.167163</td>\n",
       "      <td>7829815350267792040</td>\n",
       "      <td>1</td>\n",
       "      <td>1</td>\n",
       "      <td>0</td>\n",
       "    </tr>\n",
       "    <tr>\n",
       "      <th>4</th>\n",
       "      <td>NaN</td>\n",
       "      <td>6333597102633388268</td>\n",
       "      <td>2019-03-11 14:18:37.728590</td>\n",
       "      <td>1448534231953777480</td>\n",
       "      <td>1</td>\n",
       "      <td>1</td>\n",
       "      <td>0</td>\n",
       "    </tr>\n",
       "  </tbody>\n",
       "</table>\n",
       "</div>"
      ],
      "text/plain": [
       "   auction_type_id              country                        date  \\\n",
       "0              NaN  6333597102633388268  2019-03-11 14:18:33.290763   \n",
       "1              NaN  6333597102633388268  2019-03-11 14:18:34.440157   \n",
       "2              NaN  6333597102633388268  2019-03-11 14:18:35.862360   \n",
       "3              NaN  6333597102633388268  2019-03-11 14:18:36.167163   \n",
       "4              NaN  6333597102633388268  2019-03-11 14:18:37.728590   \n",
       "\n",
       "             device_id  platform  ref_type_id  source_id  \n",
       "0  6059599345986491085         1            1          0  \n",
       "1  1115994996230693426         1            1          0  \n",
       "2  7463856250762200923         1            1          0  \n",
       "3  7829815350267792040         1            1          0  \n",
       "4  1448534231953777480         1            1          0  "
      ]
     },
     "execution_count": 3,
     "metadata": {},
     "output_type": "execute_result"
    }
   ],
   "source": [
    "auctions.head(5)"
   ]
  },
  {
   "cell_type": "code",
   "execution_count": 4,
   "metadata": {},
   "outputs": [
    {
     "data": {
      "text/plain": [
       "(19571319, 7)"
      ]
     },
     "execution_count": 4,
     "metadata": {},
     "output_type": "execute_result"
    }
   ],
   "source": [
    "auctions.shape"
   ]
  },
  {
   "cell_type": "code",
   "execution_count": 5,
   "metadata": {},
   "outputs": [
    {
     "data": {
      "text/plain": [
       "auction_type_id           0\n",
       "country            19571319\n",
       "date               19571319\n",
       "device_id          19571319\n",
       "platform           19571319\n",
       "ref_type_id        19571319\n",
       "source_id          19571319\n",
       "dtype: int64"
      ]
     },
     "execution_count": 5,
     "metadata": {},
     "output_type": "execute_result"
    }
   ],
   "source": [
    "auctions.count()"
   ]
  },
  {
   "cell_type": "code",
   "execution_count": 6,
   "metadata": {},
   "outputs": [],
   "source": [
    "auctions.drop('auction_type_id', axis = 1, inplace = True)"
   ]
  },
  {
   "cell_type": "code",
   "execution_count": 7,
   "metadata": {},
   "outputs": [
    {
     "data": {
      "text/plain": [
       "country         int64\n",
       "date           object\n",
       "device_id       int64\n",
       "platform        int64\n",
       "ref_type_id     int64\n",
       "source_id       int64\n",
       "dtype: object"
      ]
     },
     "execution_count": 7,
     "metadata": {},
     "output_type": "execute_result"
    }
   ],
   "source": [
    "auctions.dtypes"
   ]
  },
  {
   "cell_type": "code",
   "execution_count": 8,
   "metadata": {},
   "outputs": [
    {
     "data": {
      "text/html": [
       "<div>\n",
       "<style scoped>\n",
       "    .dataframe tbody tr th:only-of-type {\n",
       "        vertical-align: middle;\n",
       "    }\n",
       "\n",
       "    .dataframe tbody tr th {\n",
       "        vertical-align: top;\n",
       "    }\n",
       "\n",
       "    .dataframe thead th {\n",
       "        text-align: right;\n",
       "    }\n",
       "</style>\n",
       "<table border=\"1\" class=\"dataframe\">\n",
       "  <thead>\n",
       "    <tr style=\"text-align: right;\">\n",
       "      <th></th>\n",
       "      <th>country</th>\n",
       "      <th>date</th>\n",
       "      <th>device_id</th>\n",
       "      <th>platform</th>\n",
       "      <th>ref_type_id</th>\n",
       "      <th>source_id</th>\n",
       "    </tr>\n",
       "  </thead>\n",
       "  <tbody>\n",
       "    <tr>\n",
       "      <th>0</th>\n",
       "      <td>6333597102633388268</td>\n",
       "      <td>2019-03-11 14:18:33.290763</td>\n",
       "      <td>6059599345986491085</td>\n",
       "      <td>1</td>\n",
       "      <td>1</td>\n",
       "      <td>0</td>\n",
       "    </tr>\n",
       "    <tr>\n",
       "      <th>1</th>\n",
       "      <td>6333597102633388268</td>\n",
       "      <td>2019-03-11 14:18:34.440157</td>\n",
       "      <td>1115994996230693426</td>\n",
       "      <td>1</td>\n",
       "      <td>1</td>\n",
       "      <td>0</td>\n",
       "    </tr>\n",
       "    <tr>\n",
       "      <th>2</th>\n",
       "      <td>6333597102633388268</td>\n",
       "      <td>2019-03-11 14:18:35.862360</td>\n",
       "      <td>7463856250762200923</td>\n",
       "      <td>1</td>\n",
       "      <td>1</td>\n",
       "      <td>0</td>\n",
       "    </tr>\n",
       "    <tr>\n",
       "      <th>3</th>\n",
       "      <td>6333597102633388268</td>\n",
       "      <td>2019-03-11 14:18:36.167163</td>\n",
       "      <td>7829815350267792040</td>\n",
       "      <td>1</td>\n",
       "      <td>1</td>\n",
       "      <td>0</td>\n",
       "    </tr>\n",
       "    <tr>\n",
       "      <th>4</th>\n",
       "      <td>6333597102633388268</td>\n",
       "      <td>2019-03-11 14:18:37.728590</td>\n",
       "      <td>1448534231953777480</td>\n",
       "      <td>1</td>\n",
       "      <td>1</td>\n",
       "      <td>0</td>\n",
       "    </tr>\n",
       "  </tbody>\n",
       "</table>\n",
       "</div>"
      ],
      "text/plain": [
       "               country                        date            device_id  \\\n",
       "0  6333597102633388268  2019-03-11 14:18:33.290763  6059599345986491085   \n",
       "1  6333597102633388268  2019-03-11 14:18:34.440157  1115994996230693426   \n",
       "2  6333597102633388268  2019-03-11 14:18:35.862360  7463856250762200923   \n",
       "3  6333597102633388268  2019-03-11 14:18:36.167163  7829815350267792040   \n",
       "4  6333597102633388268  2019-03-11 14:18:37.728590  1448534231953777480   \n",
       "\n",
       "   platform  ref_type_id  source_id  \n",
       "0         1            1          0  \n",
       "1         1            1          0  \n",
       "2         1            1          0  \n",
       "3         1            1          0  \n",
       "4         1            1          0  "
      ]
     },
     "execution_count": 8,
     "metadata": {},
     "output_type": "execute_result"
    }
   ],
   "source": [
    "auctions.head(5)"
   ]
  },
  {
   "cell_type": "code",
   "execution_count": 9,
   "metadata": {},
   "outputs": [
    {
     "data": {
      "text/plain": [
       "1    15541825\n",
       "2     4029494\n",
       "Name: platform, dtype: int64"
      ]
     },
     "execution_count": 9,
     "metadata": {},
     "output_type": "execute_result"
    }
   ],
   "source": [
    "auctions['platform'].value_counts()"
   ]
  },
  {
   "cell_type": "code",
   "execution_count": 10,
   "metadata": {},
   "outputs": [],
   "source": [
    "auctions['plataform'] = auctions['platform'].astype(np.int8)"
   ]
  },
  {
   "cell_type": "code",
   "execution_count": 11,
   "metadata": {},
   "outputs": [
    {
     "data": {
      "text/plain": [
       "1    15541825\n",
       "7     4029494\n",
       "Name: ref_type_id, dtype: int64"
      ]
     },
     "execution_count": 11,
     "metadata": {},
     "output_type": "execute_result"
    }
   ],
   "source": [
    "auctions['ref_type_id'].value_counts()"
   ]
  },
  {
   "cell_type": "code",
   "execution_count": 12,
   "metadata": {},
   "outputs": [],
   "source": [
    "auctions['ref_type_id'] = auctions['ref_type_id'].astype(np.int8)"
   ]
  },
  {
   "cell_type": "code",
   "execution_count": 13,
   "metadata": {},
   "outputs": [
    {
     "data": {
      "text/plain": [
       "0    13354597\n",
       "1     4016739\n",
       "5     1466494\n",
       "2      582083\n",
       "6      151406\n",
       "Name: source_id, dtype: int64"
      ]
     },
     "execution_count": 13,
     "metadata": {},
     "output_type": "execute_result"
    }
   ],
   "source": [
    "auctions['source_id'].value_counts()"
   ]
  },
  {
   "cell_type": "code",
   "execution_count": 14,
   "metadata": {},
   "outputs": [],
   "source": [
    "auctions['source_id'] = auctions['source_id'].astype(np.int8)"
   ]
  },
  {
   "cell_type": "code",
   "execution_count": 15,
   "metadata": {},
   "outputs": [
    {
     "data": {
      "text/plain": [
       "6333597102633388268    19571319\n",
       "Name: country, dtype: int64"
      ]
     },
     "execution_count": 15,
     "metadata": {},
     "output_type": "execute_result"
    }
   ],
   "source": [
    "auctions['country'].value_counts()"
   ]
  },
  {
   "cell_type": "code",
   "execution_count": 16,
   "metadata": {},
   "outputs": [],
   "source": [
    "auctions.drop('country', axis = 1, inplace = True)"
   ]
  },
  {
   "cell_type": "code",
   "execution_count": 17,
   "metadata": {},
   "outputs": [],
   "source": [
    "auctions['date'] = pd.to_datetime(auctions['date'])"
   ]
  },
  {
   "cell_type": "code",
   "execution_count": 18,
   "metadata": {},
   "outputs": [
    {
     "data": {
      "text/plain": [
       "date           datetime64[ns]\n",
       "device_id               int64\n",
       "platform                int64\n",
       "ref_type_id              int8\n",
       "source_id                int8\n",
       "plataform                int8\n",
       "dtype: object"
      ]
     },
     "execution_count": 18,
     "metadata": {},
     "output_type": "execute_result"
    }
   ],
   "source": [
    "auctions.dtypes"
   ]
  },
  {
   "cell_type": "code",
   "execution_count": 19,
   "metadata": {},
   "outputs": [
    {
     "data": {
      "text/html": [
       "<div>\n",
       "<style scoped>\n",
       "    .dataframe tbody tr th:only-of-type {\n",
       "        vertical-align: middle;\n",
       "    }\n",
       "\n",
       "    .dataframe tbody tr th {\n",
       "        vertical-align: top;\n",
       "    }\n",
       "\n",
       "    .dataframe thead th {\n",
       "        text-align: right;\n",
       "    }\n",
       "</style>\n",
       "<table border=\"1\" class=\"dataframe\">\n",
       "  <thead>\n",
       "    <tr style=\"text-align: right;\">\n",
       "      <th></th>\n",
       "      <th>count</th>\n",
       "    </tr>\n",
       "  </thead>\n",
       "  <tbody>\n",
       "    <tr>\n",
       "      <th>633139769114048761</th>\n",
       "      <td>27762</td>\n",
       "    </tr>\n",
       "    <tr>\n",
       "      <th>7202276635029175071</th>\n",
       "      <td>23055</td>\n",
       "    </tr>\n",
       "    <tr>\n",
       "      <th>7298861376107043945</th>\n",
       "      <td>18188</td>\n",
       "    </tr>\n",
       "    <tr>\n",
       "      <th>6302840482782120473</th>\n",
       "      <td>16400</td>\n",
       "    </tr>\n",
       "    <tr>\n",
       "      <th>5376802567578262905</th>\n",
       "      <td>16367</td>\n",
       "    </tr>\n",
       "  </tbody>\n",
       "</table>\n",
       "</div>"
      ],
      "text/plain": [
       "                     count\n",
       "633139769114048761   27762\n",
       "7202276635029175071  23055\n",
       "7298861376107043945  18188\n",
       "6302840482782120473  16400\n",
       "5376802567578262905  16367"
      ]
     },
     "execution_count": 19,
     "metadata": {},
     "output_type": "execute_result"
    }
   ],
   "source": [
    "#Top 5 devices\n",
    "top5_devices = auctions['device_id'].value_counts().head(5).to_frame()\\\n",
    "                                    .rename(columns={ \"device_id\" : \"count\"})\n",
    "top5_devices"
   ]
  },
  {
   "cell_type": "code",
   "execution_count": 20,
   "metadata": {},
   "outputs": [
    {
     "data": {
      "text/html": [
       "<div>\n",
       "<style scoped>\n",
       "    .dataframe tbody tr th:only-of-type {\n",
       "        vertical-align: middle;\n",
       "    }\n",
       "\n",
       "    .dataframe tbody tr th {\n",
       "        vertical-align: top;\n",
       "    }\n",
       "\n",
       "    .dataframe thead th {\n",
       "        text-align: right;\n",
       "    }\n",
       "</style>\n",
       "<table border=\"1\" class=\"dataframe\">\n",
       "  <thead>\n",
       "    <tr style=\"text-align: right;\">\n",
       "      <th></th>\n",
       "      <th>count</th>\n",
       "    </tr>\n",
       "  </thead>\n",
       "  <tbody>\n",
       "    <tr>\n",
       "      <th>633139769114048761</th>\n",
       "      <td>27762</td>\n",
       "    </tr>\n",
       "    <tr>\n",
       "      <th>7202276635029175071</th>\n",
       "      <td>23055</td>\n",
       "    </tr>\n",
       "    <tr>\n",
       "      <th>7298861376107043945</th>\n",
       "      <td>18188</td>\n",
       "    </tr>\n",
       "  </tbody>\n",
       "</table>\n",
       "</div>"
      ],
      "text/plain": [
       "                     count\n",
       "633139769114048761   27762\n",
       "7202276635029175071  23055\n",
       "7298861376107043945  18188"
      ]
     },
     "execution_count": 20,
     "metadata": {},
     "output_type": "execute_result"
    }
   ],
   "source": [
    "top5_devices.nlargest(3,'count')"
   ]
  },
  {
   "cell_type": "code",
   "execution_count": 21,
   "metadata": {},
   "outputs": [
    {
     "data": {
      "text/html": [
       "<div>\n",
       "<style scoped>\n",
       "    .dataframe tbody tr th:only-of-type {\n",
       "        vertical-align: middle;\n",
       "    }\n",
       "\n",
       "    .dataframe tbody tr th {\n",
       "        vertical-align: top;\n",
       "    }\n",
       "\n",
       "    .dataframe thead th {\n",
       "        text-align: right;\n",
       "    }\n",
       "</style>\n",
       "<table border=\"1\" class=\"dataframe\">\n",
       "  <thead>\n",
       "    <tr style=\"text-align: right;\">\n",
       "      <th></th>\n",
       "      <th>date</th>\n",
       "      <th>device_id</th>\n",
       "      <th>platform</th>\n",
       "      <th>ref_type_id</th>\n",
       "      <th>source_id</th>\n",
       "      <th>plataform</th>\n",
       "    </tr>\n",
       "  </thead>\n",
       "  <tbody>\n",
       "    <tr>\n",
       "      <th>0</th>\n",
       "      <td>2019-03-11 14:18:33.290763</td>\n",
       "      <td>6059599345986491085</td>\n",
       "      <td>1</td>\n",
       "      <td>1</td>\n",
       "      <td>0</td>\n",
       "      <td>1</td>\n",
       "    </tr>\n",
       "    <tr>\n",
       "      <th>1</th>\n",
       "      <td>2019-03-11 14:18:34.440157</td>\n",
       "      <td>1115994996230693426</td>\n",
       "      <td>1</td>\n",
       "      <td>1</td>\n",
       "      <td>0</td>\n",
       "      <td>1</td>\n",
       "    </tr>\n",
       "    <tr>\n",
       "      <th>2</th>\n",
       "      <td>2019-03-11 14:18:35.862360</td>\n",
       "      <td>7463856250762200923</td>\n",
       "      <td>1</td>\n",
       "      <td>1</td>\n",
       "      <td>0</td>\n",
       "      <td>1</td>\n",
       "    </tr>\n",
       "    <tr>\n",
       "      <th>3</th>\n",
       "      <td>2019-03-11 14:18:36.167163</td>\n",
       "      <td>7829815350267792040</td>\n",
       "      <td>1</td>\n",
       "      <td>1</td>\n",
       "      <td>0</td>\n",
       "      <td>1</td>\n",
       "    </tr>\n",
       "    <tr>\n",
       "      <th>4</th>\n",
       "      <td>2019-03-11 14:18:37.728590</td>\n",
       "      <td>1448534231953777480</td>\n",
       "      <td>1</td>\n",
       "      <td>1</td>\n",
       "      <td>0</td>\n",
       "      <td>1</td>\n",
       "    </tr>\n",
       "  </tbody>\n",
       "</table>\n",
       "</div>"
      ],
      "text/plain": [
       "                        date            device_id  platform  ref_type_id  \\\n",
       "0 2019-03-11 14:18:33.290763  6059599345986491085         1            1   \n",
       "1 2019-03-11 14:18:34.440157  1115994996230693426         1            1   \n",
       "2 2019-03-11 14:18:35.862360  7463856250762200923         1            1   \n",
       "3 2019-03-11 14:18:36.167163  7829815350267792040         1            1   \n",
       "4 2019-03-11 14:18:37.728590  1448534231953777480         1            1   \n",
       "\n",
       "   source_id  plataform  \n",
       "0          0          1  \n",
       "1          0          1  \n",
       "2          0          1  \n",
       "3          0          1  \n",
       "4          0          1  "
      ]
     },
     "execution_count": 21,
     "metadata": {},
     "output_type": "execute_result"
    }
   ],
   "source": [
    "filtrado = auctions[auctions['ref_type_id'] == 1]\n",
    "filtrado.head()"
   ]
  },
  {
   "cell_type": "code",
   "execution_count": 22,
   "metadata": {},
   "outputs": [
    {
     "data": {
      "text/plain": [
       "1    15541825\n",
       "Name: ref_type_id, dtype: int64"
      ]
     },
     "execution_count": 22,
     "metadata": {},
     "output_type": "execute_result"
    }
   ],
   "source": [
    "filtrado['ref_type_id'].value_counts()"
   ]
  },
  {
   "cell_type": "code",
   "execution_count": 23,
   "metadata": {},
   "outputs": [
    {
     "data": {
      "text/html": [
       "<div>\n",
       "<style scoped>\n",
       "    .dataframe tbody tr th:only-of-type {\n",
       "        vertical-align: middle;\n",
       "    }\n",
       "\n",
       "    .dataframe tbody tr th {\n",
       "        vertical-align: top;\n",
       "    }\n",
       "\n",
       "    .dataframe thead th {\n",
       "        text-align: right;\n",
       "    }\n",
       "</style>\n",
       "<table border=\"1\" class=\"dataframe\">\n",
       "  <thead>\n",
       "    <tr style=\"text-align: right;\">\n",
       "      <th></th>\n",
       "      <th>device_id</th>\n",
       "      <th>date</th>\n",
       "    </tr>\n",
       "  </thead>\n",
       "  <tbody>\n",
       "    <tr>\n",
       "      <th>0</th>\n",
       "      <td>6059599345986491085</td>\n",
       "      <td>2019-03-11 14:18:33.290763</td>\n",
       "    </tr>\n",
       "    <tr>\n",
       "      <th>1</th>\n",
       "      <td>1115994996230693426</td>\n",
       "      <td>2019-03-11 14:18:34.440157</td>\n",
       "    </tr>\n",
       "    <tr>\n",
       "      <th>2</th>\n",
       "      <td>7463856250762200923</td>\n",
       "      <td>2019-03-11 14:18:35.862360</td>\n",
       "    </tr>\n",
       "    <tr>\n",
       "      <th>3</th>\n",
       "      <td>7829815350267792040</td>\n",
       "      <td>2019-03-11 14:18:36.167163</td>\n",
       "    </tr>\n",
       "    <tr>\n",
       "      <th>4</th>\n",
       "      <td>1448534231953777480</td>\n",
       "      <td>2019-03-11 14:18:37.728590</td>\n",
       "    </tr>\n",
       "  </tbody>\n",
       "</table>\n",
       "</div>"
      ],
      "text/plain": [
       "             device_id                       date\n",
       "0  6059599345986491085 2019-03-11 14:18:33.290763\n",
       "1  1115994996230693426 2019-03-11 14:18:34.440157\n",
       "2  7463856250762200923 2019-03-11 14:18:35.862360\n",
       "3  7829815350267792040 2019-03-11 14:18:36.167163\n",
       "4  1448534231953777480 2019-03-11 14:18:37.728590"
      ]
     },
     "execution_count": 23,
     "metadata": {},
     "output_type": "execute_result"
    }
   ],
   "source": [
    "#Voy a quedarme solo con las columas date y device_id de auctions\n",
    "auctions = auctions[['device_id','date']]\n",
    "auctions.head()"
   ]
  },
  {
   "cell_type": "code",
   "execution_count": 24,
   "metadata": {},
   "outputs": [
    {
     "data": {
      "text/plain": [
       "633139769114048761     27762\n",
       "7202276635029175071    23055\n",
       "7298861376107043945    18188\n",
       "6302840482782120473    16400\n",
       "5376802567578262905    16367\n",
       "Name: device_id, dtype: int64"
      ]
     },
     "execution_count": 24,
     "metadata": {},
     "output_type": "execute_result"
    }
   ],
   "source": [
    "#Voy a filtrar las filas, eliminando aquellas que no tienen un device_id que figure en el top 5\n",
    "#Primero creo una serie con el value counts\n",
    "serie_top5 = auctions['device_id'].value_counts().nlargest(5)\n",
    "serie_top5"
   ]
  },
  {
   "cell_type": "code",
   "execution_count": 25,
   "metadata": {},
   "outputs": [
    {
     "data": {
      "text/plain": [
       "[633139769114048761,\n",
       " 7202276635029175071,\n",
       " 7298861376107043945,\n",
       " 6302840482782120473,\n",
       " 5376802567578262905]"
      ]
     },
     "execution_count": 25,
     "metadata": {},
     "output_type": "execute_result"
    }
   ],
   "source": [
    "#Creo una lista de los devices_id a filtrar\n",
    "lista_devices_top5 = serie_top5.index.tolist()\n",
    "lista_devices_top5"
   ]
  },
  {
   "cell_type": "code",
   "execution_count": 26,
   "metadata": {},
   "outputs": [
    {
     "data": {
      "text/html": [
       "<div>\n",
       "<style scoped>\n",
       "    .dataframe tbody tr th:only-of-type {\n",
       "        vertical-align: middle;\n",
       "    }\n",
       "\n",
       "    .dataframe tbody tr th {\n",
       "        vertical-align: top;\n",
       "    }\n",
       "\n",
       "    .dataframe thead th {\n",
       "        text-align: right;\n",
       "    }\n",
       "</style>\n",
       "<table border=\"1\" class=\"dataframe\">\n",
       "  <thead>\n",
       "    <tr style=\"text-align: right;\">\n",
       "      <th></th>\n",
       "      <th>device_id</th>\n",
       "      <th>date</th>\n",
       "    </tr>\n",
       "  </thead>\n",
       "  <tbody>\n",
       "    <tr>\n",
       "      <th>12655</th>\n",
       "      <td>7298861376107043945</td>\n",
       "      <td>2019-03-12 03:02:37.264242</td>\n",
       "    </tr>\n",
       "    <tr>\n",
       "      <th>12857</th>\n",
       "      <td>7298861376107043945</td>\n",
       "      <td>2019-03-12 03:40:56.976592</td>\n",
       "    </tr>\n",
       "    <tr>\n",
       "      <th>12890</th>\n",
       "      <td>7298861376107043945</td>\n",
       "      <td>2019-03-12 03:41:40.257843</td>\n",
       "    </tr>\n",
       "    <tr>\n",
       "      <th>12940</th>\n",
       "      <td>7298861376107043945</td>\n",
       "      <td>2019-03-12 03:43:01.529164</td>\n",
       "    </tr>\n",
       "    <tr>\n",
       "      <th>13109</th>\n",
       "      <td>633139769114048761</td>\n",
       "      <td>2019-03-12 03:49:58.483260</td>\n",
       "    </tr>\n",
       "  </tbody>\n",
       "</table>\n",
       "</div>"
      ],
      "text/plain": [
       "                 device_id                       date\n",
       "12655  7298861376107043945 2019-03-12 03:02:37.264242\n",
       "12857  7298861376107043945 2019-03-12 03:40:56.976592\n",
       "12890  7298861376107043945 2019-03-12 03:41:40.257843\n",
       "12940  7298861376107043945 2019-03-12 03:43:01.529164\n",
       "13109   633139769114048761 2019-03-12 03:49:58.483260"
      ]
     },
     "execution_count": 26,
     "metadata": {},
     "output_type": "execute_result"
    }
   ],
   "source": [
    "auctions = auctions[auctions['device_id'].isin(lista_devices_top5)]\n",
    "auctions.head()"
   ]
  },
  {
   "cell_type": "code",
   "execution_count": 27,
   "metadata": {},
   "outputs": [
    {
     "data": {
      "text/plain": [
       "633139769114048761     27762\n",
       "7202276635029175071    23055\n",
       "7298861376107043945    18188\n",
       "6302840482782120473    16400\n",
       "5376802567578262905    16367\n",
       "Name: device_id, dtype: int64"
      ]
     },
     "execution_count": 27,
     "metadata": {},
     "output_type": "execute_result"
    }
   ],
   "source": [
    "#Verifico que solo hay filas con device_id de la lista!! es correcto\n",
    "auctions['device_id'].value_counts()"
   ]
  },
  {
   "cell_type": "code",
   "execution_count": 28,
   "metadata": {},
   "outputs": [],
   "source": [
    "auctions['only_date'] = auctions['date'].dt.date"
   ]
  },
  {
   "cell_type": "code",
   "execution_count": 29,
   "metadata": {},
   "outputs": [],
   "source": [
    "auctions.drop(axis = 0, columns = 'date', inplace = True)"
   ]
  },
  {
   "cell_type": "code",
   "execution_count": 30,
   "metadata": {},
   "outputs": [
    {
     "data": {
      "text/html": [
       "<div>\n",
       "<style scoped>\n",
       "    .dataframe tbody tr th:only-of-type {\n",
       "        vertical-align: middle;\n",
       "    }\n",
       "\n",
       "    .dataframe tbody tr th {\n",
       "        vertical-align: top;\n",
       "    }\n",
       "\n",
       "    .dataframe thead th {\n",
       "        text-align: right;\n",
       "    }\n",
       "</style>\n",
       "<table border=\"1\" class=\"dataframe\">\n",
       "  <thead>\n",
       "    <tr style=\"text-align: right;\">\n",
       "      <th></th>\n",
       "      <th>device_id</th>\n",
       "      <th>only_date</th>\n",
       "      <th>cantidad</th>\n",
       "    </tr>\n",
       "  </thead>\n",
       "  <tbody>\n",
       "    <tr>\n",
       "      <th>12655</th>\n",
       "      <td>7298861376107043945</td>\n",
       "      <td>2019-03-12</td>\n",
       "      <td>1</td>\n",
       "    </tr>\n",
       "    <tr>\n",
       "      <th>12857</th>\n",
       "      <td>7298861376107043945</td>\n",
       "      <td>2019-03-12</td>\n",
       "      <td>1</td>\n",
       "    </tr>\n",
       "    <tr>\n",
       "      <th>12890</th>\n",
       "      <td>7298861376107043945</td>\n",
       "      <td>2019-03-12</td>\n",
       "      <td>1</td>\n",
       "    </tr>\n",
       "    <tr>\n",
       "      <th>12940</th>\n",
       "      <td>7298861376107043945</td>\n",
       "      <td>2019-03-12</td>\n",
       "      <td>1</td>\n",
       "    </tr>\n",
       "    <tr>\n",
       "      <th>13109</th>\n",
       "      <td>633139769114048761</td>\n",
       "      <td>2019-03-12</td>\n",
       "      <td>1</td>\n",
       "    </tr>\n",
       "  </tbody>\n",
       "</table>\n",
       "</div>"
      ],
      "text/plain": [
       "                 device_id   only_date  cantidad\n",
       "12655  7298861376107043945  2019-03-12         1\n",
       "12857  7298861376107043945  2019-03-12         1\n",
       "12890  7298861376107043945  2019-03-12         1\n",
       "12940  7298861376107043945  2019-03-12         1\n",
       "13109   633139769114048761  2019-03-12         1"
      ]
     },
     "execution_count": 30,
     "metadata": {},
     "output_type": "execute_result"
    }
   ],
   "source": [
    "auctions['cantidad'] = 1\n",
    "auctions.head()"
   ]
  },
  {
   "cell_type": "code",
   "execution_count": 31,
   "metadata": {},
   "outputs": [
    {
     "data": {
      "text/html": [
       "<div>\n",
       "<style scoped>\n",
       "    .dataframe tbody tr th:only-of-type {\n",
       "        vertical-align: middle;\n",
       "    }\n",
       "\n",
       "    .dataframe tbody tr th {\n",
       "        vertical-align: top;\n",
       "    }\n",
       "\n",
       "    .dataframe thead th {\n",
       "        text-align: right;\n",
       "    }\n",
       "</style>\n",
       "<table border=\"1\" class=\"dataframe\">\n",
       "  <thead>\n",
       "    <tr style=\"text-align: right;\">\n",
       "      <th></th>\n",
       "      <th></th>\n",
       "      <th>cantidad</th>\n",
       "    </tr>\n",
       "    <tr>\n",
       "      <th>only_date</th>\n",
       "      <th>device_id</th>\n",
       "      <th></th>\n",
       "    </tr>\n",
       "  </thead>\n",
       "  <tbody>\n",
       "    <tr>\n",
       "      <th rowspan=\"5\" valign=\"top\">2019-03-05</th>\n",
       "      <th>633139769114048761</th>\n",
       "      <td>2255</td>\n",
       "    </tr>\n",
       "    <tr>\n",
       "      <th>5376802567578262905</th>\n",
       "      <td>122</td>\n",
       "    </tr>\n",
       "    <tr>\n",
       "      <th>6302840482782120473</th>\n",
       "      <td>4</td>\n",
       "    </tr>\n",
       "    <tr>\n",
       "      <th>7202276635029175071</th>\n",
       "      <td>875</td>\n",
       "    </tr>\n",
       "    <tr>\n",
       "      <th>7298861376107043945</th>\n",
       "      <td>640</td>\n",
       "    </tr>\n",
       "    <tr>\n",
       "      <th rowspan=\"5\" valign=\"top\">2019-03-06</th>\n",
       "      <th>633139769114048761</th>\n",
       "      <td>224</td>\n",
       "    </tr>\n",
       "    <tr>\n",
       "      <th>5376802567578262905</th>\n",
       "      <td>121</td>\n",
       "    </tr>\n",
       "    <tr>\n",
       "      <th>6302840482782120473</th>\n",
       "      <td>28</td>\n",
       "    </tr>\n",
       "    <tr>\n",
       "      <th>7202276635029175071</th>\n",
       "      <td>512</td>\n",
       "    </tr>\n",
       "    <tr>\n",
       "      <th>7298861376107043945</th>\n",
       "      <td>1251</td>\n",
       "    </tr>\n",
       "  </tbody>\n",
       "</table>\n",
       "</div>"
      ],
      "text/plain": [
       "                                cantidad\n",
       "only_date  device_id                    \n",
       "2019-03-05 633139769114048761       2255\n",
       "           5376802567578262905       122\n",
       "           6302840482782120473         4\n",
       "           7202276635029175071       875\n",
       "           7298861376107043945       640\n",
       "2019-03-06 633139769114048761        224\n",
       "           5376802567578262905       121\n",
       "           6302840482782120473        28\n",
       "           7202276635029175071       512\n",
       "           7298861376107043945      1251"
      ]
     },
     "execution_count": 31,
     "metadata": {},
     "output_type": "execute_result"
    }
   ],
   "source": [
    "auctions_groupby = auctions.groupby(['only_date', 'device_id']).agg({'cantidad': 'sum'})\n",
    "auctions_groupby.head(10)"
   ]
  },
  {
   "cell_type": "code",
   "execution_count": 32,
   "metadata": {},
   "outputs": [
    {
     "data": {
      "text/html": [
       "<div>\n",
       "<style scoped>\n",
       "    .dataframe tbody tr th:only-of-type {\n",
       "        vertical-align: middle;\n",
       "    }\n",
       "\n",
       "    .dataframe tbody tr th {\n",
       "        vertical-align: top;\n",
       "    }\n",
       "\n",
       "    .dataframe thead tr th {\n",
       "        text-align: left;\n",
       "    }\n",
       "\n",
       "    .dataframe thead tr:last-of-type th {\n",
       "        text-align: right;\n",
       "    }\n",
       "</style>\n",
       "<table border=\"1\" class=\"dataframe\">\n",
       "  <thead>\n",
       "    <tr>\n",
       "      <th></th>\n",
       "      <th colspan=\"5\" halign=\"left\">cantidad</th>\n",
       "    </tr>\n",
       "    <tr>\n",
       "      <th>device_id</th>\n",
       "      <th>633139769114048761</th>\n",
       "      <th>5376802567578262905</th>\n",
       "      <th>6302840482782120473</th>\n",
       "      <th>7202276635029175071</th>\n",
       "      <th>7298861376107043945</th>\n",
       "    </tr>\n",
       "    <tr>\n",
       "      <th>only_date</th>\n",
       "      <th></th>\n",
       "      <th></th>\n",
       "      <th></th>\n",
       "      <th></th>\n",
       "      <th></th>\n",
       "    </tr>\n",
       "  </thead>\n",
       "  <tbody>\n",
       "    <tr>\n",
       "      <th>2019-03-05</th>\n",
       "      <td>2255</td>\n",
       "      <td>122</td>\n",
       "      <td>4</td>\n",
       "      <td>875</td>\n",
       "      <td>640</td>\n",
       "    </tr>\n",
       "    <tr>\n",
       "      <th>2019-03-06</th>\n",
       "      <td>224</td>\n",
       "      <td>121</td>\n",
       "      <td>28</td>\n",
       "      <td>512</td>\n",
       "      <td>1251</td>\n",
       "    </tr>\n",
       "    <tr>\n",
       "      <th>2019-03-07</th>\n",
       "      <td>1877</td>\n",
       "      <td>1053</td>\n",
       "      <td>2191</td>\n",
       "      <td>2933</td>\n",
       "      <td>1316</td>\n",
       "    </tr>\n",
       "    <tr>\n",
       "      <th>2019-03-08</th>\n",
       "      <td>1865</td>\n",
       "      <td>2227</td>\n",
       "      <td>2233</td>\n",
       "      <td>2949</td>\n",
       "      <td>1903</td>\n",
       "    </tr>\n",
       "    <tr>\n",
       "      <th>2019-03-09</th>\n",
       "      <td>2054</td>\n",
       "      <td>1942</td>\n",
       "      <td>2798</td>\n",
       "      <td>2676</td>\n",
       "      <td>1952</td>\n",
       "    </tr>\n",
       "    <tr>\n",
       "      <th>2019-03-10</th>\n",
       "      <td>5777</td>\n",
       "      <td>3315</td>\n",
       "      <td>3623</td>\n",
       "      <td>3414</td>\n",
       "      <td>1459</td>\n",
       "    </tr>\n",
       "    <tr>\n",
       "      <th>2019-03-11</th>\n",
       "      <td>4829</td>\n",
       "      <td>2272</td>\n",
       "      <td>792</td>\n",
       "      <td>3157</td>\n",
       "      <td>3345</td>\n",
       "    </tr>\n",
       "    <tr>\n",
       "      <th>2019-03-12</th>\n",
       "      <td>4625</td>\n",
       "      <td>1902</td>\n",
       "      <td>1689</td>\n",
       "      <td>2217</td>\n",
       "      <td>2757</td>\n",
       "    </tr>\n",
       "    <tr>\n",
       "      <th>2019-03-13</th>\n",
       "      <td>4256</td>\n",
       "      <td>3413</td>\n",
       "      <td>3042</td>\n",
       "      <td>4322</td>\n",
       "      <td>3565</td>\n",
       "    </tr>\n",
       "  </tbody>\n",
       "</table>\n",
       "</div>"
      ],
      "text/plain": [
       "                      cantidad                                          \\\n",
       "device_id  633139769114048761  5376802567578262905 6302840482782120473   \n",
       "only_date                                                                \n",
       "2019-03-05                2255                 122                   4   \n",
       "2019-03-06                 224                 121                  28   \n",
       "2019-03-07                1877                1053                2191   \n",
       "2019-03-08                1865                2227                2233   \n",
       "2019-03-09                2054                1942                2798   \n",
       "2019-03-10                5777                3315                3623   \n",
       "2019-03-11                4829                2272                 792   \n",
       "2019-03-12                4625                1902                1689   \n",
       "2019-03-13                4256                3413                3042   \n",
       "\n",
       "                                                    \n",
       "device_id  7202276635029175071 7298861376107043945  \n",
       "only_date                                           \n",
       "2019-03-05                 875                 640  \n",
       "2019-03-06                 512                1251  \n",
       "2019-03-07                2933                1316  \n",
       "2019-03-08                2949                1903  \n",
       "2019-03-09                2676                1952  \n",
       "2019-03-10                3414                1459  \n",
       "2019-03-11                3157                3345  \n",
       "2019-03-12                2217                2757  \n",
       "2019-03-13                4322                3565  "
      ]
     },
     "execution_count": 32,
     "metadata": {},
     "output_type": "execute_result"
    }
   ],
   "source": [
    "auctions_groupby = auctions_groupby.unstack()\n",
    "auctions_groupby"
   ]
  },
  {
   "cell_type": "code",
   "execution_count": 33,
   "metadata": {},
   "outputs": [
    {
     "data": {
      "text/plain": [
       "<matplotlib.axes._subplots.AxesSubplot at 0x7f0bb8c47128>"
      ]
     },
     "execution_count": 33,
     "metadata": {},
     "output_type": "execute_result"
    },
    {
     "data": {
      "image/png": "[encoded data removed]",
      "text/plain": [
       "<Figure size 1440x720 with 1 Axes>"
      ]
     },
     "metadata": {
      "needs_background": "light"
     },
     "output_type": "display_data"
    }
   ],
   "source": [
    "grafico_evolucion = auctions_groupby.plot(kind = 'line', figsize=(20,10));\n",
    "grafico_evolucion."
   ]
  },
  {
   "cell_type": "code",
   "execution_count": null,
   "metadata": {},
   "outputs": [],
   "source": []
  }
 ],
 "metadata": {
  "kernelspec": {
   "display_name": "Python 3",
   "language": "python",
   "name": "python3"
  },
  "language_info": {
   "codemirror_mode": {
    "name": "ipython",
    "version": 3
   },
   "file_extension": ".py",
   "mimetype": "text/x-python",
   "name": "python",
   "nbconvert_exporter": "python",
   "pygments_lexer": "ipython3",
   "version": "3.7.1"
  }
 },
 "nbformat": 4,
 "nbformat_minor": 2
}
