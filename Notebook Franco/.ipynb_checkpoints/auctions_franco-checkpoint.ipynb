{
 "cells": [
  {
   "cell_type": "code",
   "execution_count": 11,
   "metadata": {},
   "outputs": [],
   "source": [
    "import pandas as pd\n",
    "import numpy as np\n",
    "import matplotlib.pyplot as plt\n",
    "import seaborn as sns\n",
    "\n",
    "%matplotlib inline"
   ]
  },
  {
   "cell_type": "code",
   "execution_count": 12,
   "metadata": {},
   "outputs": [
    {
     "data": {
      "text/html": [
       "<div>\n",
       "<style scoped>\n",
       "    .dataframe tbody tr th:only-of-type {\n",
       "        vertical-align: middle;\n",
       "    }\n",
       "\n",
       "    .dataframe tbody tr th {\n",
       "        vertical-align: top;\n",
       "    }\n",
       "\n",
       "    .dataframe thead th {\n",
       "        text-align: right;\n",
       "    }\n",
       "</style>\n",
       "<table border=\"1\" class=\"dataframe\">\n",
       "  <thead>\n",
       "    <tr style=\"text-align: right;\">\n",
       "      <th></th>\n",
       "      <th>auction_type_id</th>\n",
       "      <th>country</th>\n",
       "      <th>date</th>\n",
       "      <th>device_id</th>\n",
       "      <th>platform</th>\n",
       "      <th>ref_type_id</th>\n",
       "      <th>source_id</th>\n",
       "    </tr>\n",
       "  </thead>\n",
       "  <tbody>\n",
       "    <tr>\n",
       "      <th>0</th>\n",
       "      <td>NaN</td>\n",
       "      <td>6333597102633388268</td>\n",
       "      <td>2019-03-11 14:18:33.290763</td>\n",
       "      <td>6059599345986491085</td>\n",
       "      <td>1</td>\n",
       "      <td>1</td>\n",
       "      <td>0</td>\n",
       "    </tr>\n",
       "    <tr>\n",
       "      <th>1</th>\n",
       "      <td>NaN</td>\n",
       "      <td>6333597102633388268</td>\n",
       "      <td>2019-03-11 14:18:34.440157</td>\n",
       "      <td>1115994996230693426</td>\n",
       "      <td>1</td>\n",
       "      <td>1</td>\n",
       "      <td>0</td>\n",
       "    </tr>\n",
       "    <tr>\n",
       "      <th>2</th>\n",
       "      <td>NaN</td>\n",
       "      <td>6333597102633388268</td>\n",
       "      <td>2019-03-11 14:18:35.862360</td>\n",
       "      <td>7463856250762200923</td>\n",
       "      <td>1</td>\n",
       "      <td>1</td>\n",
       "      <td>0</td>\n",
       "    </tr>\n",
       "    <tr>\n",
       "      <th>3</th>\n",
       "      <td>NaN</td>\n",
       "      <td>6333597102633388268</td>\n",
       "      <td>2019-03-11 14:18:36.167163</td>\n",
       "      <td>7829815350267792040</td>\n",
       "      <td>1</td>\n",
       "      <td>1</td>\n",
       "      <td>0</td>\n",
       "    </tr>\n",
       "    <tr>\n",
       "      <th>4</th>\n",
       "      <td>NaN</td>\n",
       "      <td>6333597102633388268</td>\n",
       "      <td>2019-03-11 14:18:37.728590</td>\n",
       "      <td>1448534231953777480</td>\n",
       "      <td>1</td>\n",
       "      <td>1</td>\n",
       "      <td>0</td>\n",
       "    </tr>\n",
       "  </tbody>\n",
       "</table>\n",
       "</div>"
      ],
      "text/plain": [
       "   auction_type_id              country                       date  \\\n",
       "0              NaN  6333597102633388268 2019-03-11 14:18:33.290763   \n",
       "1              NaN  6333597102633388268 2019-03-11 14:18:34.440157   \n",
       "2              NaN  6333597102633388268 2019-03-11 14:18:35.862360   \n",
       "3              NaN  6333597102633388268 2019-03-11 14:18:36.167163   \n",
       "4              NaN  6333597102633388268 2019-03-11 14:18:37.728590   \n",
       "\n",
       "             device_id platform ref_type_id source_id  \n",
       "0  6059599345986491085        1           1         0  \n",
       "1  1115994996230693426        1           1         0  \n",
       "2  7463856250762200923        1           1         0  \n",
       "3  7829815350267792040        1           1         0  \n",
       "4  1448534231953777480        1           1         0  "
      ]
     },
     "execution_count": 12,
     "metadata": {},
     "output_type": "execute_result"
    }
   ],
   "source": [
    "auctions = pd.read_csv(\"/home/franco/Documents/Organización de Datos/TP1/data/auctions.csv\", dtype={'auction_type_id': 'float64', 'country': 'category', 'date': 'str',\n",
    "                                                   'device_id': 'int64', 'platform':'category', 'ref_type_id': 'category',\n",
    "                                                   'source_id':'category'}, parse_dates = ['date'])\n",
    "auctions.head(5)"
   ]
  },
  {
   "cell_type": "code",
   "execution_count": 13,
   "metadata": {},
   "outputs": [
    {
     "data": {
      "text/plain": [
       "auction_type_id           float64\n",
       "country                  category\n",
       "date               datetime64[ns]\n",
       "device_id                   int64\n",
       "platform                 category\n",
       "ref_type_id              category\n",
       "source_id                category\n",
       "dtype: object"
      ]
     },
     "execution_count": 13,
     "metadata": {},
     "output_type": "execute_result"
    }
   ],
   "source": [
    "auctions.dtypes"
   ]
  },
  {
   "cell_type": "code",
   "execution_count": 16,
   "metadata": {},
   "outputs": [
    {
     "data": {
      "text/plain": [
       "6333597102633388268    19571319\n",
       "Name: country, dtype: int64"
      ]
     },
     "execution_count": 16,
     "metadata": {},
     "output_type": "execute_result"
    }
   ],
   "source": [
    "auctions['country'].value_counts()"
   ]
  },
  {
   "cell_type": "code",
   "execution_count": 17,
   "metadata": {},
   "outputs": [],
   "source": [
    "auctions.drop('country', axis=1, inplace = True)\n"
   ]
  },
  {
   "cell_type": "code",
   "execution_count": 18,
   "metadata": {},
   "outputs": [
    {
     "data": {
      "text/plain": [
       "Series([], Name: auction_type_id, dtype: int64)"
      ]
     },
     "execution_count": 18,
     "metadata": {},
     "output_type": "execute_result"
    }
   ],
   "source": [
    "auctions['auction_type_id'].value_counts()"
   ]
  },
  {
   "cell_type": "code",
   "execution_count": 19,
   "metadata": {},
   "outputs": [],
   "source": [
    "auctions.drop('auction_type_id', axis=1, inplace = True)"
   ]
  },
  {
   "cell_type": "code",
   "execution_count": 32,
   "metadata": {},
   "outputs": [
    {
     "data": {
      "text/plain": [
       "False"
      ]
     },
     "execution_count": 32,
     "metadata": {},
     "output_type": "execute_result"
    }
   ],
   "source": [
    "auctions.isnull().any().any()"
   ]
  },
  {
   "cell_type": "code",
   "execution_count": 33,
   "metadata": {},
   "outputs": [
    {
     "data": {
      "text/plain": [
       "(19571319, 5)"
      ]
     },
     "execution_count": 33,
     "metadata": {},
     "output_type": "execute_result"
    }
   ],
   "source": [
    "auctions.shape"
   ]
  },
  {
   "cell_type": "code",
   "execution_count": 21,
   "metadata": {},
   "outputs": [
    {
     "data": {
      "text/plain": [
       "0    13354597\n",
       "1     4016739\n",
       "5     1466494\n",
       "2      582083\n",
       "6      151406\n",
       "Name: source_id, dtype: int64"
      ]
     },
     "execution_count": 21,
     "metadata": {},
     "output_type": "execute_result"
    }
   ],
   "source": [
    "auctions['source_id'].value_counts()"
   ]
  },
  {
   "cell_type": "code",
   "execution_count": 24,
   "metadata": {},
   "outputs": [
    {
     "data": {
      "text/plain": [
       "633139769114048761     27762\n",
       "7202276635029175071    23055\n",
       "7298861376107043945    18188\n",
       "6302840482782120473    16400\n",
       "5376802567578262905    16367\n",
       "8963711959081981780    14362\n",
       "795159065504552200     12275\n",
       "6841615430383729819    12077\n",
       "5384039226444052914    11632\n",
       "3198179064438296471    11565\n",
       "519658456951133298     10541\n",
       "2435544514359302887    10274\n",
       "8751190726444323885    10256\n",
       "1835469468095030098    10121\n",
       "1800317677967270083    10036\n",
       "9027154272484048876     9958\n",
       "7574657722181550308     9767\n",
       "5051610571898428259     9642\n",
       "320899491737875154      9388\n",
       "8292793494956750501     9315\n",
       "201759600719985554      9158\n",
       "8021195662481548645     9128\n",
       "7650408579713341483     9020\n",
       "6392567838173461255     8994\n",
       "1478017482044456084     8839\n",
       "6203407103275384250     8823\n",
       "68016455690089173       8809\n",
       "8496718680483076445     8682\n",
       "8491787427844905567     8513\n",
       "4834359787191717922     8495\n",
       "                       ...  \n",
       "5751956180575781757        1\n",
       "2048572451559832028        1\n",
       "3744576664345883432        1\n",
       "7367086705606121699        1\n",
       "646535409008459333         1\n",
       "6770910701982113580        1\n",
       "2863959931991583508        1\n",
       "2696817569245344530        1\n",
       "7553430075553844653        1\n",
       "4617307111815896778        1\n",
       "5240339451295485635        1\n",
       "4692566548344272637        1\n",
       "35674910428474471          1\n",
       "3159093650487986533        1\n",
       "1942683830003570264        1\n",
       "8019294471594894593        1\n",
       "6869424683092918051        1\n",
       "959426849812803471         1\n",
       "1944088880283346077        1\n",
       "6622057180348619453        1\n",
       "3652020858507657809        1\n",
       "6021685018865299736        1\n",
       "6725662693426834602        1\n",
       "6936985002156508492        1\n",
       "8787642868763157961        1\n",
       "6586001901497243197        1\n",
       "4903599056466380772        1\n",
       "9101372426762671929        1\n",
       "4378253870857185347        1\n",
       "5221298118515168096        1\n",
       "Name: device_id, Length: 206977, dtype: int64"
      ]
     },
     "execution_count": 24,
     "metadata": {},
     "output_type": "execute_result"
    }
   ],
   "source": [
    "#Device id con su respectiva cantidad de veces que participo en subastas\n",
    "auctions['device_id'].value_counts()"
   ]
  },
  {
   "cell_type": "code",
   "execution_count": 30,
   "metadata": {},
   "outputs": [
    {
     "data": {
      "text/plain": [
       "Text(0, 0.5, \"Devices Id's\")"
      ]
     },
     "execution_count": 30,
     "metadata": {},
     "output_type": "execute_result"
    },
    {
     "data": {
      "image/png": "[encoded data removed]",
      "text/plain": [
       "<Figure size 576x576 with 1 Axes>"
      ]
     },
     "metadata": {
      "needs_background": "light"
     },
     "output_type": "display_data"
    }
   ],
   "source": [
    "top10_devices_subasta = auctions['device_id'].value_counts().head(10)\n",
    "plt.subplots(figsize=(8,8))\n",
    "grafico_top10_devices_subasta=sns.barplot(x=top10_devices_subasta.values,y=top10_devices_subasta.index,orient='h',palette=\"magma\",order = top10_devices_subasta.index)\n",
    "grafico_top10_devices_subasta.set_title(\"Devices Id's que más participaron en subastas\",fontsize=20)\n",
    "grafico_top10_devices_subasta.set_xlabel(\"Cantidad de apariciones\",fontsize=12)\n",
    "grafico_top10_devices_subasta.set_ylabel(\"Devices Id's\",fontsize=12)"
   ]
  },
  {
   "cell_type": "code",
   "execution_count": 14,
   "metadata": {},
   "outputs": [],
   "source": [
    "platform_count = auctions['platform'].value_counts()"
   ]
  },
  {
   "cell_type": "code",
   "execution_count": 15,
   "metadata": {},
   "outputs": [
    {
     "data": {
      "image/png": "[encoded data removed]",
      "text/plain": [
       "<Figure size 360x360 with 1 Axes>"
      ]
     },
     "metadata": {},
     "output_type": "display_data"
    }
   ],
   "source": [
    "grafico_ios_vs_android = platform_count.plot.pie(y='mass', figsize=(5, 5),fontsize=15, autopct='%.1f', legend= True ,title= 'Proporción plataformas de los dispositivos')"
   ]
  },
  {
   "cell_type": "code",
   "execution_count": null,
   "metadata": {},
   "outputs": [],
   "source": []
  }
 ],
 "metadata": {
  "kernelspec": {
   "display_name": "Python 3",
   "language": "python",
   "name": "python3"
  },
  "language_info": {
   "codemirror_mode": {
    "name": "ipython",
    "version": 3
   },
   "file_extension": ".py",
   "mimetype": "text/x-python",
   "name": "python",
   "nbconvert_exporter": "python",
   "pygments_lexer": "ipython3",
   "version": "3.7.1"
  }
 },
 "nbformat": 4,
 "nbformat_minor": 2
}
