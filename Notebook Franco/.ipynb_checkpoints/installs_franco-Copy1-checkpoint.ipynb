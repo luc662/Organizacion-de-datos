{
 "cells": [
  {
   "cell_type": "code",
   "execution_count": 2,
   "metadata": {},
   "outputs": [],
   "source": [
    "import pandas as pd\n",
    "%config IPCompleter.greedy=True\n",
    "import numpy as np\n",
    "%config IPCompleter.greedy=True\n",
    "import matplotlib.pyplot as plt\n",
    "import seaborn as sns\n",
    "import datetime as dt\n",
    "\n",
    "%matplotlib inline"
   ]
  },
  {
   "cell_type": "code",
   "execution_count": 3,
   "metadata": {},
   "outputs": [],
   "source": [
    "installs = pd.read_csv(\"/home/franco/Documents/Organización de Datos/TP1/data/installs.csv\")\n",
    "''', dtype={'auction_type_id': 'float64', 'country': 'int64', 'created': 'str',\n",
    "                                                   'device_id': 'int64', 'platform':'int64', 'ref_type_id': 'int64',\n",
    "                                                   'source_id':'int64'}, parse_dates = ['created'])'''\n",
    "installs.drop('click_hash', axis=1, inplace = True)\n",
    "installs.drop('attributed', axis=1, inplace = True)\n",
    "installs.head(5)\n",
    "installs['created']=pd.to_datetime(installs['created'], errors = 'coerce')"
   ]
  },
  {
   "cell_type": "code",
   "execution_count": 4,
   "metadata": {},
   "outputs": [
    {
     "data": {
      "text/plain": [
       "created               datetime64[ns]\n",
       "application_id                 int64\n",
       "ref_type                       int64\n",
       "ref_hash                       int64\n",
       "implicit                        bool\n",
       "device_countrycode             int64\n",
       "device_brand                 float64\n",
       "device_model                 float64\n",
       "session_user_agent            object\n",
       "user_agent                    object\n",
       "event_uuid                    object\n",
       "kind                          object\n",
       "wifi                          object\n",
       "trans_id                      object\n",
       "ip_address                     int64\n",
       "device_language              float64\n",
       "dtype: object"
      ]
     },
     "execution_count": 4,
     "metadata": {},
     "output_type": "execute_result"
    }
   ],
   "source": [
    "installs.dtypes"
   ]
  },
  {
   "cell_type": "code",
   "execution_count": 5,
   "metadata": {},
   "outputs": [
    {
     "data": {
      "text/html": [
       "<div>\n",
       "<style scoped>\n",
       "    .dataframe tbody tr th:only-of-type {\n",
       "        vertical-align: middle;\n",
       "    }\n",
       "\n",
       "    .dataframe tbody tr th {\n",
       "        vertical-align: top;\n",
       "    }\n",
       "\n",
       "    .dataframe thead th {\n",
       "        text-align: right;\n",
       "    }\n",
       "</style>\n",
       "<table border=\"1\" class=\"dataframe\">\n",
       "  <thead>\n",
       "    <tr style=\"text-align: right;\">\n",
       "      <th></th>\n",
       "      <th>application_id</th>\n",
       "      <th>ref_type</th>\n",
       "      <th>ref_hash</th>\n",
       "      <th>device_countrycode</th>\n",
       "      <th>device_brand</th>\n",
       "      <th>device_model</th>\n",
       "      <th>ip_address</th>\n",
       "      <th>device_language</th>\n",
       "    </tr>\n",
       "  </thead>\n",
       "  <tbody>\n",
       "    <tr>\n",
       "      <th>count</th>\n",
       "      <td>3412.000000</td>\n",
       "      <td>3.412000e+03</td>\n",
       "      <td>3.412000e+03</td>\n",
       "      <td>3.412000e+03</td>\n",
       "      <td>1.047000e+03</td>\n",
       "      <td>3.411000e+03</td>\n",
       "      <td>3.412000e+03</td>\n",
       "      <td>3.378000e+03</td>\n",
       "    </tr>\n",
       "    <tr>\n",
       "      <th>mean</th>\n",
       "      <td>10.247655</td>\n",
       "      <td>1.736533e+18</td>\n",
       "      <td>4.598202e+18</td>\n",
       "      <td>4.764401e+18</td>\n",
       "      <td>1.877864e+18</td>\n",
       "      <td>4.245276e+18</td>\n",
       "      <td>4.562040e+18</td>\n",
       "      <td>4.915828e+18</td>\n",
       "    </tr>\n",
       "    <tr>\n",
       "      <th>std</th>\n",
       "      <td>6.016194</td>\n",
       "      <td>1.936976e+17</td>\n",
       "      <td>2.663828e+18</td>\n",
       "      <td>1.678051e+18</td>\n",
       "      <td>1.886461e+18</td>\n",
       "      <td>2.620844e+18</td>\n",
       "      <td>2.683422e+18</td>\n",
       "      <td>2.477019e+18</td>\n",
       "    </tr>\n",
       "    <tr>\n",
       "      <th>min</th>\n",
       "      <td>0.000000</td>\n",
       "      <td>1.494519e+18</td>\n",
       "      <td>4.958527e+15</td>\n",
       "      <td>2.970471e+18</td>\n",
       "      <td>3.083059e+17</td>\n",
       "      <td>5.112505e+16</td>\n",
       "      <td>7.118754e+15</td>\n",
       "      <td>1.101539e+17</td>\n",
       "    </tr>\n",
       "    <tr>\n",
       "      <th>25%</th>\n",
       "      <td>7.000000</td>\n",
       "      <td>1.494519e+18</td>\n",
       "      <td>2.268353e+18</td>\n",
       "      <td>2.970471e+18</td>\n",
       "      <td>3.083059e+17</td>\n",
       "      <td>2.331947e+18</td>\n",
       "      <td>2.249197e+18</td>\n",
       "      <td>3.301378e+18</td>\n",
       "    </tr>\n",
       "    <tr>\n",
       "      <th>50%</th>\n",
       "      <td>9.000000</td>\n",
       "      <td>1.891515e+18</td>\n",
       "      <td>4.603807e+18</td>\n",
       "      <td>6.333597e+18</td>\n",
       "      <td>2.208835e+18</td>\n",
       "      <td>2.983638e+18</td>\n",
       "      <td>4.436113e+18</td>\n",
       "      <td>3.301378e+18</td>\n",
       "    </tr>\n",
       "    <tr>\n",
       "      <th>75%</th>\n",
       "      <td>10.000000</td>\n",
       "      <td>1.891515e+18</td>\n",
       "      <td>6.912404e+18</td>\n",
       "      <td>6.333597e+18</td>\n",
       "      <td>2.523246e+18</td>\n",
       "      <td>6.882415e+18</td>\n",
       "      <td>7.017564e+18</td>\n",
       "      <td>6.977049e+18</td>\n",
       "    </tr>\n",
       "    <tr>\n",
       "      <th>max</th>\n",
       "      <td>36.000000</td>\n",
       "      <td>1.891515e+18</td>\n",
       "      <td>9.218934e+18</td>\n",
       "      <td>6.333597e+18</td>\n",
       "      <td>9.169527e+18</td>\n",
       "      <td>9.222450e+18</td>\n",
       "      <td>9.221950e+18</td>\n",
       "      <td>9.028383e+18</td>\n",
       "    </tr>\n",
       "  </tbody>\n",
       "</table>\n",
       "</div>"
      ],
      "text/plain": [
       "       application_id      ref_type      ref_hash  device_countrycode  \\\n",
       "count     3412.000000  3.412000e+03  3.412000e+03        3.412000e+03   \n",
       "mean        10.247655  1.736533e+18  4.598202e+18        4.764401e+18   \n",
       "std          6.016194  1.936976e+17  2.663828e+18        1.678051e+18   \n",
       "min          0.000000  1.494519e+18  4.958527e+15        2.970471e+18   \n",
       "25%          7.000000  1.494519e+18  2.268353e+18        2.970471e+18   \n",
       "50%          9.000000  1.891515e+18  4.603807e+18        6.333597e+18   \n",
       "75%         10.000000  1.891515e+18  6.912404e+18        6.333597e+18   \n",
       "max         36.000000  1.891515e+18  9.218934e+18        6.333597e+18   \n",
       "\n",
       "       device_brand  device_model    ip_address  device_language  \n",
       "count  1.047000e+03  3.411000e+03  3.412000e+03     3.378000e+03  \n",
       "mean   1.877864e+18  4.245276e+18  4.562040e+18     4.915828e+18  \n",
       "std    1.886461e+18  2.620844e+18  2.683422e+18     2.477019e+18  \n",
       "min    3.083059e+17  5.112505e+16  7.118754e+15     1.101539e+17  \n",
       "25%    3.083059e+17  2.331947e+18  2.249197e+18     3.301378e+18  \n",
       "50%    2.208835e+18  2.983638e+18  4.436113e+18     3.301378e+18  \n",
       "75%    2.523246e+18  6.882415e+18  7.017564e+18     6.977049e+18  \n",
       "max    9.169527e+18  9.222450e+18  9.221950e+18     9.028383e+18  "
      ]
     },
     "execution_count": 5,
     "metadata": {},
     "output_type": "execute_result"
    }
   ],
   "source": [
    "installs.describe()"
   ]
  },
  {
   "cell_type": "code",
   "execution_count": 6,
   "metadata": {},
   "outputs": [
    {
     "data": {
      "text/html": [
       "<div>\n",
       "<style scoped>\n",
       "    .dataframe tbody tr th:only-of-type {\n",
       "        vertical-align: middle;\n",
       "    }\n",
       "\n",
       "    .dataframe tbody tr th {\n",
       "        vertical-align: top;\n",
       "    }\n",
       "\n",
       "    .dataframe thead th {\n",
       "        text-align: right;\n",
       "    }\n",
       "</style>\n",
       "<table border=\"1\" class=\"dataframe\">\n",
       "  <thead>\n",
       "    <tr style=\"text-align: right;\">\n",
       "      <th></th>\n",
       "      <th>created</th>\n",
       "      <th>application_id</th>\n",
       "      <th>ref_type</th>\n",
       "      <th>ref_hash</th>\n",
       "      <th>implicit</th>\n",
       "      <th>device_countrycode</th>\n",
       "      <th>device_brand</th>\n",
       "      <th>device_model</th>\n",
       "      <th>session_user_agent</th>\n",
       "      <th>user_agent</th>\n",
       "      <th>event_uuid</th>\n",
       "      <th>kind</th>\n",
       "      <th>wifi</th>\n",
       "      <th>trans_id</th>\n",
       "      <th>ip_address</th>\n",
       "      <th>device_language</th>\n",
       "      <th>hora</th>\n",
       "      <th>fecha</th>\n",
       "      <th>dia_de_semana</th>\n",
       "      <th>ocurrencia</th>\n",
       "    </tr>\n",
       "  </thead>\n",
       "  <tbody>\n",
       "    <tr>\n",
       "      <th>0</th>\n",
       "      <td>2019-03-13 01:43:33.445</td>\n",
       "      <td>0</td>\n",
       "      <td>1891515180541284343</td>\n",
       "      <td>8464844987297247076</td>\n",
       "      <td>False</td>\n",
       "      <td>6333597102633388268</td>\n",
       "      <td>3.083059e+17</td>\n",
       "      <td>4.445252e+18</td>\n",
       "      <td>NaN</td>\n",
       "      <td>NaN</td>\n",
       "      <td>NaN</td>\n",
       "      <td>NaN</td>\n",
       "      <td>NaN</td>\n",
       "      <td>NaN</td>\n",
       "      <td>5529284367937637301</td>\n",
       "      <td>NaN</td>\n",
       "      <td>1</td>\n",
       "      <td>2019-03-13</td>\n",
       "      <td>2</td>\n",
       "      <td>1</td>\n",
       "    </tr>\n",
       "    <tr>\n",
       "      <th>1</th>\n",
       "      <td>2019-03-13 04:58:35.078</td>\n",
       "      <td>0</td>\n",
       "      <td>1891515180541284343</td>\n",
       "      <td>3250564871270161533</td>\n",
       "      <td>False</td>\n",
       "      <td>6333597102633388268</td>\n",
       "      <td>3.083059e+17</td>\n",
       "      <td>4.445252e+18</td>\n",
       "      <td>NaN</td>\n",
       "      <td>NaN</td>\n",
       "      <td>NaN</td>\n",
       "      <td>NaN</td>\n",
       "      <td>NaN</td>\n",
       "      <td>NaN</td>\n",
       "      <td>6098022721363533304</td>\n",
       "      <td>NaN</td>\n",
       "      <td>4</td>\n",
       "      <td>2019-03-13</td>\n",
       "      <td>2</td>\n",
       "      <td>1</td>\n",
       "    </tr>\n",
       "    <tr>\n",
       "      <th>2</th>\n",
       "      <td>2019-03-13 04:20:57.666</td>\n",
       "      <td>0</td>\n",
       "      <td>1891515180541284343</td>\n",
       "      <td>7953318831018100268</td>\n",
       "      <td>True</td>\n",
       "      <td>6333597102633388268</td>\n",
       "      <td>5.137992e+17</td>\n",
       "      <td>6.026543e+18</td>\n",
       "      <td>HasOffers Mobile AppTracking v1.0</td>\n",
       "      <td>NaN</td>\n",
       "      <td>0bfa9b4c-e07a-4522-b32d-138e3165ac98</td>\n",
       "      <td>Open</td>\n",
       "      <td>NaN</td>\n",
       "      <td>NaN</td>\n",
       "      <td>4636407223847323867</td>\n",
       "      <td>3.301378e+18</td>\n",
       "      <td>4</td>\n",
       "      <td>2019-03-13</td>\n",
       "      <td>2</td>\n",
       "      <td>1</td>\n",
       "    </tr>\n",
       "    <tr>\n",
       "      <th>3</th>\n",
       "      <td>2019-03-13 04:20:57.698</td>\n",
       "      <td>0</td>\n",
       "      <td>1891515180541284343</td>\n",
       "      <td>7953318831018100268</td>\n",
       "      <td>False</td>\n",
       "      <td>6333597102633388268</td>\n",
       "      <td>5.137992e+17</td>\n",
       "      <td>6.026543e+18</td>\n",
       "      <td>NaN</td>\n",
       "      <td>NaN</td>\n",
       "      <td>NaN</td>\n",
       "      <td>NaN</td>\n",
       "      <td>NaN</td>\n",
       "      <td>NaN</td>\n",
       "      <td>4636407223847323867</td>\n",
       "      <td>NaN</td>\n",
       "      <td>4</td>\n",
       "      <td>2019-03-13</td>\n",
       "      <td>2</td>\n",
       "      <td>1</td>\n",
       "    </tr>\n",
       "    <tr>\n",
       "      <th>4</th>\n",
       "      <td>2019-03-10 22:24:56.684</td>\n",
       "      <td>0</td>\n",
       "      <td>1891515180541284343</td>\n",
       "      <td>8355110941557237501</td>\n",
       "      <td>True</td>\n",
       "      <td>6333597102633388268</td>\n",
       "      <td>1.083369e+18</td>\n",
       "      <td>7.876612e+18</td>\n",
       "      <td>HasOffers Mobile AppTracking v1.0</td>\n",
       "      <td>NaN</td>\n",
       "      <td>8f235a8c-41bf-4399-b33d-c41577c949b0</td>\n",
       "      <td>Open</td>\n",
       "      <td>NaN</td>\n",
       "      <td>NaN</td>\n",
       "      <td>685400811232710215</td>\n",
       "      <td>3.301378e+18</td>\n",
       "      <td>22</td>\n",
       "      <td>2019-03-10</td>\n",
       "      <td>6</td>\n",
       "      <td>1</td>\n",
       "    </tr>\n",
       "  </tbody>\n",
       "</table>\n",
       "</div>"
      ],
      "text/plain": [
       "                  created  application_id             ref_type  \\\n",
       "0 2019-03-13 01:43:33.445               0  1891515180541284343   \n",
       "1 2019-03-13 04:58:35.078               0  1891515180541284343   \n",
       "2 2019-03-13 04:20:57.666               0  1891515180541284343   \n",
       "3 2019-03-13 04:20:57.698               0  1891515180541284343   \n",
       "4 2019-03-10 22:24:56.684               0  1891515180541284343   \n",
       "\n",
       "              ref_hash  implicit   device_countrycode  device_brand  \\\n",
       "0  8464844987297247076     False  6333597102633388268  3.083059e+17   \n",
       "1  3250564871270161533     False  6333597102633388268  3.083059e+17   \n",
       "2  7953318831018100268      True  6333597102633388268  5.137992e+17   \n",
       "3  7953318831018100268     False  6333597102633388268  5.137992e+17   \n",
       "4  8355110941557237501      True  6333597102633388268  1.083369e+18   \n",
       "\n",
       "   device_model                 session_user_agent user_agent  \\\n",
       "0  4.445252e+18                                NaN        NaN   \n",
       "1  4.445252e+18                                NaN        NaN   \n",
       "2  6.026543e+18  HasOffers Mobile AppTracking v1.0        NaN   \n",
       "3  6.026543e+18                                NaN        NaN   \n",
       "4  7.876612e+18  HasOffers Mobile AppTracking v1.0        NaN   \n",
       "\n",
       "                             event_uuid  kind wifi trans_id  \\\n",
       "0                                   NaN   NaN  NaN      NaN   \n",
       "1                                   NaN   NaN  NaN      NaN   \n",
       "2  0bfa9b4c-e07a-4522-b32d-138e3165ac98  Open  NaN      NaN   \n",
       "3                                   NaN   NaN  NaN      NaN   \n",
       "4  8f235a8c-41bf-4399-b33d-c41577c949b0  Open  NaN      NaN   \n",
       "\n",
       "            ip_address  device_language  hora       fecha  dia_de_semana  \\\n",
       "0  5529284367937637301              NaN     1  2019-03-13              2   \n",
       "1  6098022721363533304              NaN     4  2019-03-13              2   \n",
       "2  4636407223847323867     3.301378e+18     4  2019-03-13              2   \n",
       "3  4636407223847323867              NaN     4  2019-03-13              2   \n",
       "4   685400811232710215     3.301378e+18    22  2019-03-10              6   \n",
       "\n",
       "   ocurrencia  \n",
       "0           1  \n",
       "1           1  \n",
       "2           1  \n",
       "3           1  \n",
       "4           1  "
      ]
     },
     "execution_count": 6,
     "metadata": {},
     "output_type": "execute_result"
    }
   ],
   "source": [
    "installs['hora']=installs['created'].dt.hour\n",
    "installs['fecha']=installs['created'].dt.date\n",
    "installs['dia_de_semana']=np.int8(installs['created'].dt.weekday)\n",
    "#auctions['dia_de_semana']=auctions['date'].dt.weekday\n",
    "installs['ocurrencia']=np.int8(1)\n",
    "installs.head(5)"
   ]
  },
  {
   "cell_type": "code",
   "execution_count": 7,
   "metadata": {},
   "outputs": [
    {
     "data": {
      "text/plain": [
       "1    809\n",
       "2    748\n",
       "3    393\n",
       "0    377\n",
       "5    368\n",
       "4    366\n",
       "6    351\n",
       "Name: dia_de_semana, dtype: int64"
      ]
     },
     "execution_count": 7,
     "metadata": {},
     "output_type": "execute_result"
    }
   ],
   "source": [
    "installs['dia_de_semana'].value_counts()"
   ]
  },
  {
   "cell_type": "code",
   "execution_count": 8,
   "metadata": {},
   "outputs": [
    {
     "data": {
      "text/plain": [
       "3412"
      ]
     },
     "execution_count": 8,
     "metadata": {},
     "output_type": "execute_result"
    }
   ],
   "source": [
    "installs['dia_de_semana'].count()"
   ]
  },
  {
   "cell_type": "code",
   "execution_count": 9,
   "metadata": {},
   "outputs": [
    {
     "data": {
      "text/plain": [
       "3412"
      ]
     },
     "execution_count": 9,
     "metadata": {},
     "output_type": "execute_result"
    }
   ],
   "source": [
    "len(installs)"
   ]
  },
  {
   "cell_type": "code",
   "execution_count": 10,
   "metadata": {},
   "outputs": [
    {
     "data": {
      "text/plain": [
       "(3412, 20)"
      ]
     },
     "execution_count": 10,
     "metadata": {},
     "output_type": "execute_result"
    }
   ],
   "source": [
    "installs.shape"
   ]
  },
  {
   "cell_type": "code",
   "execution_count": 11,
   "metadata": {},
   "outputs": [
    {
     "data": {
      "text/plain": [
       "3412"
      ]
     },
     "execution_count": 11,
     "metadata": {},
     "output_type": "execute_result"
    }
   ],
   "source": [
    "installs['dia_de_semana'].value_counts().sum()"
   ]
  },
  {
   "cell_type": "code",
   "execution_count": 12,
   "metadata": {},
   "outputs": [
    {
     "data": {
      "text/plain": [
       "Text(141.0, 0.5, 'Dias')"
      ]
     },
     "execution_count": 12,
     "metadata": {},
     "output_type": "execute_result"
    },
    {
     "data": {
      "image/png": "[encoded data removed]",
      "text/plain": [
       "<Figure size 1296x360 with 2 Axes>"
      ]
     },
     "metadata": {
      "needs_background": "light"
     },
     "output_type": "display_data"
    }
   ],
   "source": [
    "tabla=installs[['dia_de_semana', 'hora','ocurrencia']].groupby(['dia_de_semana','hora']).count()\n",
    "matriz = tabla.unstack()\n",
    "fig, ax =plt.subplots(figsize=(18,5))\n",
    "etiquetaX=[0,1,2,3,4,5,6,7,8,9,10,11,12,13,14,15,16,17,18,19,20,21,22,23]\n",
    "etiquetaY=[\"Lunes\",\"Martes\",\"Miercoles\",\"Jueves\",\"Viernes\",\"Sabado\",\"Domingo\"]\n",
    "heatmap_installs = sns.heatmap(matriz,yticklabels=etiquetaY,xticklabels=etiquetaX,fmt=\"\", cmap='Blues',ax=ax, annot = True);\n",
    "heatmap_installs.set_title(\"Mapa de los días y horas en donde se realizan installs\",fontsize=20)\n",
    "heatmap_installs.set_xlabel(\"Horas\",fontsize=12)\n",
    "heatmap_installs.set_ylabel(\"Dias\",fontsize=12)"
   ]
  },
  {
   "cell_type": "code",
   "execution_count": 13,
   "metadata": {},
   "outputs": [
    {
     "data": {
      "text/plain": [
       "Text(0, 0.5, 'Id apps')"
      ]
     },
     "execution_count": 13,
     "metadata": {},
     "output_type": "execute_result"
    },
    {
     "data": {
      "image/png": "[encoded data removed]",
      "text/plain": [
       "<Figure size 576x576 with 1 Axes>"
      ]
     },
     "metadata": {
      "needs_background": "light"
     },
     "output_type": "display_data"
    }
   ],
   "source": [
    "#Top 10 aplicaciones donde más instalaciones se realizaron\n",
    "top10_apps = installs['application_id'].value_counts().head(10)\n",
    "plt.subplots(figsize=(8,8))\n",
    "grafico_top10_apps=sns.barplot(x=top10_apps.values,y=top10_apps.index,orient='h',palette=\"magma\",order = top10_apps.index)\n",
    "grafico_top10_apps.set_title(\"Cantidad de instalaciones por aplicacion\",fontsize=20)\n",
    "grafico_top10_apps.set_xlabel(\"Cantidad de instalaciones\",fontsize=12)\n",
    "grafico_top10_apps.set_ylabel(\"Id apps\",fontsize=12)"
   ]
  },
  {
   "cell_type": "code",
   "execution_count": 47,
   "metadata": {},
   "outputs": [
    {
     "data": {
      "text/plain": [
       "7     947\n",
       "9     731\n",
       "10    389\n",
       "16    362\n",
       "8     328\n",
       "2     174\n",
       "29     97\n",
       "20     95\n",
       "6      35\n",
       "1      34\n",
       "Name: application_id, dtype: int64"
      ]
     },
     "execution_count": 47,
     "metadata": {},
     "output_type": "execute_result"
    }
   ],
   "source": [
    "installs['application_id'].value_counts().head(10)"
   ]
  },
  {
   "cell_type": "code",
   "execution_count": 14,
   "metadata": {},
   "outputs": [
    {
     "data": {
      "text/plain": [
       "222"
      ]
     },
     "execution_count": 14,
     "metadata": {},
     "output_type": "execute_result"
    }
   ],
   "source": [
    "#instalaciones en la app_id numero 7 hechas un martes\n",
    "len(installs.loc[(installs['dia_de_semana']==1) & (installs['application_id']==7)])"
   ]
  },
  {
   "cell_type": "code",
   "execution_count": 16,
   "metadata": {},
   "outputs": [
    {
     "data": {
      "text/plain": [
       "Text(0, 0.5, 'Cantidad de instalaciones')"
      ]
     },
     "execution_count": 16,
     "metadata": {},
     "output_type": "execute_result"
    },
    {
     "data": {
      "image/png": "[encoded data removed]",
      "text/plain": [
       "<Figure size 576x576 with 1 Axes>"
      ]
     },
     "metadata": {
      "needs_background": "light"
     },
     "output_type": "display_data"
    }
   ],
   "source": [
    "instalacion_app7 = installs.loc[installs['application_id']==7]\n",
    "dias_install_app7 = instalacion_app7['dia_de_semana'].value_counts()\n",
    "plt.subplots(figsize=(8,8))\n",
    "grafico_dias_app7=sns.barplot(x=dias_install_app7.index,y=dias_install_app7.values,orient='v',palette=\"magma\")\n",
    "grafico_dias_app7.set_title(\"Gráfico de dias de instalación en app_id 7\",fontsize=20)\n",
    "grafico_dias_app7.set_xlabel(\"Dias\",fontsize=12)\n",
    "grafico_dias_app7.set_ylabel(\"Cantidad de instalaciones\",fontsize=12)\n"
   ]
  },
  {
   "cell_type": "code",
   "execution_count": null,
   "metadata": {},
   "outputs": [],
   "source": []
  }
 ],
 "metadata": {
  "kernelspec": {
   "display_name": "Python 3",
   "language": "python",
   "name": "python3"
  },
  "language_info": {
   "codemirror_mode": {
    "name": "ipython",
    "version": 3
   },
   "file_extension": ".py",
   "mimetype": "text/x-python",
   "name": "python",
   "nbconvert_exporter": "python",
   "pygments_lexer": "ipython3",
   "version": "3.7.1"
  }
 },
 "nbformat": 4,
 "nbformat_minor": 2
}
