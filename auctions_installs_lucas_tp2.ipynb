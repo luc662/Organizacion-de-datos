{
 "cells": [
  {
   "cell_type": "code",
   "execution_count": 2,
   "metadata": {},
   "outputs": [],
   "source": [
    "import pandas as pd\n",
    "import numpy as np\n",
    "import matplotlib.pyplot as plt\n",
    "import seaborn as sns\n",
    "import datetime as dat\n",
    "import matplotlib as mplt\n",
    "import datetime as dt\n",
    "%matplotlib inline\n",
    "sns.set()"
   ]
  },
  {
   "cell_type": "code",
   "execution_count": 3,
   "metadata": {},
   "outputs": [
    {
     "data": {
      "text/html": [
       "<div>\n",
       "<style scoped>\n",
       "    .dataframe tbody tr th:only-of-type {\n",
       "        vertical-align: middle;\n",
       "    }\n",
       "\n",
       "    .dataframe tbody tr th {\n",
       "        vertical-align: top;\n",
       "    }\n",
       "\n",
       "    .dataframe thead th {\n",
       "        text-align: right;\n",
       "    }\n",
       "</style>\n",
       "<table border=\"1\" class=\"dataframe\">\n",
       "  <thead>\n",
       "    <tr style=\"text-align: right;\">\n",
       "      <th></th>\n",
       "      <th>date</th>\n",
       "      <th>device_id</th>\n",
       "      <th>ref_type_id</th>\n",
       "      <th>source_id</th>\n",
       "    </tr>\n",
       "  </thead>\n",
       "  <tbody>\n",
       "    <tr>\n",
       "      <th>0</th>\n",
       "      <td>2019-04-23 18:58:00.842116</td>\n",
       "      <td>2564673204772915246</td>\n",
       "      <td>1</td>\n",
       "      <td>0</td>\n",
       "    </tr>\n",
       "    <tr>\n",
       "      <th>1</th>\n",
       "      <td>2019-04-23 18:58:01.530771</td>\n",
       "      <td>4441121667607578179</td>\n",
       "      <td>7</td>\n",
       "      <td>0</td>\n",
       "    </tr>\n",
       "    <tr>\n",
       "      <th>2</th>\n",
       "      <td>2019-04-23 18:58:01.767562</td>\n",
       "      <td>7721769811471055264</td>\n",
       "      <td>1</td>\n",
       "      <td>0</td>\n",
       "    </tr>\n",
       "    <tr>\n",
       "      <th>3</th>\n",
       "      <td>2019-04-23 18:58:02.363468</td>\n",
       "      <td>6416039086842158968</td>\n",
       "      <td>1</td>\n",
       "      <td>0</td>\n",
       "    </tr>\n",
       "    <tr>\n",
       "      <th>4</th>\n",
       "      <td>2019-04-23 18:58:02.397559</td>\n",
       "      <td>1258642015983312729</td>\n",
       "      <td>1</td>\n",
       "      <td>0</td>\n",
       "    </tr>\n",
       "  </tbody>\n",
       "</table>\n",
       "</div>"
      ],
      "text/plain": [
       "                        date            device_id ref_type_id source_id\n",
       "0 2019-04-23 18:58:00.842116  2564673204772915246           1         0\n",
       "1 2019-04-23 18:58:01.530771  4441121667607578179           7         0\n",
       "2 2019-04-23 18:58:01.767562  7721769811471055264           1         0\n",
       "3 2019-04-23 18:58:02.363468  6416039086842158968           1         0\n",
       "4 2019-04-23 18:58:02.397559  1258642015983312729           1         0"
      ]
     },
     "execution_count": 3,
     "metadata": {},
     "output_type": "execute_result"
    }
   ],
   "source": [
    "auctions = pd.read_csv(\"data/auctions.csv\", dtype={'date': 'str',\n",
    "                                                   'device_id': 'category', 'ref_type_id': 'category',\n",
    "                                                   'source_id':'category'}, parse_dates = ['date'])\n",
    "auctions.head(5)"
   ]
  },
  {
   "cell_type": "code",
   "execution_count": 4,
   "metadata": {},
   "outputs": [],
   "source": [
    "auctions['mean_hour']=auctions['date'].dt.hour\n",
    "auctions['std_hour']=auctions['date'].dt.hour\n",
    "auctions=auctions.sort_values(by='date')\n"
   ]
  },
  {
   "cell_type": "code",
   "execution_count": 6,
   "metadata": {},
   "outputs": [],
   "source": [
    "serie=auctions.groupby('device_id').cumcount()\n",
    "serie=serie.to_list()"
   ]
  },
  {
   "cell_type": "code",
   "execution_count": 7,
   "metadata": {},
   "outputs": [
    {
     "data": {
      "text/html": [
       "<div>\n",
       "<style scoped>\n",
       "    .dataframe tbody tr th:only-of-type {\n",
       "        vertical-align: middle;\n",
       "    }\n",
       "\n",
       "    .dataframe tbody tr th {\n",
       "        vertical-align: top;\n",
       "    }\n",
       "\n",
       "    .dataframe thead th {\n",
       "        text-align: right;\n",
       "    }\n",
       "</style>\n",
       "<table border=\"1\" class=\"dataframe\">\n",
       "  <thead>\n",
       "    <tr style=\"text-align: right;\">\n",
       "      <th></th>\n",
       "      <th>date</th>\n",
       "      <th>device_id</th>\n",
       "      <th>ref_type_id</th>\n",
       "      <th>source_id</th>\n",
       "      <th>mean_hour</th>\n",
       "      <th>std_hour</th>\n",
       "      <th>entradas_previas</th>\n",
       "    </tr>\n",
       "  </thead>\n",
       "  <tbody>\n",
       "    <tr>\n",
       "      <th>10129864</th>\n",
       "      <td>2019-04-18 00:00:00.015050</td>\n",
       "      <td>1826643666390887030</td>\n",
       "      <td>7</td>\n",
       "      <td>0</td>\n",
       "      <td>0</td>\n",
       "      <td>0</td>\n",
       "      <td>0</td>\n",
       "    </tr>\n",
       "    <tr>\n",
       "      <th>25285906</th>\n",
       "      <td>2019-04-18 00:00:00.029014</td>\n",
       "      <td>7037174172278258682</td>\n",
       "      <td>1</td>\n",
       "      <td>0</td>\n",
       "      <td>0</td>\n",
       "      <td>0</td>\n",
       "      <td>0</td>\n",
       "    </tr>\n",
       "    <tr>\n",
       "      <th>3946062</th>\n",
       "      <td>2019-04-18 00:00:00.057540</td>\n",
       "      <td>3392065368947589877</td>\n",
       "      <td>1</td>\n",
       "      <td>1</td>\n",
       "      <td>0</td>\n",
       "      <td>0</td>\n",
       "      <td>0</td>\n",
       "    </tr>\n",
       "    <tr>\n",
       "      <th>3946063</th>\n",
       "      <td>2019-04-18 00:00:00.126828</td>\n",
       "      <td>1228982273563226229</td>\n",
       "      <td>1</td>\n",
       "      <td>1</td>\n",
       "      <td>0</td>\n",
       "      <td>0</td>\n",
       "      <td>0</td>\n",
       "    </tr>\n",
       "    <tr>\n",
       "      <th>24607726</th>\n",
       "      <td>2019-04-18 00:00:00.132510</td>\n",
       "      <td>4123059034628125459</td>\n",
       "      <td>1</td>\n",
       "      <td>8</td>\n",
       "      <td>0</td>\n",
       "      <td>0</td>\n",
       "      <td>0</td>\n",
       "    </tr>\n",
       "  </tbody>\n",
       "</table>\n",
       "</div>"
      ],
      "text/plain": [
       "                               date            device_id ref_type_id  \\\n",
       "10129864 2019-04-18 00:00:00.015050  1826643666390887030           7   \n",
       "25285906 2019-04-18 00:00:00.029014  7037174172278258682           1   \n",
       "3946062  2019-04-18 00:00:00.057540  3392065368947589877           1   \n",
       "3946063  2019-04-18 00:00:00.126828  1228982273563226229           1   \n",
       "24607726 2019-04-18 00:00:00.132510  4123059034628125459           1   \n",
       "\n",
       "         source_id  mean_hour  std_hour  entradas_previas  \n",
       "10129864         0          0         0                 0  \n",
       "25285906         0          0         0                 0  \n",
       "3946062          1          0         0                 0  \n",
       "3946063          1          0         0                 0  \n",
       "24607726         8          0         0                 0  "
      ]
     },
     "execution_count": 7,
     "metadata": {},
     "output_type": "execute_result"
    }
   ],
   "source": [
    "auctions['entradas_previas']=serie\n",
    "auctions.head()"
   ]
  },
  {
   "cell_type": "code",
   "execution_count": 15,
   "metadata": {},
   "outputs": [],
   "source": [
    "mean_hour_gb=auctions.groupby(['device_id'])['mean_hour'].expanding(2).mean()\n"
   ]
  },
  {
   "cell_type": "code",
   "execution_count": 20,
   "metadata": {},
   "outputs": [],
   "source": [
    "mean_hour_gb=mean_hour_gb.reset_index()"
   ]
  },
  {
   "cell_type": "code",
   "execution_count": 27,
   "metadata": {},
   "outputs": [
    {
     "data": {
      "text/html": [
       "<div>\n",
       "<style scoped>\n",
       "    .dataframe tbody tr th:only-of-type {\n",
       "        vertical-align: middle;\n",
       "    }\n",
       "\n",
       "    .dataframe tbody tr th {\n",
       "        vertical-align: top;\n",
       "    }\n",
       "\n",
       "    .dataframe thead th {\n",
       "        text-align: right;\n",
       "    }\n",
       "</style>\n",
       "<table border=\"1\" class=\"dataframe\">\n",
       "  <thead>\n",
       "    <tr style=\"text-align: right;\">\n",
       "      <th></th>\n",
       "      <th>level_0</th>\n",
       "      <th>index</th>\n",
       "      <th>device_id</th>\n",
       "      <th>mean_hour</th>\n",
       "    </tr>\n",
       "    <tr>\n",
       "      <th>level_1</th>\n",
       "      <th></th>\n",
       "      <th></th>\n",
       "      <th></th>\n",
       "      <th></th>\n",
       "    </tr>\n",
       "  </thead>\n",
       "  <tbody>\n",
       "    <tr>\n",
       "      <th>17723834</th>\n",
       "      <td>0</td>\n",
       "      <td>0</td>\n",
       "      <td>100033926124811452</td>\n",
       "      <td>NaN</td>\n",
       "    </tr>\n",
       "    <tr>\n",
       "      <th>25608948</th>\n",
       "      <td>1</td>\n",
       "      <td>1</td>\n",
       "      <td>100033926124811452</td>\n",
       "      <td>3.0</td>\n",
       "    </tr>\n",
       "    <tr>\n",
       "      <th>15135224</th>\n",
       "      <td>2</td>\n",
       "      <td>2</td>\n",
       "      <td>100033926124811452</td>\n",
       "      <td>3.0</td>\n",
       "    </tr>\n",
       "    <tr>\n",
       "      <th>124213</th>\n",
       "      <td>3</td>\n",
       "      <td>3</td>\n",
       "      <td>100033926124811452</td>\n",
       "      <td>3.0</td>\n",
       "    </tr>\n",
       "    <tr>\n",
       "      <th>33738115</th>\n",
       "      <td>4</td>\n",
       "      <td>4</td>\n",
       "      <td>100033926124811452</td>\n",
       "      <td>3.0</td>\n",
       "    </tr>\n",
       "  </tbody>\n",
       "</table>\n",
       "</div>"
      ],
      "text/plain": [
       "          level_0  index           device_id  mean_hour\n",
       "level_1                                                \n",
       "17723834        0      0  100033926124811452        NaN\n",
       "25608948        1      1  100033926124811452        3.0\n",
       "15135224        2      2  100033926124811452        3.0\n",
       "124213          3      3  100033926124811452        3.0\n",
       "33738115        4      4  100033926124811452        3.0"
      ]
     },
     "execution_count": 27,
     "metadata": {},
     "output_type": "execute_result"
    }
   ],
   "source": [
    "\n",
    "mean_hour_gb=mean_hour_gb.set_index('level_1')\n",
    "mean_hour_gb.head()"
   ]
  },
  {
   "cell_type": "code",
   "execution_count": 29,
   "metadata": {},
   "outputs": [],
   "source": [
    "mean_hour_gb=mean_hour_gb.drop([\"level_0\", \"index\", \"device_id\"], axis=1)\n",
    "mean_hour_gb.head()"
   ]
  },
  {
   "cell_type": "code",
   "execution_count": 33,
   "metadata": {},
   "outputs": [
    {
     "data": {
      "text/plain": [
       "mean_hour    46934190\n",
       "dtype: int64"
      ]
     },
     "execution_count": 33,
     "metadata": {},
     "output_type": "execute_result"
    }
   ],
   "source": []
  },
  {
   "cell_type": "code",
   "execution_count": 30,
   "metadata": {},
   "outputs": [],
   "source": [
    "auctions=auctions.merge(mean_hour_gb, how='left', left_index=True, right_index=True)"
   ]
  },
  {
   "cell_type": "code",
   "execution_count": 53,
   "metadata": {},
   "outputs": [],
   "source": [
    "std_hour_gb=auctions.groupby('device_id')['std_hour'].expanding(2).std()"
   ]
  },
  {
   "cell_type": "code",
   "execution_count": 54,
   "metadata": {},
   "outputs": [],
   "source": [
    "std_hour_gb=std_hour_gb.reset_index()"
   ]
  },
  {
   "cell_type": "code",
   "execution_count": 55,
   "metadata": {},
   "outputs": [],
   "source": [
    "std_hour_gb=std_hour_gb.set_index('level_1')\n",
    "std_hour_gb =std_hour_gb.drop([\"device_id\"], axis=1)"
   ]
  },
  {
   "cell_type": "code",
   "execution_count": 56,
   "metadata": {},
   "outputs": [],
   "source": [
    "auctions=auctions.merge(std_hour_gb, how='left', left_index=True, right_index=True)"
   ]
  },
  {
   "cell_type": "code",
   "execution_count": 61,
   "metadata": {},
   "outputs": [
    {
     "data": {
      "text/html": [
       "<div>\n",
       "<style scoped>\n",
       "    .dataframe tbody tr th:only-of-type {\n",
       "        vertical-align: middle;\n",
       "    }\n",
       "\n",
       "    .dataframe tbody tr th {\n",
       "        vertical-align: top;\n",
       "    }\n",
       "\n",
       "    .dataframe thead th {\n",
       "        text-align: right;\n",
       "    }\n",
       "</style>\n",
       "<table border=\"1\" class=\"dataframe\">\n",
       "  <thead>\n",
       "    <tr style=\"text-align: right;\">\n",
       "      <th></th>\n",
       "      <th>date</th>\n",
       "      <th>device_id_x</th>\n",
       "      <th>ref_type_id</th>\n",
       "      <th>source_id</th>\n",
       "      <th>mean_hour_x</th>\n",
       "      <th>std_hour_x</th>\n",
       "      <th>entradas_previas</th>\n",
       "      <th>mean_hour_y</th>\n",
       "      <th>device_id_y</th>\n",
       "      <th>std_hour_y</th>\n",
       "    </tr>\n",
       "  </thead>\n",
       "  <tbody>\n",
       "    <tr>\n",
       "      <th>10129864</th>\n",
       "      <td>2019-04-18 00:00:00.015050</td>\n",
       "      <td>1826643666390887030</td>\n",
       "      <td>7</td>\n",
       "      <td>0</td>\n",
       "      <td>0</td>\n",
       "      <td>0</td>\n",
       "      <td>0</td>\n",
       "      <td>NaN</td>\n",
       "      <td>1826643666390887030</td>\n",
       "      <td>NaN</td>\n",
       "    </tr>\n",
       "    <tr>\n",
       "      <th>25285906</th>\n",
       "      <td>2019-04-18 00:00:00.029014</td>\n",
       "      <td>7037174172278258682</td>\n",
       "      <td>1</td>\n",
       "      <td>0</td>\n",
       "      <td>0</td>\n",
       "      <td>0</td>\n",
       "      <td>0</td>\n",
       "      <td>NaN</td>\n",
       "      <td>7037174172278258682</td>\n",
       "      <td>NaN</td>\n",
       "    </tr>\n",
       "    <tr>\n",
       "      <th>3946062</th>\n",
       "      <td>2019-04-18 00:00:00.057540</td>\n",
       "      <td>3392065368947589877</td>\n",
       "      <td>1</td>\n",
       "      <td>1</td>\n",
       "      <td>0</td>\n",
       "      <td>0</td>\n",
       "      <td>0</td>\n",
       "      <td>NaN</td>\n",
       "      <td>3392065368947589877</td>\n",
       "      <td>NaN</td>\n",
       "    </tr>\n",
       "    <tr>\n",
       "      <th>3946063</th>\n",
       "      <td>2019-04-18 00:00:00.126828</td>\n",
       "      <td>1228982273563226229</td>\n",
       "      <td>1</td>\n",
       "      <td>1</td>\n",
       "      <td>0</td>\n",
       "      <td>0</td>\n",
       "      <td>0</td>\n",
       "      <td>NaN</td>\n",
       "      <td>1228982273563226229</td>\n",
       "      <td>NaN</td>\n",
       "    </tr>\n",
       "    <tr>\n",
       "      <th>24607726</th>\n",
       "      <td>2019-04-18 00:00:00.132510</td>\n",
       "      <td>4123059034628125459</td>\n",
       "      <td>1</td>\n",
       "      <td>8</td>\n",
       "      <td>0</td>\n",
       "      <td>0</td>\n",
       "      <td>0</td>\n",
       "      <td>NaN</td>\n",
       "      <td>4123059034628125459</td>\n",
       "      <td>NaN</td>\n",
       "    </tr>\n",
       "  </tbody>\n",
       "</table>\n",
       "</div>"
      ],
      "text/plain": [
       "                               date          device_id_x ref_type_id  \\\n",
       "10129864 2019-04-18 00:00:00.015050  1826643666390887030           7   \n",
       "25285906 2019-04-18 00:00:00.029014  7037174172278258682           1   \n",
       "3946062  2019-04-18 00:00:00.057540  3392065368947589877           1   \n",
       "3946063  2019-04-18 00:00:00.126828  1228982273563226229           1   \n",
       "24607726 2019-04-18 00:00:00.132510  4123059034628125459           1   \n",
       "\n",
       "         source_id  mean_hour_x  std_hour_x  entradas_previas  mean_hour_y  \\\n",
       "10129864         0            0           0                 0          NaN   \n",
       "25285906         0            0           0                 0          NaN   \n",
       "3946062          1            0           0                 0          NaN   \n",
       "3946063          1            0           0                 0          NaN   \n",
       "24607726         8            0           0                 0          NaN   \n",
       "\n",
       "                  device_id_y  std_hour_y  \n",
       "10129864  1826643666390887030         NaN  \n",
       "25285906  7037174172278258682         NaN  \n",
       "3946062   3392065368947589877         NaN  \n",
       "3946063   1228982273563226229         NaN  \n",
       "24607726  4123059034628125459         NaN  "
      ]
     },
     "execution_count": 61,
     "metadata": {},
     "output_type": "execute_result"
    }
   ],
   "source": [
    "auctions.drop(['std_hour_x','mean_hour_x'],axis=1)\n",
    "auctions.head()"
   ]
  },
  {
   "cell_type": "code",
   "execution_count": null,
   "metadata": {},
   "outputs": [],
   "source": [
    "export_csv = auctions.to_csv ('data/auctions_mean_std_calculados.csv', index = None, header=True)\n",
    "#estos calculos tardan su tiempo, asi que mejor los  guardamos aparte"
   ]
  },
  {
   "cell_type": "code",
   "execution_count": null,
   "metadata": {},
   "outputs": [],
   "source": [
    "fecha_minima=pd.to_datetime('2019-04-18 00:00:00')\n",
    "fecha_minima\n",
    "fecha_tope=pd.to_datetime('2019-04-21 00:00:00')\n",
    "auctions_ventana1=auctions.loc[auctions['date']<fecha_tope].copy(deep=False)\n",
    "#la division es para pasar la diferencia de tiempso de timedelta a float de dias\n",
    "auctions_ventana1['tiempo_hasta_aparicion']=(auctions_ventana1['date']-fecha_minima)/ np.timedelta64(24, 'h')\n",
    "\n",
    "auctions_ventana1.head(25)\n",
    "#auctions_ventana1['date'].max()"
   ]
  },
  {
   "cell_type": "code",
   "execution_count": null,
   "metadata": {},
   "outputs": [],
   "source": [
    "auctions_ventana1_reducido=auctions_ventana1.groupby(['device_id']).agg({\"date\" : min,\\\n",
    "                                                                         \"std_hour\" : \"first\",\\\n",
    "                                                                         \"mean_hour\" : \"first\",\\\n",
    "                                                                         'tiempo_hasta_aparicion':\"min\",\\\n",
    "                                                                        'entradas_previas':min})\\\n",
    "                                                                            .reset_index('device_id')\n",
    "#entradas previas no se debe usar para predecir en esta ventana, sino para                \n",
    "auctions_ventana1_reducido=auctions_ventana1_reducido.dropna()"
   ]
  },
  {
   "cell_type": "code",
   "execution_count": null,
   "metadata": {},
   "outputs": [],
   "source": [
    "fecha_minima=pd.to_datetime('2019-04-21 00:00:00')\n",
    "fecha_tope=pd.to_datetime('2019-04-24 00:00:00')\n",
    "\n",
    "auctions_ventana2=auctions.loc[((auctions['date']>fecha_minima) & (auctions['date']<fecha_tope) )].copy(deep=False)\n",
    "#la division es para pasar la diferencia de tiempso de timedelta a float de dias\n",
    "auctions_ventana2['tiempo_hasta_aparicion']=(auctions_ventana2['date']-fecha_minima)/ np.timedelta64(24, 'h')"
   ]
  },
  {
   "cell_type": "code",
   "execution_count": null,
   "metadata": {},
   "outputs": [],
   "source": [
    "auctions_ventana2.head()"
   ]
  },
  {
   "cell_type": "code",
   "execution_count": null,
   "metadata": {},
   "outputs": [],
   "source": [
    "auctions_ventana2['dia_desvio_std']=auctions_ventana2['date'].dt.day\n",
    "auctions_ventana2_reducido=auctions_ventana2.groupby(['device_id']).agg({\"date\" : min,\\\n",
    "                                                                         \"std_hour\" : \"first\",\\\n",
    "                                                                         \"mean_hour\" : \"first\",\\\n",
    "                                                                         'tiempo_hasta_aparicion':\"min\",\\\n",
    "                                                                        'entradas_previas':min})\\\n",
    "                                                                            .reset_index('device_id')\n",
    "#entradas previas no se debe usar para predecir en esta ventana, sino para                \n",
    "auctions_ventana2_reducido=auctions_ventana2_reducido.dropna()\n",
    "auctions_ventana2_reducido.head()"
   ]
  },
  {
   "cell_type": "code",
   "execution_count": null,
   "metadata": {},
   "outputs": [],
   "source": []
  },
  {
   "cell_type": "code",
   "execution_count": null,
   "metadata": {},
   "outputs": [],
   "source": [
    "fecha_minima=pd.to_datetime('2019-04-22 00:00:00')\n",
    "fecha_tope=pd.to_datetime('2019-04-25 00:00:00')\n",
    "\n",
    "auctions_ventana3=auctions.loc[((auctions['date']>fecha_minima) & (auctions['date']<fecha_tope) )].copy(deep=False)\n",
    "#la division es para pasar la diferencia de tiempso de timedelta a float de dias\n",
    "auctions_ventana3['tiempo_hasta_aparicion']=(auctions_ventana2['date']-fecha_minima)/ np.timedelta64(24, 'h')\n",
    "auctions_ventana3['dia_mean']=auctions_ventana3['date'].dt.day\n",
    "auctions_ventana3['dia_desvio_std']=auctions_ventana3['date'].dt.day\n",
    "auctions_ventana3.head(25)\n",
    "auctions_ventana3_reducido=auctions_ventana3.groupby(['device_id']).agg({\"date\" : min,\\\n",
    "                                                                         \"std_hour\" : \"first\",\\\n",
    "                                                                         \"mean_hour\" : \"first\",\\\n",
    "                                                                         'tiempo_hasta_aparicion':\"min\",\\\n",
    "                                                                        'entradas_previas':min})\\\n",
    "                                                                            .reset_index('device_id')\n",
    "#entradas previas no se debe usar para predecir en esta ventana, sino para                \n",
    "auctions_ventana3_reducido=auctions_ventana3_reducido.dropna()"
   ]
  },
  {
   "cell_type": "code",
   "execution_count": null,
   "metadata": {},
   "outputs": [],
   "source": [
    "fecha_minima=pd.to_datetime('2019-04-23 00:00:00')\n",
    "fecha_tope=pd.to_datetime('2019-04-26 00:00:00')\n",
    "\n",
    "auctions_ventana4=auctions.loc[((auctions['date']>fecha_minima) & (auctions['date']<fecha_tope) )].copy(deep=False)\n",
    "#la division es para pasar la diferencia de tiempso de timedelta a float de dias\n",
    "auctions_ventana4['tiempo_hasta_aparicion']=(auctions_ventana2['date']-fecha_minima)/ np.timedelta64(24, 'h')\n",
    "auctions_ventana4['dia_mean']=auctions_ventana4['date'].dt.day\n",
    "auctions_ventana4['dia_desvio_std']=auctions_ventana4['date'].dt.day\n",
    "auctions_ventana4.head(25)\n",
    "auctions_ventana4_reducido=auctions_ventana4.groupby(['device_id']).agg({\"date\" : min,\\\n",
    "                                                                         \"std_hour\" : \"first\",\\\n",
    "                                                                         \"mean_hour\" : \"first\",\\\n",
    "                                                                         'tiempo_hasta_aparicion':\"min\",\\\n",
    "                                                                        'entradas_previas':min})\\\n",
    "                                                                            .reset_index('device_id')\n",
    "#entradas previas no se debe usar para predecir en esta ventana, sino para                \n",
    "auctions_ventana4_reducido=auctions_ventana4_reducido.dropna()"
   ]
  },
  {
   "cell_type": "code",
   "execution_count": null,
   "metadata": {},
   "outputs": [],
   "source": [
    "fecha_minima=pd.to_datetime('2019-04-24 00:00:00')\n",
    "fecha_tope=pd.to_datetime('2019-04-27 00:00:00')\n",
    "\n",
    "auctions_ventana5=auctions.loc[((auctions['date']>fecha_minima) & (auctions['date']<fecha_tope) )].copy(deep=False)\n",
    "#la division es para pasar la diferencia de tiempso de timedelta a float de dias\n",
    "auctions_ventana5['tiempo_hasta_aparicion']=(auctions_ventana2['date']-fecha_minima)/ np.timedelta64(24, 'h')\n",
    "auctions_ventana5['dia_mean']=auctions_ventana5['date'].dt.day\n",
    "auctions_ventana5['dia_desvio_std']=auctions_ventana5['date'].dt.day\n",
    "auctions_ventana5.head(25)\n",
    "auctions_ventana5_reducido=auctions_ventana1.groupby(['device_id']).agg({\"date\" : min,\\\n",
    "                                                                         \"std_hour\" : \"first\",\\\n",
    "                                                                         \"mean_hour\" : \"first\",\\\n",
    "                                                                         'tiempo_hasta_aparicion':\"min\",\\\n",
    "                                                                        'entradas_previas':min})\\\n",
    "                                                                            .reset_index('device_id')\n",
    "#entradas previas no se debe usar para predecir en esta ventana, sino para                \n",
    "auctions_ventana5_reducido=auctions_ventana5_reducido.dropna()"
   ]
  },
  {
   "cell_type": "code",
   "execution_count": null,
   "metadata": {},
   "outputs": [],
   "source": [
    "installs = pd.read_csv(\"data/installs.csv\", dtype={'auction_type_id': 'float64', 'country': 'int64', 'date': 'str',\n",
    "                                                   'device_id': 'int64', 'platform':'int64', 'ref_type_id': 'int64',\n",
    "                                                   'source_id':'int64','ref_hash':'category' }, parse_dates = ['created'],low_memory=False)\n",
    "\n",
    "installs.head(5)"
   ]
  },
  {
   "cell_type": "code",
   "execution_count": null,
   "metadata": {},
   "outputs": [],
   "source": []
  },
  {
   "cell_type": "code",
   "execution_count": null,
   "metadata": {},
   "outputs": [],
   "source": [
    "auctions_ventana1_con_installs=auctions_ventana1_reducido.merge(installs,how='left',left_on='device_id',right_on='ref_hash')\n"
   ]
  },
  {
   "cell_type": "code",
   "execution_count": null,
   "metadata": {},
   "outputs": [],
   "source": []
  },
  {
   "cell_type": "code",
   "execution_count": null,
   "metadata": {},
   "outputs": [],
   "source": [
    "fecha_minima=pd.to_datetime('2019-04-20 00:00:00')\n",
    "fecha_tope=pd.to_datetime('2019-04-23 00:00:00')\n",
    "\n",
    "\n",
    "auctions_ventana1_con_installs['tiempo_hasta_instalacion']=(auctions_ventana1_con_installs['created']-fecha_minima)/ np.timedelta64(24, 'h')\n",
    "\n",
    "\n",
    "auctions_ventana1_reducido=auctions_ventana1_con_installs.groupby(['device_id']).agg({\"mean_hour\" : min,\\\n",
    "                                                                         \"date\" : min,\\\n",
    "                                                                         \"std_hour\" : \"min\",\\\n",
    "                                                                         'tiempo_hasta_aparicion':\"min\",\\\n",
    "                                                                        'entradas_previas':min\n",
    "                                                                        ,'tiempo_hasta_instalacion':\"min\"})\\\n",
    "                                                                            .reset_index('device_id')"
   ]
  },
  {
   "cell_type": "code",
   "execution_count": null,
   "metadata": {},
   "outputs": [],
   "source": [
    "auctions_ventana1_reducido[['dia_mean','tiempo_hasta_aparicion','dia_desvio_std','tiempo_hasta_instalacion']]=auctions_ventana1_reducido[['dia_mean','tiempo_hasta_aparicion','dia_desvio_std','tiempo_hasta_instalacion']].fillna(np.inf)\n",
    "auctions_ventana1_reducido['entradas_previas']=auctions_ventana1_reducido['entradas_previas'].fillna(0)\n",
    "auctions_ventana1_reducido.head()\n",
    "\n",
    "\n"
   ]
  },
  {
   "cell_type": "code",
   "execution_count": null,
   "metadata": {},
   "outputs": [],
   "source": []
  },
  {
   "cell_type": "code",
   "execution_count": null,
   "metadata": {},
   "outputs": [],
   "source": [
    "fecha_minima=pd.to_datetime('2019-04-21 00:00:00')\n",
    "fecha_tope=pd.to_datetime('2019-04-24 00:00:00')\n",
    "auctions_ventana2_con_installs=auctions_ventana2_reducido.merge(installs,how='left',left_on='device_id',right_on='ref_hash')\n",
    "\n",
    "auctions_ventana2_con_installs['tiempo_hasta_instalacion']=(auctions_ventana2_con_installs['created']-fecha_minima)/ np.timedelta64(24, 'h')\n",
    "\n",
    "\n",
    "auctions_ventana2_reducido=auctions_ventana2_con_installs.groupby(['device_id']).agg({\"mean_hour\" : min,\\\n",
    "                                                                         \"date\" : min,\\\n",
    "                                                                         \"std_hour\" : \"min\",\\\n",
    "                                                                         'tiempo_hasta_aparicion':\"min\",\\\n",
    "                                                                        'entradas_previas':min\n",
    "                                                                        ,'tiempo_hasta_instalacion':\"min\"})\\\n",
    "                                                                            .reset_index('device_id')\n",
    "auctions_ventana2_reducido[['dia_mean','tiempo_hasta_aparicion','dia_desvio_std','tiempo_hasta_instalacion']]=auctions_ventana2_reducido[['dia_mean','tiempo_hasta_aparicion','dia_desvio_std','tiempo_hasta_instalacion']].fillna(np.inf)\n",
    "auctions_ventana2_reducido['entradas_previas']=auctions_ventana2_reducido['entradas_previas'].fillna(0)\n",
    "auctions_ventana2_reducido.head()\n",
    "\n"
   ]
  },
  {
   "cell_type": "code",
   "execution_count": null,
   "metadata": {},
   "outputs": [],
   "source": [
    "fecha_minima=pd.to_datetime('2019-04-22 00:00:00')\n",
    "fecha_tope=pd.to_datetime('2019-04-25 00:00:00')\n",
    "auctions_ventana3_con_installs=auctions_ventana3_reducido.merge(installs,how='left',left_on='device_id',right_on='ref_hash')\n",
    "\n",
    "auctions_ventana3_con_installs['tiempo_hasta_instalacion']=(auctions_ventana3_con_installs['created']-fecha_minima)/ np.timedelta64(24, 'h')\n",
    "\n",
    "\n",
    "auctions_ventana3_reducido=auctions_ventana3_con_installs.groupby(['device_id']).agg({\"mean_hour\" : min,\\\n",
    "                                                                         \"date\" : min,\\\n",
    "                                                                         \"mean_std\" : \"min\",\\\n",
    "                                                                         'tiempo_hasta_aparicion':\"min\",\\\n",
    "                                                                        'entradas_previas':min\n",
    "                                                                        ,'tiempo_hasta_instalacion':\"min\"})\\\n",
    "                                                                            .reset_index('device_id')\n",
    "auctions_ventana3_reducido[['dia_mean','tiempo_hasta_aparicion','dia_desvio_std','tiempo_hasta_instalacion']]=auctions_ventana3_reducido[['dia_mean','tiempo_hasta_aparicion','dia_desvio_std','tiempo_hasta_instalacion']].fillna(np.inf)\n",
    "auctions_ventana3_reducido['entradas_previas']=auctions_ventana3_reducido['entradas_previas'].fillna(0)\n",
    "auctions_ventana3_reducido.head()"
   ]
  },
  {
   "cell_type": "code",
   "execution_count": null,
   "metadata": {},
   "outputs": [],
   "source": [
    "fecha_minima=pd.to_datetime('2019-04-23 00:00:00')\n",
    "fecha_tope=pd.to_datetime('2019-04-26 00:00:00')\n",
    "auctions_ventana4_con_installs=auctions_ventana4_reducido.merge(installs,how='left',left_on='device_id',right_on='ref_hash')\n",
    "\n",
    "auctions_ventana4_con_installs['tiempo_hasta_instalacion']=(auctions_ventana4_con_installs['created']-fecha_minima)/ np.timedelta64(24, 'h')\n",
    "\n",
    "\n",
    "auctions_ventana4_reducido=auctions_ventana3_con_installs.groupby(['device_id']).agg({\"mean_hour\" : min,\\\n",
    "                                                                         \"date\" : min,\\\n",
    "                                                                         \"std_hour\" : \"min\",\\\n",
    "                                                                         'tiempo_hasta_aparicion':\"min\",\\\n",
    "                                                                        'entradas_previas':min\n",
    "                                                                        ,'tiempo_hasta_instalacion':\"min\"})\\\n",
    "                                                                            .reset_index('device_id')\n",
    "auctions_ventana4_reducido[['dia_mean','tiempo_hasta_aparicion','dia_desvio_std','tiempo_hasta_instalacion']]=auctions_ventana4_reducido[['dia_mean','tiempo_hasta_aparicion','dia_desvio_std','tiempo_hasta_instalacion']].fillna(np.inf)\n",
    "auctions_ventana4_reducido['entradas_previas']=auctions_ventana4_reducido['entradas_previas'].fillna(0)\n",
    "auctions_ventana4_reducido.head()"
   ]
  },
  {
   "cell_type": "code",
   "execution_count": null,
   "metadata": {},
   "outputs": [],
   "source": []
  },
  {
   "cell_type": "code",
   "execution_count": null,
   "metadata": {},
   "outputs": [],
   "source": []
  },
  {
   "cell_type": "code",
   "execution_count": null,
   "metadata": {},
   "outputs": [],
   "source": []
  }
 ],
 "metadata": {
  "kernelspec": {
   "display_name": "Python 3",
   "language": "python",
   "name": "python3"
  },
  "language_info": {
   "codemirror_mode": {
    "name": "ipython",
    "version": 3
   },
   "file_extension": ".py",
   "mimetype": "text/x-python",
   "name": "python",
   "nbconvert_exporter": "python",
   "pygments_lexer": "ipython3",
   "version": "3.7.3"
  }
 },
 "nbformat": 4,
 "nbformat_minor": 2
}
