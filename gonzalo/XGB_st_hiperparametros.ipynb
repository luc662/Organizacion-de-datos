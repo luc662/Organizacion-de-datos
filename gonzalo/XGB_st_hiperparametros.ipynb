{
 "cells": [
  {
   "cell_type": "code",
   "execution_count": 1,
   "metadata": {},
   "outputs": [],
   "source": [
    "import pandas as pd\n",
    "import numpy as np\n",
    "import matplotlib.pyplot as plt\n",
    "from sklearn.metrics import mean_squared_error\n",
    "import seaborn as sns\n",
    "import datetime as dat\n",
    "import matplotlib as plt\n",
    "import datetime as dt\n",
    "import xgboost as xgb\n",
    "%matplotlib inline\n",
    "sns.set()"
   ]
  },
  {
   "cell_type": "code",
   "execution_count": 2,
   "metadata": {},
   "outputs": [],
   "source": [
    "features_ventana1 = pd.read_csv('../xgb/features_auctions_gonzalo_st_ventana1.csv').set_index('ref_hash')\n",
    "\n",
    "\n",
    "#features_ventana1 = pd.read_csv('../xgb/features_clicks_gonzalo_st_ventana1.csv').set_index('ref_hash')\n",
    "#aux_ventana1 = pd.read_csv('../xgb/features_events_gonzalo_st_ventana1.csv').set_index('ref_hash')\n",
    "#features_ventana1 = features_ventana1.join(aux_ventana1, how = 'outer', lsuffix = '_clicks', rsuffix = '_events')\n",
    "#aux_ventana1 = pd.read_csv('../xgb/features_installs_gonzalo_st_ventana1.csv').set_index('ref_hash')\n",
    "#features_ventana1 = features_ventana1.join(aux_ventana1, how = 'outer', rsuffix = '_installs')\n",
    "#aux_ventana1 = pd.read_csv('../xgb/features_auctions_gonzalo_st_ventana1.csv').set_index('ref_hash')\n",
    "#features_ventana1 = features_ventana1.join(aux_ventana1, how = 'outer', rsuffix = '_auctions')\n",
    "#features_ventana1 = features_ventana1.fillna(0)\n",
    "\n",
    "labels_st_ventana1 = pd.read_csv('../xgb/labels_st_ventana1.csv').set_index('device_id')\n",
    "ventana1 = features_ventana1.join(labels_st_ventana1, how = 'left').fillna(259200)"
   ]
  },
  {
   "cell_type": "code",
   "execution_count": 3,
   "metadata": {},
   "outputs": [],
   "source": [
    "#matriz = pd.read_csv('../xgb/training_set_st.csv').set_index('ref_hash')\n",
    "matriz = ventana1"
   ]
  },
  {
   "cell_type": "code",
   "execution_count": 4,
   "metadata": {},
   "outputs": [
    {
     "name": "stderr",
     "output_type": "stream",
     "text": [
      "/usr/local/lib/python2.7/dist-packages/xgboost/core.py:587: FutureWarning: Series.base is deprecated and will be removed in a future version\n",
      "  if getattr(data, 'base', None) is not None and \\\n",
      "/usr/local/lib/python2.7/dist-packages/xgboost/core.py:588: FutureWarning: Series.base is deprecated and will be removed in a future version\n",
      "  data.base is not None and isinstance(data, np.ndarray) \\\n"
     ]
    }
   ],
   "source": [
    "features = matriz.iloc[:,:-1]\n",
    "labels = matriz.iloc[:,-1]\n",
    "data_dmatrix = xgb.DMatrix(data=features,label=labels)"
   ]
  },
  {
   "cell_type": "code",
   "execution_count": 5,
   "metadata": {},
   "outputs": [],
   "source": [
    "from sklearn.model_selection import train_test_split\n",
    "\n",
    "train_features, test_features, train_labels, test_labels = \\\n",
    "    train_test_split(features, labels, test_size=0.25, random_state=123)"
   ]
  },
  {
   "cell_type": "raw",
   "metadata": {},
   "source": [
    "params = {\n",
    "        'colsample_bytree': [0.55, 0.05],\n",
    "        'learning_rate': [0.045, 0.005],\n",
    "        'max_depth': [23, 1],\n",
    "        'alpha': [10, 0.1],\n",
    "        'num_boost_round': [50, 5],\n",
    "        'gamma': [10, 0.5],\n",
    "        'n_jobs': [10, 1],\n",
    "        #'n_estimators': [90, 10],\n",
    "        'n_folds': [10, 1],\n",
    "        }\n",
    "\n",
    "xg_reg = xgb.XGBRegressor(objective ='reg:linear', max_depth = params['max_depth'][0], learning_rate = params['learning_rate'][0], \\\n",
    "                          #n_estimators = params['n_estimators'][0], \\\n",
    "                          n_jobs = params['n_jobs'][0], gamma = params['gamma'][0], \\\n",
    "                          colsample_bytree = params['colsample_bytree'][0], alpha = params['alpha'][0], \\\n",
    "                          num_boost_round = params['num_boost_round'][0], n_folds = params['n_folds'][0])\n",
    "\n",
    "xg_reg.fit(train_features,train_labels)\n",
    "predicted_labels = xg_reg.predict(test_features)\n",
    "rmse = np.sqrt(mean_squared_error(test_labels, predicted_labels))\n",
    "print(rmse)\n",
    "best_score = rmse\n",
    "best_try = params.copy()\n",
    "def probar_sumar(hiperparametro):\n",
    "    params[hiperparametro][0] += params[hiperparametro][1]\n",
    "    xg_reg = xgb.XGBRegressor(objective ='reg:linear', max_depth = params['max_depth'][0], learning_rate = params['learning_rate'][0], \\\n",
    "                              #n_estimators = params['n_estimators'][0], \\\n",
    "                              n_jobs = params['n_jobs'][0], gamma = params['gamma'][0], \\\n",
    "                              colsample_bytree = params['colsample_bytree'][0], alpha = params['alpha'][0], \\\n",
    "                              num_boost_round = params['num_boost_round'][0], n_folds = params['n_folds'][0])\n",
    "    xg_reg.fit(train_features,train_labels)\n",
    "    predicted_labels = xg_reg.predict(test_features)\n",
    "    rmse = np.sqrt(mean_squared_error(test_labels, predicted_labels))\n",
    "    return rmse\n",
    "    \n",
    "def probar_restar(hiperparametro):\n",
    "    params[hiperparametro][0] -= params[hiperparametro][1]\n",
    "    xg_reg = xgb.XGBRegressor(objective ='reg:linear', max_depth = params['max_depth'][0], learning_rate = params['learning_rate'][0], \\\n",
    "                              #n_estimators = params['n_estimators'][0], \\\n",
    "                              n_jobs = params['n_jobs'][0], gamma = params['gamma'][0], \\\n",
    "                              colsample_bytree = params['colsample_bytree'][0], alpha = params['alpha'][0], \\\n",
    "                              num_boost_round = params['num_boost_round'][0], n_folds = params['n_folds'][0])\n",
    "    xg_reg.fit(train_features,train_labels)\n",
    "    predicted_labels = xg_reg.predict(test_features)\n",
    "    rmse = np.sqrt(mean_squared_error(test_labels, predicted_labels))\n",
    "    return rmse\n",
    "    \n",
    "for i in range(2):\n",
    "    for hiperparam in params:\n",
    "        mejor = True\n",
    "        while(mejor):\n",
    "            score = probar_sumar(hiperparam)\n",
    "            mejor = ( score < best_score)\n",
    "            if mejor:\n",
    "                best_score = score\n",
    "                print(best_score)\n",
    "        params[hiperparam][0] -= params[hiperparam][1]\n",
    "        \n",
    "        mejor = True\n",
    "        while(mejor):\n",
    "            score = probar_restar(hiperparam)\n",
    "            mejor = ( score < best_score)\n",
    "            if mejor:\n",
    "                best_score = score\n",
    "                print(best_score)\n",
    "        params[hiperparam][0] += params[hiperparam][1]\n",
    "        print(hiperparam + str(params[hiperparam][0]))\n",
    "params"
   ]
  },
  {
   "cell_type": "code",
   "execution_count": 167,
   "metadata": {},
   "outputs": [],
   "source": [
    "xg_reg = xgb.XGBRegressor(objective ='reg:linear', \n",
    "                colsample_bytree = 0.15, learning_rate = 0.055,\n",
    "                max_depth = 7, alpha = 10, num_boost_round = 50, gamma = 10,\n",
    "                          n_jobs = 10, n_estimators = 100, nfolds =10)"
   ]
  },
  {
   "cell_type": "code",
   "execution_count": 168,
   "metadata": {},
   "outputs": [
    {
     "data": {
      "text/plain": [
       "XGBRegressor(alpha=10, base_score=0.5, booster='gbtree', colsample_bylevel=1,\n",
       "       colsample_bytree=0.15, gamma=10, importance_type='gain',\n",
       "       learning_rate=0.055, max_delta_step=0, max_depth=7,\n",
       "       min_child_weight=1, missing=None, n_estimators=100, n_jobs=10,\n",
       "       nfolds=10, nthread=None, num_boost_round=50, objective='reg:linear',\n",
       "       random_state=0, reg_alpha=0, reg_lambda=1, scale_pos_weight=1,\n",
       "       seed=None, silent=True, subsample=1)"
      ]
     },
     "execution_count": 168,
     "metadata": {},
     "output_type": "execute_result"
    }
   ],
   "source": [
    "xg_reg.fit(train_features,train_labels)"
   ]
  },
  {
   "cell_type": "code",
   "execution_count": 169,
   "metadata": {},
   "outputs": [],
   "source": [
    "predicted_labels = xg_reg.predict(test_features)"
   ]
  },
  {
   "cell_type": "code",
   "execution_count": 170,
   "metadata": {},
   "outputs": [
    {
     "name": "stdout",
     "output_type": "stream",
     "text": [
      "RMSE: 90259.095154\n"
     ]
    }
   ],
   "source": [
    "rmse = np.sqrt(mean_squared_error(test_labels, predicted_labels))\n",
    "print(\"RMSE: %f\" % (rmse))"
   ]
  },
  {
   "cell_type": "code",
   "execution_count": null,
   "metadata": {},
   "outputs": [],
   "source": []
  },
  {
   "cell_type": "code",
   "execution_count": null,
   "metadata": {},
   "outputs": [],
   "source": []
  },
  {
   "cell_type": "code",
   "execution_count": 9,
   "metadata": {},
   "outputs": [
    {
     "name": "stdout",
     "output_type": "stream",
     "text": [
      "RMSE: 90711.535475\n"
     ]
    }
   ],
   "source": [
    "colsample_bytree = 0.3, learning_rate = 0.055,\n",
    "                max_depth = 15, alpha = 10, num_boost_round = 50, gamma = 10,\n",
    "                          n_jobs = 10, n_estimators = 89, nfolds =10 )\n",
    "\n",
    "rmse = np.sqrt(mean_squared_error(test_labels, predicted_labels))\n",
    "print(\"RMSE: %f\" % (rmse))"
   ]
  },
  {
   "cell_type": "code",
   "execution_count": 18,
   "metadata": {},
   "outputs": [
    {
     "name": "stdout",
     "output_type": "stream",
     "text": [
      "RMSE: 90703.571620\n"
     ]
    }
   ],
   "source": [
    "colsample_bytree = 0.25, learning_rate = 0.055,\n",
    "                max_depth = 15, alpha = 10, num_boost_round = 50, gamma = 10,\n",
    "                          n_jobs = 10, n_estimators = 89, nfolds =10 )\n",
    "\n",
    "rmse = np.sqrt(mean_squared_error(test_labels, predicted_labels))\n",
    "print(\"RMSE: %f\" % (rmse))"
   ]
  },
  {
   "cell_type": "code",
   "execution_count": 22,
   "metadata": {},
   "outputs": [
    {
     "name": "stdout",
     "output_type": "stream",
     "text": [
      "RMSE: 90610.708279\n"
     ]
    }
   ],
   "source": [
    "colsample_bytree = 0.2, learning_rate = 0.055,\n",
    "                max_depth = 15, alpha = 10, num_boost_round = 50, gamma = 10,\n",
    "                          n_jobs = 10, n_estimators = 89, nfolds =10 )\n",
    "\n",
    "rmse = np.sqrt(mean_squared_error(test_labels, predicted_labels))\n",
    "print(\"RMSE: %f\" % (rmse))"
   ]
  },
  {
   "cell_type": "code",
   "execution_count": null,
   "metadata": {},
   "outputs": [],
   "source": [
    "90105"
   ]
  }
 ],
 "metadata": {
  "kernelspec": {
   "display_name": "Python 3",
   "language": "python",
   "name": "python3"
  },
  "language_info": {
   "codemirror_mode": {
    "name": "ipython",
    "version": 2
   },
   "file_extension": ".py",
   "mimetype": "text/x-python",
   "name": "python",
   "nbconvert_exporter": "python",
   "pygments_lexer": "ipython2",
   "version": "2.7.15+"
  }
 },
 "nbformat": 4,
 "nbformat_minor": 2
}
