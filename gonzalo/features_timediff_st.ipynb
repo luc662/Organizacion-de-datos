{
 "cells": [
  {
   "cell_type": "markdown",
   "metadata": {},
   "source": [
    "# Analisis de superficial del csv de clicks\n",
    "### En este notebook exploramos los registros del csv con el objetivo de buscar relaciones entre las distintas variables"
   ]
  },
  {
   "cell_type": "code",
   "execution_count": 1,
   "metadata": {},
   "outputs": [],
   "source": [
    "import pandas as pd\n",
    "import numpy as np"
   ]
  },
  {
   "cell_type": "code",
   "execution_count": 2,
   "metadata": {},
   "outputs": [
    {
     "data": {
      "text/html": [
       "<div>\n",
       "<style scoped>\n",
       "    .dataframe tbody tr th:only-of-type {\n",
       "        vertical-align: middle;\n",
       "    }\n",
       "\n",
       "    .dataframe tbody tr th {\n",
       "        vertical-align: top;\n",
       "    }\n",
       "\n",
       "    .dataframe thead th {\n",
       "        text-align: right;\n",
       "    }\n",
       "</style>\n",
       "<table border=\"1\" class=\"dataframe\">\n",
       "  <thead>\n",
       "    <tr style=\"text-align: right;\">\n",
       "      <th></th>\n",
       "      <th>date</th>\n",
       "      <th>ref_hash</th>\n",
       "    </tr>\n",
       "  </thead>\n",
       "  <tbody>\n",
       "    <tr>\n",
       "      <th>0</th>\n",
       "      <td>2019-04-23 18:58:00.842116</td>\n",
       "      <td>2564673204772915246</td>\n",
       "    </tr>\n",
       "    <tr>\n",
       "      <th>1</th>\n",
       "      <td>2019-04-23 18:58:01.530771</td>\n",
       "      <td>4441121667607578179</td>\n",
       "    </tr>\n",
       "    <tr>\n",
       "      <th>2</th>\n",
       "      <td>2019-04-23 18:58:01.767562</td>\n",
       "      <td>7721769811471055264</td>\n",
       "    </tr>\n",
       "    <tr>\n",
       "      <th>3</th>\n",
       "      <td>2019-04-23 18:58:02.363468</td>\n",
       "      <td>6416039086842158968</td>\n",
       "    </tr>\n",
       "    <tr>\n",
       "      <th>4</th>\n",
       "      <td>2019-04-23 18:58:02.397559</td>\n",
       "      <td>1258642015983312729</td>\n",
       "    </tr>\n",
       "  </tbody>\n",
       "</table>\n",
       "</div>"
      ],
      "text/plain": [
       "                        date             ref_hash\n",
       "0 2019-04-23 18:58:00.842116  2564673204772915246\n",
       "1 2019-04-23 18:58:01.530771  4441121667607578179\n",
       "2 2019-04-23 18:58:01.767562  7721769811471055264\n",
       "3 2019-04-23 18:58:02.363468  6416039086842158968\n",
       "4 2019-04-23 18:58:02.397559  1258642015983312729"
      ]
     },
     "execution_count": 2,
     "metadata": {},
     "output_type": "execute_result"
    }
   ],
   "source": [
    "auctions = pd.read_csv(\"../data/auctions.csv\", dtype={'date': 'str','device_id': 'category', 'ref_type_id': 'category','source_id':'category'}, parse_dates = ['date'])\n",
    "auctions.drop('ref_type_id', axis=1, inplace = True)\n",
    "auctions.drop('source_id', axis=1, inplace = True)\n",
    "auctions = auctions.rename(columns = {'device_id':'ref_hash'})\n",
    "auctions.head(5)"
   ]
  },
  {
   "cell_type": "code",
   "execution_count": 3,
   "metadata": {},
   "outputs": [],
   "source": [
    "auctions=auctions.sort_values(by='date')"
   ]
  },
  {
   "cell_type": "code",
   "execution_count": 4,
   "metadata": {},
   "outputs": [],
   "source": [
    "fecha_minima=pd.to_datetime('2019-04-18 00:00:00')\n",
    "fecha_tope=pd.to_datetime('2019-04-21 00:00:00')\n",
    "auctions_ventana1=auctions.loc[((auctions['date']>fecha_minima) & (auctions['date']<fecha_tope) )].copy(deep=False)"
   ]
  },
  {
   "cell_type": "code",
   "execution_count": 5,
   "metadata": {},
   "outputs": [],
   "source": [
    "fecha_minima=pd.to_datetime('2019-04-19 00:00:00')\n",
    "fecha_tope=pd.to_datetime('2019-04-22 00:00:00')\n",
    "auctions_ventana2=auctions.loc[((auctions['date']>fecha_minima) & (auctions['date']<fecha_tope) )].copy(deep=False)"
   ]
  },
  {
   "cell_type": "code",
   "execution_count": 6,
   "metadata": {},
   "outputs": [],
   "source": [
    "fecha_minima=pd.to_datetime('2019-04-20 00:00:00')\n",
    "fecha_tope=pd.to_datetime('2019-04-23 00:00:00')\n",
    "auctions_ventana3=auctions.loc[((auctions['date']>fecha_minima) & (auctions['date']<fecha_tope) )].copy(deep=False)"
   ]
  },
  {
   "cell_type": "code",
   "execution_count": 7,
   "metadata": {},
   "outputs": [],
   "source": [
    "fecha_minima=pd.to_datetime('2019-04-21 00:00:00')\n",
    "fecha_tope=pd.to_datetime('2019-04-24 00:00:00')\n",
    "auctions_ventana4=auctions.loc[((auctions['date']>fecha_minima) & (auctions['date']<fecha_tope) )].copy(deep=False)"
   ]
  },
  {
   "cell_type": "code",
   "execution_count": 8,
   "metadata": {},
   "outputs": [],
   "source": [
    "fecha_minima=pd.to_datetime('2019-04-24 00:00:00')\n",
    "fecha_tope=pd.to_datetime('2019-04-27 00:00:00')\n",
    "auctions_ventana7=auctions.loc[((auctions['date']>fecha_minima) & (auctions['date']<fecha_tope) )].copy(deep=False)"
   ]
  },
  {
   "cell_type": "code",
   "execution_count": 9,
   "metadata": {},
   "outputs": [],
   "source": [
    "features = ['sum', 'mean', 'std', 'min', 'max']\n",
    "ventanas = [auctions_ventana1, auctions_ventana2, auctions_ventana3, auctions_ventana4, auctions_ventana7]\n",
    "numero_de_ventanas = [1,2,3,4,7]\n",
    "contador = 0\n"
   ]
  },
  {
   "cell_type": "code",
   "execution_count": 10,
   "metadata": {},
   "outputs": [],
   "source": [
    "for ventana in ventanas:\n",
    "    ventana['time_diff'] = ventana.groupby('ref_hash').agg('diff')/ np.timedelta64(1, 's')\n",
    "    ventana_aux = ventana.groupby('ref_hash')['time_diff'].agg('sum').to_frame()\n",
    "    ventana_aux['time_diff_mean'] = ventana.groupby('ref_hash')['time_diff'].agg('mean')\n",
    "    ventana_aux['time_diff_std'] = ventana.groupby('ref_hash')['time_diff'].agg('std')\n",
    "    ventana_aux['time_diff_max'] = ventana.groupby('ref_hash')['time_diff'].agg('max')\n",
    "    ventana_aux['time_diff_min'] = ventana.groupby('ref_hash')['time_diff'].agg('min')\n",
    "    ventana_aux = ventana_aux.rename(columns = {'time_diff':'time_diff_sum'})\n",
    "    ventana_aux = ventana_aux.fillna(259200)\n",
    "    ventana_aux['time_diff_sum'] = (ventana_aux['time_diff_sum'] == 0) * 259200 + ventana_aux['time_diff_sum']\n",
    "    ventana_aux.to_csv('../xgb/features_timediff_auctions_ventana' + str(numero_de_ventanas[contador]) + '.csv')\n",
    "    contador = contador + 1"
   ]
  }
 ],
 "metadata": {
  "kernelspec": {
   "display_name": "Python 3",
   "language": "python",
   "name": "python3"
  },
  "language_info": {
   "codemirror_mode": {
    "name": "ipython",
    "version": 2
   },
   "file_extension": ".py",
   "mimetype": "text/x-python",
   "name": "python",
   "nbconvert_exporter": "python",
   "pygments_lexer": "ipython2",
   "version": "2.7.15+"
  }
 },
 "nbformat": 4,
 "nbformat_minor": 2
}
