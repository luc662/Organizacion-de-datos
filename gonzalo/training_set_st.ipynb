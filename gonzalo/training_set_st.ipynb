{
 "cells": [
  {
   "cell_type": "code",
   "execution_count": 1,
   "metadata": {},
   "outputs": [],
   "source": [
    "import pandas as pd\n",
    "import numpy as np\n",
    "from sklearn import preprocessing"
   ]
  },
  {
   "cell_type": "code",
   "execution_count": 2,
   "metadata": {},
   "outputs": [],
   "source": [
    "columnas = [\n",
    "    'application_id_mean_events',\n",
    "    'kind_mean_events',\n",
    "    'kind_min_events',\n",
    "    'hour22_mean_events',\n",
    "    'application_id_std_installs',\n",
    "    'device_model_sum_installs',\n",
    "    'ip_address_sum_installs',\n",
    "    'hour_max_installs',\n",
    "    'application_id36_mean_installs',\n",
    "    'hour_sum_auctions',\n",
    "    'hour_mean_auctions',\n",
    "    'hour_std_auctions',\n",
    "    'hour_min_auctions',\n",
    "    'hour_max_auctions',\n",
    "    'repeticiones_sum_auctions',\n",
    "    'repeticiones_mean_auctions',\n",
    "    'repeticiones_min_auctions',\n",
    "    'repeticiones_max_auctions',\n",
    "    'ref_type_id7_sum_auctions',\n",
    "    'source_id1_sum_auctions',\n",
    "    'source_id1_mean_auctions',\n",
    "    'source_id1_std_auctions',\n",
    "    'source_id0_mean_auctions',\n",
    "    'source_id7_sum_auctions',\n",
    "    'source_id7_mean_auctions',\n",
    "    'source_id6_mean_auctions',\n",
    "    'hour3_sum_auctions',\n",
    "    'hour3_mean_auctions',\n",
    "    'hour3_std_auctions',\n",
    "    'hour3_max_auctions',\n",
    "    'hour4_sum_auctions',\n",
    "    'hour4_mean_auctions',\n",
    "    'hour4_std_auctions',\n",
    "    'hour4_max_auctions',\n",
    "    'hour2_sum_auctions',\n",
    "    'hour2_mean_auctions',\n",
    "    'hour2_std_auctions',\n",
    "    'hour2_max_auctions',\n",
    "    'hour1_sum_auctions',\n",
    "    'hour1_mean_auctions',\n",
    "    'hour1_std_auctions',\n",
    "    'hour1_max_auctions',\n",
    "    'hour23_sum_auctions',\n",
    "    'hour23_mean_auctions',\n",
    "    'hour23_std_auctions',\n",
    "    'hour23_max_auctions',\n",
    "    'day2019-04-18_sum_auctions',\n",
    "    'day2019-04-18_mean_auctions',\n",
    "    'day2019-04-18_std_auctions',\n",
    "    'day2019-04-18_min_auctions',\n",
    "    'tiempo_hasta_aparicion_ventana',\n",
    "    'time_diff_sum',\n",
    "    'time_diff_mean',\n",
    "    'time_diff_std',\n",
    "    'time_diff_max',\n",
    "    'time_diff_min']"
   ]
  },
  {
   "cell_type": "code",
   "execution_count": 3,
   "metadata": {},
   "outputs": [],
   "source": [
    "drop_columns = [\n",
    "    'application_id_mean_events',\n",
    "    'kind_mean_events',\n",
    "    'device_model_sum_installs',\n",
    "    'ip_address_sum_installs']"
   ]
  },
  {
   "cell_type": "code",
   "execution_count": 4,
   "metadata": {},
   "outputs": [],
   "source": [
    "fill0_columns = [\n",
    "    'hour_sum_auctions',\n",
    "    'hour_mean_auctions',\n",
    "    'repeticiones_sum_auctions',\n",
    "    'repeticiones_mean_auctions',\n",
    "    'ref_type_id7_sum_auctions',\n",
    "    'source_id1_sum_auctions',\n",
    "    'source_id1_mean_auctions',\n",
    "    'source_id0_mean_auctions',\n",
    "    'source_id7_sum_auctions',\n",
    "    'source_id7_mean_auctions',\n",
    "    'source_id6_mean_auctions',\n",
    "    'hour3_sum_auctions',\n",
    "    'hour3_mean_auctions',\n",
    "    'hour3_max_auctions',\n",
    "    'hour4_sum_auctions',\n",
    "    'hour4_mean_auctions',\n",
    "    'hour4_max_auctions',\n",
    "    'hour2_sum_auctions',\n",
    "    'hour2_mean_auctions',\n",
    "    'hour2_max_auctions',\n",
    "    'hour1_sum_auctions',\n",
    "    'hour1_mean_auctions',\n",
    "    'hour1_max_auctions',\n",
    "    'hour23_sum_auctions',\n",
    "    'hour23_mean_auctions',\n",
    "    'hour23_max_auctions',\n",
    "    'day2019-04-18_sum_auctions',\n",
    "    'day2019-04-18_mean_auctions']"
   ]
  },
  {
   "cell_type": "code",
   "execution_count": 5,
   "metadata": {},
   "outputs": [],
   "source": [
    "fill_max_columns = [\n",
    "    'tiempo_hasta_aparicion_ventana',\n",
    "    'time_diff_sum',\n",
    "    'time_diff_mean',\n",
    "    'time_diff_std',\n",
    "    'time_diff_max',\n",
    "    'time_diff_min']"
   ]
  },
  {
   "cell_type": "code",
   "execution_count": 6,
   "metadata": {},
   "outputs": [],
   "source": [
    "features_ventana1 = pd.read_csv('../xgb/features_clicks_gonzalo_st_ventana1.csv').set_index('ref_hash').add_suffix('_clicks')\n",
    "aux_ventana1 = pd.read_csv('../xgb/features_events_gonzalo_st_ventana1.csv').set_index('ref_hash').add_suffix('_events')\n",
    "features_ventana1 = features_ventana1.join(aux_ventana1, how = 'outer')\n",
    "aux_ventana1 = pd.read_csv('../xgb/features_installs_gonzalo_st_ventana1.csv').set_index('ref_hash').add_suffix('_installs')\n",
    "features_ventana1 = features_ventana1.join(aux_ventana1, how = 'outer')\n",
    "aux_ventana1 = pd.read_csv('../xgb/features_auctions_gonzalo_st_ventana1.csv').set_index('ref_hash').add_suffix('_auctions')\n",
    "features_ventana1 = features_ventana1.join(aux_ventana1, how = 'outer')\n",
    "aux_ventana1 = pd.read_csv('../xgb/features_st_ventana1.csv').set_index('device_id').add_suffix('_ventana')\n",
    "features_ventana1 = features_ventana1.join(aux_ventana1, how = 'outer')\n",
    "aux_ventana1 = pd.read_csv('../xgb/features_timediff_auctions_ventana1.csv').set_index('ref_hash')\n",
    "features_ventana1 = features_ventana1.join(aux_ventana1, how = 'outer')\n",
    "features_ventana1.drop(drop_columns, axis=1, inplace = True)\n",
    "\n",
    "for i in fill_max_columns:\n",
    "    features_ventana1[i] = features_ventana1[i].fillna(259200)\n",
    "for i in fill0_columns:\n",
    "    features_ventana1[i] = features_ventana1[i].fillna(0)\n",
    "    \n",
    "#columns = features_ventana1.columns\n",
    "#index = features_ventana1.index\n",
    "#features_ventana1 = pd.DataFrame(preprocessing.scale(features_ventana1))\n",
    "#features_ventana1.columns = columns\n",
    "#features_ventana1.index = index\n",
    "\n",
    "#features_ventana1"
   ]
  },
  {
   "cell_type": "code",
   "execution_count": 7,
   "metadata": {},
   "outputs": [],
   "source": [
    "labels_st_ventana1 = pd.read_csv('../xgb/labels_st_ventana1.csv').set_index('device_id').add_suffix('_target')\n",
    "ventana1 = features_ventana1.join(labels_st_ventana1, how = 'left').fillna(259200)#3 dias pasado a segundos"
   ]
  },
  {
   "cell_type": "raw",
   "metadata": {},
   "source": [
    "features_ventana2 = pd.read_csv('../xgb/features_clicks_gonzalo_st_ventana2.csv').set_index('ref_hash')\n",
    "aux_ventana2 = pd.read_csv('../xgb/features_events_gonzalo_st_ventana2.csv').set_index('ref_hash')\n",
    "features_ventana2 = features_ventana2.join(aux_ventana2, how = 'outer', lsuffix = '_clicks', rsuffix = '_events')\n",
    "aux_ventana2 = pd.read_csv('../xgb/features_installs_gonzalo_st_ventana2.csv').set_index('ref_hash')\n",
    "features_ventana2 = features_ventana2.join(aux_ventana2, how = 'outer', rsuffix = '_installs')\n",
    "aux_ventana2 = pd.read_csv('../xgb/features_auctions_gonzalo_st_ventana2.csv').set_index('ref_hash')\n",
    "features_ventana2 = features_ventana2.join(aux_ventana2, how = 'outer', rsuffix = '_auctions')\n",
    "features_ventana2 = features_ventana2.fillna(0)\n",
    "\n",
    "labels_st_ventana2 = pd.read_csv('../xgb/labels_st_ventana2.csv').set_index('device_id')\n",
    "ventana2 = features_ventana2.join(labels_st_ventana2, how = 'left').fillna(259200)#3 dias pasado a segundos"
   ]
  },
  {
   "cell_type": "raw",
   "metadata": {},
   "source": [
    "features_ventana3 = pd.read_csv('../xgb/features_clicks_gonzalo_st_ventana3.csv').set_index('ref_hash')\n",
    "aux_ventana3 = pd.read_csv('../xgb/features_events_gonzalo_st_ventana3.csv').set_index('ref_hash')\n",
    "features_ventana3 = features_ventana3.join(aux_ventana3, how = 'outer', lsuffix = '_clicks', rsuffix = '_events')\n",
    "aux_ventana3 = pd.read_csv('../xgb/features_installs_gonzalo_st_ventana3.csv').set_index('ref_hash')\n",
    "features_ventana3 = features_ventana3.join(aux_ventana3, how = 'outer', rsuffix = '_installs')\n",
    "aux_ventana3 = pd.read_csv('../xgb/features_auctions_gonzalo_st_ventana3.csv').set_index('ref_hash')\n",
    "features_ventana3 = features_ventana3.join(aux_ventana3, how = 'outer', rsuffix = '_auctions')\n",
    "features_ventana3 = features_ventana3.fillna(0)\n",
    "\n",
    "labels_st_ventana3 = pd.read_csv('../xgb/labels_st_ventana3.csv').set_index('device_id')\n",
    "ventana3 = features_ventana3.join(labels_st_ventana3, how = 'left').fillna(259200)#3 dias pasado a segundos"
   ]
  },
  {
   "cell_type": "raw",
   "metadata": {},
   "source": [
    "features_ventana4 = pd.read_csv('../xgb/features_clicks_gonzalo_st_ventana4.csv').set_index('ref_hash')\n",
    "aux_ventana4 = pd.read_csv('../xgb/features_events_gonzalo_st_ventana4.csv').set_index('ref_hash')\n",
    "features_ventana4 = features_ventana4.join(aux_ventana4, how = 'outer', lsuffix = '_clicks', rsuffix = '_events')\n",
    "aux_ventana4 = pd.read_csv('../xgb/features_installs_gonzalo_st_ventana4.csv').set_index('ref_hash')\n",
    "features_ventana4 = features_ventana4.join(aux_ventana4, how = 'outer', rsuffix = '_installs')\n",
    "aux_ventana4 = pd.read_csv('../xgb/features_auctions_gonzalo_st_ventana4.csv').set_index('ref_hash')\n",
    "features_ventana4 = features_ventana4.join(aux_ventana4, how = 'outer', rsuffix = '_auctions')\n",
    "features_ventana4 = features_ventana4.fillna(0)\n",
    "\n",
    "labels_st_ventana4 = pd.read_csv('../xgb/labels_st_ventana4.csv').set_index('device_id')\n",
    "ventana4 = features_ventana4.join(labels_st_ventana4, how = 'left').fillna(259200)#3 dias pasado a segundos"
   ]
  },
  {
   "cell_type": "raw",
   "metadata": {},
   "source": [
    "matriz = ventana1.append(ventana2).append(ventana3).append(ventana4)\n",
    "matriz.to_csv('../xgb/training_set_st.csv')"
   ]
  },
  {
   "cell_type": "code",
   "execution_count": 8,
   "metadata": {},
   "outputs": [],
   "source": [
    "matriz = ventana1\n",
    "matriz.index.name = 'ref_hash'\n",
    "matriz.to_csv('../xgb/training_set_st.csv')"
   ]
  },
  {
   "cell_type": "code",
   "execution_count": null,
   "metadata": {},
   "outputs": [],
   "source": []
  }
 ],
 "metadata": {
  "kernelspec": {
   "display_name": "Python 3",
   "language": "python",
   "name": "python3"
  },
  "language_info": {
   "codemirror_mode": {
    "name": "ipython",
    "version": 2
   },
   "file_extension": ".py",
   "mimetype": "text/x-python",
   "name": "python",
   "nbconvert_exporter": "python",
   "pygments_lexer": "ipython2",
   "version": "2.7.15+"
  }
 },
 "nbformat": 4,
 "nbformat_minor": 2
}
