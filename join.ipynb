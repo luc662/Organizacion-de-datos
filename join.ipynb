{
 "cells": [
  {
   "cell_type": "code",
   "execution_count": 1,
   "metadata": {},
   "outputs": [],
   "source": [
    "import pandas as pd\n",
    "import numpy as np\n",
    "import matplotlib.pyplot as plt\n",
    "import seaborn as sns\n",
    "\n",
    "%matplotlib inline"
   ]
  },
  {
   "cell_type": "code",
   "execution_count": null,
   "metadata": {},
   "outputs": [],
   "source": [
    "events = pd.read_csv(\"data/events.csv\", dtype={'date': 'str', 'event_id': np.int16, 'ref_type': 'category',\n",
    "                                               'ref_hash': 'int64', 'application_id':np.int16, 'attributed': 'bool',\n",
    "                                               'device_countrycode': 'int64', 'device_os_version':'float64', 'device_brand': 'float64',\n",
    "                                               'device_model': 'float64', 'device_city':'float64', 'session_user_agent': 'float64',\n",
    "                                               'trans_id': 'str', 'user_agent':'float64', 'event_uuid': 'str',\n",
    "                                               'carrier': 'float64', 'kind':'float64', 'device_os': 'category',\n",
    "                                               'wifi': np.float16, 'connection_type':'str', 'ip_address': 'int64',\n",
    "                                               'device_language': 'float64'}, parse_dates = ['date'])"
   ]
  },
  {
   "cell_type": "code",
   "execution_count": 2,
   "metadata": {},
   "outputs": [],
   "source": [
    "clicks = pd.read_csv(\"data/clicks.csv\", dtype={'advertiser_id': 'category', 'action_id': 'float64', 'source_id': 'category',\n",
    "                                               'created': 'str', 'country_code':'category', 'latitude': 'float64',\n",
    "                                               'longitude':'float64', 'wifi_connection':'bool' , 'carrier_id':np.float16,\n",
    "                                               'trans_id':'str', 'os_minor':'float64', 'agent_device':'float64', 'os_major':'float64',\n",
    "                                               'specs_brand':'int64', 'brand':'category', 'timeToClick':'float64',\n",
    "                                               'touchX':'float64', 'touchY':'float64', 'ref_type':'category', 'ref_hash':'int64'}, parse_dates = ['created'])\n",
    "clicks.drop('action_id', axis=1, inplace = True)"
   ]
  },
  {
   "cell_type": "code",
   "execution_count": null,
   "metadata": {},
   "outputs": [],
   "source": [
    "installs = pd.read_csv(\"data/installs.csv\")\n",
    "installs.drop('click_hash', axis=1, inplace = True)\n",
    "installs.drop('attributed', axis=1, inplace = True)"
   ]
  },
  {
   "cell_type": "code",
   "execution_count": 3,
   "metadata": {},
   "outputs": [],
   "source": [
    "auctions = pd.read_csv(\"data/auctions.csv\", dtype={'auction_type_id': 'float64', 'country': 'category', 'date': 'str',\n",
    "                                                   'device_id': 'int64', 'platform':'category', 'ref_type_id': 'category',\n",
    "                                                   'source_id':'category'}, parse_dates = ['date'])\n",
    "auctions.drop('auction_type_id', axis=1, inplace = True)\n",
    "auctions.drop('country', axis=1, inplace = True)"
   ]
  },
  {
   "cell_type": "code",
   "execution_count": null,
   "metadata": {},
   "outputs": [],
   "source": [
    "join_clicks_events = pd.merge(clicks, events, on= 'ref_hash', how = 'inner')\n",
    "join_clicks_events.shape"
   ]
  },
  {
   "cell_type": "code",
   "execution_count": null,
   "metadata": {},
   "outputs": [],
   "source": [
    "join_clicks_installs = pd.merge(clicks, installs, on= 'ref_hash', how = 'inner')\n",
    "join_clicks_installs.shape"
   ]
  },
  {
   "cell_type": "code",
   "execution_count": null,
   "metadata": {},
   "outputs": [],
   "source": [
    "join_events_installs = pd.merge(events, installs, on= 'ref_hash', how = 'inner')\n",
    "join_events_installs.shape"
   ]
  },
  {
   "cell_type": "raw",
   "metadata": {},
   "source": [
    "#sns.set(style=\"ticks\", color_codes=True)\n",
    "#sns.pairplot(events, vars = ['event_id', 'ref_type', 'application_id'])\n",
    "#sns.pairplot(join_clicks_events, x_vars = [\"longitude\"], y_vars = [\"latitude\"], height = 11, hue = 'device_city');\n",
    "#wtf nigga"
   ]
  },
  {
   "cell_type": "code",
   "execution_count": null,
   "metadata": {},
   "outputs": [],
   "source": [
    "join_total = pd.merge(join_clicks_events, installs, on= 'ref_hash', how = 'inner')\n",
    "join_total.shape"
   ]
  },
  {
   "cell_type": "code",
   "execution_count": null,
   "metadata": {},
   "outputs": [],
   "source": [
    "join_auctions_clicks = pd.merge(auctions, clicks, on= 'source_id', how = 'inner')"
   ]
  },
  {
   "cell_type": "code",
   "execution_count": null,
   "metadata": {},
   "outputs": [],
   "source": []
  }
 ],
 "metadata": {
  "kernelspec": {
   "display_name": "Python 3",
   "language": "python",
   "name": "python3"
  },
  "language_info": {
   "codemirror_mode": {
    "name": "ipython",
    "version": 3
   },
   "file_extension": ".py",
   "mimetype": "text/x-python",
   "name": "python",
   "nbconvert_exporter": "python",
   "pygments_lexer": "ipython3",
   "version": "3.5.2"
  }
 },
 "nbformat": 4,
 "nbformat_minor": 2
}
