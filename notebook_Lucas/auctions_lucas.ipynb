{
 "cells": [
  {
   "cell_type": "code",
   "execution_count": 1,
   "metadata": {},
   "outputs": [],
   "source": [
    "import pandas as pd\n",
    "import numpy as np\n",
    "import matplotlib.pyplot as plt\n",
    "import seaborn as sns\n",
    "import datetime as dat\n",
    "\n",
    "%matplotlib inline"
   ]
  },
  {
   "cell_type": "code",
   "execution_count": 2,
   "metadata": {},
   "outputs": [
    {
     "data": {
      "text/html": [
       "<div>\n",
       "<style scoped>\n",
       "    .dataframe tbody tr th:only-of-type {\n",
       "        vertical-align: middle;\n",
       "    }\n",
       "\n",
       "    .dataframe tbody tr th {\n",
       "        vertical-align: top;\n",
       "    }\n",
       "\n",
       "    .dataframe thead th {\n",
       "        text-align: right;\n",
       "    }\n",
       "</style>\n",
       "<table border=\"1\" class=\"dataframe\">\n",
       "  <thead>\n",
       "    <tr style=\"text-align: right;\">\n",
       "      <th></th>\n",
       "      <th>date</th>\n",
       "      <th>device_id</th>\n",
       "      <th>platform</th>\n",
       "      <th>ref_type_id</th>\n",
       "      <th>source_id</th>\n",
       "    </tr>\n",
       "  </thead>\n",
       "  <tbody>\n",
       "    <tr>\n",
       "      <th>0</th>\n",
       "      <td>2019-03-11 14:18:33.290763</td>\n",
       "      <td>6059599345986491085</td>\n",
       "      <td>1</td>\n",
       "      <td>1</td>\n",
       "      <td>0</td>\n",
       "    </tr>\n",
       "    <tr>\n",
       "      <th>1</th>\n",
       "      <td>2019-03-11 14:18:34.440157</td>\n",
       "      <td>1115994996230693426</td>\n",
       "      <td>1</td>\n",
       "      <td>1</td>\n",
       "      <td>0</td>\n",
       "    </tr>\n",
       "    <tr>\n",
       "      <th>2</th>\n",
       "      <td>2019-03-11 14:18:35.862360</td>\n",
       "      <td>7463856250762200923</td>\n",
       "      <td>1</td>\n",
       "      <td>1</td>\n",
       "      <td>0</td>\n",
       "    </tr>\n",
       "    <tr>\n",
       "      <th>3</th>\n",
       "      <td>2019-03-11 14:18:36.167163</td>\n",
       "      <td>7829815350267792040</td>\n",
       "      <td>1</td>\n",
       "      <td>1</td>\n",
       "      <td>0</td>\n",
       "    </tr>\n",
       "    <tr>\n",
       "      <th>4</th>\n",
       "      <td>2019-03-11 14:18:37.728590</td>\n",
       "      <td>1448534231953777480</td>\n",
       "      <td>1</td>\n",
       "      <td>1</td>\n",
       "      <td>0</td>\n",
       "    </tr>\n",
       "  </tbody>\n",
       "</table>\n",
       "</div>"
      ],
      "text/plain": [
       "                        date            device_id platform ref_type_id  \\\n",
       "0 2019-03-11 14:18:33.290763  6059599345986491085        1           1   \n",
       "1 2019-03-11 14:18:34.440157  1115994996230693426        1           1   \n",
       "2 2019-03-11 14:18:35.862360  7463856250762200923        1           1   \n",
       "3 2019-03-11 14:18:36.167163  7829815350267792040        1           1   \n",
       "4 2019-03-11 14:18:37.728590  1448534231953777480        1           1   \n",
       "\n",
       "  source_id  \n",
       "0         0  \n",
       "1         0  \n",
       "2         0  \n",
       "3         0  \n",
       "4         0  "
      ]
     },
     "execution_count": 2,
     "metadata": {},
     "output_type": "execute_result"
    }
   ],
   "source": [
    "auctions = pd.read_csv(\"data/auctions.csv.gzip\",compression='gzip', dtype={'auction_type_id': 'float64', 'country': 'category', 'date': 'str',\n",
    "                                                   'device_id': 'category', 'platform':'category', 'ref_type_id': 'category',\n",
    "                                                   'source_id':'category'}, parse_dates = ['date'])\n",
    "auctions.drop('auction_type_id', axis=1, inplace = True)\n",
    "auctions.drop('country', axis=1, inplace = True)\n",
    "auctions.head(5)"
   ]
  },
  {
   "cell_type": "code",
   "execution_count": 3,
   "metadata": {},
   "outputs": [
    {
     "data": {
      "text/plain": [
       "date             datetime64[ns]\n",
       "device_id              category\n",
       "platform               category\n",
       "ref_type_id            category\n",
       "source_id              category\n",
       "hora                      int64\n",
       "fecha                    object\n",
       "dia_de_semana              int8\n",
       "ocurrencias                int8\n",
       "dtype: object"
      ]
     },
     "execution_count": 3,
     "metadata": {},
     "output_type": "execute_result"
    }
   ],
   "source": [
    "auctions['hora']=auctions['date'].dt.hour\n",
    "auctions['fecha']=auctions['date'].dt.date\n",
    "auctions['dia_de_semana']=np.int8(auctions['date'].dt.weekday)\n",
    "#auctions['dia_de_semana']=auctions['date'].dt.weekday\n",
    "auctions['ocurrencias']=np.int8(1)\n",
    "auctions.dtypes"
   ]
  },
  {
   "cell_type": "code",
   "execution_count": 4,
   "metadata": {},
   "outputs": [
    {
     "data": {
      "text/plain": [
       "0    13354597\n",
       "1     4016739\n",
       "5     1466494\n",
       "2      582083\n",
       "6      151406\n",
       "Name: source_id, dtype: int64"
      ]
     },
     "execution_count": 4,
     "metadata": {},
     "output_type": "execute_result"
    }
   ],
   "source": [
    "\n",
    "auctions['source_id'].value_counts()"
   ]
  },
  {
   "cell_type": "code",
   "execution_count": 5,
   "metadata": {},
   "outputs": [
    {
     "data": {
      "text/plain": [
       "2019-03-13    2938373\n",
       "2019-03-12    2779910\n",
       "2019-03-10    2637534\n",
       "2019-03-11    2574916\n",
       "2019-03-08    2303002\n",
       "2019-03-09    2074552\n",
       "2019-03-07    2047661\n",
       "Name: fecha, dtype: int64"
      ]
     },
     "execution_count": 5,
     "metadata": {},
     "output_type": "execute_result"
    }
   ],
   "source": [
    "#auctions['filtro']=(auctions['date']>dat.datetime(year=2019,month=3,day=7))\n",
    "subasta_semanal = auctions[auctions['date']>dat.datetime(year=2019,month=3,day=7)]\n",
    "subasta_semanal['fecha'].value_counts()"
   ]
  },
  {
   "cell_type": "code",
   "execution_count": 6,
   "metadata": {},
   "outputs": [
    {
     "data": {
      "text/plain": [
       "Text(0.5, 24.0, 'Hora')"
      ]
     },
     "execution_count": 6,
     "metadata": {},
     "output_type": "execute_result"
    },
    {
     "data": {
      "image/png": "[encoded data removed]",
      "text/plain": [
       "<Figure size 1296x360 with 2 Axes>"
      ]
     },
     "metadata": {
      "needs_background": "light"
     },
     "output_type": "display_data"
    }
   ],
   "source": [
    "#subasta_semanal['dia_de_semana']=subasta_semanal['date'].dt.weekday\n",
    "#subasta_semanal['ocurrencias']=np.int8(1)\n",
    "\n",
    "\n",
    "tabla=auctions[['fecha', 'hora','ocurrencias']].groupby(['fecha','hora']).count()\n",
    "matriz = tabla.unstack()\n",
    "fig, ax =plt.subplots(figsize=(18,5))\n",
    "title=\"mapa de los dias y horas donde mas instalaciones se realizan\"\n",
    "plt.title(title,fontsize=18)\n",
    "tit=ax.title\n",
    "ax.set_xticks([])\n",
    "ax.set_yticks([])\n",
    "etiquetaX=[0,1,2,3,4,5,6,7,8,9,10,11,12,13,14,15,16,17,18,19,20,21,22,23]\n",
    "#etiquetaY=[\"Lunes\",\"Martes\",\"Miercoles\",\"Jueves\",\"Viernes\",\"Sabado\",\"Domingo\"]\n",
    "sns.heatmap(matriz,xticklabels=etiquetaX,fmt=\"\", cmap='Blues',ax=ax);\n",
    "ax.set_ylabel(\"Dias\",fontsize=12)\n",
    "ax.set_xlabel(\"Hora\",fontsize=12)"
   ]
  },
  {
   "cell_type": "code",
   "execution_count": 7,
   "metadata": {},
   "outputs": [],
   "source": [
    "tabla=auctions[['source_id', 'platform','ocurrencias']].groupby(['source_id','platform']).count()\n",
    "#ax = sns.barplot(x=\"device_city\", y=\"ocurrencias\",hue=\"application_id\", data=eventos_top)\n",
    "#ax\n",
    "\n",
    "\n",
    "\n",
    "\n",
    "\n",
    "#tabla=tabla.unstack()\n",
    "tabla=tabla.reset_index()"
   ]
  },
  {
   "cell_type": "code",
   "execution_count": 8,
   "metadata": {},
   "outputs": [
    {
     "data": {
      "text/plain": [
       "<matplotlib.axes._subplots.AxesSubplot at 0x1c01635ec50>"
      ]
     },
     "execution_count": 8,
     "metadata": {},
     "output_type": "execute_result"
    },
    {
     "data": {
      "image/png": "[encoded data removed]",
      "text/plain": [
       "<Figure size 1080x720 with 1 Axes>"
      ]
     },
     "metadata": {
      "needs_background": "light"
     },
     "output_type": "display_data"
    }
   ],
   "source": [
    "\n",
    "\n",
    "fig, ax =plt.subplots(figsize=(15,10))\n",
    "ax=sns.barplot(x=\"source_id\", y=\"ocurrencias\", hue=\"platform\", data=tabla)\n",
    "#si tienen un titulo mejor avisen\n",
    "ax.set_title(\"cuantas subastas ofrecen cada surce, correspondiente a los sistemas operativos \",fontsize=20)\n",
    "ax\n"
   ]
  },
  {
   "cell_type": "code",
   "execution_count": 9,
   "metadata": {},
   "outputs": [],
   "source": [
    "auctions.drop('dia_de_semana', axis=1, inplace = True)\n",
    "auctions.drop('hora', axis=1, inplace = True)\n",
    "auctions.drop('ocurrencias', axis=1, inplace = True)"
   ]
  },
  {
   "cell_type": "code",
   "execution_count": null,
   "metadata": {},
   "outputs": [],
   "source": []
  },
  {
   "cell_type": "code",
   "execution_count": null,
   "metadata": {},
   "outputs": [],
   "source": []
  }
 ],
 "metadata": {
  "kernelspec": {
   "display_name": "Python 3",
   "language": "python",
   "name": "python3"
  },
  "language_info": {
   "codemirror_mode": {
    "name": "ipython",
    "version": 3
   },
   "file_extension": ".py",
   "mimetype": "text/x-python",
   "name": "python",
   "nbconvert_exporter": "python",
   "pygments_lexer": "ipython3",
   "version": "3.7.3"
  }
 },
 "nbformat": 4,
 "nbformat_minor": 2
}
