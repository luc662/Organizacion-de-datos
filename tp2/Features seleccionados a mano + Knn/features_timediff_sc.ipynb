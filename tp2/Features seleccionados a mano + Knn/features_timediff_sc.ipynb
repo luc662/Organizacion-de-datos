{
 "cells": [
  {
   "cell_type": "markdown",
   "metadata": {},
   "source": [
    "# Analisis de superficial del csv de clicks\n",
    "### En este notebook exploramos los registros del csv con el objetivo de buscar relaciones entre las distintas variables"
   ]
  },
  {
   "cell_type": "code",
   "execution_count": 1,
   "metadata": {},
   "outputs": [],
   "source": [
    "import xgboost as xgb\n",
    "from sklearn.metrics import mean_squared_error\n",
    "import pandas as pd\n",
    "import numpy as np\n",
    "import matplotlib.pyplot as plt\n",
    "import seaborn as sns\n",
    "\n",
    "%matplotlib inline"
   ]
  },
  {
   "cell_type": "markdown",
   "metadata": {},
   "source": [
    "## Leemos el csv, y dropeamos las columnas action_id por estar llena de nans y wifi_connection por estar llena de False"
   ]
  },
  {
   "cell_type": "code",
   "execution_count": 2,
   "metadata": {},
   "outputs": [
    {
     "name": "stderr",
     "output_type": "stream",
     "text": [
      "/home/gonzalo/.local/lib/python2.7/site-packages/IPython/core/interactiveshell.py:2714: DtypeWarning: Columns (4,15) have mixed types. Specify dtype option on import or set low_memory=False.\n",
      "  interactivity=interactivity, compiler=compiler, result=result)\n"
     ]
    },
    {
     "data": {
      "text/html": [
       "<div>\n",
       "<style scoped>\n",
       "    .dataframe tbody tr th:only-of-type {\n",
       "        vertical-align: middle;\n",
       "    }\n",
       "\n",
       "    .dataframe tbody tr th {\n",
       "        vertical-align: top;\n",
       "    }\n",
       "\n",
       "    .dataframe thead th {\n",
       "        text-align: right;\n",
       "    }\n",
       "</style>\n",
       "<table border=\"1\" class=\"dataframe\">\n",
       "  <thead>\n",
       "    <tr style=\"text-align: right;\">\n",
       "      <th></th>\n",
       "      <th>created</th>\n",
       "      <th>application_id</th>\n",
       "      <th>ref_type</th>\n",
       "      <th>ref_hash</th>\n",
       "      <th>click_hash</th>\n",
       "      <th>attributed</th>\n",
       "      <th>implicit</th>\n",
       "      <th>device_countrycode</th>\n",
       "      <th>device_brand</th>\n",
       "      <th>device_model</th>\n",
       "      <th>session_user_agent</th>\n",
       "      <th>user_agent</th>\n",
       "      <th>event_uuid</th>\n",
       "      <th>kind</th>\n",
       "      <th>wifi</th>\n",
       "      <th>trans_id</th>\n",
       "      <th>ip_address</th>\n",
       "      <th>device_language</th>\n",
       "    </tr>\n",
       "  </thead>\n",
       "  <tbody>\n",
       "    <tr>\n",
       "      <th>0</th>\n",
       "      <td>2019-04-24 06:23:29.495</td>\n",
       "      <td>1</td>\n",
       "      <td>1494519392962156891</td>\n",
       "      <td>4716708407362582887</td>\n",
       "      <td>NaN</td>\n",
       "      <td>False</td>\n",
       "      <td>True</td>\n",
       "      <td>6287817205707153877</td>\n",
       "      <td>NaN</td>\n",
       "      <td>3.739127e+17</td>\n",
       "      <td>adjust.com</td>\n",
       "      <td>NaN</td>\n",
       "      <td>79837499-2f2a-4605-a663-e322f759424f</td>\n",
       "      <td>app_open</td>\n",
       "      <td>NaN</td>\n",
       "      <td>NaN</td>\n",
       "      <td>4243443387795468703</td>\n",
       "      <td>3.301378e+18</td>\n",
       "    </tr>\n",
       "    <tr>\n",
       "      <th>1</th>\n",
       "      <td>2019-04-24 02:06:01.032</td>\n",
       "      <td>1</td>\n",
       "      <td>1494519392962156891</td>\n",
       "      <td>7143568733100935872</td>\n",
       "      <td>NaN</td>\n",
       "      <td>False</td>\n",
       "      <td>False</td>\n",
       "      <td>6287817205707153877</td>\n",
       "      <td>NaN</td>\n",
       "      <td>7.805539e+18</td>\n",
       "      <td>adjust.com</td>\n",
       "      <td>NaN</td>\n",
       "      <td>NaN</td>\n",
       "      <td>NaN</td>\n",
       "      <td>NaN</td>\n",
       "      <td>NaN</td>\n",
       "      <td>4724288679627032761</td>\n",
       "      <td>3.301378e+18</td>\n",
       "    </tr>\n",
       "    <tr>\n",
       "      <th>2</th>\n",
       "      <td>2019-04-20 10:15:36.274</td>\n",
       "      <td>1</td>\n",
       "      <td>1494519392962156891</td>\n",
       "      <td>5230323462636548010</td>\n",
       "      <td>NaN</td>\n",
       "      <td>False</td>\n",
       "      <td>True</td>\n",
       "      <td>6287817205707153877</td>\n",
       "      <td>NaN</td>\n",
       "      <td>8.355496e+18</td>\n",
       "      <td>adjust.com</td>\n",
       "      <td>NaN</td>\n",
       "      <td>dda99e3c-9c4b-487d-891c-79f0a02cb4a8</td>\n",
       "      <td>app_open</td>\n",
       "      <td>NaN</td>\n",
       "      <td>NaN</td>\n",
       "      <td>8291809486355890410</td>\n",
       "      <td>4.060930e+18</td>\n",
       "    </tr>\n",
       "    <tr>\n",
       "      <th>3</th>\n",
       "      <td>2019-04-20 21:56:47.151</td>\n",
       "      <td>1</td>\n",
       "      <td>1494519392962156891</td>\n",
       "      <td>5097163995161606833</td>\n",
       "      <td>NaN</td>\n",
       "      <td>False</td>\n",
       "      <td>True</td>\n",
       "      <td>6287817205707153877</td>\n",
       "      <td>NaN</td>\n",
       "      <td>2.355772e+18</td>\n",
       "      <td>adjust.com</td>\n",
       "      <td>NaN</td>\n",
       "      <td>7010c3ce-0fcf-46c6-9be8-374cc0e20af4</td>\n",
       "      <td>app_open</td>\n",
       "      <td>NaN</td>\n",
       "      <td>NaN</td>\n",
       "      <td>4006811922873399949</td>\n",
       "      <td>3.301378e+18</td>\n",
       "    </tr>\n",
       "    <tr>\n",
       "      <th>4</th>\n",
       "      <td>2019-04-20 22:40:41.239</td>\n",
       "      <td>1</td>\n",
       "      <td>1494519392962156891</td>\n",
       "      <td>6328027616411983332</td>\n",
       "      <td>NaN</td>\n",
       "      <td>False</td>\n",
       "      <td>False</td>\n",
       "      <td>6287817205707153877</td>\n",
       "      <td>NaN</td>\n",
       "      <td>6.156971e+18</td>\n",
       "      <td>adjust.com</td>\n",
       "      <td>NaN</td>\n",
       "      <td>NaN</td>\n",
       "      <td>NaN</td>\n",
       "      <td>NaN</td>\n",
       "      <td>NaN</td>\n",
       "      <td>3386455054590810771</td>\n",
       "      <td>3.301378e+18</td>\n",
       "    </tr>\n",
       "  </tbody>\n",
       "</table>\n",
       "</div>"
      ],
      "text/plain": [
       "                  created  application_id             ref_type  \\\n",
       "0 2019-04-24 06:23:29.495               1  1494519392962156891   \n",
       "1 2019-04-24 02:06:01.032               1  1494519392962156891   \n",
       "2 2019-04-20 10:15:36.274               1  1494519392962156891   \n",
       "3 2019-04-20 21:56:47.151               1  1494519392962156891   \n",
       "4 2019-04-20 22:40:41.239               1  1494519392962156891   \n",
       "\n",
       "              ref_hash click_hash  attributed  implicit   device_countrycode  \\\n",
       "0  4716708407362582887        NaN       False      True  6287817205707153877   \n",
       "1  7143568733100935872        NaN       False     False  6287817205707153877   \n",
       "2  5230323462636548010        NaN       False      True  6287817205707153877   \n",
       "3  5097163995161606833        NaN       False      True  6287817205707153877   \n",
       "4  6328027616411983332        NaN       False     False  6287817205707153877   \n",
       "\n",
       "   device_brand  device_model session_user_agent user_agent  \\\n",
       "0           NaN  3.739127e+17         adjust.com        NaN   \n",
       "1           NaN  7.805539e+18         adjust.com        NaN   \n",
       "2           NaN  8.355496e+18         adjust.com        NaN   \n",
       "3           NaN  2.355772e+18         adjust.com        NaN   \n",
       "4           NaN  6.156971e+18         adjust.com        NaN   \n",
       "\n",
       "                             event_uuid      kind wifi trans_id  \\\n",
       "0  79837499-2f2a-4605-a663-e322f759424f  app_open  NaN      NaN   \n",
       "1                                   NaN       NaN  NaN      NaN   \n",
       "2  dda99e3c-9c4b-487d-891c-79f0a02cb4a8  app_open  NaN      NaN   \n",
       "3  7010c3ce-0fcf-46c6-9be8-374cc0e20af4  app_open  NaN      NaN   \n",
       "4                                   NaN       NaN  NaN      NaN   \n",
       "\n",
       "            ip_address  device_language  \n",
       "0  4243443387795468703     3.301378e+18  \n",
       "1  4724288679627032761     3.301378e+18  \n",
       "2  8291809486355890410     4.060930e+18  \n",
       "3  4006811922873399949     3.301378e+18  \n",
       "4  3386455054590810771     3.301378e+18  "
      ]
     },
     "execution_count": 2,
     "metadata": {},
     "output_type": "execute_result"
    }
   ],
   "source": [
    "installs = pd.read_csv(\"../data/installs.csv\")\n",
    "installs['created'] = pd.to_datetime(installs['created'], errors = 'coerce')\n",
    "installs.head(5)"
   ]
  },
  {
   "cell_type": "code",
   "execution_count": 3,
   "metadata": {},
   "outputs": [],
   "source": [
    "installs = installs.sort_values(by = 'created')"
   ]
  },
  {
   "cell_type": "code",
   "execution_count": 4,
   "metadata": {},
   "outputs": [],
   "source": [
    "installs = installs[['ref_hash', 'created']]"
   ]
  },
  {
   "cell_type": "code",
   "execution_count": 5,
   "metadata": {},
   "outputs": [],
   "source": [
    "fecha_minima=pd.to_datetime('2019-04-18 00:00:00')\n",
    "fecha_tope=pd.to_datetime('2019-04-21 00:00:00')\n",
    "installs_ventana1=installs.loc[((installs['created']>fecha_minima) & (installs['created']<fecha_tope) )].copy(deep=False)"
   ]
  },
  {
   "cell_type": "code",
   "execution_count": 6,
   "metadata": {},
   "outputs": [],
   "source": [
    "fecha_minima=pd.to_datetime('2019-04-19 00:00:00')\n",
    "fecha_tope=pd.to_datetime('2019-04-22 00:00:00')\n",
    "installs_ventana2=installs.loc[((installs['created']>fecha_minima) & (installs['created']<fecha_tope) )].copy(deep=False)"
   ]
  },
  {
   "cell_type": "code",
   "execution_count": 7,
   "metadata": {},
   "outputs": [],
   "source": [
    "fecha_minima=pd.to_datetime('2019-04-20 00:00:00')\n",
    "fecha_tope=pd.to_datetime('2019-04-23 00:00:00')\n",
    "installs_ventana3=installs.loc[((installs['created']>fecha_minima) & (installs['created']<fecha_tope) )].copy(deep=False)"
   ]
  },
  {
   "cell_type": "code",
   "execution_count": 8,
   "metadata": {},
   "outputs": [],
   "source": [
    "fecha_minima=pd.to_datetime('2019-04-21 00:00:00')\n",
    "fecha_tope=pd.to_datetime('2019-04-24 00:00:00')\n",
    "installs_ventana4=installs.loc[((installs['created']>fecha_minima) & (installs['created']<fecha_tope) )].copy(deep=False)"
   ]
  },
  {
   "cell_type": "code",
   "execution_count": 9,
   "metadata": {},
   "outputs": [],
   "source": [
    "fecha_minima=pd.to_datetime('2019-04-24 00:00:00')\n",
    "fecha_tope=pd.to_datetime('2019-04-27 00:00:00')\n",
    "installs_ventana7=installs.loc[((installs['created']>fecha_minima) & (installs['created']<fecha_tope) )].copy(deep=False)"
   ]
  },
  {
   "cell_type": "code",
   "execution_count": 10,
   "metadata": {},
   "outputs": [],
   "source": [
    "features = ['sum', 'mean', 'std', 'min', 'max']\n",
    "ventanas = [installs_ventana1, installs_ventana2, installs_ventana3, installs_ventana4, installs_ventana7]\n",
    "numero_de_ventanas = [1,2,3,4,7]\n",
    "contador = 0\n"
   ]
  },
  {
   "cell_type": "code",
   "execution_count": 11,
   "metadata": {},
   "outputs": [],
   "source": [
    "for ventana in ventanas:\n",
    "    ventana['time_diff'] = ventana.groupby('ref_hash').agg('diff')/ np.timedelta64(1, 's')\n",
    "    ventana_aux = ventana.groupby('ref_hash')['time_diff'].agg('sum').to_frame()\n",
    "    ventana_aux['time_diff_mean'] = ventana.groupby('ref_hash')['time_diff'].agg('mean')\n",
    "    ventana_aux['time_diff_std'] = ventana.groupby('ref_hash')['time_diff'].agg('std')\n",
    "    ventana_aux['time_diff_max'] = ventana.groupby('ref_hash')['time_diff'].agg('max')\n",
    "    ventana_aux['time_diff_min'] = ventana.groupby('ref_hash')['time_diff'].agg('min')\n",
    "    ventana_aux = ventana_aux.rename(columns = {'time_diff':'time_diff_sum'})\n",
    "    ventana_aux = ventana_aux.fillna(259200)\n",
    "    ventana_aux['time_diff_sum'] = (ventana_aux['time_diff_sum'] == 0) * 259200 + ventana_aux['time_diff_sum']\n",
    "    ventana_aux.to_csv('../xgb/features_timediff_installs_ventana' + str(numero_de_ventanas[contador]) + '.csv')\n",
    "    contador = contador + 1"
   ]
  }
 ],
 "metadata": {
  "kernelspec": {
   "display_name": "Python 3",
   "language": "python",
   "name": "python3"
  },
  "language_info": {
   "codemirror_mode": {
    "name": "ipython",
    "version": 2
   },
   "file_extension": ".py",
   "mimetype": "text/x-python",
   "name": "python",
   "nbconvert_exporter": "python",
   "pygments_lexer": "ipython2",
   "version": "2.7.15+"
  }
 },
 "nbformat": 4,
 "nbformat_minor": 2
}
