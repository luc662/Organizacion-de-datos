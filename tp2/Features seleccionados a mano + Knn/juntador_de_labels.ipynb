{
 "cells": [
  {
   "cell_type": "code",
   "execution_count": 6,
   "metadata": {},
   "outputs": [],
   "source": [
    "import pandas as pd\n",
    "import numpy as np"
   ]
  },
  {
   "cell_type": "code",
   "execution_count": 7,
   "metadata": {},
   "outputs": [],
   "source": [
    "target_st = pd.read_csv('../xgb/target_st.csv', dtype={'ref_hash': np.object})\n",
    "target_st['ref_hash'] = target_st['ref_hash'].astype('str') + '_st'"
   ]
  },
  {
   "cell_type": "raw",
   "metadata": {},
   "source": [
    "target_sc = pd.read_csv('../xgb/target_sc.csv')\n",
    "target_sc['ref_hash'] = target_sc['ref_hash'].astype('str') + '_sc'"
   ]
  },
  {
   "cell_type": "code",
   "execution_count": 8,
   "metadata": {},
   "outputs": [],
   "source": [
    "target_sc = pd.read_csv('../xgb/target_lucas/target_sc.csv')\n",
    "target_sc['ref_hash'] = target_sc['ref_hash'].astype('str') + '_sc'"
   ]
  },
  {
   "cell_type": "code",
   "execution_count": 9,
   "metadata": {},
   "outputs": [],
   "source": [
    "targets = target_sc.append(target_st).sort_values(by='ref_hash').set_index('ref_hash')"
   ]
  },
  {
   "cell_type": "code",
   "execution_count": 10,
   "metadata": {},
   "outputs": [],
   "source": [
    "targets.to_csv('../xgb/target_final.csv')"
   ]
  },
  {
   "cell_type": "code",
   "execution_count": null,
   "metadata": {},
   "outputs": [],
   "source": []
  }
 ],
 "metadata": {
  "kernelspec": {
   "display_name": "Python 3",
   "language": "python",
   "name": "python3"
  },
  "language_info": {
   "codemirror_mode": {
    "name": "ipython",
    "version": 2
   },
   "file_extension": ".py",
   "mimetype": "text/x-python",
   "name": "python",
   "nbconvert_exporter": "python",
   "pygments_lexer": "ipython2",
   "version": "2.7.15+"
  }
 },
 "nbformat": 4,
 "nbformat_minor": 2
}
