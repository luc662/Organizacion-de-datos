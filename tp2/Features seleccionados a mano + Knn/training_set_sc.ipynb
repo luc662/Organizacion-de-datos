{
 "cells": [
  {
   "cell_type": "code",
   "execution_count": 1,
   "metadata": {},
   "outputs": [],
   "source": [
    "import pandas as pd\n",
    "import numpy as np"
   ]
  },
  {
   "cell_type": "code",
   "execution_count": 2,
   "metadata": {},
   "outputs": [],
   "source": [
    "columns = [\n",
    "    'index_sum_events',\n",
    "    'index_mean_events',\n",
    "    'index_min_events',\n",
    "    'index_max_events',\n",
    "    'application_id_mean_events',\n",
    "    'device_model_std_events',\n",
    "    'kind_sum_events',\n",
    "    'kind_mean_events',\n",
    "    'kind_min_events',\n",
    "    'ip_address_sum_events',\n",
    "    'ip_address_mean_events',\n",
    "    'ip_address_min_events',\n",
    "    'ip_address_max_events',\n",
    "    'hour_std_events',\n",
    "    'application_id_sum_installs',\n",
    "    'application_id_mean_installs',\n",
    "    'application_id_min_installs',\n",
    "    'application_id_max_installs',\n",
    "    'ref_type_sum_installs',\n",
    "    'ref_type_mean_installs',\n",
    "    'ref_type_min_installs',\n",
    "    'ref_type_max_installs',\n",
    "    'device_countrycode_sum_installs',\n",
    "    'device_countrycode_mean_installs',\n",
    "    'device_countrycode_min_installs',\n",
    "    'device_countrycode_max_installs',\n",
    "    'ip_address_sum_installs',\n",
    "    'ip_address_mean_installs',\n",
    "    'ip_address_min_installs',\n",
    "    'ip_address_max_installs',\n",
    "    'repeticiones_sum_installs',\n",
    "    'repeticiones_mean_installs',\n",
    "    'repeticiones_min_installs',\n",
    "    'repeticiones_max_installs',\n",
    "    'device_countrycode6287817205707153877_sum_installs',\n",
    "    'device_countrycode6287817205707153877_mean_installs',\n",
    "    'device_countrycode6287817205707153877_min_installs',\n",
    "    'device_countrycode6287817205707153877_max_installs',\n",
    "    'hour_sum_auctions',\n",
    "    'hour_mean_auctions',\n",
    "    'hour_std_auctions',\n",
    "    'hour_max_auctions',\n",
    "    'source_id1_sum_auctions',\n",
    "    'source_id1_mean_auctions',\n",
    "    'source_id1_std_auctions',\n",
    "    'hour3_std_auctions',\n",
    "    'hour2_std_auctions',\n",
    "    'hour1_std_auctions',\n",
    "    'hour23_mean_auctions',\n",
    "    'day2019-04-18_mean_auctions',\n",
    "    'tiempo_hasta_aparicion_ventana',\n",
    "    'time_diff_sum',\n",
    "    'time_diff_mean',\n",
    "    'time_diff_std',\n",
    "    'time_diff_max',\n",
    "    'time_diff_min']"
   ]
  },
  {
   "cell_type": "code",
   "execution_count": 3,
   "metadata": {},
   "outputs": [],
   "source": [
    "drop_columns = [\n",
    "    'index_sum_events',\n",
    "    'application_id_mean_events',\n",
    "    'kind_sum_events',\n",
    "    'kind_mean_events',\n",
    "    'ip_address_sum_events',\n",
    "    'ip_address_mean_events',\n",
    "    'application_id_sum_installs',\n",
    "    'application_id_mean_installs',\n",
    "    'ref_type_sum_installs',\n",
    "    'device_countrycode_sum_installs',\n",
    "    'device_countrycode_mean_installs',\n",
    "    'device_countrycode_min_installs',\n",
    "    'device_countrycode_max_installs',\n",
    "    'ip_address_sum_installs',\n",
    "    'ip_address_mean_installs',\n",
    "    'device_countrycode6287817205707153877_sum_installs',\n",
    "    'device_countrycode6287817205707153877_mean_installs',\n",
    "    'device_countrycode6287817205707153877_min_installs',\n",
    "    'device_countrycode6287817205707153877_max_installs',\n",
    "    'hour_sum_auctions']"
   ]
  },
  {
   "cell_type": "code",
   "execution_count": 4,
   "metadata": {},
   "outputs": [],
   "source": [
    "fill0_columns = [\n",
    "    'index_mean_events',\n",
    "    'ref_type_mean_installs',\n",
    "    'repeticiones_sum_installs',\n",
    "    'repeticiones_mean_installs',\n",
    "    'hour_mean_auctions',\n",
    "    'source_id1_sum_auctions',\n",
    "    'source_id1_mean_auctions',\n",
    "    'day2019-04-18_mean_auctions']"
   ]
  },
  {
   "cell_type": "code",
   "execution_count": 5,
   "metadata": {},
   "outputs": [],
   "source": [
    "fill_max_columns = [\n",
    "    'tiempo_hasta_aparicion_ventana',\n",
    "    'time_diff_sum',\n",
    "    'time_diff_mean',\n",
    "    'time_diff_std',\n",
    "    'time_diff_max',\n",
    "    'time_diff_min']"
   ]
  },
  {
   "cell_type": "code",
   "execution_count": 6,
   "metadata": {},
   "outputs": [],
   "source": [
    "features_ventana1 = pd.read_csv('../xgb/features_clicks_gonzalo_sc_ventana1.csv').set_index('ref_hash').add_suffix('_clicks')\n",
    "aux_ventana1 = pd.read_csv('../xgb/features_events_gonzalo_sc_ventana1.csv').set_index('ref_hash').add_suffix('_events')\n",
    "features_ventana1 = features_ventana1.join(aux_ventana1, how = 'outer')\n",
    "aux_ventana1 = pd.read_csv('../xgb/features_installs_gonzalo_sc_ventana1.csv').set_index('ref_hash').add_suffix('_installs')\n",
    "features_ventana1 = features_ventana1.join(aux_ventana1, how = 'outer')\n",
    "aux_ventana1 = pd.read_csv('../xgb/features_auctions_gonzalo_sc_ventana1.csv').set_index('ref_hash').add_suffix('_auctions')\n",
    "features_ventana1 = features_ventana1.join(aux_ventana1, how = 'outer')\n",
    "aux_ventana1 = pd.read_csv('../xgb/features_sc_ventana1.csv').set_index('ref_hash').add_suffix('_ventana')\n",
    "features_ventana1 = features_ventana1.join(aux_ventana1, how = 'outer')\n",
    "aux_ventana1 = pd.read_csv('../xgb/features_timediff_installs_ventana1.csv').set_index('ref_hash')\n",
    "features_ventana1 = features_ventana1.join(aux_ventana1, how = 'outer')\n",
    "\n",
    "features_ventana1.drop(drop_columns, axis=1, inplace = True)\n",
    "\n",
    "for i in fill_max_columns:\n",
    "    features_ventana1[i] = features_ventana1[i].fillna(259200)\n",
    "for i in fill0_columns:\n",
    "    features_ventana1[i] = features_ventana1[i].fillna(0)"
   ]
  },
  {
   "cell_type": "code",
   "execution_count": 7,
   "metadata": {},
   "outputs": [],
   "source": [
    "labels_sc_ventana1 = pd.read_csv('../xgb/labels_sc_ventana1.csv').set_index('ref_hash').add_suffix('_target')\n",
    "ventana1 = features_ventana1.join(labels_sc_ventana1, how = 'left')\n",
    "ventana1['tiempo_hasta_aparicion_target'] = ventana1['tiempo_hasta_aparicion_target'].fillna(259200)#3 dias pasado a segundos\n",
    "ventana1_hit = ventana1.loc[ventana1['tiempo_hasta_aparicion_target'] < 259200]\n",
    "ventana1_no_hit = ventana1.loc[ventana1['tiempo_hasta_aparicion_target'] == 259200]\n",
    "registros_hit = float(ventana1_hit.shape[0])\n",
    "registros_no_hit = ventana1_no_hit.shape[0]\n",
    "relacion_deseada_hit_a_no_hit = 4\n",
    "fraccion = registros_hit / (relacion_deseada_hit_a_no_hit * registros_no_hit)\n",
    "ventana1_no_hit = ventana1_no_hit.sample(frac= fraccion)\n",
    "ventana1 = ventana1_hit.append(ventana1_no_hit)"
   ]
  },
  {
   "cell_type": "raw",
   "metadata": {},
   "source": [
    "features_ventana2 = pd.read_csv('../xgb/features_clicks_gonzalo_sc_ventana2.csv').set_index('ref_hash')\n",
    "aux_ventana2 = pd.read_csv('../xgb/features_events_gonzalo_sc_ventana2.csv').set_index('ref_hash')\n",
    "features_ventana2 = features_ventana2.join(aux_ventana2, how = 'outer', lsuffix = '_clicks', rsuffix = '_events')\n",
    "aux_ventana2 = pd.read_csv('../xgb/features_installs_gonzalo_sc_ventana2.csv').set_index('ref_hash')\n",
    "features_ventana2 = features_ventana2.join(aux_ventana2, how = 'outer', rsuffix = '_installs')\n",
    "aux_ventana2 = pd.read_csv('../xgb/features_auctions_gonzalo_sc_ventana2.csv').set_index('ref_hash')\n",
    "features_ventana2 = features_ventana2.join(aux_ventana2, how = 'outer', rsuffix = '_auctions')\n",
    "features_ventana2 = features_ventana2.fillna(0)\n",
    "\n",
    "labels_sc_ventana2 = pd.read_csv('../xgb/labels_sc_ventana2.csv').set_index('ref_hash')\n",
    "ventana2 = features_ventana2.join(labels_sc_ventana2, how = 'left').fillna(259200)#3 dias pasado a segundos"
   ]
  },
  {
   "cell_type": "raw",
   "metadata": {},
   "source": [
    "features_ventana3 = pd.read_csv('../xgb/features_clicks_gonzalo_sc_ventana3.csv').set_index('ref_hash')\n",
    "aux_ventana3 = pd.read_csv('../xgb/features_events_gonzalo_sc_ventana3.csv').set_index('ref_hash')\n",
    "features_ventana3 = features_ventana3.join(aux_ventana3, how = 'outer', lsuffix = '_clicks', rsuffix = '_events')\n",
    "aux_ventana3 = pd.read_csv('../xgb/features_installs_gonzalo_sc_ventana3.csv').set_index('ref_hash')\n",
    "features_ventana3 = features_ventana3.join(aux_ventana3, how = 'outer', rsuffix = '_installs')\n",
    "aux_ventana3 = pd.read_csv('../xgb/features_auctions_gonzalo_sc_ventana3.csv').set_index('ref_hash')\n",
    "features_ventana3 = features_ventana3.join(aux_ventana3, how = 'outer', rsuffix = '_auctions')\n",
    "features_ventana3 = features_ventana3.fillna(0)\n",
    "\n",
    "labels_sc_ventana3 = pd.read_csv('../xgb/labels_sc_ventana3.csv').set_index('ref_hash')\n",
    "ventana3 = features_ventana3.join(labels_sc_ventana3, how = 'left').fillna(259200)#3 dias pasado a segundos"
   ]
  },
  {
   "cell_type": "raw",
   "metadata": {},
   "source": [
    "features_ventana4 = pd.read_csv('../xgb/features_clicks_gonzalo_sc_ventana4.csv').set_index('ref_hash')\n",
    "aux_ventana4 = pd.read_csv('../xgb/features_events_gonzalo_sc_ventana4.csv').set_index('ref_hash')\n",
    "features_ventana4 = features_ventana4.join(aux_ventana4, how = 'outer', lsuffix = '_clicks', rsuffix = '_events')\n",
    "aux_ventana4 = pd.read_csv('../xgb/features_installs_gonzalo_sc_ventana4.csv').set_index('ref_hash')\n",
    "features_ventana4 = features_ventana4.join(aux_ventana4, how = 'outer', rsuffix = '_installs')\n",
    "aux_ventana4 = pd.read_csv('../xgb/features_auctions_gonzalo_sc_ventana4.csv').set_index('ref_hash')\n",
    "features_ventana4 = features_ventana4.join(aux_ventana4, how = 'outer', rsuffix = '_auctions')\n",
    "features_ventana4 = features_ventana4.fillna(0)\n",
    "\n",
    "labels_sc_ventana4 = pd.read_csv('../xgb/labels_sc_ventana4.csv').set_index('ref_hash')\n",
    "ventana4 = features_ventana4.join(labels_sc_ventana4, how = 'left').fillna(259200)#3 dias pasado a segundos"
   ]
  },
  {
   "cell_type": "raw",
   "metadata": {},
   "source": [
    "matriz = ventana1.append(ventana2).append(ventana3).append(ventana4)\n",
    "matriz.to_csv('../xgb/training_set_sc.csv')"
   ]
  },
  {
   "cell_type": "code",
   "execution_count": 8,
   "metadata": {},
   "outputs": [],
   "source": [
    "matriz = ventana1\n",
    "matriz.to_csv('../xgb/training_set_sc.csv')"
   ]
  },
  {
   "cell_type": "code",
   "execution_count": null,
   "metadata": {},
   "outputs": [],
   "source": []
  }
 ],
 "metadata": {
  "kernelspec": {
   "display_name": "Python 3",
   "language": "python",
   "name": "python3"
  },
  "language_info": {
   "codemirror_mode": {
    "name": "ipython",
    "version": 2
   },
   "file_extension": ".py",
   "mimetype": "text/x-python",
   "name": "python",
   "nbconvert_exporter": "python",
   "pygments_lexer": "ipython2",
   "version": "2.7.15+"
  }
 },
 "nbformat": 4,
 "nbformat_minor": 2
}
