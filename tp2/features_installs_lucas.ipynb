{
 "cells": [
  {
   "cell_type": "markdown",
   "metadata": {},
   "source": [
    "# Analisis de superficial del csv de clicks\n",
    "### En este notebook exploramos los registros del csv con el objetivo de buscar relaciones entre las distintas variables"
   ]
  },
  {
   "cell_type": "code",
   "execution_count": 1,
   "metadata": {},
   "outputs": [],
   "source": [
    "import xgboost as xgb\n",
    "from sklearn.metrics import mean_squared_error\n",
    "import pandas as pd\n",
    "import numpy as np\n",
    "import matplotlib.pyplot as plt\n",
    "import seaborn as sns\n",
    "\n",
    "%matplotlib inline"
   ]
  },
  {
   "cell_type": "markdown",
   "metadata": {},
   "source": [
    "## Leemos el csv, y dropeamos las columnas action_id por estar llena de nans y wifi_connection por estar llena de False"
   ]
  },
  {
   "cell_type": "code",
   "execution_count": 2,
   "metadata": {},
   "outputs": [
    {
     "name": "stderr",
     "output_type": "stream",
     "text": [
      "D:\\Users\\Lucas\\Anaconda3\\lib\\site-packages\\IPython\\core\\interactiveshell.py:3049: DtypeWarning: Columns (4,15) have mixed types. Specify dtype option on import or set low_memory=False.\n",
      "  interactivity=interactivity, compiler=compiler, result=result)\n"
     ]
    },
    {
     "data": {
      "text/html": [
       "<div>\n",
       "<style scoped>\n",
       "    .dataframe tbody tr th:only-of-type {\n",
       "        vertical-align: middle;\n",
       "    }\n",
       "\n",
       "    .dataframe tbody tr th {\n",
       "        vertical-align: top;\n",
       "    }\n",
       "\n",
       "    .dataframe thead th {\n",
       "        text-align: right;\n",
       "    }\n",
       "</style>\n",
       "<table border=\"1\" class=\"dataframe\">\n",
       "  <thead>\n",
       "    <tr style=\"text-align: right;\">\n",
       "      <th></th>\n",
       "      <th>created</th>\n",
       "      <th>application_id</th>\n",
       "      <th>ref_type</th>\n",
       "      <th>ref_hash</th>\n",
       "      <th>implicit</th>\n",
       "      <th>device_countrycode</th>\n",
       "      <th>device_brand</th>\n",
       "      <th>device_model</th>\n",
       "      <th>session_user_agent</th>\n",
       "      <th>user_agent</th>\n",
       "      <th>event_uuid</th>\n",
       "      <th>kind</th>\n",
       "      <th>wifi</th>\n",
       "      <th>trans_id</th>\n",
       "      <th>ip_address</th>\n",
       "      <th>device_language</th>\n",
       "      <th>day</th>\n",
       "      <th>hour</th>\n",
       "    </tr>\n",
       "  </thead>\n",
       "  <tbody>\n",
       "    <tr>\n",
       "      <th>0</th>\n",
       "      <td>2019-04-24 06:23:29.495</td>\n",
       "      <td>1</td>\n",
       "      <td>1494519392962156891</td>\n",
       "      <td>4716708407362582887</td>\n",
       "      <td>True</td>\n",
       "      <td>6287817205707153877</td>\n",
       "      <td>NaN</td>\n",
       "      <td>3.739127e+17</td>\n",
       "      <td>adjust.com</td>\n",
       "      <td>NaN</td>\n",
       "      <td>79837499-2f2a-4605-a663-e322f759424f</td>\n",
       "      <td>app_open</td>\n",
       "      <td>NaN</td>\n",
       "      <td>NaN</td>\n",
       "      <td>4243443387795468703</td>\n",
       "      <td>3.301378e+18</td>\n",
       "      <td>2019-04-24</td>\n",
       "      <td>6</td>\n",
       "    </tr>\n",
       "    <tr>\n",
       "      <th>1</th>\n",
       "      <td>2019-04-24 02:06:01.032</td>\n",
       "      <td>1</td>\n",
       "      <td>1494519392962156891</td>\n",
       "      <td>7143568733100935872</td>\n",
       "      <td>False</td>\n",
       "      <td>6287817205707153877</td>\n",
       "      <td>NaN</td>\n",
       "      <td>7.805539e+18</td>\n",
       "      <td>adjust.com</td>\n",
       "      <td>NaN</td>\n",
       "      <td>NaN</td>\n",
       "      <td>NaN</td>\n",
       "      <td>NaN</td>\n",
       "      <td>NaN</td>\n",
       "      <td>4724288679627032761</td>\n",
       "      <td>3.301378e+18</td>\n",
       "      <td>2019-04-24</td>\n",
       "      <td>2</td>\n",
       "    </tr>\n",
       "    <tr>\n",
       "      <th>2</th>\n",
       "      <td>2019-04-20 10:15:36.274</td>\n",
       "      <td>1</td>\n",
       "      <td>1494519392962156891</td>\n",
       "      <td>5230323462636548010</td>\n",
       "      <td>True</td>\n",
       "      <td>6287817205707153877</td>\n",
       "      <td>NaN</td>\n",
       "      <td>8.355496e+18</td>\n",
       "      <td>adjust.com</td>\n",
       "      <td>NaN</td>\n",
       "      <td>dda99e3c-9c4b-487d-891c-79f0a02cb4a8</td>\n",
       "      <td>app_open</td>\n",
       "      <td>NaN</td>\n",
       "      <td>NaN</td>\n",
       "      <td>8291809486355890410</td>\n",
       "      <td>4.060930e+18</td>\n",
       "      <td>2019-04-20</td>\n",
       "      <td>10</td>\n",
       "    </tr>\n",
       "    <tr>\n",
       "      <th>3</th>\n",
       "      <td>2019-04-20 21:56:47.151</td>\n",
       "      <td>1</td>\n",
       "      <td>1494519392962156891</td>\n",
       "      <td>5097163995161606833</td>\n",
       "      <td>True</td>\n",
       "      <td>6287817205707153877</td>\n",
       "      <td>NaN</td>\n",
       "      <td>2.355772e+18</td>\n",
       "      <td>adjust.com</td>\n",
       "      <td>NaN</td>\n",
       "      <td>7010c3ce-0fcf-46c6-9be8-374cc0e20af4</td>\n",
       "      <td>app_open</td>\n",
       "      <td>NaN</td>\n",
       "      <td>NaN</td>\n",
       "      <td>4006811922873399949</td>\n",
       "      <td>3.301378e+18</td>\n",
       "      <td>2019-04-20</td>\n",
       "      <td>21</td>\n",
       "    </tr>\n",
       "    <tr>\n",
       "      <th>4</th>\n",
       "      <td>2019-04-20 22:40:41.239</td>\n",
       "      <td>1</td>\n",
       "      <td>1494519392962156891</td>\n",
       "      <td>6328027616411983332</td>\n",
       "      <td>False</td>\n",
       "      <td>6287817205707153877</td>\n",
       "      <td>NaN</td>\n",
       "      <td>6.156971e+18</td>\n",
       "      <td>adjust.com</td>\n",
       "      <td>NaN</td>\n",
       "      <td>NaN</td>\n",
       "      <td>NaN</td>\n",
       "      <td>NaN</td>\n",
       "      <td>NaN</td>\n",
       "      <td>3386455054590810771</td>\n",
       "      <td>3.301378e+18</td>\n",
       "      <td>2019-04-20</td>\n",
       "      <td>22</td>\n",
       "    </tr>\n",
       "  </tbody>\n",
       "</table>\n",
       "</div>"
      ],
      "text/plain": [
       "                  created  application_id             ref_type  \\\n",
       "0 2019-04-24 06:23:29.495               1  1494519392962156891   \n",
       "1 2019-04-24 02:06:01.032               1  1494519392962156891   \n",
       "2 2019-04-20 10:15:36.274               1  1494519392962156891   \n",
       "3 2019-04-20 21:56:47.151               1  1494519392962156891   \n",
       "4 2019-04-20 22:40:41.239               1  1494519392962156891   \n",
       "\n",
       "              ref_hash  implicit   device_countrycode  device_brand  \\\n",
       "0  4716708407362582887      True  6287817205707153877           NaN   \n",
       "1  7143568733100935872     False  6287817205707153877           NaN   \n",
       "2  5230323462636548010      True  6287817205707153877           NaN   \n",
       "3  5097163995161606833      True  6287817205707153877           NaN   \n",
       "4  6328027616411983332     False  6287817205707153877           NaN   \n",
       "\n",
       "   device_model session_user_agent user_agent  \\\n",
       "0  3.739127e+17         adjust.com        NaN   \n",
       "1  7.805539e+18         adjust.com        NaN   \n",
       "2  8.355496e+18         adjust.com        NaN   \n",
       "3  2.355772e+18         adjust.com        NaN   \n",
       "4  6.156971e+18         adjust.com        NaN   \n",
       "\n",
       "                             event_uuid      kind wifi trans_id  \\\n",
       "0  79837499-2f2a-4605-a663-e322f759424f  app_open  NaN      NaN   \n",
       "1                                   NaN       NaN  NaN      NaN   \n",
       "2  dda99e3c-9c4b-487d-891c-79f0a02cb4a8  app_open  NaN      NaN   \n",
       "3  7010c3ce-0fcf-46c6-9be8-374cc0e20af4  app_open  NaN      NaN   \n",
       "4                                   NaN       NaN  NaN      NaN   \n",
       "\n",
       "            ip_address  device_language         day  hour  \n",
       "0  4243443387795468703     3.301378e+18  2019-04-24     6  \n",
       "1  4724288679627032761     3.301378e+18  2019-04-24     2  \n",
       "2  8291809486355890410     4.060930e+18  2019-04-20    10  \n",
       "3  4006811922873399949     3.301378e+18  2019-04-20    21  \n",
       "4  3386455054590810771     3.301378e+18  2019-04-20    22  "
      ]
     },
     "execution_count": 2,
     "metadata": {},
     "output_type": "execute_result"
    }
   ],
   "source": [
    "installs = pd.read_csv(\"../data/installs.csv\")\n",
    "''', dtype={'auction_type_id': 'float64', 'country': 'int64', 'date': 'str',\n",
    "                                                   'device_id': 'int64', 'platform':'int64', 'ref_type_id': 'int64',\n",
    "                                                   'source_id':'int64'}, parse_dates = ['date'])'''\n",
    "installs.drop('click_hash', axis=1, inplace = True)\n",
    "installs.drop('attributed', axis=1, inplace = True)\n",
    "installs['created'] = pd.to_datetime(installs['created'], errors = 'coerce')\n",
    "installs['day'] = installs['created'].dt.date\n",
    "installs['hour'] = installs['created'].dt.hour\n",
    "installs.head(5)"
   ]
  },
  {
   "cell_type": "code",
   "execution_count": 3,
   "metadata": {},
   "outputs": [],
   "source": [
    "installs=installs.drop(['ref_type','implicit','device_countrycode','device_brand','device_model','session_user_agent','user_agent','event_uuid','kind','wifi','trans_id','ip_address','device_language'],axis=1)"
   ]
  },
  {
   "cell_type": "code",
   "execution_count": 4,
   "metadata": {},
   "outputs": [
    {
     "data": {
      "text/plain": [
       "Timestamp('2019-04-26 23:59:58.788000')"
      ]
     },
     "execution_count": 4,
     "metadata": {},
     "output_type": "execute_result"
    }
   ],
   "source": [
    "installs['created'].max()"
   ]
  },
  {
   "cell_type": "code",
   "execution_count": 5,
   "metadata": {},
   "outputs": [
    {
     "data": {
      "text/plain": [
       "Timestamp('2019-04-18 00:00:01.560000')"
      ]
     },
     "execution_count": 5,
     "metadata": {},
     "output_type": "execute_result"
    }
   ],
   "source": [
    "installs['created'].min()"
   ]
  },
  {
   "cell_type": "markdown",
   "metadata": {},
   "source": [
    "## Revisamos el tipo de cada columna"
   ]
  },
  {
   "cell_type": "code",
   "execution_count": 6,
   "metadata": {},
   "outputs": [
    {
     "data": {
      "text/plain": [
       "created           datetime64[ns]\n",
       "application_id             int64\n",
       "ref_hash                   int64\n",
       "day                       object\n",
       "hour                       int64\n",
       "dtype: object"
      ]
     },
     "execution_count": 6,
     "metadata": {},
     "output_type": "execute_result"
    }
   ],
   "source": [
    "installs.dtypes"
   ]
  },
  {
   "cell_type": "markdown",
   "metadata": {},
   "source": [
    "## Elegimos las columnas con menor entropia o pocos valores diferentes y nos quedamos con los 5 valores mas comunes"
   ]
  },
  {
   "cell_type": "code",
   "execution_count": 7,
   "metadata": {},
   "outputs": [],
   "source": [
    "#grupos = []#, 'hour', 'day']\n",
    "#top5 = {}\n",
    "#for i in grupos:\n",
    "#    top5[i]= installs[i].value_counts().head(5).index.tolist()\n",
    "#top5"
   ]
  },
  {
   "cell_type": "code",
   "execution_count": 8,
   "metadata": {},
   "outputs": [],
   "source": [
    "installs = installs.sort_values(by = 'created')\n",
    "installs = installs.sort_values(by = 'ref_hash')\n",
    "installs['repeticiones'] = 1\n",
    "device_ids = installs['ref_hash'].to_frame().set_index('ref_hash')\n",
    "#installs = pd.get_dummies(installs, columns = grupos)\n",
    "#for column in grupos:\n",
    "#    for value in top5[column]:\n",
    "#        installs[column + str(value)] = (installs[column] == value)*1"
   ]
  },
  {
   "cell_type": "code",
   "execution_count": 9,
   "metadata": {},
   "outputs": [],
   "source": [
    "fecha_minima=pd.to_datetime('2019-04-18 00:00:00')\n",
    "fecha_minima\n",
    "fecha_tope=pd.to_datetime('2019-04-21 00:00:00')\n",
    "installs_ventana1=installs.loc[((installs['created']>fecha_minima) & (installs['created']<fecha_tope) )].copy(deep=False)"
   ]
  },
  {
   "cell_type": "code",
   "execution_count": 10,
   "metadata": {},
   "outputs": [],
   "source": [
    "fecha_minima=pd.to_datetime('2019-04-19 00:00:00')\n",
    "fecha_minima\n",
    "fecha_tope=pd.to_datetime('2019-04-22 00:00:00')\n",
    "installs_ventana2=installs.loc[((installs['created']>fecha_minima) & (installs['created']<fecha_tope) )].copy(deep=False)"
   ]
  },
  {
   "cell_type": "code",
   "execution_count": 11,
   "metadata": {},
   "outputs": [],
   "source": [
    "fecha_minima=pd.to_datetime('2019-04-20 00:00:00')\n",
    "fecha_minima\n",
    "fecha_tope=pd.to_datetime('2019-04-23 00:00:00')\n",
    "installs_ventana3=installs.loc[((installs['created']>fecha_minima) & (installs['created']<fecha_tope) )].copy(deep=False)"
   ]
  },
  {
   "cell_type": "code",
   "execution_count": 12,
   "metadata": {},
   "outputs": [],
   "source": [
    "fecha_minima=pd.to_datetime('2019-04-21 00:00:00')\n",
    "fecha_minima\n",
    "fecha_tope=pd.to_datetime('2019-04-24 00:00:00')\n",
    "installs_ventana4=installs.loc[((installs['created']>fecha_minima) & (installs['created']<fecha_tope) )].copy(deep=False)"
   ]
  },
  {
   "cell_type": "code",
   "execution_count": 13,
   "metadata": {},
   "outputs": [],
   "source": [
    "fecha_minima=pd.to_datetime('2019-04-24 00:00:00')\n",
    "fecha_minima\n",
    "fecha_tope=pd.to_datetime('2019-04-27 00:00:00')\n",
    "installs_ventana7=installs.loc[((installs['created']>fecha_minima) & (installs['created']<fecha_tope) )].copy(deep=False)"
   ]
  },
  {
   "cell_type": "code",
   "execution_count": 14,
   "metadata": {},
   "outputs": [],
   "source": [
    "features = ['sum', 'mean', 'std', 'min', 'max']\n",
    "ventanas = [installs_ventana1, installs_ventana2, installs_ventana3, installs_ventana4, installs_ventana7]\n",
    "numero_de_ventanas = [1,2,3,4,7]\n",
    "contador = 0\n",
    "for ventana in ventanas:\n",
    "    features_ventana = ventana.groupby('ref_hash').agg(features).fillna(0)\n",
    "    level0 = features_ventana.columns.get_level_values(0)\n",
    "    level1 = features_ventana.columns.get_level_values(1)\n",
    "    features_ventana.columns = level0 + \"_\" + level1\n",
    "    features_ventana.to_csv('../xgb/features_installs_lucas_ventana' + str(numero_de_ventanas[contador]) + '.csv')\n",
    "    contador = contador + 1"
   ]
  },
  {
   "cell_type": "code",
   "execution_count": null,
   "metadata": {},
   "outputs": [],
   "source": []
  }
 ],
 "metadata": {
  "kernelspec": {
   "display_name": "Python 3",
   "language": "python",
   "name": "python3"
  },
  "language_info": {
   "codemirror_mode": {
    "name": "ipython",
    "version": 3
   },
   "file_extension": ".py",
   "mimetype": "text/x-python",
   "name": "python",
   "nbconvert_exporter": "python",
   "pygments_lexer": "ipython3",
   "version": "3.7.3"
  }
 },
 "nbformat": 4,
 "nbformat_minor": 2
}
