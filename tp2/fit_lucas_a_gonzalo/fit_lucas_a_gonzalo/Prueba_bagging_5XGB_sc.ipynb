{
 "cells": [
  {
   "cell_type": "code",
   "execution_count": 1,
   "metadata": {},
   "outputs": [],
   "source": [
    "import pandas as pd\n",
    "import numpy as np\n",
    "import matplotlib.pyplot as plt\n",
    "from sklearn.metrics import mean_squared_error\n",
    "import seaborn as sns\n",
    "import datetime as dat\n",
    "import matplotlib as plt\n",
    "import datetime as dt\n",
    "import xgboost as xgb\n",
    "%matplotlib inline\n",
    "sns.set()\n",
    "from sklearn.model_selection import train_test_split"
   ]
  },
  {
   "cell_type": "code",
   "execution_count": 2,
   "metadata": {},
   "outputs": [],
   "source": [
    "features_ventana1 = pd.read_csv('../xgb/features_installs_lucas_ventana1.csv').set_index('ref_hash')\n",
    "aux_ventana1 = pd.read_csv('../xgb/features_events_lucas_ventana1.csv').set_index('ref_hash')\n",
    "features_ventana1=features_ventana1.join(aux_ventana1, how = 'outer', lsuffix = '_installs', rsuffix = '_events')\n",
    "aux_ventana1 = pd.read_csv('../xgb/features_clicks_lucas_ventana1.csv').set_index('ref_hash')\n",
    "features_ventana1=features_ventana1.join(aux_ventana1, how = 'outer', rsuffix = '_clicks')\n",
    "aux_ventana1 = pd.read_csv('../xgb/features_auctions_lucas_ventana1.csv').set_index('ref_hash')\n",
    "features_ventana1.join(aux_ventana1, how = 'outer', rsuffix = '_auctions')\n",
    "#features_ventana1 = features_ventana1.fillna(0)\n",
    "labels_sc_ventana1 = pd.read_csv('../xgb/labels_sc_ventana1.csv').set_index('ref_hash')\n",
    "ventana1 = features_ventana1.join(labels_sc_ventana1, how = 'left')\n",
    "#ventana1['tiempo_hasta_aparicion']=ventana1['tiempo_hasta_aparicion'].fillna(259200)#3 dias pasado a segundos\n",
    "#ventana1_no_convirtio.head()\n",
    "\n",
    "ventana1_no_conversion=ventana1.loc[ventana1['tiempo_hasta_aparicion'].isna()].copy()#personas que no convirtieron en esa ventana\n",
    "ventana1_conversion=ventana1.loc[np.logical_not(ventana1['tiempo_hasta_aparicion'].isna())].copy()"
   ]
  },
  {
   "cell_type": "code",
   "execution_count": 3,
   "metadata": {},
   "outputs": [],
   "source": [
    "tamanio_muestra_ventana1=ventana1_conversion.shape[0]"
   ]
  },
  {
   "cell_type": "code",
   "execution_count": 4,
   "metadata": {},
   "outputs": [],
   "source": [
    "ventana1_no_conversion['tiempo_hasta_aparicion']=ventana1_no_conversion['tiempo_hasta_aparicion'].fillna(259200)#3 dias pasado a segundos\n",
    "ventana1_no_conversion=ventana1_no_conversion.sample(n=int(tamanio_muestra_ventana1*1), replace=True, random_state=662)\n",
    "ventana1=ventana1_conversion.append(ventana1_no_conversion)"
   ]
  },
  {
   "cell_type": "code",
   "execution_count": 5,
   "metadata": {},
   "outputs": [],
   "source": [
    "#personas_convertidas=features_ventana1.index.to_list()\n",
    "\n",
    "#criterio=np.logical_not(ventana1_no_convirtio.index.isin(personas_convertidas))\n",
    "\n",
    "#ventana1_no_convirtio.head()\n",
    "#ventana1_no_convirtio=ventana1_no_convirtio.loc[criterio]\n",
    "labels_sc_ventana1 = pd.read_csv('../xgb/labels_sc_ventana1.csv').set_index('ref_hash')\n",
    "#ventana1 = features_ventana1.join(labels_sc_ventana1, how = 'left').fillna(259200)#3 dias pasado a segundos\n",
    "#ventana1_no_convirtio.head()"
   ]
  },
  {
   "cell_type": "code",
   "execution_count": 6,
   "metadata": {},
   "outputs": [],
   "source": [
    "features_ventana2 = pd.read_csv('../xgb/features_installs_lucas_ventana2.csv').set_index('ref_hash')\n",
    "aux_ventana2 = pd.read_csv('../xgb/features_events_lucas_ventana2.csv').set_index('ref_hash')\n",
    "features_ventana2=features_ventana2.join(aux_ventana2, how = 'outer', lsuffix = '_installs', rsuffix = '_events')\n",
    "aux_ventana2 = pd.read_csv('../xgb/features_clicks_lucas_ventana2.csv').set_index('ref_hash')\n",
    "features_ventana2=features_ventana2.join(aux_ventana2, how = 'outer', rsuffix = '_clicks')\n",
    "aux_ventana2 = pd.read_csv('../xgb/features_auctions_lucas_ventana2.csv').set_index('ref_hash')\n",
    "features_ventana2.join(aux_ventana2, how = 'outer', rsuffix = '_auctions')\n",
    "#features_ventana2 = features_ventana2.fillna(0)\n",
    "\n",
    "labels_sc_ventana2 = pd.read_csv('../xgb/labels_sc_ventana2.csv').set_index('ref_hash')\n",
    "ventana2 = features_ventana2.join(labels_sc_ventana2, how = 'left')\n",
    "#ventana2['tiempo_hasta_aparicion']=ventana2['tiempo_hasta_aparicion'].fillna(259200)#3 dias pasado a segundos\n",
    "\n",
    "\n",
    "\n",
    "\n",
    "ventana2_no_conversion=ventana2.loc[ventana2['tiempo_hasta_aparicion'].isna()].copy()#personas que no convirtieron en esa ventana\n",
    "ventana2_conversion=ventana2.loc[np.logical_not(ventana2['tiempo_hasta_aparicion'].isna())].copy()\n",
    "\n",
    "tamanio_muestra_ventana2=ventana2_conversion.shape[0]\n",
    "\n",
    "ventana2_no_conversion['tiempo_hasta_aparicion']=ventana2_no_conversion['tiempo_hasta_aparicion'].fillna(259200)#3 dias pasado a segundos\n",
    "ventana2_no_conversion=ventana2_no_conversion.sample(n=int(tamanio_muestra_ventana2*0.5), replace=True, random_state=662)\n",
    "ventana2=ventana2_conversion.append(ventana2_no_conversion)"
   ]
  },
  {
   "cell_type": "code",
   "execution_count": 7,
   "metadata": {},
   "outputs": [
    {
     "data": {
      "text/plain": [
       "133885"
      ]
     },
     "execution_count": 7,
     "metadata": {},
     "output_type": "execute_result"
    }
   ],
   "source": [
    "features_ventana3 = pd.read_csv('../xgb/features_installs_lucas_ventana3.csv').set_index('ref_hash')\n",
    "aux_ventana3 = pd.read_csv('../xgb/features_events_lucas_ventana3.csv').set_index('ref_hash')\n",
    "features_ventana3=features_ventana3.join(aux_ventana3, how = 'outer', lsuffix = '_installs', rsuffix = '_events')\n",
    "aux_ventana3 = pd.read_csv('../xgb/features_clicks_lucas_ventana3.csv').set_index('ref_hash')\n",
    "features_ventana3=features_ventana3.join(aux_ventana3, how = 'outer', rsuffix = '_clicks')\n",
    "\n",
    "#aux_ventana3 = pd.read_csv('../xgb/features_auctions_gonzalo_ventana3.csv').set_index('ref_hash')\n",
    "#features_ventana3.join(aux_ventana3, how = 'outer', rsuffix = '_auctions')\n",
    "#features_ventana3 = features_ventana3.fillna(0)\n",
    "\n",
    "labels_sc_ventana3 = pd.read_csv('../xgb/labels_sc_ventana3.csv').set_index('ref_hash')\n",
    "#ventana3['tiempo_hasta_aparicion']=ventana3['tiempo_hasta_aparicion'].fillna(259200)#3 dias pasado a segundos\n",
    "ventana3 = features_ventana3.join(labels_sc_ventana3, how = 'outer')\n",
    "\n",
    "ventana3_no_conversion=ventana3.loc[ventana3['tiempo_hasta_aparicion'].isna()].copy()#personas que no convirtieron en esa ventana\n",
    "ventana3_conversion=ventana3.loc[np.logical_not(ventana3['tiempo_hasta_aparicion'].isna())].copy()\n",
    "\n",
    "\n",
    "\n",
    "\n",
    "\n",
    "tamanio_muestra_ventana3=ventana3_conversion.shape[0]\n",
    "ventana3_no_conversion['tiempo_hasta_aparicion']=ventana3_no_conversion['tiempo_hasta_aparicion'].fillna(259200)#3 dias pasado a segundos\n",
    "ventana3_no_conversion=ventana3_no_conversion.sample(n=int(tamanio_muestra_ventana3*0.5), replace=True, random_state=662)\n",
    "ventana3=ventana3_conversion.append(ventana3_no_conversion)\n",
    "tamanio_muestra_ventana3"
   ]
  },
  {
   "cell_type": "code",
   "execution_count": 8,
   "metadata": {},
   "outputs": [],
   "source": [
    "features_ventana4 = pd.read_csv('../xgb/features_installs_lucas_ventana4.csv').set_index('ref_hash')\n",
    "aux_ventana4 = pd.read_csv('../xgb/features_events_lucas_ventana4.csv').set_index('ref_hash')\n",
    "features_ventana4=features_ventana4.join(aux_ventana4, how = 'outer', lsuffix = '_installs', rsuffix = '_events')\n",
    "aux_ventana4 = pd.read_csv('../xgb/features_clicks_lucas_ventana4.csv').set_index('ref_hash')\n",
    "features_ventana4=features_ventana4.join(aux_ventana4, how = 'outer', rsuffix = '_clicks')\n",
    "aux_ventana4 = pd.read_csv('../xgb/features_auctions_lucas_ventana4.csv').set_index('ref_hash')\n",
    "features_ventana4.join(aux_ventana4, how = 'outer', rsuffix = '_auctions')\n",
    "#features_ventana4 = features_ventana4.fillna(0)\n",
    "\n",
    "labels_sc_ventana4 = pd.read_csv('../xgb/labels_sc_ventana4.csv').set_index('ref_hash')\n",
    "#ventana4['tiempo_hasta_aparicion']=ventana4['tiempo_hasta_aparicion'].fillna(259200)#3 dias pasado a segundos\n",
    "\n",
    "ventana4 = features_ventana4.join(labels_sc_ventana4, how = 'left')\n",
    "\n",
    "\n",
    "\n",
    "\n",
    "ventana4_no_conversion=ventana4.loc[ventana4['tiempo_hasta_aparicion'].isna()].copy()#personas que no convirtieron en esa ventana\n",
    "ventana4_conversion=ventana4.loc[np.logical_not(ventana4['tiempo_hasta_aparicion'].isna())].copy()\n",
    "\n",
    "tamanio_muestra_ventana4=ventana4_conversion.shape[0]\n",
    "\n",
    "ventana4_no_conversion['tiempo_hasta_aparicion']=ventana4_no_conversion['tiempo_hasta_aparicion'].fillna(259200)#3 dias pasado a segundos\n",
    "ventana4_no_conversion=ventana4_no_conversion.sample(n=int(tamanio_muestra_ventana4*0.5), replace=True, random_state=662)\n",
    "ventana4=ventana4_conversion.append(ventana4_no_conversion)"
   ]
  },
  {
   "cell_type": "code",
   "execution_count": 9,
   "metadata": {},
   "outputs": [],
   "source": [
    "matriz = ventana1.append(ventana2).append(ventana3).append(ventana4).reset_index('ref_hash')\n",
    "filas = matriz.shape[0]\n",
    "matriz.head(5)\n",
    "matriz=matriz.drop(['attributed_min','attributed_max'],axis=1)\n",
    "matriz.head()\n",
    "matriz=matriz.drop('ref_hash',axis=1)\n",
    "\n"
   ]
  },
  {
   "cell_type": "code",
   "execution_count": 10,
   "metadata": {},
   "outputs": [],
   "source": [
    "features = matriz.iloc[:,:-1]\n",
    "labels = matriz.iloc[:,-1]\n",
    "\n",
    "train_features, test_features, train_labels, test_labels = \\\n",
    "    train_test_split(features, labels, test_size=0.15, random_state=123)\n",
    "\n",
    "matriz_train = train_features.join(train_labels)"
   ]
  },
  {
   "cell_type": "code",
   "execution_count": 12,
   "metadata": {},
   "outputs": [],
   "source": [
    "matriz1= matriz_train.sample(frac = 0.5, random_state=117)\n",
    "matriz2= matriz_train.sample(frac = 0.5, random_state=160)\n",
    "matriz3= matriz_train.sample(frac = 0.5, random_state=115)\n",
    "matriz4= matriz_train.sample(frac = 0.5, random_state=114)\n",
    "matriz5= matriz_train.sample(frac = 0.5, random_state=85)"
   ]
  },
  {
   "cell_type": "code",
   "execution_count": 13,
   "metadata": {},
   "outputs": [],
   "source": [
    "features1 = matriz1.iloc[:,:-1]\n",
    "labels1 = matriz1.iloc[:,-1]"
   ]
  },
  {
   "cell_type": "code",
   "execution_count": 14,
   "metadata": {},
   "outputs": [],
   "source": [
    "features2 = matriz2.iloc[:,:-1]\n",
    "labels2 = matriz2.iloc[:,-1]"
   ]
  },
  {
   "cell_type": "code",
   "execution_count": 15,
   "metadata": {},
   "outputs": [],
   "source": [
    "features3 = matriz3.iloc[:,:-1]\n",
    "labels3 = matriz3.iloc[:,-1]"
   ]
  },
  {
   "cell_type": "code",
   "execution_count": 16,
   "metadata": {},
   "outputs": [],
   "source": [
    "features4 = matriz4.iloc[:,:-1]\n",
    "labels4 = matriz4.iloc[:,-1]"
   ]
  },
  {
   "cell_type": "code",
   "execution_count": 17,
   "metadata": {},
   "outputs": [],
   "source": [
    "features5 = matriz5.iloc[:,:-1]\n",
    "labels5 = matriz5.iloc[:,-1]"
   ]
  },
  {
   "cell_type": "code",
   "execution_count": 18,
   "metadata": {},
   "outputs": [
    {
     "name": "stderr",
     "output_type": "stream",
     "text": [
      "/usr/local/lib/python2.7/dist-packages/xgboost/core.py:587: FutureWarning: Series.base is deprecated and will be removed in a future version\n",
      "  if getattr(data, 'base', None) is not None and \\\n",
      "/usr/local/lib/python2.7/dist-packages/xgboost/core.py:588: FutureWarning: Series.base is deprecated and will be removed in a future version\n",
      "  data.base is not None and isinstance(data, np.ndarray) \\\n"
     ]
    }
   ],
   "source": [
    "xg_reg1 = xgb.XGBRegressor(objective ='reg:linear', \n",
    "                colsample_bytree = 0.3, learning_rate = 0.05,\n",
    "                max_depth = 15,b_jobs=10, alpha = 10, n_estimators = 75)\n",
    "xg_reg1.fit(features1,labels1)\n",
    "predicted_labels1 = xg_reg1.predict(test_features)"
   ]
  },
  {
   "cell_type": "code",
   "execution_count": 19,
   "metadata": {},
   "outputs": [],
   "source": [
    "xg_reg2 = xgb.XGBRegressor(objective ='reg:linear', \n",
    "                colsample_bytree = 0.3, learning_rate = 0.055,\n",
    "                max_depth = 10,b_jobs=10, alpha = 10, n_estimators = 75)\n",
    "xg_reg2.fit(features2,labels2)\n",
    "predicted_labels2 = xg_reg2.predict(test_features)"
   ]
  },
  {
   "cell_type": "code",
   "execution_count": 20,
   "metadata": {},
   "outputs": [],
   "source": [
    "xg_reg3 = xgb.XGBRegressor(objective ='reg:linear', \n",
    "                colsample_bytree = 0.25, learning_rate = 0.06,\n",
    "                max_depth = 12,b_jobs=10, alpha = 10, n_estimators = 75)\n",
    "xg_reg3.fit(features3,labels3)\n",
    "predicted_labels3 = xg_reg3.predict(test_features)"
   ]
  },
  {
   "cell_type": "code",
   "execution_count": 21,
   "metadata": {},
   "outputs": [],
   "source": [
    "xg_reg4 = xgb.XGBRegressor(objective ='reg:linear', \n",
    "                colsample_bytree = 0.25, learning_rate = 0.04,\n",
    "                max_depth = 20,b_jobs=10, alpha = 10, n_estimators = 75)\n",
    "xg_reg4.fit(features4,labels4)\n",
    "predicted_labels4 = xg_reg4.predict(test_features)"
   ]
  },
  {
   "cell_type": "code",
   "execution_count": 22,
   "metadata": {},
   "outputs": [],
   "source": [
    "xg_reg5 = xgb.XGBRegressor(objective ='reg:linear', \n",
    "                colsample_bytree = 0.3, learning_rate = 0.055,\n",
    "                max_depth = 13,b_jobs=10, alpha = 10, n_estimators = 75)\n",
    "xg_reg5.fit(features5,labels5)\n",
    "predicted_labels5 = xg_reg5.predict(test_features)"
   ]
  },
  {
   "cell_type": "code",
   "execution_count": 27,
   "metadata": {},
   "outputs": [],
   "source": [
    "predicted_label_matrix = np.array([predicted_labels1, predicted_labels2, predicted_labels3, predicted_labels4, predicted_labels5])\n",
    "predicted_labels = np.mean(predicted_label_matrix, axis = 0)"
   ]
  },
  {
   "cell_type": "code",
   "execution_count": 28,
   "metadata": {},
   "outputs": [
    {
     "name": "stdout",
     "output_type": "stream",
     "text": [
      "RMSE: 76030.391988\n"
     ]
    }
   ],
   "source": [
    "rmse = np.sqrt(mean_squared_error(test_labels, predicted_labels))\n",
    "print(\"RMSE: %f\" % (rmse))"
   ]
  },
  {
   "cell_type": "code",
   "execution_count": null,
   "metadata": {},
   "outputs": [],
   "source": [
    "predicted_labels.max()"
   ]
  },
  {
   "cell_type": "markdown",
   "metadata": {},
   "source": [
    "## Importancia de los features (cuantas veces aparecen en los árboles)"
   ]
  },
  {
   "cell_type": "code",
   "execution_count": null,
   "metadata": {},
   "outputs": [],
   "source": [
    "import matplotlib.pyplot as plt\n",
    "\n",
    "xgb.plot_importance(xg_reg1)\n",
    "plt.rcParams['figure.figsize'] = [7, 11]\n",
    "plt.show()"
   ]
  },
  {
   "cell_type": "code",
   "execution_count": null,
   "metadata": {},
   "outputs": [],
   "source": [
    "print(error)"
   ]
  },
  {
   "cell_type": "code",
   "execution_count": null,
   "metadata": {},
   "outputs": [],
   "source": [
    "features_ventana7 = pd.read_csv('../xgb/features_installs_lucas_ventana7.csv').set_index('ref_hash')\n",
    "aux_ventana7 = pd.read_csv('../xgb/features_events_lucas_ventana7.csv').set_index('ref_hash')\n",
    "features_ventana7=features_ventana7.join(aux_ventana7, how = 'left', lsuffix = '_installs', rsuffix = '_events')\n",
    "aux_ventana7 = pd.read_csv('../xgb/features_clicks_lucas_ventana7.csv').set_index('ref_hash')\n",
    "features_ventana7=features_ventana7.join(aux_ventana7, how = 'left', rsuffix = '_clicks')\n",
    "#aux_ventana1 = pd.read_csv('../xgb/features_auctions_gonzalo_ventana1.csv').set_index('ref_hash')\n",
    "#features_ventana1.join(aux_ventana1, how = 'outer', rsuffix = '_auctions')\n",
    "#features_ventana7=features_ventana7.fillna(0)\n",
    "\n",
    "labels_ventana7 = pd.read_csv('../xgb/base_target_sc.csv').set_index('ref_hash')\n",
    "target = labels_ventana7\n",
    "\n",
    "ventana7 = features_ventana7.join(labels_ventana7, how = 'right').fillna(0).reset_index().rename(index=str, columns={\"device_id\": \"ref_hash\"}) #3 dias pasado a segundos\n",
    "ventana7.head()\n",
    "\n",
    "ventana7=ventana7.drop('ref_hash',axis=1)\n"
   ]
  },
  {
   "cell_type": "code",
   "execution_count": null,
   "metadata": {},
   "outputs": [],
   "source": [
    "features_ventana7 = ventana7.iloc[:,:-1]\n",
    "labels_ventana7 = ventana7.iloc[:,-1]"
   ]
  },
  {
   "cell_type": "code",
   "execution_count": null,
   "metadata": {},
   "outputs": [],
   "source": [
    "data_dmatrix = xgb.DMatrix(data=features,label=labels)"
   ]
  },
  {
   "cell_type": "code",
   "execution_count": null,
   "metadata": {},
   "outputs": [],
   "source": [
    "features_ventana7=features_ventana7.drop(['attributed_min','attributed_max'],axis=1)\n",
    "predicted_target_labels = xg_reg.predict(features_ventana7)\n"
   ]
  },
  {
   "cell_type": "code",
   "execution_count": null,
   "metadata": {},
   "outputs": [],
   "source": [
    "target.shape"
   ]
  },
  {
   "cell_type": "code",
   "execution_count": null,
   "metadata": {},
   "outputs": [],
   "source": [
    "target['obj'] = predicted_target_labels"
   ]
  },
  {
   "cell_type": "code",
   "execution_count": null,
   "metadata": {},
   "outputs": [],
   "source": [
    "target=target.sort_values(by='obj')"
   ]
  },
  {
   "cell_type": "code",
   "execution_count": null,
   "metadata": {},
   "outputs": [],
   "source": [
    "target.to_csv('../xgb/target_sc.csv')"
   ]
  },
  {
   "cell_type": "code",
   "execution_count": null,
   "metadata": {},
   "outputs": [],
   "source": []
  },
  {
   "cell_type": "code",
   "execution_count": null,
   "metadata": {},
   "outputs": [],
   "source": []
  }
 ],
 "metadata": {
  "kernelspec": {
   "display_name": "Python 3",
   "language": "python",
   "name": "python3"
  },
  "language_info": {
   "codemirror_mode": {
    "name": "ipython",
    "version": 2
   },
   "file_extension": ".py",
   "mimetype": "text/x-python",
   "name": "python",
   "nbconvert_exporter": "python",
   "pygments_lexer": "ipython2",
   "version": "2.7.15+"
  }
 },
 "nbformat": 4,
 "nbformat_minor": 2
}
