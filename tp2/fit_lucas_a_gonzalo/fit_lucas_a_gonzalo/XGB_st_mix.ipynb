{
 "cells": [
  {
   "cell_type": "code",
   "execution_count": null,
   "metadata": {},
   "outputs": [],
   "source": [
    "import pandas as pd\n",
    "import numpy as np\n",
    "import matplotlib.pyplot as plt\n",
    "from sklearn.metrics import mean_squared_error\n",
    "import seaborn as sns\n",
    "import datetime as dat\n",
    "import matplotlib as plt\n",
    "import datetime as dt\n",
    "import xgboost as xgb\n",
    "from collections import Counter\n",
    "%matplotlib inline\n",
    "sns.set()"
   ]
  },
  {
   "cell_type": "code",
   "execution_count": null,
   "metadata": {},
   "outputs": [],
   "source": [
    "features_ventana1 = pd.read_csv('../xgb/features_auctions_lucas_ventana1.csv',low_memory=False).set_index('ref_hash')\n",
    "aux_ventana1 = pd.read_csv('../xgb/features_events_lucas_ventana1.csv').set_index('ref_hash')\n",
    "features_ventana1=features_ventana1.join(aux_ventana1, how = 'outer', lsuffix = '_auctions', rsuffix = '_events')\n",
    "aux_ventana1 = pd.read_csv('../xgb/features_installs_lucas_ventana1.csv').set_index('ref_hash')\n",
    "features_ventana1=features_ventana1.join(aux_ventana1, how = 'outer', rsuffix = '_installs')\n",
    "aux_ventana1 = pd.read_csv('../xgb/features_clicks_lucas_ventana1.csv').set_index('ref_hash')\n",
    "features_ventana1=features_ventana1.join(aux_ventana1, how = 'outer', rsuffix = '_clicks')\n",
    "features_ventana1.columns\n",
    "features_ventana1[['tiempo_desde_inicio_de_ventana_sum','tiempo_desde_inicio_de_ventana_min','tiempo_desde_inicio_de_ventana_std','tiempo_desde_inicio_de_ventana_min','tiempo_desde_inicio_de_ventana_max']]=features_ventana1[['tiempo_desde_inicio_de_ventana_sum','tiempo_desde_inicio_de_ventana_min','tiempo_desde_inicio_de_ventana_std','tiempo_desde_inicio_de_ventana_min','tiempo_desde_inicio_de_ventana_max']].fillna(259200)#3 dias pasado a segundos\n",
    "#features_ventana1 = features_ventana1.fillna(0)\n",
    "\n",
    "labels_st_ventana1 = pd.read_csv('../xgb/labels_st_ventana1.csv').set_index('device_id')\n",
    "ventana1 = features_ventana1.join(labels_st_ventana1, how = 'left')#.fillna(259200)#3 dias pasado a segundos\n",
    "#ventana1['tiempo_hasta_aparicion']=ventana1['tiempo_hasta_aparicion'].fillna(259200)#3 dias pasado a segundos\n",
    "features_ventana1.head()\n",
    "\n",
    "ventana1_no_conversion=ventana1.loc[ventana1['tiempo_hasta_aparicion'].isna()].copy()#personas que no convirtieron en esa ventana\n",
    "ventana1_conversion=ventana1.loc[np.logical_not(ventana1['tiempo_hasta_aparicion'].isna())].copy()"
   ]
  },
  {
   "cell_type": "code",
   "execution_count": null,
   "metadata": {},
   "outputs": [],
   "source": [
    "tamanio_muestra_ventana1=ventana1_no_conversion.shape[0]\n",
    "ventana1_no_conversion['tiempo_hasta_aparicion']=ventana1_no_conversion['tiempo_hasta_aparicion'].fillna(259200)#3 dias pasado a segundos\n",
    "ventana1_no_conversion=ventana1_no_conversion.sample(n=int(tamanio_muestra_ventana1*0.05), replace=True, random_state=662)\n",
    "ventana1=ventana1_conversion.append(ventana1_no_conversion)"
   ]
  },
  {
   "cell_type": "code",
   "execution_count": null,
   "metadata": {},
   "outputs": [],
   "source": []
  },
  {
   "cell_type": "code",
   "execution_count": null,
   "metadata": {},
   "outputs": [],
   "source": [
    "ventana1_no_conversion.head()"
   ]
  },
  {
   "cell_type": "raw",
   "metadata": {},
   "source": [
    "'''\n",
    "personas_convertidas=features_ventana1.index.to_list()\n",
    "\n",
    "criterio=np.logical_not(features_ventana1.index.isin(personas_convertidas))\n",
    "\n",
    "#no_converidos1 = pd.read_csv('../xgb/features_auctions_lucas_ventana1.csv',low_memory=False).set_index('ref_hash')\n",
    "no_converidos1 = pd.read_csv('../xgb/features_events_lucas_ventana1.csv').set_index('ref_hash')\n",
    "no_converidos1=no_converidos1.join(aux_ventana1, how = 'outer', lsuffix = '_auctions', rsuffix = '_events')\n",
    "aux_ventana1 = pd.read_csv('../xgb/features_installs_lucas_ventana1.csv').set_index('ref_hash')\n",
    "\n",
    "no_converidos1=no_converidos1.join(aux_ventana1, how = 'outer', rsuffix = '_installs')\n",
    "aux_ventana1 = pd.read_csv('../xgb/features_clicks_lucas_ventana1.csv').set_index('ref_hash')\n",
    "no_converidos1=no_converidos1.join(aux_ventana1, how = 'outer', rsuffix = '_clicks')\n",
    "features_ventana1.columns\n",
    "no_converidos1[['tiempo_desde_inicio_de_ventana_sum','tiempo_desde_inicio_de_ventana_min','tiempo_desde_inicio_de_ventana_std','tiempo_desde_inicio_de_ventana_min','tiempo_desde_inicio_de_ventana_max']]=no_converidos1[['tiempo_desde_inicio_de_ventana_sum','tiempo_desde_inicio_de_ventana_min','tiempo_desde_inicio_de_ventana_std','tiempo_desde_inicio_de_ventana_min','tiempo_desde_inicio_de_ventana_max']].fillna(259200)#3 dias pasado a segundos\n",
    "no_converidos1 = no_converidos1.join(labels_st_ventana1, how = 'left')#.fillna(259200)#3 dias pasado a segundos\n",
    "\n",
    "no_converidos1['tiempo_hasta_aparicion']=no_converidos1['tiempo_hasta_aparicion'].fillna(259200)#3 dias pasado a segundos\n",
    "no_converidos1=no_converidos1.loc[criterio]\n",
    "\n",
    "\n",
    "\n",
    "\n",
    "#ventana1_no_convirtio.head()\n",
    "#ventana1_no_convirtio=ventana1_no_convirtio.loc[criterio]\n",
    "labels_sc_ventana1 = pd.read_csv('../xgb/labels_sc_ventana1.csv').set_index('ref_hash')\n",
    "no_converidos1.head()\n",
    "Counter(criterio)\n",
    "'''"
   ]
  },
  {
   "cell_type": "code",
   "execution_count": null,
   "metadata": {},
   "outputs": [],
   "source": [
    "#pd.read_csv('../xgb/labels_st_ventana1.csv')"
   ]
  },
  {
   "cell_type": "code",
   "execution_count": null,
   "metadata": {},
   "outputs": [],
   "source": [
    "features_ventana2 = pd.read_csv('../xgb/features_auctions_lucas_ventana2.csv',low_memory=False).set_index('ref_hash')\n",
    "aux_ventana2 = pd.read_csv('../xgb/features_events_lucas_ventana2.csv').set_index('ref_hash')\n",
    "features_ventana2=features_ventana2.join(aux_ventana2, how = 'outer', lsuffix = '_auctions', rsuffix = '_events')\n",
    "aux_ventana2 = pd.read_csv('../xgb/features_installs_lucas_ventana2.csv').set_index('ref_hash')\n",
    "features_ventana2=features_ventana2.join(aux_ventana2, how = 'outer', rsuffix = '_installs')\n",
    "aux_ventana2 = pd.read_csv('../xgb/features_clicks_lucas_ventana2.csv').set_index('ref_hash')\n",
    "features_ventana2=features_ventana2.join(aux_ventana2, how = 'left', rsuffix = '_clicks')\n",
    "\n",
    "\n",
    "features_ventana2[['tiempo_desde_inicio_de_ventana_sum','tiempo_desde_inicio_de_ventana_min','tiempo_desde_inicio_de_ventana_std','tiempo_desde_inicio_de_ventana_min','tiempo_desde_inicio_de_ventana_max']]=features_ventana2[['tiempo_desde_inicio_de_ventana_sum','tiempo_desde_inicio_de_ventana_min','tiempo_desde_inicio_de_ventana_std','tiempo_desde_inicio_de_ventana_min','tiempo_desde_inicio_de_ventana_max']].fillna(259200)#3 dias pasado a segundos\n",
    "#features_ventana2 = features_ventana2.fillna(0)\n",
    "\n",
    "labels_st_ventana2 = pd.read_csv('../xgb/labels_st_ventana2.csv').set_index('device_id')\n",
    "ventana2 = features_ventana2.join(labels_st_ventana2, how = 'left')#.fillna(259200)#3 dias pasado a segundos\n",
    "#ventana2['tiempo_hasta_aparicion']=ventana2['tiempo_hasta_aparicion'].fillna(259200)\n",
    "\n",
    "ventana2_no_conversion=ventana2.loc[ventana2['tiempo_hasta_aparicion'].isna()].copy()#personas que no convirtieron en esa ventana\n",
    "ventana2_conversion=ventana2.loc[np.logical_not(ventana2['tiempo_hasta_aparicion'].isna())].copy()\n",
    "\n",
    "tamanio_muestra_ventana2=ventana2_conversion.shape[0]\n",
    "ventana2_no_conversion['tiempo_hasta_aparicion']=ventana2_no_conversion['tiempo_hasta_aparicion'].fillna(259200)#3 dias pasado a segundos\n",
    "ventana2_no_conversion=ventana2_no_conversion.sample(n=int(tamanio_muestra_ventana2*0.05), replace=True, random_state=662)\n",
    "ventana2=ventana2_conversion.append(ventana2_no_conversion)\n"
   ]
  },
  {
   "cell_type": "code",
   "execution_count": null,
   "metadata": {},
   "outputs": [],
   "source": [
    "features_ventana3 = pd.read_csv('../xgb/features_auctions_lucas_ventana3.csv',low_memory=False).set_index('ref_hash')\n",
    "aux_ventana3 = pd.read_csv('../xgb/features_events_lucas_ventana3.csv').set_index('ref_hash')\n",
    "features_ventana3=features_ventana3.join(aux_ventana3, how = 'outer', lsuffix = '_auctions', rsuffix = '_events')\n",
    "aux_ventana3 = pd.read_csv('../xgb/features_installs_lucas_ventana3.csv').set_index('ref_hash')\n",
    "features_ventana3=features_ventana3.join(aux_ventana3, how = 'outer', rsuffix = '_installs')\n",
    "aux_ventana3 = pd.read_csv('../xgb/features_clicks_lucas_ventana3.csv').set_index('ref_hash')\n",
    "features_ventana3=features_ventana3.join(aux_ventana3, how = 'outer', rsuffix = '_clicks')\n",
    "\n",
    "\n",
    "features_ventana3.columns\n",
    "features_ventana3[['tiempo_desde_inicio_de_ventana_sum','tiempo_desde_inicio_de_ventana_min','tiempo_desde_inicio_de_ventana_std','tiempo_desde_inicio_de_ventana_min','tiempo_desde_inicio_de_ventana_max']]=features_ventana3[['tiempo_desde_inicio_de_ventana_sum','tiempo_desde_inicio_de_ventana_min','tiempo_desde_inicio_de_ventana_std','tiempo_desde_inicio_de_ventana_min','tiempo_desde_inicio_de_ventana_max']].fillna(259200)#3 dias pasado a segundos\n",
    "#features_ventana3 = features_ventana3.fillna(0)\n",
    "\n",
    "labels_st_ventana3 = pd.read_csv('../xgb/labels_st_ventana3.csv').set_index('device_id')\n",
    "ventana3 = features_ventana3.join(labels_st_ventana3, how = 'left')#.fillna(259200)#3 dias pasado a segundos\n",
    "#ventana3['tiempo_hasta_aparicion']=ventana3['tiempo_hasta_aparicion'].fillna(259200)\n",
    "\n",
    "\n",
    "ventana3_no_conversion=ventana3.loc[ventana3['tiempo_hasta_aparicion'].isna()].copy()#personas que no convirtieron en esa ventana\n",
    "ventana3_conversion=ventana3.loc[np.logical_not(ventana3['tiempo_hasta_aparicion'].isna())].copy()\n",
    "\n",
    "tamanio_muestra_ventana3=ventana3_conversion.shape[0]\n",
    "ventana3_no_conversion['tiempo_hasta_aparicion']=ventana3_no_conversion['tiempo_hasta_aparicion'].fillna(259200)#3 dias pasado a segundos\n",
    "ventana3_no_conversion=ventana3_no_conversion.sample(n=int(tamanio_muestra_ventana3*0.05), replace=True, random_state=662)\n",
    "ventana3=ventana3_conversion.append(ventana3_no_conversion)"
   ]
  },
  {
   "cell_type": "code",
   "execution_count": null,
   "metadata": {},
   "outputs": [],
   "source": [
    "features_ventana4 = pd.read_csv('../xgb/features_auctions_lucas_ventana4.csv',low_memory=False).set_index('ref_hash')\n",
    "aux_ventana4 = pd.read_csv('../xgb/features_events_lucas_ventana4.csv').set_index('ref_hash')\n",
    "features_ventana4=features_ventana4.join(aux_ventana4, how = 'outer', lsuffix = '_auctions', rsuffix = '_events')\n",
    "aux_ventana4 = pd.read_csv('../xgb/features_installs_lucas_ventana4.csv').set_index('ref_hash')\n",
    "features_ventana4=features_ventana4.join(aux_ventana4, how = 'outer', rsuffix = '_installs')\n",
    "aux_ventana4 = pd.read_csv('../xgb/features_clicks_lucas_ventana4.csv').set_index('ref_hash')\n",
    "features_ventana4=features_ventana4.join(aux_ventana4, how = 'outer', rsuffix = '_clicks')\n",
    "\n",
    "\n",
    "features_ventana4[['tiempo_desde_inicio_de_ventana_sum','tiempo_desde_inicio_de_ventana_min','tiempo_desde_inicio_de_ventana_std','tiempo_desde_inicio_de_ventana_min','tiempo_desde_inicio_de_ventana_max']]=features_ventana4[['tiempo_desde_inicio_de_ventana_sum','tiempo_desde_inicio_de_ventana_min','tiempo_desde_inicio_de_ventana_std','tiempo_desde_inicio_de_ventana_min','tiempo_desde_inicio_de_ventana_max']].fillna(259200)#3 dias pasado a segundos\n",
    "\n",
    "#features_ventana4 = features_ventana4.fillna(0)\n",
    "\n",
    "labels_st_ventana4 = pd.read_csv('../xgb/labels_st_ventana4.csv').set_index('device_id')\n",
    "ventana4 = features_ventana4.join(labels_st_ventana4, how = 'left')#.fillna(259200)#3 dias pasado a segundos\n",
    "\n",
    "ventana4_no_conversion=ventana4.loc[ventana4['tiempo_hasta_aparicion'].isna()].copy()#personas que no convirtieron en esa ventana\n",
    "ventana4_conversion=ventana4.loc[np.logical_not(ventana4['tiempo_hasta_aparicion'].isna())].copy()\n",
    "ventana4_no_conversion['tiempo_hasta_aparicion']=ventana4_no_conversion['tiempo_hasta_aparicion']#.fillna(259200)#3 dias pasado a segundos\n",
    "ventana4_no_conversion=ventana4_no_conversion.sample(frac=0.1, replace=True, random_state=662)\n",
    "ventana4=ventana4_conversion.append(ventana4_no_conversion)\n",
    "\n",
    "\n",
    "\n",
    "\n",
    "ventana4_no_conversion=ventana4.loc[ventana4['tiempo_hasta_aparicion'].isna()].copy()#personas que no convirtieron en esa ventana\n",
    "ventana4_conversion=ventana4.loc[np.logical_not(ventana4['tiempo_hasta_aparicion'].isna())].copy()\n",
    "\n",
    "tamanio_muestra_ventana4=ventana4_conversion.shape[0]\n",
    "tamanio_muestra_ventana4\n",
    "ventana4_no_conversion['tiempo_hasta_aparicion']=ventana4_no_conversion['tiempo_hasta_aparicion'].fillna(259200)#3 dias pasado a segundos\n",
    "ventana4_no_conversion=ventana4_no_conversion.sample(n=int(tamanio_muestra_ventana4*0.1+1), replace=True, random_state=662)\n",
    "ventana4=ventana4_conversion.append(ventana4_no_conversion)\n",
    "ventana4_no_conversion.shape[0]"
   ]
  },
  {
   "cell_type": "code",
   "execution_count": null,
   "metadata": {},
   "outputs": [],
   "source": [
    "#matriz = ventana1.append(ventana4,sort=False).reset_index('ref_hash')\n",
    "matriz = ventana1.append(ventana2,sort=False).append(ventana3,sort=False).append(ventana4,sort=False).reset_index('ref_hash')\n",
    "matriz=matriz.drop(['attributed_min','attributed_max'],axis=1)\n",
    "#matriz.columns"
   ]
  },
  {
   "cell_type": "code",
   "execution_count": 10,
   "metadata": {},
   "outputs": [],
   "source": [
    "matriz.head()\n",
    "mean_prediction=matriz['tiempo_hasta_aparicion'].mean()\n",
    "mean_prediction"
   ]
  },
  {
   "cell_type": "code",
   "execution_count": 11,
   "metadata": {},
   "outputs": [],
   "source": [
    "filas = matriz.shape[0]\n",
    "matriz.head()\n"
   ]
  },
  {
   "cell_type": "code",
   "execution_count": 12,
   "metadata": {},
   "outputs": [
    {
     "data": {
      "text/html": [
       "<div>\n",
       "<style scoped>\n",
       "    .dataframe tbody tr th:only-of-type {\n",
       "        vertical-align: middle;\n",
       "    }\n",
       "\n",
       "    .dataframe tbody tr th {\n",
       "        vertical-align: top;\n",
       "    }\n",
       "\n",
       "    .dataframe thead th {\n",
       "        text-align: right;\n",
       "    }\n",
       "</style>\n",
       "<table border=\"1\" class=\"dataframe\">\n",
       "  <thead>\n",
       "    <tr style=\"text-align: right;\">\n",
       "      <th></th>\n",
       "      <th>hour_sum_auctions</th>\n",
       "      <th>hour_mean_auctions</th>\n",
       "      <th>hour_std_auctions</th>\n",
       "      <th>hour_min_auctions</th>\n",
       "      <th>hour_max_auctions</th>\n",
       "      <th>tiempo_desde_inicio_de_ventana_sum</th>\n",
       "      <th>tiempo_desde_inicio_de_ventana_mean</th>\n",
       "      <th>tiempo_desde_inicio_de_ventana_std</th>\n",
       "      <th>tiempo_desde_inicio_de_ventana_min</th>\n",
       "      <th>tiempo_desde_inicio_de_ventana_max</th>\n",
       "      <th>...</th>\n",
       "      <th>hour_sum_clicks</th>\n",
       "      <th>hour_mean_clicks</th>\n",
       "      <th>hour_std_clicks</th>\n",
       "      <th>hour_min_clicks</th>\n",
       "      <th>hour_max_clicks</th>\n",
       "      <th>repeticiones_sum_clicks</th>\n",
       "      <th>repeticiones_mean_clicks</th>\n",
       "      <th>repeticiones_std_clicks</th>\n",
       "      <th>repeticiones_min_clicks</th>\n",
       "      <th>repeticiones_max_clicks</th>\n",
       "    </tr>\n",
       "  </thead>\n",
       "  <tbody>\n",
       "    <tr>\n",
       "      <th>0</th>\n",
       "      <td>262546.0</td>\n",
       "      <td>37506.571429</td>\n",
       "      <td>32711.731111</td>\n",
       "      <td>11871.0</td>\n",
       "      <td>84877.0</td>\n",
       "      <td>1.126550e+06</td>\n",
       "      <td>160935.721167</td>\n",
       "      <td>70802.599949</td>\n",
       "      <td>60166.331894</td>\n",
       "      <td>257677.264901</td>\n",
       "      <td>...</td>\n",
       "      <td>NaN</td>\n",
       "      <td>NaN</td>\n",
       "      <td>NaN</td>\n",
       "      <td>NaN</td>\n",
       "      <td>NaN</td>\n",
       "      <td>NaN</td>\n",
       "      <td>NaN</td>\n",
       "      <td>NaN</td>\n",
       "      <td>NaN</td>\n",
       "      <td>NaN</td>\n",
       "    </tr>\n",
       "    <tr>\n",
       "      <th>1</th>\n",
       "      <td>2557316.0</td>\n",
       "      <td>53277.416667</td>\n",
       "      <td>9221.332601</td>\n",
       "      <td>9576.0</td>\n",
       "      <td>58033.0</td>\n",
       "      <td>2.902939e+06</td>\n",
       "      <td>60477.901544</td>\n",
       "      <td>26439.934566</td>\n",
       "      <td>54290.380240</td>\n",
       "      <td>230833.606475</td>\n",
       "      <td>...</td>\n",
       "      <td>NaN</td>\n",
       "      <td>NaN</td>\n",
       "      <td>NaN</td>\n",
       "      <td>NaN</td>\n",
       "      <td>NaN</td>\n",
       "      <td>NaN</td>\n",
       "      <td>NaN</td>\n",
       "      <td>NaN</td>\n",
       "      <td>NaN</td>\n",
       "      <td>NaN</td>\n",
       "    </tr>\n",
       "    <tr>\n",
       "      <th>2</th>\n",
       "      <td>879313.0</td>\n",
       "      <td>67639.461538</td>\n",
       "      <td>11518.707115</td>\n",
       "      <td>51449.0</td>\n",
       "      <td>80391.0</td>\n",
       "      <td>1.484119e+06</td>\n",
       "      <td>114163.007774</td>\n",
       "      <td>68866.738196</td>\n",
       "      <td>58572.637969</td>\n",
       "      <td>227124.216926</td>\n",
       "      <td>...</td>\n",
       "      <td>NaN</td>\n",
       "      <td>NaN</td>\n",
       "      <td>NaN</td>\n",
       "      <td>NaN</td>\n",
       "      <td>NaN</td>\n",
       "      <td>NaN</td>\n",
       "      <td>NaN</td>\n",
       "      <td>NaN</td>\n",
       "      <td>NaN</td>\n",
       "      <td>NaN</td>\n",
       "    </tr>\n",
       "    <tr>\n",
       "      <th>3</th>\n",
       "      <td>1166126.0</td>\n",
       "      <td>33317.885714</td>\n",
       "      <td>29254.773979</td>\n",
       "      <td>4460.0</td>\n",
       "      <td>86349.0</td>\n",
       "      <td>6.350143e+06</td>\n",
       "      <td>181432.653629</td>\n",
       "      <td>28618.246742</td>\n",
       "      <td>147419.989802</td>\n",
       "      <td>259149.925223</td>\n",
       "      <td>...</td>\n",
       "      <td>NaN</td>\n",
       "      <td>NaN</td>\n",
       "      <td>NaN</td>\n",
       "      <td>NaN</td>\n",
       "      <td>NaN</td>\n",
       "      <td>NaN</td>\n",
       "      <td>NaN</td>\n",
       "      <td>NaN</td>\n",
       "      <td>NaN</td>\n",
       "      <td>NaN</td>\n",
       "    </tr>\n",
       "    <tr>\n",
       "      <th>4</th>\n",
       "      <td>3730753.0</td>\n",
       "      <td>81103.326087</td>\n",
       "      <td>10947.631364</td>\n",
       "      <td>8473.0</td>\n",
       "      <td>82962.0</td>\n",
       "      <td>7.705175e+06</td>\n",
       "      <td>167503.795431</td>\n",
       "      <td>10947.580825</td>\n",
       "      <td>94873.801839</td>\n",
       "      <td>169362.295545</td>\n",
       "      <td>...</td>\n",
       "      <td>NaN</td>\n",
       "      <td>NaN</td>\n",
       "      <td>NaN</td>\n",
       "      <td>NaN</td>\n",
       "      <td>NaN</td>\n",
       "      <td>NaN</td>\n",
       "      <td>NaN</td>\n",
       "      <td>NaN</td>\n",
       "      <td>NaN</td>\n",
       "      <td>NaN</td>\n",
       "    </tr>\n",
       "  </tbody>\n",
       "</table>\n",
       "<p>5 rows × 78 columns</p>\n",
       "</div>"
      ],
      "text/plain": [
       "   hour_sum_auctions  hour_mean_auctions  hour_std_auctions  \\\n",
       "0           262546.0        37506.571429       32711.731111   \n",
       "1          2557316.0        53277.416667        9221.332601   \n",
       "2           879313.0        67639.461538       11518.707115   \n",
       "3          1166126.0        33317.885714       29254.773979   \n",
       "4          3730753.0        81103.326087       10947.631364   \n",
       "\n",
       "   hour_min_auctions  hour_max_auctions  tiempo_desde_inicio_de_ventana_sum  \\\n",
       "0            11871.0            84877.0                        1.126550e+06   \n",
       "1             9576.0            58033.0                        2.902939e+06   \n",
       "2            51449.0            80391.0                        1.484119e+06   \n",
       "3             4460.0            86349.0                        6.350143e+06   \n",
       "4             8473.0            82962.0                        7.705175e+06   \n",
       "\n",
       "   tiempo_desde_inicio_de_ventana_mean  tiempo_desde_inicio_de_ventana_std  \\\n",
       "0                        160935.721167                        70802.599949   \n",
       "1                         60477.901544                        26439.934566   \n",
       "2                        114163.007774                        68866.738196   \n",
       "3                        181432.653629                        28618.246742   \n",
       "4                        167503.795431                        10947.580825   \n",
       "\n",
       "   tiempo_desde_inicio_de_ventana_min  tiempo_desde_inicio_de_ventana_max  \\\n",
       "0                        60166.331894                       257677.264901   \n",
       "1                        54290.380240                       230833.606475   \n",
       "2                        58572.637969                       227124.216926   \n",
       "3                       147419.989802                       259149.925223   \n",
       "4                        94873.801839                       169362.295545   \n",
       "\n",
       "   ...  hour_sum_clicks  hour_mean_clicks  hour_std_clicks  hour_min_clicks  \\\n",
       "0  ...              NaN               NaN              NaN              NaN   \n",
       "1  ...              NaN               NaN              NaN              NaN   \n",
       "2  ...              NaN               NaN              NaN              NaN   \n",
       "3  ...              NaN               NaN              NaN              NaN   \n",
       "4  ...              NaN               NaN              NaN              NaN   \n",
       "\n",
       "   hour_max_clicks  repeticiones_sum_clicks  repeticiones_mean_clicks  \\\n",
       "0              NaN                      NaN                       NaN   \n",
       "1              NaN                      NaN                       NaN   \n",
       "2              NaN                      NaN                       NaN   \n",
       "3              NaN                      NaN                       NaN   \n",
       "4              NaN                      NaN                       NaN   \n",
       "\n",
       "   repeticiones_std_clicks  repeticiones_min_clicks  repeticiones_max_clicks  \n",
       "0                      NaN                      NaN                      NaN  \n",
       "1                      NaN                      NaN                      NaN  \n",
       "2                      NaN                      NaN                      NaN  \n",
       "3                      NaN                      NaN                      NaN  \n",
       "4                      NaN                      NaN                      NaN  \n",
       "\n",
       "[5 rows x 78 columns]"
      ]
     },
     "execution_count": 12,
     "metadata": {},
     "output_type": "execute_result"
    }
   ],
   "source": [
    "#matriz=matriz.drop(['attributed_min','attributed_max,application_id_max,application_id_mean,'],axis=1)\n",
    "matriz=matriz.drop('ref_hash',axis=1)\n",
    "features = matriz.iloc[:,:-1]\n",
    "features.head()\n"
   ]
  },
  {
   "cell_type": "code",
   "execution_count": 13,
   "metadata": {},
   "outputs": [
    {
     "data": {
      "text/plain": [
       "0        88.851558\n",
       "1    164703.549846\n",
       "2    245538.096215\n",
       "3       115.159507\n",
       "4     99654.445592\n",
       "Name: tiempo_hasta_aparicion, dtype: float64"
      ]
     },
     "execution_count": 13,
     "metadata": {},
     "output_type": "execute_result"
    }
   ],
   "source": [
    "labels = matriz.iloc[:,-1]\n",
    "\n",
    "data_dmatrix = xgb.DMatrix(data=features,label=labels)\n",
    "labels.head()"
   ]
  },
  {
   "cell_type": "code",
   "execution_count": 14,
   "metadata": {},
   "outputs": [
    {
     "data": {
      "text/html": [
       "<div>\n",
       "<style scoped>\n",
       "    .dataframe tbody tr th:only-of-type {\n",
       "        vertical-align: middle;\n",
       "    }\n",
       "\n",
       "    .dataframe tbody tr th {\n",
       "        vertical-align: top;\n",
       "    }\n",
       "\n",
       "    .dataframe thead th {\n",
       "        text-align: right;\n",
       "    }\n",
       "</style>\n",
       "<table border=\"1\" class=\"dataframe\">\n",
       "  <thead>\n",
       "    <tr style=\"text-align: right;\">\n",
       "      <th></th>\n",
       "      <th>hour_sum_auctions</th>\n",
       "      <th>hour_mean_auctions</th>\n",
       "      <th>hour_std_auctions</th>\n",
       "      <th>hour_min_auctions</th>\n",
       "      <th>hour_max_auctions</th>\n",
       "      <th>tiempo_desde_inicio_de_ventana_sum</th>\n",
       "      <th>tiempo_desde_inicio_de_ventana_mean</th>\n",
       "      <th>tiempo_desde_inicio_de_ventana_std</th>\n",
       "      <th>tiempo_desde_inicio_de_ventana_min</th>\n",
       "      <th>tiempo_desde_inicio_de_ventana_max</th>\n",
       "      <th>...</th>\n",
       "      <th>hour_sum_clicks</th>\n",
       "      <th>hour_mean_clicks</th>\n",
       "      <th>hour_std_clicks</th>\n",
       "      <th>hour_min_clicks</th>\n",
       "      <th>hour_max_clicks</th>\n",
       "      <th>repeticiones_sum_clicks</th>\n",
       "      <th>repeticiones_mean_clicks</th>\n",
       "      <th>repeticiones_std_clicks</th>\n",
       "      <th>repeticiones_min_clicks</th>\n",
       "      <th>repeticiones_max_clicks</th>\n",
       "    </tr>\n",
       "  </thead>\n",
       "  <tbody>\n",
       "    <tr>\n",
       "      <th>609567</th>\n",
       "      <td>48831.0</td>\n",
       "      <td>16277.000000</td>\n",
       "      <td>1129.297127</td>\n",
       "      <td>14973.0</td>\n",
       "      <td>16929.0</td>\n",
       "      <td>4.883190e+04</td>\n",
       "      <td>16277.301592</td>\n",
       "      <td>1129.484538</td>\n",
       "      <td>14973.085237</td>\n",
       "      <td>16929.719345</td>\n",
       "      <td>...</td>\n",
       "      <td>NaN</td>\n",
       "      <td>NaN</td>\n",
       "      <td>NaN</td>\n",
       "      <td>NaN</td>\n",
       "      <td>NaN</td>\n",
       "      <td>NaN</td>\n",
       "      <td>NaN</td>\n",
       "      <td>NaN</td>\n",
       "      <td>NaN</td>\n",
       "      <td>NaN</td>\n",
       "    </tr>\n",
       "    <tr>\n",
       "      <th>207966</th>\n",
       "      <td>3680448.0</td>\n",
       "      <td>39153.702128</td>\n",
       "      <td>32701.098745</td>\n",
       "      <td>757.0</td>\n",
       "      <td>85606.0</td>\n",
       "      <td>1.059249e+07</td>\n",
       "      <td>112686.097716</td>\n",
       "      <td>100531.539824</td>\n",
       "      <td>757.708047</td>\n",
       "      <td>258406.223927</td>\n",
       "      <td>...</td>\n",
       "      <td>NaN</td>\n",
       "      <td>NaN</td>\n",
       "      <td>NaN</td>\n",
       "      <td>NaN</td>\n",
       "      <td>NaN</td>\n",
       "      <td>NaN</td>\n",
       "      <td>NaN</td>\n",
       "      <td>NaN</td>\n",
       "      <td>NaN</td>\n",
       "      <td>NaN</td>\n",
       "    </tr>\n",
       "    <tr>\n",
       "      <th>175513</th>\n",
       "      <td>69883.0</td>\n",
       "      <td>34941.500000</td>\n",
       "      <td>26614.792137</td>\n",
       "      <td>16122.0</td>\n",
       "      <td>53761.0</td>\n",
       "      <td>1.562845e+05</td>\n",
       "      <td>78142.236961</td>\n",
       "      <td>34479.004541</td>\n",
       "      <td>53761.899042</td>\n",
       "      <td>102522.574881</td>\n",
       "      <td>...</td>\n",
       "      <td>NaN</td>\n",
       "      <td>NaN</td>\n",
       "      <td>NaN</td>\n",
       "      <td>NaN</td>\n",
       "      <td>NaN</td>\n",
       "      <td>NaN</td>\n",
       "      <td>NaN</td>\n",
       "      <td>NaN</td>\n",
       "      <td>NaN</td>\n",
       "      <td>NaN</td>\n",
       "    </tr>\n",
       "    <tr>\n",
       "      <th>699844</th>\n",
       "      <td>616692.0</td>\n",
       "      <td>36276.000000</td>\n",
       "      <td>29753.224426</td>\n",
       "      <td>117.0</td>\n",
       "      <td>71422.0</td>\n",
       "      <td>1.912701e+06</td>\n",
       "      <td>112511.799774</td>\n",
       "      <td>77470.739975</td>\n",
       "      <td>2030.851162</td>\n",
       "      <td>240952.161235</td>\n",
       "      <td>...</td>\n",
       "      <td>NaN</td>\n",
       "      <td>NaN</td>\n",
       "      <td>NaN</td>\n",
       "      <td>NaN</td>\n",
       "      <td>NaN</td>\n",
       "      <td>NaN</td>\n",
       "      <td>NaN</td>\n",
       "      <td>NaN</td>\n",
       "      <td>NaN</td>\n",
       "      <td>NaN</td>\n",
       "    </tr>\n",
       "    <tr>\n",
       "      <th>433254</th>\n",
       "      <td>1730559.0</td>\n",
       "      <td>49444.542857</td>\n",
       "      <td>14865.745102</td>\n",
       "      <td>22727.0</td>\n",
       "      <td>59310.0</td>\n",
       "      <td>4.840978e+06</td>\n",
       "      <td>138313.669477</td>\n",
       "      <td>78856.075570</td>\n",
       "      <td>59031.314881</td>\n",
       "      <td>227143.401277</td>\n",
       "      <td>...</td>\n",
       "      <td>NaN</td>\n",
       "      <td>NaN</td>\n",
       "      <td>NaN</td>\n",
       "      <td>NaN</td>\n",
       "      <td>NaN</td>\n",
       "      <td>NaN</td>\n",
       "      <td>NaN</td>\n",
       "      <td>NaN</td>\n",
       "      <td>NaN</td>\n",
       "      <td>NaN</td>\n",
       "    </tr>\n",
       "  </tbody>\n",
       "</table>\n",
       "<p>5 rows × 78 columns</p>\n",
       "</div>"
      ],
      "text/plain": [
       "        hour_sum_auctions  hour_mean_auctions  hour_std_auctions  \\\n",
       "609567            48831.0        16277.000000        1129.297127   \n",
       "207966          3680448.0        39153.702128       32701.098745   \n",
       "175513            69883.0        34941.500000       26614.792137   \n",
       "699844           616692.0        36276.000000       29753.224426   \n",
       "433254          1730559.0        49444.542857       14865.745102   \n",
       "\n",
       "        hour_min_auctions  hour_max_auctions  \\\n",
       "609567            14973.0            16929.0   \n",
       "207966              757.0            85606.0   \n",
       "175513            16122.0            53761.0   \n",
       "699844              117.0            71422.0   \n",
       "433254            22727.0            59310.0   \n",
       "\n",
       "        tiempo_desde_inicio_de_ventana_sum  \\\n",
       "609567                        4.883190e+04   \n",
       "207966                        1.059249e+07   \n",
       "175513                        1.562845e+05   \n",
       "699844                        1.912701e+06   \n",
       "433254                        4.840978e+06   \n",
       "\n",
       "        tiempo_desde_inicio_de_ventana_mean  \\\n",
       "609567                         16277.301592   \n",
       "207966                        112686.097716   \n",
       "175513                         78142.236961   \n",
       "699844                        112511.799774   \n",
       "433254                        138313.669477   \n",
       "\n",
       "        tiempo_desde_inicio_de_ventana_std  \\\n",
       "609567                         1129.484538   \n",
       "207966                       100531.539824   \n",
       "175513                        34479.004541   \n",
       "699844                        77470.739975   \n",
       "433254                        78856.075570   \n",
       "\n",
       "        tiempo_desde_inicio_de_ventana_min  \\\n",
       "609567                        14973.085237   \n",
       "207966                          757.708047   \n",
       "175513                        53761.899042   \n",
       "699844                         2030.851162   \n",
       "433254                        59031.314881   \n",
       "\n",
       "        tiempo_desde_inicio_de_ventana_max  ...  hour_sum_clicks  \\\n",
       "609567                        16929.719345  ...              NaN   \n",
       "207966                       258406.223927  ...              NaN   \n",
       "175513                       102522.574881  ...              NaN   \n",
       "699844                       240952.161235  ...              NaN   \n",
       "433254                       227143.401277  ...              NaN   \n",
       "\n",
       "        hour_mean_clicks  hour_std_clicks  hour_min_clicks  hour_max_clicks  \\\n",
       "609567               NaN              NaN              NaN              NaN   \n",
       "207966               NaN              NaN              NaN              NaN   \n",
       "175513               NaN              NaN              NaN              NaN   \n",
       "699844               NaN              NaN              NaN              NaN   \n",
       "433254               NaN              NaN              NaN              NaN   \n",
       "\n",
       "        repeticiones_sum_clicks  repeticiones_mean_clicks  \\\n",
       "609567                      NaN                       NaN   \n",
       "207966                      NaN                       NaN   \n",
       "175513                      NaN                       NaN   \n",
       "699844                      NaN                       NaN   \n",
       "433254                      NaN                       NaN   \n",
       "\n",
       "        repeticiones_std_clicks  repeticiones_min_clicks  \\\n",
       "609567                      NaN                      NaN   \n",
       "207966                      NaN                      NaN   \n",
       "175513                      NaN                      NaN   \n",
       "699844                      NaN                      NaN   \n",
       "433254                      NaN                      NaN   \n",
       "\n",
       "        repeticiones_max_clicks  \n",
       "609567                      NaN  \n",
       "207966                      NaN  \n",
       "175513                      NaN  \n",
       "699844                      NaN  \n",
       "433254                      NaN  \n",
       "\n",
       "[5 rows x 78 columns]"
      ]
     },
     "execution_count": 14,
     "metadata": {},
     "output_type": "execute_result"
    }
   ],
   "source": [
    "from sklearn.model_selection import train_test_split\n",
    "\n",
    "train_features, test_features, train_labels, test_labels = \\\n",
    "    train_test_split(features, labels, test_size=0.15, random_state=662)\n",
    "\n",
    "test_features.head()"
   ]
  },
  {
   "cell_type": "code",
   "execution_count": 15,
   "metadata": {},
   "outputs": [],
   "source": [
    "#intentar usar objetive survival:cox\n",
    "xg_reg = xgb.XGBRegressor(objective ='reg:linear', base_score=0.5,\n",
    "                colsample_bytree = 0.3, learning_rate = 0.1,\n",
    "                max_depth = 25, alpha = 10, n_estimators = 55,n_jobs=10)#RMSE: 70756.895396"
   ]
  },
  {
   "cell_type": "code",
   "execution_count": 16,
   "metadata": {},
   "outputs": [
    {
     "data": {
      "text/plain": [
       "XGBRegressor(alpha=10, base_score=0.5, booster='gbtree', colsample_bylevel=1,\n",
       "       colsample_bytree=0.3, gamma=0, learning_rate=0.1, max_delta_step=0,\n",
       "       max_depth=25, min_child_weight=1, missing=None, n_estimators=55,\n",
       "       n_jobs=10, nthread=None, objective='reg:linear', random_state=0,\n",
       "       reg_alpha=0, reg_lambda=1, scale_pos_weight=1, seed=None,\n",
       "       silent=True, subsample=1)"
      ]
     },
     "execution_count": 16,
     "metadata": {},
     "output_type": "execute_result"
    }
   ],
   "source": [
    "xg_reg.fit(train_features,train_labels)"
   ]
  },
  {
   "cell_type": "code",
   "execution_count": 17,
   "metadata": {},
   "outputs": [],
   "source": [
    "predicted_labels = xg_reg.predict(test_features)"
   ]
  },
  {
   "cell_type": "code",
   "execution_count": null,
   "metadata": {},
   "outputs": [],
   "source": []
  },
  {
   "cell_type": "code",
   "execution_count": 18,
   "metadata": {},
   "outputs": [
    {
     "data": {
      "text/plain": [
       "257626.56"
      ]
     },
     "execution_count": 18,
     "metadata": {},
     "output_type": "execute_result"
    }
   ],
   "source": [
    "predicted_labels.max()"
   ]
  },
  {
   "cell_type": "code",
   "execution_count": 19,
   "metadata": {},
   "outputs": [
    {
     "name": "stdout",
     "output_type": "stream",
     "text": [
      "RMSE: 70803.018629\n"
     ]
    }
   ],
   "source": [
    "rmse = np.sqrt(mean_squared_error(test_labels, predicted_labels))\n",
    "print(\"RMSE: %f\" % (rmse))"
   ]
  },
  {
   "cell_type": "code",
   "execution_count": 20,
   "metadata": {},
   "outputs": [],
   "source": [
    "#guardar boost\n",
    "import pickle\n",
    "pickle.dump(xg_reg, open(\"xgboost_survival1.dat\", \"wb\"))"
   ]
  },
  {
   "cell_type": "code",
   "execution_count": 76,
   "metadata": {},
   "outputs": [],
   "source": [
    "xg_reg = xgb.XGBRegressor(objective ='survival:cox', base_score=0.5,\n",
    "                colsample_bytree = 0.3, learning_rate = 0.1,\n",
    "                max_depth = 5, alpha = 10, n_estimators = 1000,n_jobs=10)"
   ]
  },
  {
   "cell_type": "code",
   "execution_count": 77,
   "metadata": {},
   "outputs": [
    {
     "data": {
      "text/plain": [
       "XGBRegressor(alpha=10, base_score=0.5, booster='gbtree', colsample_bylevel=1,\n",
       "       colsample_bytree=0.3, gamma=0, learning_rate=0.5, max_delta_step=0,\n",
       "       max_depth=5, min_child_weight=1, missing=None, n_estimators=10,\n",
       "       n_jobs=10, nthread=None, objective='survival:cox', random_state=0,\n",
       "       reg_alpha=0, reg_lambda=1, scale_pos_weight=1, seed=None,\n",
       "       silent=True, subsample=1)"
      ]
     },
     "execution_count": 77,
     "metadata": {},
     "output_type": "execute_result"
    }
   ],
   "source": [
    "xg_sur2.fit(train_features,train_labels)"
   ]
  },
  {
   "cell_type": "code",
   "execution_count": 78,
   "metadata": {},
   "outputs": [],
   "source": [
    "predicted_labels2 = xg_sur2.predict(test_features)"
   ]
  },
  {
   "cell_type": "code",
   "execution_count": 24,
   "metadata": {},
   "outputs": [
    {
     "data": {
      "text/plain": [
       "724553.56"
      ]
     },
     "execution_count": 24,
     "metadata": {},
     "output_type": "execute_result"
    }
   ],
   "source": [
    "predicted_labels2.max()"
   ]
  },
  {
   "cell_type": "code",
   "execution_count": 27,
   "metadata": {},
   "outputs": [],
   "source": [
    "predicted_labels2=list(predicted_labels2)\n"
   ]
  },
  {
   "cell_type": "code",
   "execution_count": 28,
   "metadata": {},
   "outputs": [],
   "source": [
    "def limitador(x):\n",
    "    if x > 259200:\n",
    "        x = 259200\n",
    "    return x\n",
    "\n",
    "\n",
    "\n",
    "#predicted_labels2=predicted_labels2.map(limitador)\n",
    "predicted=list(map( limitador,predicted_labels2))\n",
    "predicted=np.asarray(predicted)"
   ]
  },
  {
   "cell_type": "code",
   "execution_count": 30,
   "metadata": {},
   "outputs": [
    {
     "data": {
      "text/plain": [
       "0.06799175590276718"
      ]
     },
     "execution_count": 30,
     "metadata": {},
     "output_type": "execute_result"
    }
   ],
   "source": [
    "predicted.min()"
   ]
  },
  {
   "cell_type": "code",
   "execution_count": null,
   "metadata": {},
   "outputs": [],
   "source": [
    "predicted.max()"
   ]
  },
  {
   "cell_type": "code",
   "execution_count": 31,
   "metadata": {},
   "outputs": [
    {
     "name": "stdout",
     "output_type": "stream",
     "text": [
      "RMSE: 113523.075829\n"
     ]
    }
   ],
   "source": [
    "rmse = np.sqrt(mean_squared_error(test_labels, predicted_labels2))\n",
    "print(\"RMSE: %f\" % (rmse))"
   ]
  },
  {
   "cell_type": "code",
   "execution_count": 32,
   "metadata": {},
   "outputs": [],
   "source": [
    "rmse = np.sqrt(mean_squared_error(test_labels,predicted ))\n",
    "print(\"RMSE: %f\" % (rmse))"
   ]
  },
  {
   "cell_type": "code",
   "execution_count": 35,
   "metadata": {},
   "outputs": [],
   "source": [
    "rmse = np.sqrt(mean_squared_error(test_labels,(predicted+predicted_labels)/2 ))\n",
    "print(\"RMSE: %f\" % (rmse))"
   ]
  },
  {
   "cell_type": "code",
   "execution_count": 54,
   "metadata": {},
   "outputs": [],
   "source": [
    "xg_reg2 = xgb.XGBRegressor(objective ='reg:linear', base_score=0.5,\n",
    "                colsample_bytree = 0.3, learning_rate = 0.2,\n",
    "                max_depth = 15, alpha = 10, n_estimators = 25,n_jobs=10)"
   ]
  },
  {
   "cell_type": "code",
   "execution_count": 38,
   "metadata": {},
   "outputs": [
    {
     "data": {
      "text/plain": [
       "XGBRegressor(alpha=10, base_score=0.5, booster='gbtree', colsample_bylevel=1,\n",
       "       colsample_bytree=0.3, gamma=0, learning_rate=0.2, max_delta_step=0,\n",
       "       max_depth=15, min_child_weight=1, missing=None, n_estimators=25,\n",
       "       n_jobs=10, nthread=None, objective='reg:linear', random_state=0,\n",
       "       reg_alpha=0, reg_lambda=1, scale_pos_weight=1, seed=None,\n",
       "       silent=True, subsample=1)"
      ]
     },
     "execution_count": 38,
     "metadata": {},
     "output_type": "execute_result"
    }
   ],
   "source": [
    "xg_reg2.fit(train_features,train_labels)"
   ]
  },
  {
   "cell_type": "code",
   "execution_count": 39,
   "metadata": {},
   "outputs": [],
   "source": [
    "predicted_labels3 = xg_reg2.predict(test_features)"
   ]
  },
  {
   "cell_type": "code",
   "execution_count": 50,
   "metadata": {},
   "outputs": [
    {
     "name": "stdout",
     "output_type": "stream",
     "text": [
      "RMSE: 70998.525583\n"
     ]
    }
   ],
   "source": [
    "rmse = np.sqrt(mean_squared_error(test_labels,predicted_labels3 ))\n",
    "print(\"RMSE: %f\" % (rmse))"
   ]
  },
  {
   "cell_type": "code",
   "execution_count": 52,
   "metadata": {},
   "outputs": [],
   "source": [
    "rmse = np.sqrt(mean_squared_error(test_labels,(predicted_labels+predicted_labels3)/2 ))\n",
    "print(\"RMSE: %f\" % (rmse))"
   ]
  },
  {
   "cell_type": "code",
   "execution_count": 57,
   "metadata": {},
   "outputs": [],
   "source": [
    "xg_reg3 = xgb.XGBRegressor(objective ='reg:linear', base_score=0.5,\n",
    "                colsample_bytree = 0.3, learning_rate = 0.,\n",
    "                max_depth = 5, alpha = 10, n_estimators = 5,n_jobs=10)"
   ]
  },
  {
   "cell_type": "code",
   "execution_count": 58,
   "metadata": {},
   "outputs": [
    {
     "data": {
      "text/plain": [
       "XGBRegressor(alpha=10, base_score=0.5, booster='gbtree', colsample_bylevel=1,\n",
       "       colsample_bytree=0.3, gamma=0, learning_rate=0.5, max_delta_step=0,\n",
       "       max_depth=5, min_child_weight=1, missing=None, n_estimators=5,\n",
       "       n_jobs=10, nthread=None, objective='reg:linear', random_state=0,\n",
       "       reg_alpha=0, reg_lambda=1, scale_pos_weight=1, seed=None,\n",
       "       silent=True, subsample=1)"
      ]
     },
     "execution_count": 58,
     "metadata": {},
     "output_type": "execute_result"
    }
   ],
   "source": [
    "xg_reg3.fit(train_features,train_labels)"
   ]
  },
  {
   "cell_type": "code",
   "execution_count": 59,
   "metadata": {},
   "outputs": [],
   "source": [
    "predicted_labels4 = xg_reg3.predict(test_features)"
   ]
  },
  {
   "cell_type": "code",
   "execution_count": 67,
   "metadata": {},
   "outputs": [
    {
     "name": "stdout",
     "output_type": "stream",
     "text": [
      "RMSE: 71326.489834\n"
     ]
    }
   ],
   "source": [
    "rmse = np.sqrt(mean_squared_error(test_labels,predicted_labels4 ))\n",
    "print(\"RMSE: %f\" % (rmse))"
   ]
  },
  {
   "cell_type": "code",
   "execution_count": 62,
   "metadata": {},
   "outputs": [],
   "source": [
    "rmse = np.sqrt(mean_squared_error(test_labels,(predicted_labels4+predicted_labels)/2 ))\n",
    "print(\"RMSE: %f\" % (rmse))"
   ]
  },
  {
   "cell_type": "code",
   "execution_count": 68,
   "metadata": {},
   "outputs": [
    {
     "name": "stdout",
     "output_type": "stream",
     "text": [
      "RMSE: 70286.809332\n"
     ]
    }
   ],
   "source": [
    "rmse = np.sqrt(mean_squared_error(test_labels,(predicted_labels4+predicted_labels+predicted_labels3+predicted_labels)/4 ))\n",
    "print(\"RMSE: %f\" % (rmse))"
   ]
  },
  {
   "cell_type": "code",
   "execution_count": 72,
   "metadata": {},
   "outputs": [],
   "source": [
    "xg_reg4 = xgb.XGBRegressor(objective ='reg:linear',booster='gblinear', base_score=0.5,\n",
    "                colsample_bytree = 0.3, learning_rate = 0.2,\n",
    "                max_depth = 15, alpha = 10, n_estimators = 65,n_jobs=10)"
   ]
  },
  {
   "cell_type": "code",
   "execution_count": 73,
   "metadata": {},
   "outputs": [
    {
     "data": {
      "text/plain": [
       "XGBRegressor(alpha=10, base_score=0.5, booster='gblinear',\n",
       "       colsample_bylevel=1, colsample_bytree=0.3, gamma=0,\n",
       "       learning_rate=0.2, max_delta_step=0, max_depth=15,\n",
       "       min_child_weight=1, missing=None, n_estimators=65, n_jobs=10,\n",
       "       nthread=None, objective='reg:linear', random_state=0, reg_alpha=0,\n",
       "       reg_lambda=1, scale_pos_weight=1, seed=None, silent=True,\n",
       "       subsample=1)"
      ]
     },
     "execution_count": 73,
     "metadata": {},
     "output_type": "execute_result"
    }
   ],
   "source": [
    "xg_reg4.fit(train_features,train_labels)"
   ]
  },
  {
   "cell_type": "code",
   "execution_count": 74,
   "metadata": {},
   "outputs": [],
   "source": [
    "predicted_labels5 = xg_reg4.predict(test_features)\n",
    "rmse = np.sqrt(mean_squared_error(test_labels,predicted_labels5 ))\n",
    "print(\"RMSE: %f\" % (rmse))"
   ]
  },
  {
   "cell_type": "code",
   "execution_count": 75,
   "metadata": {},
   "outputs": [
    {
     "name": "stdout",
     "output_type": "stream",
     "text": [
      "RMSE: 70599.529327\n"
     ]
    }
   ],
   "source": [
    "rmse = np.sqrt(mean_squared_error(test_labels,(predicted_labels4+predicted_labels+predicted_labels3+predicted_labels5)/4 ))\n",
    "print(\"RMSE: %f\" % (rmse))"
   ]
  },
  {
   "cell_type": "markdown",
   "metadata": {},
   "source": [
    "## Importancia de los features (cuantas veces aparecen en los árboles)"
   ]
  },
  {
   "cell_type": "code",
   "execution_count": 41,
   "metadata": {},
   "outputs": [
    {
     "data": {
      "image/png": "[encoded data removed]",
      "text/plain": [
       "<Figure size 432x288 with 1 Axes>"
      ]
     },
     "metadata": {
      "needs_background": "light"
     },
     "output_type": "display_data"
    }
   ],
   "source": [
    "import matplotlib.pyplot as plt\n",
    "\n",
    "xgb.plot_importance(xg_reg)\n",
    "plt.rcParams['figure.figsize'] = [7, 11]\n",
    "plt.show()"
   ]
  },
  {
   "cell_type": "code",
   "execution_count": 42,
   "metadata": {},
   "outputs": [
    {
     "data": {
      "text/html": [
       "<div>\n",
       "<style scoped>\n",
       "    .dataframe tbody tr th:only-of-type {\n",
       "        vertical-align: middle;\n",
       "    }\n",
       "\n",
       "    .dataframe tbody tr th {\n",
       "        vertical-align: top;\n",
       "    }\n",
       "\n",
       "    .dataframe thead th {\n",
       "        text-align: right;\n",
       "    }\n",
       "</style>\n",
       "<table border=\"1\" class=\"dataframe\">\n",
       "  <thead>\n",
       "    <tr style=\"text-align: right;\">\n",
       "      <th></th>\n",
       "      <th>ref_hash</th>\n",
       "      <th>hour_sum_auctions</th>\n",
       "      <th>hour_mean_auctions</th>\n",
       "      <th>hour_std_auctions</th>\n",
       "      <th>hour_min_auctions</th>\n",
       "      <th>hour_max_auctions</th>\n",
       "      <th>tiempo_desde_inicio_de_ventana_sum</th>\n",
       "      <th>tiempo_desde_inicio_de_ventana_mean</th>\n",
       "      <th>tiempo_desde_inicio_de_ventana_std</th>\n",
       "      <th>tiempo_desde_inicio_de_ventana_min</th>\n",
       "      <th>...</th>\n",
       "      <th>hour_mean_clicks</th>\n",
       "      <th>hour_std_clicks</th>\n",
       "      <th>hour_min_clicks</th>\n",
       "      <th>hour_max_clicks</th>\n",
       "      <th>repeticiones_sum_clicks</th>\n",
       "      <th>repeticiones_mean_clicks</th>\n",
       "      <th>repeticiones_std_clicks</th>\n",
       "      <th>repeticiones_min_clicks</th>\n",
       "      <th>repeticiones_max_clicks</th>\n",
       "      <th>obj</th>\n",
       "    </tr>\n",
       "  </thead>\n",
       "  <tbody>\n",
       "    <tr>\n",
       "      <th>0</th>\n",
       "      <td>1000169251625791246</td>\n",
       "      <td>530482.0</td>\n",
       "      <td>40806.307692</td>\n",
       "      <td>30043.019845</td>\n",
       "      <td>11589.0</td>\n",
       "      <td>82942.0</td>\n",
       "      <td>2.258488e+06</td>\n",
       "      <td>173729.838532</td>\n",
       "      <td>56244.421557</td>\n",
       "      <td>76114.647428</td>\n",
       "      <td>...</td>\n",
       "      <td>0.0</td>\n",
       "      <td>0.0</td>\n",
       "      <td>0.0</td>\n",
       "      <td>0.0</td>\n",
       "      <td>0.0</td>\n",
       "      <td>0.0</td>\n",
       "      <td>0.0</td>\n",
       "      <td>0.0</td>\n",
       "      <td>0.0</td>\n",
       "      <td>0</td>\n",
       "    </tr>\n",
       "    <tr>\n",
       "      <th>1</th>\n",
       "      <td>1000395625957344683</td>\n",
       "      <td>818887.0</td>\n",
       "      <td>54592.466667</td>\n",
       "      <td>26368.167434</td>\n",
       "      <td>8034.0</td>\n",
       "      <td>78292.0</td>\n",
       "      <td>1.510095e+06</td>\n",
       "      <td>100672.999900</td>\n",
       "      <td>66132.578015</td>\n",
       "      <td>8034.974209</td>\n",
       "      <td>...</td>\n",
       "      <td>0.0</td>\n",
       "      <td>0.0</td>\n",
       "      <td>0.0</td>\n",
       "      <td>0.0</td>\n",
       "      <td>0.0</td>\n",
       "      <td>0.0</td>\n",
       "      <td>0.0</td>\n",
       "      <td>0.0</td>\n",
       "      <td>0.0</td>\n",
       "      <td>0</td>\n",
       "    </tr>\n",
       "    <tr>\n",
       "      <th>2</th>\n",
       "      <td>1003027494996471685</td>\n",
       "      <td>5068976.0</td>\n",
       "      <td>30172.476190</td>\n",
       "      <td>21642.865681</td>\n",
       "      <td>12171.0</td>\n",
       "      <td>62346.0</td>\n",
       "      <td>8.265861e+06</td>\n",
       "      <td>49201.555411</td>\n",
       "      <td>35972.891673</td>\n",
       "      <td>12171.691046</td>\n",
       "      <td>...</td>\n",
       "      <td>0.0</td>\n",
       "      <td>0.0</td>\n",
       "      <td>0.0</td>\n",
       "      <td>0.0</td>\n",
       "      <td>0.0</td>\n",
       "      <td>0.0</td>\n",
       "      <td>0.0</td>\n",
       "      <td>0.0</td>\n",
       "      <td>0.0</td>\n",
       "      <td>0</td>\n",
       "    </tr>\n",
       "    <tr>\n",
       "      <th>3</th>\n",
       "      <td>1006670001679961544</td>\n",
       "      <td>194810.0</td>\n",
       "      <td>64936.666667</td>\n",
       "      <td>69.082077</td>\n",
       "      <td>64857.0</td>\n",
       "      <td>64980.0</td>\n",
       "      <td>5.404113e+05</td>\n",
       "      <td>180137.098730</td>\n",
       "      <td>99834.968999</td>\n",
       "      <td>64857.606340</td>\n",
       "      <td>...</td>\n",
       "      <td>0.0</td>\n",
       "      <td>0.0</td>\n",
       "      <td>0.0</td>\n",
       "      <td>0.0</td>\n",
       "      <td>0.0</td>\n",
       "      <td>0.0</td>\n",
       "      <td>0.0</td>\n",
       "      <td>0.0</td>\n",
       "      <td>0.0</td>\n",
       "      <td>0</td>\n",
       "    </tr>\n",
       "    <tr>\n",
       "      <th>4</th>\n",
       "      <td>1007573308966476713</td>\n",
       "      <td>390331.0</td>\n",
       "      <td>55761.571429</td>\n",
       "      <td>30075.672211</td>\n",
       "      <td>13286.0</td>\n",
       "      <td>82613.0</td>\n",
       "      <td>7.359344e+05</td>\n",
       "      <td>105133.480786</td>\n",
       "      <td>80906.269648</td>\n",
       "      <td>18726.239096</td>\n",
       "      <td>...</td>\n",
       "      <td>0.0</td>\n",
       "      <td>0.0</td>\n",
       "      <td>0.0</td>\n",
       "      <td>0.0</td>\n",
       "      <td>0.0</td>\n",
       "      <td>0.0</td>\n",
       "      <td>0.0</td>\n",
       "      <td>0.0</td>\n",
       "      <td>0.0</td>\n",
       "      <td>0</td>\n",
       "    </tr>\n",
       "  </tbody>\n",
       "</table>\n",
       "<p>5 rows × 82 columns</p>\n",
       "</div>"
      ],
      "text/plain": [
       "              ref_hash  hour_sum_auctions  hour_mean_auctions  \\\n",
       "0  1000169251625791246           530482.0        40806.307692   \n",
       "1  1000395625957344683           818887.0        54592.466667   \n",
       "2  1003027494996471685          5068976.0        30172.476190   \n",
       "3  1006670001679961544           194810.0        64936.666667   \n",
       "4  1007573308966476713           390331.0        55761.571429   \n",
       "\n",
       "   hour_std_auctions  hour_min_auctions  hour_max_auctions  \\\n",
       "0       30043.019845            11589.0            82942.0   \n",
       "1       26368.167434             8034.0            78292.0   \n",
       "2       21642.865681            12171.0            62346.0   \n",
       "3          69.082077            64857.0            64980.0   \n",
       "4       30075.672211            13286.0            82613.0   \n",
       "\n",
       "   tiempo_desde_inicio_de_ventana_sum  tiempo_desde_inicio_de_ventana_mean  \\\n",
       "0                        2.258488e+06                        173729.838532   \n",
       "1                        1.510095e+06                        100672.999900   \n",
       "2                        8.265861e+06                         49201.555411   \n",
       "3                        5.404113e+05                        180137.098730   \n",
       "4                        7.359344e+05                        105133.480786   \n",
       "\n",
       "   tiempo_desde_inicio_de_ventana_std  tiempo_desde_inicio_de_ventana_min  \\\n",
       "0                        56244.421557                        76114.647428   \n",
       "1                        66132.578015                         8034.974209   \n",
       "2                        35972.891673                        12171.691046   \n",
       "3                        99834.968999                        64857.606340   \n",
       "4                        80906.269648                        18726.239096   \n",
       "\n",
       "   ...  hour_mean_clicks  hour_std_clicks  hour_min_clicks  hour_max_clicks  \\\n",
       "0  ...               0.0              0.0              0.0              0.0   \n",
       "1  ...               0.0              0.0              0.0              0.0   \n",
       "2  ...               0.0              0.0              0.0              0.0   \n",
       "3  ...               0.0              0.0              0.0              0.0   \n",
       "4  ...               0.0              0.0              0.0              0.0   \n",
       "\n",
       "   repeticiones_sum_clicks  repeticiones_mean_clicks  repeticiones_std_clicks  \\\n",
       "0                      0.0                       0.0                      0.0   \n",
       "1                      0.0                       0.0                      0.0   \n",
       "2                      0.0                       0.0                      0.0   \n",
       "3                      0.0                       0.0                      0.0   \n",
       "4                      0.0                       0.0                      0.0   \n",
       "\n",
       "   repeticiones_min_clicks  repeticiones_max_clicks obj  \n",
       "0                      0.0                      0.0   0  \n",
       "1                      0.0                      0.0   0  \n",
       "2                      0.0                      0.0   0  \n",
       "3                      0.0                      0.0   0  \n",
       "4                      0.0                      0.0   0  \n",
       "\n",
       "[5 rows x 82 columns]"
      ]
     },
     "execution_count": 42,
     "metadata": {},
     "output_type": "execute_result"
    }
   ],
   "source": [
    "features_ventana7 = pd.read_csv('../xgb/features_auctions_lucas_ventana7.csv',low_memory=False).set_index('ref_hash')\n",
    "aux_ventana7 = pd.read_csv('../xgb/features_events_lucas_ventana7.csv').set_index('ref_hash')\n",
    "features_ventana7=features_ventana7.join(aux_ventana7, how = 'outer', lsuffix = '_auctions', rsuffix = '_events')\n",
    "aux_ventana7 = pd.read_csv('../xgb/features_installs_lucas_ventana7.csv').set_index('ref_hash')\n",
    "features_ventana7=features_ventana7.join(aux_ventana7, how = 'outer', rsuffix = '_installs')\n",
    "aux_ventana7 = pd.read_csv('../xgb/features_clicks_lucas_ventana7.csv').set_index('ref_hash')\n",
    "features_ventana7=features_ventana7.join(aux_ventana7, how = 'outer', rsuffix = '_clicks')\n",
    "\n",
    "labels_ventana7 = pd.read_csv('../xgb/base_target_st.csv').set_index('ref_hash')\n",
    "target = labels_ventana7\n",
    "features_ventana7[['tiempo_desde_inicio_de_ventana_sum','tiempo_desde_inicio_de_ventana_min','tiempo_desde_inicio_de_ventana_std','tiempo_desde_inicio_de_ventana_min','tiempo_desde_inicio_de_ventana_max']]=features_ventana7[['tiempo_desde_inicio_de_ventana_sum','tiempo_desde_inicio_de_ventana_min','tiempo_desde_inicio_de_ventana_std','tiempo_desde_inicio_de_ventana_min','tiempo_desde_inicio_de_ventana_max']].fillna(259200)#3 dias pasado a segundos\n",
    "\n",
    "ventana7 = features_ventana7.join(labels_ventana7, how = 'right').fillna(0).reset_index().rename(index=str, columns={\"device_id\": \"ref_hash\"}) #3 dias pasado a segundos\n",
    "ventana7.head()"
   ]
  },
  {
   "cell_type": "code",
   "execution_count": 43,
   "metadata": {},
   "outputs": [],
   "source": [
    "features_ventana7 = ventana7.iloc[:,:-1]\n",
    "labels_ventana7 = ventana7.iloc[:,-1]"
   ]
  },
  {
   "cell_type": "code",
   "execution_count": 44,
   "metadata": {},
   "outputs": [],
   "source": [
    "data_dmatrix = xgb.DMatrix(data=features,label=labels)"
   ]
  },
  {
   "cell_type": "code",
   "execution_count": 45,
   "metadata": {},
   "outputs": [],
   "source": [
    "features_ventana7=features_ventana7.drop(['attributed_min','attributed_max','ref_hash'],axis=1)\n",
    "predicted_target_labels = xg_reg.predict(features_ventana7)"
   ]
  },
  {
   "cell_type": "code",
   "execution_count": 46,
   "metadata": {},
   "outputs": [
    {
     "data": {
      "text/plain": [
       "(4037, 1)"
      ]
     },
     "execution_count": 46,
     "metadata": {},
     "output_type": "execute_result"
    }
   ],
   "source": [
    "target.shape"
   ]
  },
  {
   "cell_type": "code",
   "execution_count": 47,
   "metadata": {},
   "outputs": [],
   "source": [
    "target['obj'] = predicted_target_labels"
   ]
  },
  {
   "cell_type": "code",
   "execution_count": 48,
   "metadata": {},
   "outputs": [],
   "source": [
    "target=target.sort_values(by='obj')"
   ]
  },
  {
   "cell_type": "code",
   "execution_count": 49,
   "metadata": {},
   "outputs": [],
   "source": [
    "target.to_csv('../xgb/target_st.csv')"
   ]
  },
  {
   "cell_type": "code",
   "execution_count": null,
   "metadata": {},
   "outputs": [],
   "source": []
  },
  {
   "cell_type": "code",
   "execution_count": null,
   "metadata": {},
   "outputs": [],
   "source": []
  }
 ],
 "metadata": {
  "kernelspec": {
   "display_name": "Python 3",
   "language": "python",
   "name": "python3"
  },
  "language_info": {
   "codemirror_mode": {
    "name": "ipython",
    "version": 3
   },
   "file_extension": ".py",
   "mimetype": "text/x-python",
   "name": "python",
   "nbconvert_exporter": "python",
   "pygments_lexer": "ipython3",
   "version": "3.7.3"
  }
 },
 "nbformat": 4,
 "nbformat_minor": 2
}
