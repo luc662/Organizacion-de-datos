{
 "cells": [
  {
   "cell_type": "markdown",
   "metadata": {},
   "source": [
    "# Analisis de superficial del csv de clicks\n",
    "### En este notebook exploramos los registros del csv con el objetivo de buscar relaciones entre las distintas variables"
   ]
  },
  {
   "cell_type": "code",
   "execution_count": 1,
   "metadata": {},
   "outputs": [],
   "source": [
    "import xgboost as xgb\n",
    "from sklearn.metrics import mean_squared_error\n",
    "import pandas as pd\n",
    "import numpy as np\n",
    "import matplotlib.pyplot as plt\n",
    "import seaborn as sns\n",
    "\n",
    "%matplotlib inline"
   ]
  },
  {
   "cell_type": "markdown",
   "metadata": {},
   "source": [
    "## Leemos el csv, y dropeamos las columnas action_id por estar llena de nans y wifi_connection por estar llena de False"
   ]
  },
  {
   "cell_type": "raw",
   "metadata": {},
   "source": [
    "clicks = pd.read_csv(\"../data/clicks.csv\", dtype={'advertiser_id': 'category', 'action_id': 'float64', 'source_id': 'category',\n",
    "                                               'created': 'str', 'country_code':'category', 'latitude': 'float64',\n",
    "                                               'longitude':'float64', 'wifi_connection':'bool' , 'carrier_id':np.float16,\n",
    "                                               'trans_id':'str', 'os_minor':'float64', 'agent_device':'float64', 'os_major':'float64',\n",
    "                                               'specs_brand':'int64', 'brand':'category', 'timeToClick':'float64',\n",
    "                                               'touchX':'float64', 'touchY':'float64', 'ref_type':'category', 'ref_hash':'int64'}, parse_dates = ['created'])\n",
    "clicks.drop('action_id', axis=1, inplace = True)\n",
    "clicks.drop('wifi_connection', axis=1, inplace = True) #false\n",
    "clicks['day'] = clicks['created'].dt.date\n",
    "clicks['hour'] = clicks['created'].dt.hour\n",
    "clicks.head(5)"
   ]
  },
  {
   "cell_type": "code",
   "execution_count": 2,
   "metadata": {},
   "outputs": [
    {
     "name": "stderr",
     "output_type": "stream",
     "text": [
      "D:\\Users\\Lucas\\Anaconda3\\lib\\site-packages\\IPython\\core\\interactiveshell.py:3049: DtypeWarning: Columns (16,17) have mixed types. Specify dtype option on import or set low_memory=False.\n",
      "  interactivity=interactivity, compiler=compiler, result=result)\n"
     ]
    },
    {
     "data": {
      "text/html": [
       "<div>\n",
       "<style scoped>\n",
       "    .dataframe tbody tr th:only-of-type {\n",
       "        vertical-align: middle;\n",
       "    }\n",
       "\n",
       "    .dataframe tbody tr th {\n",
       "        vertical-align: top;\n",
       "    }\n",
       "\n",
       "    .dataframe thead th {\n",
       "        text-align: right;\n",
       "    }\n",
       "</style>\n",
       "<table border=\"1\" class=\"dataframe\">\n",
       "  <thead>\n",
       "    <tr style=\"text-align: right;\">\n",
       "      <th></th>\n",
       "      <th>advertiser_id</th>\n",
       "      <th>source_id</th>\n",
       "      <th>created</th>\n",
       "      <th>country_code</th>\n",
       "      <th>latitude</th>\n",
       "      <th>longitude</th>\n",
       "      <th>carrier_id</th>\n",
       "      <th>trans_id</th>\n",
       "      <th>os_minor</th>\n",
       "      <th>agent_device</th>\n",
       "      <th>os_major</th>\n",
       "      <th>specs_brand</th>\n",
       "      <th>brand</th>\n",
       "      <th>timeToClick</th>\n",
       "      <th>touchX</th>\n",
       "      <th>touchY</th>\n",
       "      <th>ref_type</th>\n",
       "      <th>ref_hash</th>\n",
       "      <th>day</th>\n",
       "      <th>hour</th>\n",
       "    </tr>\n",
       "  </thead>\n",
       "  <tbody>\n",
       "    <tr>\n",
       "      <th>0</th>\n",
       "      <td>1</td>\n",
       "      <td>2</td>\n",
       "      <td>2019-04-18 05:27:42.197000+00:00</td>\n",
       "      <td>6287817205707153877</td>\n",
       "      <td>1.714547</td>\n",
       "      <td>0.871535</td>\n",
       "      <td>3.0</td>\n",
       "      <td>9JMAfrb-b9cSEVCJb0P9JfihGthaS7E</td>\n",
       "      <td>1.517644e+18</td>\n",
       "      <td>NaN</td>\n",
       "      <td>5.131616e+18</td>\n",
       "      <td>71913840936116953</td>\n",
       "      <td>0.0</td>\n",
       "      <td>2.317</td>\n",
       "      <td>0.968</td>\n",
       "      <td>0.503</td>\n",
       "      <td>1891515180541284343</td>\n",
       "      <td>1293710398598742392</td>\n",
       "      <td>2019-04-18</td>\n",
       "      <td>5</td>\n",
       "    </tr>\n",
       "    <tr>\n",
       "      <th>1</th>\n",
       "      <td>1</td>\n",
       "      <td>1</td>\n",
       "      <td>2019-04-18 05:27:03.164000+00:00</td>\n",
       "      <td>6287817205707153877</td>\n",
       "      <td>1.714512</td>\n",
       "      <td>0.871062</td>\n",
       "      <td>2.0</td>\n",
       "      <td>r3xtTRv2lInfiXG8JI3NQsNcBo8GyFQ</td>\n",
       "      <td>1.288578e+18</td>\n",
       "      <td>NaN</td>\n",
       "      <td>3.908390e+18</td>\n",
       "      <td>3576558787748411622</td>\n",
       "      <td>1.0</td>\n",
       "      <td>7.653</td>\n",
       "      <td>0.712</td>\n",
       "      <td>1.689</td>\n",
       "      <td>1891515180541284343</td>\n",
       "      <td>1663930990551616564</td>\n",
       "      <td>2019-04-18</td>\n",
       "      <td>5</td>\n",
       "    </tr>\n",
       "    <tr>\n",
       "      <th>2</th>\n",
       "      <td>1</td>\n",
       "      <td>1</td>\n",
       "      <td>2019-04-18 05:42:07.926000+00:00</td>\n",
       "      <td>6287817205707153877</td>\n",
       "      <td>1.714547</td>\n",
       "      <td>0.871535</td>\n",
       "      <td>4.0</td>\n",
       "      <td>WOnHFqQtY48z_ygKZ-030U_g0TMGVMw</td>\n",
       "      <td>2.238736e+18</td>\n",
       "      <td>NaN</td>\n",
       "      <td>3.581233e+18</td>\n",
       "      <td>3576558787748411622</td>\n",
       "      <td>NaN</td>\n",
       "      <td>464.796</td>\n",
       "      <td>0.227</td>\n",
       "      <td>0.251</td>\n",
       "      <td>1891515180541284343</td>\n",
       "      <td>8488038938665586188</td>\n",
       "      <td>2019-04-18</td>\n",
       "      <td>5</td>\n",
       "    </tr>\n",
       "    <tr>\n",
       "      <th>3</th>\n",
       "      <td>1</td>\n",
       "      <td>1</td>\n",
       "      <td>2019-04-18 05:26:04.446000+00:00</td>\n",
       "      <td>6287817205707153877</td>\n",
       "      <td>1.708041</td>\n",
       "      <td>0.870772</td>\n",
       "      <td>1.0</td>\n",
       "      <td>wQMLLmYqiFhSuha9p9B13PMtcyBW_vM</td>\n",
       "      <td>2.411640e+18</td>\n",
       "      <td>NaN</td>\n",
       "      <td>3.908390e+18</td>\n",
       "      <td>3576558787748411622</td>\n",
       "      <td>NaN</td>\n",
       "      <td>225.311</td>\n",
       "      <td>0.696</td>\n",
       "      <td>6.587</td>\n",
       "      <td>1891515180541284343</td>\n",
       "      <td>6488361690105189959</td>\n",
       "      <td>2019-04-18</td>\n",
       "      <td>5</td>\n",
       "    </tr>\n",
       "    <tr>\n",
       "      <th>4</th>\n",
       "      <td>1</td>\n",
       "      <td>1</td>\n",
       "      <td>2019-04-18 05:23:37.764000+00:00</td>\n",
       "      <td>6287817205707153877</td>\n",
       "      <td>1.715514</td>\n",
       "      <td>0.870772</td>\n",
       "      <td>2.0</td>\n",
       "      <td>GeFoyBzMA7taylMxxjzlNPTU-n4FXFs</td>\n",
       "      <td>1.517644e+18</td>\n",
       "      <td>NaN</td>\n",
       "      <td>5.131616e+18</td>\n",
       "      <td>3576558787748411622</td>\n",
       "      <td>0.0</td>\n",
       "      <td>84.736</td>\n",
       "      <td>0.059</td>\n",
       "      <td>0.142</td>\n",
       "      <td>1891515180541284343</td>\n",
       "      <td>1348993302102753419</td>\n",
       "      <td>2019-04-18</td>\n",
       "      <td>5</td>\n",
       "    </tr>\n",
       "  </tbody>\n",
       "</table>\n",
       "</div>"
      ],
      "text/plain": [
       "  advertiser_id source_id                          created  \\\n",
       "0             1         2 2019-04-18 05:27:42.197000+00:00   \n",
       "1             1         1 2019-04-18 05:27:03.164000+00:00   \n",
       "2             1         1 2019-04-18 05:42:07.926000+00:00   \n",
       "3             1         1 2019-04-18 05:26:04.446000+00:00   \n",
       "4             1         1 2019-04-18 05:23:37.764000+00:00   \n",
       "\n",
       "          country_code  latitude  longitude  carrier_id  \\\n",
       "0  6287817205707153877  1.714547   0.871535         3.0   \n",
       "1  6287817205707153877  1.714512   0.871062         2.0   \n",
       "2  6287817205707153877  1.714547   0.871535         4.0   \n",
       "3  6287817205707153877  1.708041   0.870772         1.0   \n",
       "4  6287817205707153877  1.715514   0.870772         2.0   \n",
       "\n",
       "                          trans_id      os_minor  agent_device      os_major  \\\n",
       "0  9JMAfrb-b9cSEVCJb0P9JfihGthaS7E  1.517644e+18           NaN  5.131616e+18   \n",
       "1  r3xtTRv2lInfiXG8JI3NQsNcBo8GyFQ  1.288578e+18           NaN  3.908390e+18   \n",
       "2  WOnHFqQtY48z_ygKZ-030U_g0TMGVMw  2.238736e+18           NaN  3.581233e+18   \n",
       "3  wQMLLmYqiFhSuha9p9B13PMtcyBW_vM  2.411640e+18           NaN  3.908390e+18   \n",
       "4  GeFoyBzMA7taylMxxjzlNPTU-n4FXFs  1.517644e+18           NaN  5.131616e+18   \n",
       "\n",
       "           specs_brand brand  timeToClick touchX touchY             ref_type  \\\n",
       "0    71913840936116953   0.0        2.317  0.968  0.503  1891515180541284343   \n",
       "1  3576558787748411622   1.0        7.653  0.712  1.689  1891515180541284343   \n",
       "2  3576558787748411622   NaN      464.796  0.227  0.251  1891515180541284343   \n",
       "3  3576558787748411622   NaN      225.311  0.696  6.587  1891515180541284343   \n",
       "4  3576558787748411622   0.0       84.736  0.059  0.142  1891515180541284343   \n",
       "\n",
       "              ref_hash         day  hour  \n",
       "0  1293710398598742392  2019-04-18     5  \n",
       "1  1663930990551616564  2019-04-18     5  \n",
       "2  8488038938665586188  2019-04-18     5  \n",
       "3  6488361690105189959  2019-04-18     5  \n",
       "4  1348993302102753419  2019-04-18     5  "
      ]
     },
     "execution_count": 2,
     "metadata": {},
     "output_type": "execute_result"
    }
   ],
   "source": [
    "clicks = pd.read_csv(\"../data/clicks.csv\", dtype={'advertiser_id': 'category', 'action_id': 'float64', 'source_id': 'category',\n",
    "                                               'created': 'str', 'country_code':'category', 'latitude': 'float64',\n",
    "                                               'longitude':'float64', 'wifi_connection':'bool' , 'carrier_id':np.float16,\n",
    "                                               'trans_id':'str', 'os_minor':'float64', 'agent_device':'float64', 'os_major':'float64',\n",
    "                                               'specs_brand':'int64', 'brand':'category', 'timeToClick':'float64',\n",
    "                                               'ref_type':'category', 'ref_hash':'int64'}, parse_dates = ['created'])\n",
    "clicks.drop('action_id', axis=1, inplace = True)\n",
    "clicks.drop('wifi_connection', axis=1, inplace = True) #false\n",
    "clicks['day'] = clicks['created'].dt.date\n",
    "clicks['hour'] = clicks['created'].dt.hour\n",
    "clicks.head(5)"
   ]
  },
  {
   "cell_type": "code",
   "execution_count": 3,
   "metadata": {},
   "outputs": [
    {
     "data": {
      "text/plain": [
       "Timestamp('2019-04-26 23:59:22.065000+0000', tz='UTC')"
      ]
     },
     "execution_count": 3,
     "metadata": {},
     "output_type": "execute_result"
    }
   ],
   "source": [
    "clicks=clicks.drop(['source_id','advertiser_id','country_code','carrier_id','trans_id','os_minor','agent_device','os_major','specs_brand','ref_type'],axis=1)\n",
    "clicks['created'].max()"
   ]
  },
  {
   "cell_type": "code",
   "execution_count": 4,
   "metadata": {},
   "outputs": [
    {
     "data": {
      "text/plain": [
       "Timestamp('2019-04-12 00:00:01.981000+0000', tz='UTC')"
      ]
     },
     "execution_count": 4,
     "metadata": {},
     "output_type": "execute_result"
    }
   ],
   "source": [
    "clicks['created'].min()"
   ]
  },
  {
   "cell_type": "code",
   "execution_count": 5,
   "metadata": {},
   "outputs": [
    {
     "data": {
      "text/plain": [
       "created        datetime64[ns, UTC]\n",
       "latitude                   float64\n",
       "longitude                  float64\n",
       "brand                     category\n",
       "timeToClick                float64\n",
       "touchX                      object\n",
       "touchY                      object\n",
       "ref_hash                     int64\n",
       "day                         object\n",
       "hour                         int64\n",
       "dtype: object"
      ]
     },
     "execution_count": 5,
     "metadata": {},
     "output_type": "execute_result"
    }
   ],
   "source": [
    "clicks.dtypes"
   ]
  },
  {
   "cell_type": "markdown",
   "metadata": {},
   "source": [
    "## Realizamos un histograma del TimeToClick"
   ]
  },
  {
   "cell_type": "code",
   "execution_count": 6,
   "metadata": {},
   "outputs": [],
   "source": [
    "#clicks_acotado = clicks.dropna(subset= ['timeToClick'])"
   ]
  },
  {
   "cell_type": "markdown",
   "metadata": {},
   "source": [
    "## Creamos una columna categorica del TimeToClick"
   ]
  },
  {
   "cell_type": "code",
   "execution_count": 7,
   "metadata": {},
   "outputs": [],
   "source": [
    "#bins = pd.IntervalIndex.from_tuples([(600, 120000), (180, 600), (60, 180), (15, 60), (3, 15), (0, 3)])\n",
    "#clicks_acotado['time_categ'] = pd.cut(clicks_acotado['timeToClick'],bins)\n",
    "#clicks_acotado['time_categ'].cat.categories = ['10 a 2000min','3 a 10min','1 a 3 min','15 a 60seg','3 a 15seg','0 a 3 seg']\n",
    "\n",
    "#clicks['time_categ'] = pd.cut(clicks['timeToClick'],bins)\n",
    "#clicks['time_categ'].cat.categories = ['10 a 2000min','3 a 10min','1 a 3 min','15 a 60seg', '3 a 15seg','0 a 3 seg']\n",
    "\n",
    "#clicks_acotado['time_categ'].value_counts()"
   ]
  },
  {
   "cell_type": "markdown",
   "metadata": {},
   "source": [
    "## Elegimos las columnas con menor entropia o pocos valores diferentes y nos quedamos con los 5 valores mas comunes"
   ]
  },
  {
   "cell_type": "code",
   "execution_count": 8,
   "metadata": {},
   "outputs": [],
   "source": [
    "grupos = ['hour', 'day']\n",
    "#top5 = {}\n",
    "#for i in grupos:\n",
    "#    top5[i]= clicks[i].value_counts().head(5).index.tolist()\n",
    "#top5"
   ]
  },
  {
   "cell_type": "code",
   "execution_count": 9,
   "metadata": {},
   "outputs": [],
   "source": [
    "clicks = clicks.sort_values(by = 'created')\n",
    "clicks = clicks.sort_values(by = 'ref_hash')\n",
    "clicks['repeticiones'] = 1\n",
    "device_ids = clicks['ref_hash'].to_frame().set_index('ref_hash')\n",
    "#clicks = pd.get_dummies(clicks, columns = grupos)\n",
    "#for column in grupos:\n",
    "#    for value in top5[column]:\n",
    "#        clicks[column + str(value)] = (clicks[column] == value)*1"
   ]
  },
  {
   "cell_type": "code",
   "execution_count": 10,
   "metadata": {},
   "outputs": [],
   "source": [
    "fecha_minima=pd.to_datetime('2019-04-18 00:00:00', utc = True)\n",
    "fecha_minima\n",
    "fecha_tope=pd.to_datetime('2019-04-21 00:00:00', utc = True)\n",
    "clicks_ventana1=clicks.loc[((clicks['created']>fecha_minima) & (clicks['created']<fecha_tope) )].copy(deep=False)"
   ]
  },
  {
   "cell_type": "code",
   "execution_count": 11,
   "metadata": {},
   "outputs": [],
   "source": [
    "fecha_minima=pd.to_datetime('2019-04-19 00:00:00', utc = True)\n",
    "fecha_minima\n",
    "fecha_tope=pd.to_datetime('2019-04-22 00:00:00', utc = True)\n",
    "clicks_ventana2=clicks.loc[((clicks['created']>fecha_minima) & (clicks['created']<fecha_tope) )].copy(deep=False)"
   ]
  },
  {
   "cell_type": "code",
   "execution_count": 12,
   "metadata": {},
   "outputs": [],
   "source": [
    "fecha_minima=pd.to_datetime('2019-04-20 00:00:00', utc = True)\n",
    "fecha_minima\n",
    "fecha_tope=pd.to_datetime('2019-04-23 00:00:00', utc = True)\n",
    "clicks_ventana3=clicks.loc[((clicks['created']>fecha_minima) & (clicks['created']<fecha_tope) )].copy(deep=False)"
   ]
  },
  {
   "cell_type": "code",
   "execution_count": 13,
   "metadata": {},
   "outputs": [],
   "source": [
    "fecha_minima=pd.to_datetime('2019-04-21 00:00:00', utc = True)\n",
    "fecha_minima\n",
    "fecha_tope=pd.to_datetime('2019-04-24 00:00:00', utc = True)\n",
    "clicks_ventana4=clicks.loc[((clicks['created']>fecha_minima) & (clicks['created']<fecha_tope) )].copy(deep=False)"
   ]
  },
  {
   "cell_type": "code",
   "execution_count": 14,
   "metadata": {},
   "outputs": [],
   "source": [
    "fecha_minima=pd.to_datetime('2019-04-24 00:00:00', utc = True)\n",
    "fecha_minima\n",
    "fecha_tope=pd.to_datetime('2019-04-27 00:00:00', utc = True)\n",
    "clicks_ventana7=clicks.loc[((clicks['created']>fecha_minima) & (clicks['created']<fecha_tope) )].copy(deep=False)"
   ]
  },
  {
   "cell_type": "code",
   "execution_count": 15,
   "metadata": {},
   "outputs": [],
   "source": [
    "features = ['sum', 'mean', 'std', 'min', 'max']\n",
    "ventanas = [clicks_ventana1, clicks_ventana2, clicks_ventana3, clicks_ventana4, clicks_ventana7]\n",
    "numero_de_ventanas = [1,2,3,4,7]\n",
    "contador = 0\n",
    "for ventana in ventanas:\n",
    "    features_ventana = ventana.groupby('ref_hash').agg(features).fillna(0)\n",
    "    level0 = features_ventana.columns.get_level_values(0)\n",
    "    level1 = features_ventana.columns.get_level_values(1)\n",
    "    features_ventana.columns = level0 + \"_\" + level1\n",
    "    features_ventana.to_csv('../xgb/features_clicks_lucas_ventana' + str(numero_de_ventanas[contador]) + '.csv')\n",
    "    contador = contador + 1"
   ]
  },
  {
   "cell_type": "code",
   "execution_count": null,
   "metadata": {},
   "outputs": [],
   "source": []
  },
  {
   "cell_type": "code",
   "execution_count": null,
   "metadata": {},
   "outputs": [],
   "source": []
  },
  {
   "cell_type": "code",
   "execution_count": null,
   "metadata": {},
   "outputs": [],
   "source": []
  },
  {
   "cell_type": "code",
   "execution_count": null,
   "metadata": {},
   "outputs": [],
   "source": []
  }
 ],
 "metadata": {
  "kernelspec": {
   "display_name": "Python 3",
   "language": "python",
   "name": "python3"
  },
  "language_info": {
   "codemirror_mode": {
    "name": "ipython",
    "version": 3
   },
   "file_extension": ".py",
   "mimetype": "text/x-python",
   "name": "python",
   "nbconvert_exporter": "python",
   "pygments_lexer": "ipython3",
   "version": "3.7.3"
  }
 },
 "nbformat": 4,
 "nbformat_minor": 2
}
