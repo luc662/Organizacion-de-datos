{
 "cells": [
  {
   "cell_type": "code",
   "execution_count": 1,
   "metadata": {},
   "outputs": [],
   "source": [
    "import pandas as pd\n",
    "import numpy as np\n",
    "import matplotlib.pyplot as plt\n",
    "from sklearn.metrics import mean_squared_error\n",
    "import seaborn as sns\n",
    "import datetime as dat\n",
    "import matplotlib as mplt\n",
    "import datetime as dt\n",
    "import xgboost as xgb\n",
    "%matplotlib inline\n",
    "sns.set()"
   ]
  },
  {
   "cell_type": "code",
   "execution_count": 2,
   "metadata": {},
   "outputs": [
    {
     "name": "stderr",
     "output_type": "stream",
     "text": [
      "/home/franco/anaconda3/lib/python3.7/site-packages/IPython/core/interactiveshell.py:3020: DtypeWarning: Columns (4,15) have mixed types. Specify dtype option on import or set low_memory=False.\n",
      "  interactivity=interactivity, compiler=compiler, result=result)\n"
     ]
    },
    {
     "data": {
      "text/html": [
       "<div>\n",
       "<style scoped>\n",
       "    .dataframe tbody tr th:only-of-type {\n",
       "        vertical-align: middle;\n",
       "    }\n",
       "\n",
       "    .dataframe tbody tr th {\n",
       "        vertical-align: top;\n",
       "    }\n",
       "\n",
       "    .dataframe thead th {\n",
       "        text-align: right;\n",
       "    }\n",
       "</style>\n",
       "<table border=\"1\" class=\"dataframe\">\n",
       "  <thead>\n",
       "    <tr style=\"text-align: right;\">\n",
       "      <th></th>\n",
       "      <th>created</th>\n",
       "      <th>ref_hash</th>\n",
       "    </tr>\n",
       "  </thead>\n",
       "  <tbody>\n",
       "    <tr>\n",
       "      <th>0</th>\n",
       "      <td>2019-04-24 06:23:29.495</td>\n",
       "      <td>4716708407362582887</td>\n",
       "    </tr>\n",
       "    <tr>\n",
       "      <th>1</th>\n",
       "      <td>2019-04-24 02:06:01.032</td>\n",
       "      <td>7143568733100935872</td>\n",
       "    </tr>\n",
       "    <tr>\n",
       "      <th>2</th>\n",
       "      <td>2019-04-20 10:15:36.274</td>\n",
       "      <td>5230323462636548010</td>\n",
       "    </tr>\n",
       "    <tr>\n",
       "      <th>3</th>\n",
       "      <td>2019-04-20 21:56:47.151</td>\n",
       "      <td>5097163995161606833</td>\n",
       "    </tr>\n",
       "    <tr>\n",
       "      <th>4</th>\n",
       "      <td>2019-04-20 22:40:41.239</td>\n",
       "      <td>6328027616411983332</td>\n",
       "    </tr>\n",
       "  </tbody>\n",
       "</table>\n",
       "</div>"
      ],
      "text/plain": [
       "                  created             ref_hash\n",
       "0 2019-04-24 06:23:29.495  4716708407362582887\n",
       "1 2019-04-24 02:06:01.032  7143568733100935872\n",
       "2 2019-04-20 10:15:36.274  5230323462636548010\n",
       "3 2019-04-20 21:56:47.151  5097163995161606833\n",
       "4 2019-04-20 22:40:41.239  6328027616411983332"
      ]
     },
     "execution_count": 2,
     "metadata": {},
     "output_type": "execute_result"
    }
   ],
   "source": [
    "installs = pd.read_csv(\"../data/installs.csv\")\n",
    "installs.drop(['click_hash', 'attributed', 'application_id', 'ref_type', 'implicit', 'device_countrycode',\\\n",
    "               'device_brand', 'device_model', 'session_user_agent', 'user_agent', 'event_uuid', 'kind', 'wifi', 'trans_id', 'ip_address', 'device_language'], axis=1, inplace = True)\n",
    "installs['created'] = pd.to_datetime(installs['created'], errors = 'coerce')\n",
    "installs.head(5)"
   ]
  },
  {
   "cell_type": "code",
   "execution_count": 3,
   "metadata": {},
   "outputs": [],
   "source": [
    "installs=installs.sort_values(by='created')"
   ]
  },
  {
   "cell_type": "code",
   "execution_count": 4,
   "metadata": {},
   "outputs": [],
   "source": [
    "fecha_minima=pd.to_datetime('2019-04-21 00:00:00')\n",
    "fecha_tope=pd.to_datetime('2019-04-24 00:00:00')\n",
    "installs_ventana1=installs.loc[((installs['created']>fecha_minima) & (installs['created']<fecha_tope) )].copy(deep=False)\n",
    "#la division es para pasar la diferencia de tiempso de timedelta a float de dias\n",
    "installs_ventana1['tiempo_hasta_aparicion']=(installs_ventana1['created']-fecha_minima)/ np.timedelta64(1, 's')\n",
    "installs_ventana1.drop('created', axis=1, inplace = True)\n",
    "installs_ventana1_reducido=installs_ventana1.groupby(['ref_hash']).agg('min')\n",
    "#entradas previas no se debe usar para predecir en esta ventana, sino para                \n",
    "#installs_ventana1_reducido=installs_ventana1_reducido.dropna()"
   ]
  },
  {
   "cell_type": "code",
   "execution_count": 5,
   "metadata": {},
   "outputs": [],
   "source": [
    "fecha_minima=pd.to_datetime('2019-04-22 00:00:00')\n",
    "fecha_tope=pd.to_datetime('2019-04-25 00:00:00')\n",
    "\n",
    "installs_ventana2=installs.loc[((installs['created']>fecha_minima) & (installs['created']<fecha_tope) )].copy(deep=False)\n",
    "#la division es para pasar la diferencia de tiempso de timedelta a float de dias\n",
    "installs_ventana2['tiempo_hasta_aparicion']=(installs_ventana2['created']-fecha_minima)/ np.timedelta64(1, 's')\n",
    "installs_ventana2.drop('created', axis=1, inplace = True)\n",
    "installs_ventana2_reducido=installs_ventana2.groupby(['ref_hash']).agg('min')\n",
    "#entradas previas no se debe usar para predecir en esta ventana, sino para                \n",
    "#installs_ventana2_reducido=installs_ventana2_reducido.dropna()"
   ]
  },
  {
   "cell_type": "code",
   "execution_count": 6,
   "metadata": {},
   "outputs": [],
   "source": [
    "fecha_minima=pd.to_datetime('2019-04-23 00:00:00')\n",
    "fecha_tope=pd.to_datetime('2019-04-26 00:00:00')\n",
    "\n",
    "installs_ventana3=installs.loc[((installs['created']>fecha_minima) & (installs['created']<fecha_tope) )].copy(deep=False)\n",
    "#la division es para pasar la diferencia de tiempso de timedelta a float de dias\n",
    "installs_ventana3['tiempo_hasta_aparicion']=(installs_ventana3['created']-fecha_minima)/ np.timedelta64(1, 's')\n",
    "installs_ventana3.drop('created', axis=1, inplace = True)\n",
    "installs_ventana3_reducido=installs_ventana3.groupby(['ref_hash']).agg(\"min\")\n",
    "#installs_ventana3_reducido=installs_ventana3_reducido.dropna()"
   ]
  },
  {
   "cell_type": "code",
   "execution_count": 7,
   "metadata": {},
   "outputs": [],
   "source": [
    "fecha_minima=pd.to_datetime('2019-04-24 00:00:00')\n",
    "fecha_tope=pd.to_datetime('2019-04-27 00:00:00')\n",
    "\n",
    "installs_ventana4=installs.loc[((installs['created']>fecha_minima) & (installs['created']<fecha_tope) )].copy(deep=False)\n",
    "#la division es para pasar la diferencia de tiempso de timedelta a float de dias\n",
    "installs_ventana4['tiempo_hasta_aparicion']=(installs_ventana4['created']-fecha_minima)/ np.timedelta64(1, 's')\n",
    "installs_ventana4.drop('created', axis=1, inplace = True)\n",
    "installs_ventana4_reducido=installs_ventana4.groupby(['ref_hash']).agg(min)\n",
    "#entradas previas no se debe usar para predecir en esta ventana, sino para                \n",
    "#installs_ventana4_reducido=installs_ventana4_reducido.dropna()"
   ]
  },
  {
   "cell_type": "code",
   "execution_count": 8,
   "metadata": {},
   "outputs": [
    {
     "data": {
      "text/html": [
       "<div>\n",
       "<style scoped>\n",
       "    .dataframe tbody tr th:only-of-type {\n",
       "        vertical-align: middle;\n",
       "    }\n",
       "\n",
       "    .dataframe tbody tr th {\n",
       "        vertical-align: top;\n",
       "    }\n",
       "\n",
       "    .dataframe thead th {\n",
       "        text-align: right;\n",
       "    }\n",
       "</style>\n",
       "<table border=\"1\" class=\"dataframe\">\n",
       "  <thead>\n",
       "    <tr style=\"text-align: right;\">\n",
       "      <th></th>\n",
       "      <th>tiempo_hasta_aparicion</th>\n",
       "    </tr>\n",
       "  </thead>\n",
       "  <tbody>\n",
       "    <tr>\n",
       "      <th>count</th>\n",
       "      <td>132834.000000</td>\n",
       "    </tr>\n",
       "    <tr>\n",
       "      <th>mean</th>\n",
       "      <td>129406.319807</td>\n",
       "    </tr>\n",
       "    <tr>\n",
       "      <th>std</th>\n",
       "      <td>75907.840024</td>\n",
       "    </tr>\n",
       "    <tr>\n",
       "      <th>min</th>\n",
       "      <td>0.110000</td>\n",
       "    </tr>\n",
       "    <tr>\n",
       "      <th>25%</th>\n",
       "      <td>70513.940000</td>\n",
       "    </tr>\n",
       "    <tr>\n",
       "      <th>50%</th>\n",
       "      <td>136724.549500</td>\n",
       "    </tr>\n",
       "    <tr>\n",
       "      <th>75%</th>\n",
       "      <td>185166.915750</td>\n",
       "    </tr>\n",
       "    <tr>\n",
       "      <th>max</th>\n",
       "      <td>259197.053000</td>\n",
       "    </tr>\n",
       "  </tbody>\n",
       "</table>\n",
       "</div>"
      ],
      "text/plain": [
       "       tiempo_hasta_aparicion\n",
       "count           132834.000000\n",
       "mean            129406.319807\n",
       "std              75907.840024\n",
       "min                  0.110000\n",
       "25%              70513.940000\n",
       "50%             136724.549500\n",
       "75%             185166.915750\n",
       "max             259197.053000"
      ]
     },
     "execution_count": 8,
     "metadata": {},
     "output_type": "execute_result"
    }
   ],
   "source": [
    "installs_ventana2_reducido.describe()"
   ]
  },
  {
   "cell_type": "code",
   "execution_count": 9,
   "metadata": {},
   "outputs": [],
   "source": [
    "installs_ventana1_reducido.to_csv('../xgb/labels_sc_ventana1.csv')\n",
    "installs_ventana2_reducido.to_csv('../xgb/labels_sc_ventana2.csv')\n",
    "installs_ventana3_reducido.to_csv('../xgb/labels_sc_ventana3.csv')\n",
    "installs_ventana4_reducido.to_csv('../xgb/labels_sc_ventana4.csv')"
   ]
  },
  {
   "cell_type": "code",
   "execution_count": null,
   "metadata": {},
   "outputs": [],
   "source": []
  }
 ],
 "metadata": {
  "kernelspec": {
   "display_name": "Python 3",
   "language": "python",
   "name": "python3"
  },
  "language_info": {
   "codemirror_mode": {
    "name": "ipython",
    "version": 3
   },
   "file_extension": ".py",
   "mimetype": "text/x-python",
   "name": "python",
   "nbconvert_exporter": "python",
   "pygments_lexer": "ipython3",
   "version": "3.7.1"
  }
 },
 "nbformat": 4,
 "nbformat_minor": 2
}
