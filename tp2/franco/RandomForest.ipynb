{
 "cells": [
  {
   "cell_type": "code",
   "execution_count": 1,
   "metadata": {},
   "outputs": [],
   "source": [
    "from sklearn.ensemble import RandomForestRegressor\n",
    "import pandas as pd\n",
    "import numpy as np\n",
    "from sklearn.model_selection import train_test_split"
   ]
  },
  {
   "cell_type": "code",
   "execution_count": 2,
   "metadata": {},
   "outputs": [],
   "source": [
    "randomForest = RandomForestRegressor(n_estimators=100, max_depth=5, min_samples_leaf=50)"
   ]
  },
  {
   "cell_type": "code",
   "execution_count": 3,
   "metadata": {},
   "outputs": [],
   "source": [
    "train_features = pd.read_csv('../xgb/train_features.csv', index_col=[0])\n",
    "test_features = pd.read_csv('../xgb/test_features.csv', index_col=[0])"
   ]
  },
  {
   "cell_type": "code",
   "execution_count": 4,
   "metadata": {},
   "outputs": [],
   "source": [
    "#Para estimar 𝑆𝑡(𝑑) el tiempo hasta que un dispositivo 𝑑 aparezca de vuelta en una subasta RTB\n",
    "train_labels = pd.read_csv('../xgb/train_labels_st.csv', header=None, squeeze=True, index_col=0)\n",
    "test_labels= pd.read_csv('../xgb/test_labels_st.csv', header=None, squeeze=True, index_col=0)"
   ]
  },
  {
   "cell_type": "code",
   "execution_count": 5,
   "metadata": {},
   "outputs": [
    {
     "data": {
      "text/plain": [
       "25004     53332.146675\n",
       "22777     58608.458828\n",
       "23404     20907.415967\n",
       "21800     77091.846037\n",
       "32371    259200.000000\n",
       "Name: 1, dtype: float64"
      ]
     },
     "execution_count": 5,
     "metadata": {},
     "output_type": "execute_result"
    }
   ],
   "source": [
    "#El del es para borrarle el 0\n",
    "del train_labels.index.name\n",
    "train_labels.head()"
   ]
  },
  {
   "cell_type": "code",
   "execution_count": 6,
   "metadata": {},
   "outputs": [
    {
     "data": {
      "text/plain": [
       "23539       954.289005\n",
       "31594    115329.732017\n",
       "15265     12098.645367\n",
       "1191       9206.731136\n",
       "17541      2288.951601\n",
       "Name: 1, dtype: float64"
      ]
     },
     "execution_count": 6,
     "metadata": {},
     "output_type": "execute_result"
    }
   ],
   "source": [
    "del test_labels.index.name\n",
    "test_labels.head()"
   ]
  },
  {
   "cell_type": "code",
   "execution_count": 7,
   "metadata": {},
   "outputs": [
    {
     "data": {
      "text/plain": [
       "RandomForestRegressor(bootstrap=True, criterion='mse', max_depth=5,\n",
       "           max_features='auto', max_leaf_nodes=None,\n",
       "           min_impurity_decrease=0.0, min_impurity_split=None,\n",
       "           min_samples_leaf=50, min_samples_split=2,\n",
       "           min_weight_fraction_leaf=0.0, n_estimators=100, n_jobs=None,\n",
       "           oob_score=False, random_state=None, verbose=0, warm_start=False)"
      ]
     },
     "execution_count": 7,
     "metadata": {},
     "output_type": "execute_result"
    }
   ],
   "source": [
    "randomForest.fit(train_features, train_labels)"
   ]
  },
  {
   "cell_type": "code",
   "execution_count": 8,
   "metadata": {},
   "outputs": [
    {
     "data": {
      "text/plain": [
       "0.04460912458058741"
      ]
     },
     "execution_count": 8,
     "metadata": {},
     "output_type": "execute_result"
    }
   ],
   "source": [
    "randomForest.score(test_features,test_labels)"
   ]
  },
  {
   "cell_type": "code",
   "execution_count": null,
   "metadata": {},
   "outputs": [],
   "source": [
    "#importancia de los features de st, nos vamos a quedar con los 50 mas importantes para luego podar\n",
    "features_importancia_st = pd.DataFrame(randomForest.feature_importances_,\\\n",
    "                                      index = train_features.columns,\\\n",
    "                                      columns=['importancia']).sort_values('importancia', ascending=False)\\\n",
    "                                      .head(50)\n",
    "\n",
    "features_importancia_st.head()"
   ]
  },
  {
   "cell_type": "code",
   "execution_count": null,
   "metadata": {},
   "outputs": [],
   "source": [
    "features_importancia_st.to_csv('./features_importancia/features_importancia_st.csv')"
   ]
  },
  {
   "cell_type": "code",
   "execution_count": 4,
   "metadata": {},
   "outputs": [],
   "source": [
    "#Para estimar 𝑆𝑐(𝑑) el tiempo hasta que un dispositivo 𝑑 convierta\n",
    "train_labels = pd.read_csv('../xgb/train_labels_sc.csv', header=None, squeeze=True, index_col=0)\n",
    "test_labels= pd.read_csv('../xgb/test_labels_sc.csv', header=None, squeeze=True, index_col=0)"
   ]
  },
  {
   "cell_type": "code",
   "execution_count": 5,
   "metadata": {},
   "outputs": [
    {
     "data": {
      "text/plain": [
       "650898    259200.0\n",
       "537399    259200.0\n",
       "83124     259200.0\n",
       "582565    259200.0\n",
       "355968    259200.0\n",
       "Name: 1, dtype: float64"
      ]
     },
     "execution_count": 5,
     "metadata": {},
     "output_type": "execute_result"
    }
   ],
   "source": [
    "#El del es para borrarle el 0\n",
    "del train_labels.index.name\n",
    "train_labels.head()"
   ]
  },
  {
   "cell_type": "code",
   "execution_count": 6,
   "metadata": {},
   "outputs": [
    {
     "data": {
      "text/plain": [
       "212602    259200.000\n",
       "765784    259200.000\n",
       "435510    259200.000\n",
       "289933    194797.745\n",
       "252478    259200.000\n",
       "Name: 1, dtype: float64"
      ]
     },
     "execution_count": 6,
     "metadata": {},
     "output_type": "execute_result"
    }
   ],
   "source": [
    "del test_labels.index.name\n",
    "test_labels.head()"
   ]
  },
  {
   "cell_type": "code",
   "execution_count": 7,
   "metadata": {},
   "outputs": [
    {
     "data": {
      "text/plain": [
       "RandomForestRegressor(bootstrap=True, criterion='mse', max_depth=5,\n",
       "           max_features='auto', max_leaf_nodes=None,\n",
       "           min_impurity_decrease=0.0, min_impurity_split=None,\n",
       "           min_samples_leaf=50, min_samples_split=2,\n",
       "           min_weight_fraction_leaf=0.0, n_estimators=100, n_jobs=None,\n",
       "           oob_score=False, random_state=None, verbose=0, warm_start=False)"
      ]
     },
     "execution_count": 7,
     "metadata": {},
     "output_type": "execute_result"
    }
   ],
   "source": [
    "randomForest.fit(train_features, train_labels)"
   ]
  },
  {
   "cell_type": "code",
   "execution_count": 8,
   "metadata": {},
   "outputs": [
    {
     "data": {
      "text/plain": [
       "0.022786598657066448"
      ]
     },
     "execution_count": 8,
     "metadata": {},
     "output_type": "execute_result"
    }
   ],
   "source": [
    "randomForest.score(test_features,test_labels)"
   ]
  },
  {
   "cell_type": "code",
   "execution_count": 14,
   "metadata": {},
   "outputs": [
    {
     "data": {
      "text/html": [
       "<div>\n",
       "<style scoped>\n",
       "    .dataframe tbody tr th:only-of-type {\n",
       "        vertical-align: middle;\n",
       "    }\n",
       "\n",
       "    .dataframe tbody tr th {\n",
       "        vertical-align: top;\n",
       "    }\n",
       "\n",
       "    .dataframe thead th {\n",
       "        text-align: right;\n",
       "    }\n",
       "</style>\n",
       "<table border=\"1\" class=\"dataframe\">\n",
       "  <thead>\n",
       "    <tr style=\"text-align: right;\">\n",
       "      <th></th>\n",
       "      <th>importancia</th>\n",
       "    </tr>\n",
       "  </thead>\n",
       "  <tbody>\n",
       "    <tr>\n",
       "      <th>application_id_min</th>\n",
       "      <td>0.169697</td>\n",
       "    </tr>\n",
       "    <tr>\n",
       "      <th>application_id_max</th>\n",
       "      <td>0.145546</td>\n",
       "    </tr>\n",
       "    <tr>\n",
       "      <th>repeticiones_max</th>\n",
       "      <td>0.116152</td>\n",
       "    </tr>\n",
       "    <tr>\n",
       "      <th>repeticiones_sum</th>\n",
       "      <td>0.100007</td>\n",
       "    </tr>\n",
       "    <tr>\n",
       "      <th>application_id_mean</th>\n",
       "      <td>0.093231</td>\n",
       "    </tr>\n",
       "    <tr>\n",
       "      <th>application_id_sum</th>\n",
       "      <td>0.091118</td>\n",
       "    </tr>\n",
       "    <tr>\n",
       "      <th>repeticiones_min</th>\n",
       "      <td>0.091023</td>\n",
       "    </tr>\n",
       "    <tr>\n",
       "      <th>repeticiones_mean</th>\n",
       "      <td>0.050011</td>\n",
       "    </tr>\n",
       "    <tr>\n",
       "      <th>hour_sum_events</th>\n",
       "      <td>0.024246</td>\n",
       "    </tr>\n",
       "    <tr>\n",
       "      <th>carrier_sum</th>\n",
       "      <td>0.012863</td>\n",
       "    </tr>\n",
       "    <tr>\n",
       "      <th>repeticiones_sum_events</th>\n",
       "      <td>0.011150</td>\n",
       "    </tr>\n",
       "    <tr>\n",
       "      <th>repeticiones_mean_events</th>\n",
       "      <td>0.009697</td>\n",
       "    </tr>\n",
       "    <tr>\n",
       "      <th>hour_std_events</th>\n",
       "      <td>0.008770</td>\n",
       "    </tr>\n",
       "    <tr>\n",
       "      <th>repeticiones_min_events</th>\n",
       "      <td>0.007686</td>\n",
       "    </tr>\n",
       "    <tr>\n",
       "      <th>application_id_std</th>\n",
       "      <td>0.007614</td>\n",
       "    </tr>\n",
       "    <tr>\n",
       "      <th>repeticiones_max_events</th>\n",
       "      <td>0.006649</td>\n",
       "    </tr>\n",
       "    <tr>\n",
       "      <th>hour_std</th>\n",
       "      <td>0.004520</td>\n",
       "    </tr>\n",
       "    <tr>\n",
       "      <th>timeToClick_min</th>\n",
       "      <td>0.004130</td>\n",
       "    </tr>\n",
       "    <tr>\n",
       "      <th>timeToClick_max</th>\n",
       "      <td>0.003800</td>\n",
       "    </tr>\n",
       "    <tr>\n",
       "      <th>longitude_sum</th>\n",
       "      <td>0.003263</td>\n",
       "    </tr>\n",
       "    <tr>\n",
       "      <th>ref_hash</th>\n",
       "      <td>0.003043</td>\n",
       "    </tr>\n",
       "    <tr>\n",
       "      <th>timeToClick_sum</th>\n",
       "      <td>0.002882</td>\n",
       "    </tr>\n",
       "    <tr>\n",
       "      <th>hour_sum_clicks</th>\n",
       "      <td>0.002853</td>\n",
       "    </tr>\n",
       "    <tr>\n",
       "      <th>hour_mean_events</th>\n",
       "      <td>0.002806</td>\n",
       "    </tr>\n",
       "    <tr>\n",
       "      <th>latitude_sum</th>\n",
       "      <td>0.002262</td>\n",
       "    </tr>\n",
       "    <tr>\n",
       "      <th>wifi_mean</th>\n",
       "      <td>0.002151</td>\n",
       "    </tr>\n",
       "    <tr>\n",
       "      <th>timeToClick_mean</th>\n",
       "      <td>0.002067</td>\n",
       "    </tr>\n",
       "    <tr>\n",
       "      <th>hour_max_events</th>\n",
       "      <td>0.002003</td>\n",
       "    </tr>\n",
       "    <tr>\n",
       "      <th>carrier_min</th>\n",
       "      <td>0.001807</td>\n",
       "    </tr>\n",
       "    <tr>\n",
       "      <th>carrier_std</th>\n",
       "      <td>0.001788</td>\n",
       "    </tr>\n",
       "    <tr>\n",
       "      <th>longitude_min</th>\n",
       "      <td>0.001538</td>\n",
       "    </tr>\n",
       "    <tr>\n",
       "      <th>wifi_sum</th>\n",
       "      <td>0.001484</td>\n",
       "    </tr>\n",
       "    <tr>\n",
       "      <th>hour_sum</th>\n",
       "      <td>0.001480</td>\n",
       "    </tr>\n",
       "    <tr>\n",
       "      <th>wifi_std</th>\n",
       "      <td>0.001039</td>\n",
       "    </tr>\n",
       "    <tr>\n",
       "      <th>longitude_mean</th>\n",
       "      <td>0.000828</td>\n",
       "    </tr>\n",
       "    <tr>\n",
       "      <th>hour_max_clicks</th>\n",
       "      <td>0.000813</td>\n",
       "    </tr>\n",
       "    <tr>\n",
       "      <th>latitude_mean</th>\n",
       "      <td>0.000804</td>\n",
       "    </tr>\n",
       "    <tr>\n",
       "      <th>carrier_mean</th>\n",
       "      <td>0.000798</td>\n",
       "    </tr>\n",
       "    <tr>\n",
       "      <th>hour_mean_clicks</th>\n",
       "      <td>0.000678</td>\n",
       "    </tr>\n",
       "    <tr>\n",
       "      <th>hour_min_events</th>\n",
       "      <td>0.000674</td>\n",
       "    </tr>\n",
       "    <tr>\n",
       "      <th>longitude_max</th>\n",
       "      <td>0.000662</td>\n",
       "    </tr>\n",
       "    <tr>\n",
       "      <th>latitude_min</th>\n",
       "      <td>0.000652</td>\n",
       "    </tr>\n",
       "    <tr>\n",
       "      <th>latitude_max</th>\n",
       "      <td>0.000611</td>\n",
       "    </tr>\n",
       "    <tr>\n",
       "      <th>hour_mean</th>\n",
       "      <td>0.000451</td>\n",
       "    </tr>\n",
       "    <tr>\n",
       "      <th>carrier_max</th>\n",
       "      <td>0.000423</td>\n",
       "    </tr>\n",
       "    <tr>\n",
       "      <th>hour_min</th>\n",
       "      <td>0.000373</td>\n",
       "    </tr>\n",
       "    <tr>\n",
       "      <th>hour_min_clicks</th>\n",
       "      <td>0.000353</td>\n",
       "    </tr>\n",
       "    <tr>\n",
       "      <th>attributed_mean</th>\n",
       "      <td>0.000352</td>\n",
       "    </tr>\n",
       "    <tr>\n",
       "      <th>hour_max</th>\n",
       "      <td>0.000313</td>\n",
       "    </tr>\n",
       "    <tr>\n",
       "      <th>timeToClick_std</th>\n",
       "      <td>0.000263</td>\n",
       "    </tr>\n",
       "  </tbody>\n",
       "</table>\n",
       "</div>"
      ],
      "text/plain": [
       "                          importancia\n",
       "application_id_min           0.169697\n",
       "application_id_max           0.145546\n",
       "repeticiones_max             0.116152\n",
       "repeticiones_sum             0.100007\n",
       "application_id_mean          0.093231\n",
       "application_id_sum           0.091118\n",
       "repeticiones_min             0.091023\n",
       "repeticiones_mean            0.050011\n",
       "hour_sum_events              0.024246\n",
       "carrier_sum                  0.012863\n",
       "repeticiones_sum_events      0.011150\n",
       "repeticiones_mean_events     0.009697\n",
       "hour_std_events              0.008770\n",
       "repeticiones_min_events      0.007686\n",
       "application_id_std           0.007614\n",
       "repeticiones_max_events      0.006649\n",
       "hour_std                     0.004520\n",
       "timeToClick_min              0.004130\n",
       "timeToClick_max              0.003800\n",
       "longitude_sum                0.003263\n",
       "ref_hash                     0.003043\n",
       "timeToClick_sum              0.002882\n",
       "hour_sum_clicks              0.002853\n",
       "hour_mean_events             0.002806\n",
       "latitude_sum                 0.002262\n",
       "wifi_mean                    0.002151\n",
       "timeToClick_mean             0.002067\n",
       "hour_max_events              0.002003\n",
       "carrier_min                  0.001807\n",
       "carrier_std                  0.001788\n",
       "longitude_min                0.001538\n",
       "wifi_sum                     0.001484\n",
       "hour_sum                     0.001480\n",
       "wifi_std                     0.001039\n",
       "longitude_mean               0.000828\n",
       "hour_max_clicks              0.000813\n",
       "latitude_mean                0.000804\n",
       "carrier_mean                 0.000798\n",
       "hour_mean_clicks             0.000678\n",
       "hour_min_events              0.000674\n",
       "longitude_max                0.000662\n",
       "latitude_min                 0.000652\n",
       "latitude_max                 0.000611\n",
       "hour_mean                    0.000451\n",
       "carrier_max                  0.000423\n",
       "hour_min                     0.000373\n",
       "hour_min_clicks              0.000353\n",
       "attributed_mean              0.000352\n",
       "hour_max                     0.000313\n",
       "timeToClick_std              0.000263"
      ]
     },
     "execution_count": 14,
     "metadata": {},
     "output_type": "execute_result"
    }
   ],
   "source": [
    "#importancia de los features\n",
    "features_importancia_sc = pd.DataFrame(randomForest.feature_importances_,\\\n",
    "                                      index = train_features.columns,\\\n",
    "                                      columns=['importancia']).sort_values('importancia', ascending=False)\\\n",
    "                                      .head(50)\n",
    "\n",
    "features_importancia_sc"
   ]
  },
  {
   "cell_type": "code",
   "execution_count": 13,
   "metadata": {},
   "outputs": [],
   "source": [
    "features_importancia_sc.to_csv('../features_importancia/features_importancia_sc.csv')"
   ]
  },
  {
   "cell_type": "code",
   "execution_count": null,
   "metadata": {},
   "outputs": [],
   "source": []
  }
 ],
 "metadata": {
  "kernelspec": {
   "display_name": "Python 3",
   "language": "python",
   "name": "python3"
  },
  "language_info": {
   "codemirror_mode": {
    "name": "ipython",
    "version": 3
   },
   "file_extension": ".py",
   "mimetype": "text/x-python",
   "name": "python",
   "nbconvert_exporter": "python",
   "pygments_lexer": "ipython3",
   "version": "3.7.1"
  }
 },
 "nbformat": 4,
 "nbformat_minor": 2
}
