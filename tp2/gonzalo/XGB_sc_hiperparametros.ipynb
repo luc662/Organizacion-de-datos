{
 "cells": [
  {
   "cell_type": "code",
   "execution_count": 1,
   "metadata": {},
   "outputs": [],
   "source": [
    "import pandas as pd\n",
    "import numpy as np\n",
    "import matplotlib.pyplot as plt\n",
    "from sklearn.metrics import mean_squared_error\n",
    "import seaborn as sns\n",
    "import datetime as dat\n",
    "import matplotlib as plt\n",
    "import datetime as dt\n",
    "import xgboost as xgb\n",
    "%matplotlib inline\n",
    "sns.set()"
   ]
  },
  {
   "cell_type": "code",
   "execution_count": 2,
   "metadata": {},
   "outputs": [],
   "source": [
    "features_ventana1 = pd.read_csv('../xgb/features_clicks_gonzalo_ventana1.csv').set_index('ref_hash')\n",
    "aux_ventana1 = pd.read_csv('../xgb/features_events_gonzalo_ventana1.csv').set_index('ref_hash')\n",
    "features_ventana1 = features_ventana1.join(aux_ventana1, how = 'outer', lsuffix = '_clicks', rsuffix = '_events')\n",
    "aux_ventana1 = pd.read_csv('../xgb/features_installs_gonzalo_ventana1.csv').set_index('ref_hash')\n",
    "features_ventana1 = features_ventana1.join(aux_ventana1, how = 'outer', rsuffix = '_installs')\n",
    "aux_ventana1 = pd.read_csv('../xgb/features_auctions_gonzalo_ventana1.csv').set_index('ref_hash')\n",
    "features_ventana1 = features_ventana1.join(aux_ventana1, how = 'outer', rsuffix = '_auctions')\n",
    "features_ventana2 = features_ventana1.fillna(0)\n",
    "\n",
    "labels_sc_ventana1 = pd.read_csv('../xgb/labels_sc_ventana1.csv').set_index('ref_hash')\n",
    "ventana1 = features_ventana1.join(labels_sc_ventana1, how = 'left').fillna(259200)#3 dias pasado a segundos"
   ]
  },
  {
   "cell_type": "code",
   "execution_count": 3,
   "metadata": {},
   "outputs": [],
   "source": [
    "features_ventana2 = pd.read_csv('../xgb/features_clicks_gonzalo_ventana2.csv').set_index('ref_hash')\n",
    "aux_ventana2 = pd.read_csv('../xgb/features_events_gonzalo_ventana2.csv').set_index('ref_hash')\n",
    "features_ventana2 = features_ventana2.join(aux_ventana2, how = 'outer', lsuffix = '_clicks', rsuffix = '_events')\n",
    "aux_ventana2 = pd.read_csv('../xgb/features_installs_gonzalo_ventana2.csv').set_index('ref_hash')\n",
    "features_ventana2 = features_ventana2.join(aux_ventana2, how = 'outer', rsuffix = '_installs')\n",
    "aux_ventana2 = pd.read_csv('../xgb/features_auctions_gonzalo_ventana2.csv').set_index('ref_hash')\n",
    "features_ventana2 = features_ventana2.join(aux_ventana2, how = 'outer', rsuffix = '_auctions')\n",
    "features_ventana2 = features_ventana2.fillna(0)\n",
    "\n",
    "labels_sc_ventana2 = pd.read_csv('../xgb/labels_sc_ventana2.csv').set_index('ref_hash')\n",
    "ventana2 = features_ventana2.join(labels_sc_ventana2, how = 'left').fillna(259200)#3 dias pasado a segundos"
   ]
  },
  {
   "cell_type": "code",
   "execution_count": 4,
   "metadata": {},
   "outputs": [],
   "source": [
    "features_ventana3 = pd.read_csv('../xgb/features_clicks_gonzalo_ventana3.csv').set_index('ref_hash')\n",
    "aux_ventana3 = pd.read_csv('../xgb/features_events_gonzalo_ventana3.csv').set_index('ref_hash')\n",
    "features_ventana3 = features_ventana3.join(aux_ventana3, how = 'outer', lsuffix = '_clicks', rsuffix = '_events')\n",
    "aux_ventana3 = pd.read_csv('../xgb/features_installs_gonzalo_ventana3.csv').set_index('ref_hash')\n",
    "features_ventana3 = features_ventana3.join(aux_ventana3, how = 'outer', rsuffix = '_installs')\n",
    "aux_ventana3 = pd.read_csv('../xgb/features_auctions_gonzalo_ventana3.csv').set_index('ref_hash')\n",
    "features_ventana3 = features_ventana3.join(aux_ventana3, how = 'outer', rsuffix = '_auctions')\n",
    "features_ventana3 = features_ventana3.fillna(0)\n",
    "\n",
    "labels_sc_ventana3 = pd.read_csv('../xgb/labels_sc_ventana3.csv').set_index('ref_hash')\n",
    "ventana3 = features_ventana3.join(labels_sc_ventana3, how = 'left').fillna(259200)#3 dias pasado a segundos"
   ]
  },
  {
   "cell_type": "code",
   "execution_count": 5,
   "metadata": {},
   "outputs": [],
   "source": [
    "features_ventana4 = pd.read_csv('../xgb/features_clicks_gonzalo_ventana4.csv').set_index('ref_hash')\n",
    "aux_ventana4 = pd.read_csv('../xgb/features_events_gonzalo_ventana4.csv').set_index('ref_hash')\n",
    "features_ventana4 = features_ventana4.join(aux_ventana4, how = 'outer', lsuffix = '_clicks', rsuffix = '_events')\n",
    "aux_ventana4 = pd.read_csv('../xgb/features_installs_gonzalo_ventana4.csv').set_index('ref_hash')\n",
    "features_ventana4 = features_ventana4.join(aux_ventana4, how = 'outer', rsuffix = '_installs')\n",
    "aux_ventana4 = pd.read_csv('../xgb/features_auctions_gonzalo_ventana4.csv').set_index('ref_hash')\n",
    "features_ventana4 = features_ventana4.join(aux_ventana4, how = 'outer', rsuffix = '_auctions')\n",
    "features_ventana4 = features_ventana4.fillna(0)\n",
    "\n",
    "labels_sc_ventana4 = pd.read_csv('../xgb/labels_sc_ventana4.csv').set_index('ref_hash')\n",
    "ventana4 = features_ventana4.join(labels_sc_ventana4, how = 'left').fillna(259200)#3 dias pasado a segundos"
   ]
  },
  {
   "cell_type": "code",
   "execution_count": 6,
   "metadata": {},
   "outputs": [
    {
     "data": {
      "text/html": [
       "<div>\n",
       "<style scoped>\n",
       "    .dataframe tbody tr th:only-of-type {\n",
       "        vertical-align: middle;\n",
       "    }\n",
       "\n",
       "    .dataframe tbody tr th {\n",
       "        vertical-align: top;\n",
       "    }\n",
       "\n",
       "    .dataframe thead th {\n",
       "        text-align: right;\n",
       "    }\n",
       "</style>\n",
       "<table border=\"1\" class=\"dataframe\">\n",
       "  <thead>\n",
       "    <tr style=\"text-align: right;\">\n",
       "      <th></th>\n",
       "      <th>ref_hash</th>\n",
       "      <th>latitude_sum</th>\n",
       "      <th>latitude_mean</th>\n",
       "      <th>latitude_std</th>\n",
       "      <th>latitude_min</th>\n",
       "      <th>latitude_max</th>\n",
       "      <th>longitude_sum</th>\n",
       "      <th>longitude_mean</th>\n",
       "      <th>longitude_std</th>\n",
       "      <th>longitude_min</th>\n",
       "      <th>...</th>\n",
       "      <th>time_categ1 a 3 min_mean</th>\n",
       "      <th>time_categ1 a 3 min_std</th>\n",
       "      <th>time_categ1 a 3 min_min</th>\n",
       "      <th>time_categ1 a 3 min_max</th>\n",
       "      <th>time_categ3 a 10min_sum</th>\n",
       "      <th>time_categ3 a 10min_mean</th>\n",
       "      <th>time_categ3 a 10min_std</th>\n",
       "      <th>time_categ3 a 10min_min</th>\n",
       "      <th>time_categ3 a 10min_max</th>\n",
       "      <th>tiempo_hasta_aparicion</th>\n",
       "    </tr>\n",
       "  </thead>\n",
       "  <tbody>\n",
       "    <tr>\n",
       "      <th>0</th>\n",
       "      <td>1461247282174365</td>\n",
       "      <td>1.716947</td>\n",
       "      <td>1.716947</td>\n",
       "      <td>0.0</td>\n",
       "      <td>1.716947</td>\n",
       "      <td>1.716947</td>\n",
       "      <td>0.871203</td>\n",
       "      <td>0.871203</td>\n",
       "      <td>0.0</td>\n",
       "      <td>0.871203</td>\n",
       "      <td>...</td>\n",
       "      <td>0.0</td>\n",
       "      <td>0.0</td>\n",
       "      <td>0</td>\n",
       "      <td>0</td>\n",
       "      <td>1</td>\n",
       "      <td>1.0</td>\n",
       "      <td>0.0</td>\n",
       "      <td>1</td>\n",
       "      <td>1</td>\n",
       "      <td>259200.0</td>\n",
       "    </tr>\n",
       "    <tr>\n",
       "      <th>1</th>\n",
       "      <td>5470466329076030</td>\n",
       "      <td>1.873294</td>\n",
       "      <td>1.873294</td>\n",
       "      <td>0.0</td>\n",
       "      <td>1.873294</td>\n",
       "      <td>1.873294</td>\n",
       "      <td>0.844857</td>\n",
       "      <td>0.844857</td>\n",
       "      <td>0.0</td>\n",
       "      <td>0.844857</td>\n",
       "      <td>...</td>\n",
       "      <td>0.0</td>\n",
       "      <td>0.0</td>\n",
       "      <td>0</td>\n",
       "      <td>0</td>\n",
       "      <td>0</td>\n",
       "      <td>0.0</td>\n",
       "      <td>0.0</td>\n",
       "      <td>0</td>\n",
       "      <td>0</td>\n",
       "      <td>259200.0</td>\n",
       "    </tr>\n",
       "    <tr>\n",
       "      <th>2</th>\n",
       "      <td>5534899846690585</td>\n",
       "      <td>1.816352</td>\n",
       "      <td>1.816352</td>\n",
       "      <td>0.0</td>\n",
       "      <td>1.816352</td>\n",
       "      <td>1.816352</td>\n",
       "      <td>0.833068</td>\n",
       "      <td>0.833068</td>\n",
       "      <td>0.0</td>\n",
       "      <td>0.833068</td>\n",
       "      <td>...</td>\n",
       "      <td>0.0</td>\n",
       "      <td>0.0</td>\n",
       "      <td>0</td>\n",
       "      <td>0</td>\n",
       "      <td>0</td>\n",
       "      <td>0.0</td>\n",
       "      <td>0.0</td>\n",
       "      <td>0</td>\n",
       "      <td>0</td>\n",
       "      <td>259200.0</td>\n",
       "    </tr>\n",
       "    <tr>\n",
       "      <th>3</th>\n",
       "      <td>7429113196145773</td>\n",
       "      <td>1.792518</td>\n",
       "      <td>1.792518</td>\n",
       "      <td>0.0</td>\n",
       "      <td>1.792518</td>\n",
       "      <td>1.792518</td>\n",
       "      <td>0.866689</td>\n",
       "      <td>0.866689</td>\n",
       "      <td>0.0</td>\n",
       "      <td>0.866689</td>\n",
       "      <td>...</td>\n",
       "      <td>0.0</td>\n",
       "      <td>0.0</td>\n",
       "      <td>0</td>\n",
       "      <td>0</td>\n",
       "      <td>0</td>\n",
       "      <td>0.0</td>\n",
       "      <td>0.0</td>\n",
       "      <td>0</td>\n",
       "      <td>0</td>\n",
       "      <td>259200.0</td>\n",
       "    </tr>\n",
       "    <tr>\n",
       "      <th>4</th>\n",
       "      <td>8577232270715133</td>\n",
       "      <td>1.712736</td>\n",
       "      <td>1.712736</td>\n",
       "      <td>0.0</td>\n",
       "      <td>1.712736</td>\n",
       "      <td>1.712736</td>\n",
       "      <td>0.869157</td>\n",
       "      <td>0.869157</td>\n",
       "      <td>0.0</td>\n",
       "      <td>0.869157</td>\n",
       "      <td>...</td>\n",
       "      <td>0.0</td>\n",
       "      <td>0.0</td>\n",
       "      <td>0</td>\n",
       "      <td>0</td>\n",
       "      <td>0</td>\n",
       "      <td>0.0</td>\n",
       "      <td>0.0</td>\n",
       "      <td>0</td>\n",
       "      <td>0</td>\n",
       "      <td>259200.0</td>\n",
       "    </tr>\n",
       "  </tbody>\n",
       "</table>\n",
       "<p>5 rows × 287 columns</p>\n",
       "</div>"
      ],
      "text/plain": [
       "           ref_hash  latitude_sum  latitude_mean  latitude_std  latitude_min  \\\n",
       "0  1461247282174365      1.716947       1.716947           0.0      1.716947   \n",
       "1  5470466329076030      1.873294       1.873294           0.0      1.873294   \n",
       "2  5534899846690585      1.816352       1.816352           0.0      1.816352   \n",
       "3  7429113196145773      1.792518       1.792518           0.0      1.792518   \n",
       "4  8577232270715133      1.712736       1.712736           0.0      1.712736   \n",
       "\n",
       "   latitude_max  longitude_sum  longitude_mean  longitude_std  longitude_min  \\\n",
       "0      1.716947       0.871203        0.871203            0.0       0.871203   \n",
       "1      1.873294       0.844857        0.844857            0.0       0.844857   \n",
       "2      1.816352       0.833068        0.833068            0.0       0.833068   \n",
       "3      1.792518       0.866689        0.866689            0.0       0.866689   \n",
       "4      1.712736       0.869157        0.869157            0.0       0.869157   \n",
       "\n",
       "   ...  time_categ1 a 3 min_mean  time_categ1 a 3 min_std  \\\n",
       "0  ...                       0.0                      0.0   \n",
       "1  ...                       0.0                      0.0   \n",
       "2  ...                       0.0                      0.0   \n",
       "3  ...                       0.0                      0.0   \n",
       "4  ...                       0.0                      0.0   \n",
       "\n",
       "   time_categ1 a 3 min_min  time_categ1 a 3 min_max  time_categ3 a 10min_sum  \\\n",
       "0                        0                        0                        1   \n",
       "1                        0                        0                        0   \n",
       "2                        0                        0                        0   \n",
       "3                        0                        0                        0   \n",
       "4                        0                        0                        0   \n",
       "\n",
       "   time_categ3 a 10min_mean  time_categ3 a 10min_std  time_categ3 a 10min_min  \\\n",
       "0                       1.0                      0.0                        1   \n",
       "1                       0.0                      0.0                        0   \n",
       "2                       0.0                      0.0                        0   \n",
       "3                       0.0                      0.0                        0   \n",
       "4                       0.0                      0.0                        0   \n",
       "\n",
       "   time_categ3 a 10min_max  tiempo_hasta_aparicion  \n",
       "0                        1                259200.0  \n",
       "1                        0                259200.0  \n",
       "2                        0                259200.0  \n",
       "3                        0                259200.0  \n",
       "4                        0                259200.0  \n",
       "\n",
       "[5 rows x 287 columns]"
      ]
     },
     "execution_count": 6,
     "metadata": {},
     "output_type": "execute_result"
    }
   ],
   "source": [
    "matriz = ventana1.append(ventana2).append(ventana3).append(ventana4).reset_index('ref_hash')\n",
    "filas = matriz.shape[0]\n",
    "matriz.head(5)"
   ]
  },
  {
   "cell_type": "code",
   "execution_count": 7,
   "metadata": {},
   "outputs": [
    {
     "name": "stderr",
     "output_type": "stream",
     "text": [
      "/usr/local/lib/python2.7/dist-packages/xgboost/core.py:587: FutureWarning: Series.base is deprecated and will be removed in a future version\n",
      "  if getattr(data, 'base', None) is not None and \\\n",
      "/usr/local/lib/python2.7/dist-packages/xgboost/core.py:588: FutureWarning: Series.base is deprecated and will be removed in a future version\n",
      "  data.base is not None and isinstance(data, np.ndarray) \\\n"
     ]
    }
   ],
   "source": [
    "features = matriz.iloc[:,:-1]\n",
    "labels = matriz.iloc[:,-1]\n",
    "data_dmatrix = xgb.DMatrix(data=features,label=labels)"
   ]
  },
  {
   "cell_type": "code",
   "execution_count": 8,
   "metadata": {},
   "outputs": [],
   "source": [
    "from sklearn.model_selection import train_test_split\n",
    "\n",
    "train_features, test_features, train_labels, test_labels = \\\n",
    "    train_test_split(features, labels, test_size=0.25, random_state=123)"
   ]
  },
  {
   "cell_type": "code",
   "execution_count": 20,
   "metadata": {},
   "outputs": [
    {
     "name": "stdout",
     "output_type": "stream",
     "text": [
      "49077.2275073329\n",
      "49072.965948734\n",
      "49069.46759556803\n",
      "48964.826268336685\n",
      "48956.85352746344\n",
      "48949.433273745766\n",
      "48948.61005886034\n",
      "48946.74221939751\n"
     ]
    },
    {
     "data": {
      "text/plain": [
       "{'alpha': [10.0, 0.1],\n",
       " 'colsample_bytree': [0.3, 0.01],\n",
       " 'gamma': [10.0, 0.1],\n",
       " 'learning_rate': [0.055, 0.005],\n",
       " 'max_depth': [15, 1],\n",
       " 'n_estimators': [89, 1],\n",
       " 'n_folds': [10, 1],\n",
       " 'n_jobs': [10, 1],\n",
       " 'num_boost_round': [50, 1]}"
      ]
     },
     "execution_count": 20,
     "metadata": {},
     "output_type": "execute_result"
    }
   ],
   "source": [
    "params = {\n",
    "        'colsample_bytree': [0.3, 0.01],\n",
    "        'learning_rate': [0.055, 0.001],\n",
    "        'max_depth': [15, 1],\n",
    "        'alpha': [10, 0.1],\n",
    "        'num_boost_round': [50, 1],\n",
    "        'gamma': [10, 0.1],\n",
    "        'n_jobs': [10, 1],\n",
    "        'n_estimators': [89, 1],\n",
    "        'n_folds': [10, 1],\n",
    "        }\n",
    "\n",
    "xg_reg = xgb.XGBRegressor(objective ='reg:linear', max_depth = params['max_depth'][0], learning_rate = params['learning_rate'][0], \\\n",
    "                          n_estimators = params['n_estimators'][0], n_jobs = params['n_jobs'][0], gamma = params['gamma'][0], \\\n",
    "                          colsample_bytree = params['colsample_bytree'][0], alpha = params['alpha'][0], \\\n",
    "                          num_boost_round = params['num_boost_round'][0], n_folds = params['n_folds'][0])\n",
    "\n",
    "xg_reg.fit(train_features,train_labels)\n",
    "predicted_labels = xg_reg.predict(test_features)\n",
    "rmse = np.sqrt(mean_squared_error(test_labels, predicted_labels))\n",
    "print(rmse)\n",
    "best_score = rmse\n",
    "best_try = params.copy()\n",
    "def probar_sumar(hiperparametro):\n",
    "    params[hiperparametro][0] += params[hiperparametro][1]\n",
    "    xg_reg = xgb.XGBRegressor(objective ='reg:linear', max_depth = params['max_depth'][0], learning_rate = params['learning_rate'][0], \\\n",
    "                              n_estimators = params['n_estimators'][0], n_jobs = params['n_jobs'][0], gamma = params['gamma'][0], \\\n",
    "                              colsample_bytree = params['colsample_bytree'][0], alpha = params['alpha'][0], \\\n",
    "                              num_boost_round = params['num_boost_round'][0], n_folds = params['n_folds'][0])\n",
    "    xg_reg.fit(train_features,train_labels)\n",
    "    predicted_labels = xg_reg.predict(test_features)\n",
    "    rmse = np.sqrt(mean_squared_error(test_labels, predicted_labels))\n",
    "    return rmse\n",
    "    \n",
    "def probar_restar(hiperparametro):\n",
    "    params[hiperparametro][0] -= params[hiperparametro][1]\n",
    "    xg_reg = xgb.XGBRegressor(objective ='reg:linear', max_depth = params['max_depth'][0], learning_rate = params['learning_rate'][0], \\\n",
    "                              n_estimators = params['n_estimators'][0], n_jobs = params['n_jobs'][0], gamma = params['gamma'][0], \\\n",
    "                              colsample_bytree = params['colsample_bytree'][0], alpha = params['alpha'][0], \\\n",
    "                              num_boost_round = params['num_boost_round'][0], n_folds = params['n_folds'][0])\n",
    "    xg_reg.fit(train_features,train_labels)\n",
    "    predicted_labels = xg_reg.predict(test_features)\n",
    "    rmse = np.sqrt(mean_squared_error(test_labels, predicted_labels))\n",
    "    return rmse\n",
    "    \n",
    "for i in range(2):\n",
    "    for hiperparam in params:\n",
    "        mejor = True\n",
    "        while(mejor):\n",
    "            score = probar_sumar(hiperparam)\n",
    "            mejor = ( score < best_score)\n",
    "            if mejor:\n",
    "                best_score = score\n",
    "                print(best_score)\n",
    "        params[hiperparam][0] -= params[hiperparam][1]\n",
    "        \n",
    "        mejor = True\n",
    "        while(mejor):\n",
    "            score = probar_restar(hiperparam)\n",
    "            mejor = ( score < best_score)\n",
    "            if mejor:\n",
    "                best_score = score\n",
    "                print(best_score)\n",
    "        params[hiperparam][0] += params[hiperparam][1]\n",
    "\n",
    "params"
   ]
  },
  {
   "cell_type": "code",
   "execution_count": null,
   "metadata": {},
   "outputs": [],
   "source": []
  },
  {
   "cell_type": "code",
   "execution_count": null,
   "metadata": {},
   "outputs": [],
   "source": [
    "print(error)"
   ]
  },
  {
   "cell_type": "code",
   "execution_count": null,
   "metadata": {},
   "outputs": [],
   "source": [
    "params = {\n",
    "        'colsample_bytree': [0.2 , 0,3 ,0.4 ,0.6, 0.8],\n",
    "        'learning_rate': [0.03, 0.04, 0.05, 0.06, 0.07],\n",
    "        'max_depth': [3, 5, 8, 12, 15, 18, 20],\n",
    "        'alpha': [0.5, 1, 2, 5, 10, 15],\n",
    "        'num_boost_round': [0.5, 1, 2, 5, 10, 40, 50, 60],\n",
    "        'gamma': [0.5, 1, 1.5, 2, 5, 10],\n",
    "        'n_jobs': [2, 4, 5, 9, 10, 12, 15],\n",
    "        'n_estimators': [50, 80, 90, 100, 150, 200, 250, 300],\n",
    "        'n_folds': [5, 9, 10, 12, 15],\n",
    "        'min_child_weight': [10, 25, 35, 45, 55],\n",
    "        'reg_alpha': [0, 2, 4, 6, 8, 10],\n",
    "        'subsample': [0.2, 0.4, 0.6, 0.8, 1.0],\n",
    "        }"
   ]
  },
  {
   "cell_type": "raw",
   "metadata": {},
   "source": [
    "params = {\"objective\":\"reg:linear\",'colsample_bytree': 0.3,\n",
    "          'learning_rate': 0.1, 'max_depth': 5, 'alpha': 10}\n",
    "\n",
    "cv_results = xgb.cv(dtrain=data_dmatrix, params=params, nfold=10,\n",
    "                    num_boost_round=50, early_stopping_rounds=10,\n",
    "                    metrics=\"rmse\", as_pandas=True, seed=123)"
   ]
  },
  {
   "cell_type": "code",
   "execution_count": null,
   "metadata": {},
   "outputs": [],
   "source": [
    "from sklearn.model_selection import StratifiedKFold\n",
    "\n",
    "folds = 5\n",
    "param_comb = 50\n",
    "\n",
    "skf = StratifiedKFold(n_splits=folds, shuffle = True, random_state = 1001)"
   ]
  },
  {
   "cell_type": "code",
   "execution_count": null,
   "metadata": {},
   "outputs": [],
   "source": [
    "xgb_reg = xgb.XGBRegressor(objective='binary:linear',\n",
    "                    silent=True, nthread=1, scale_pos_weight = 19.8)"
   ]
  },
  {
   "cell_type": "code",
   "execution_count": null,
   "metadata": {},
   "outputs": [],
   "source": [
    "from sklearn.model_selection import RandomizedSearchCV, GridSearchCV\n",
    "\n",
    "random_search = RandomizedSearchCV(xgb_reg, param_distributions=params, n_iter=param_comb, scoring='neg_mean_squared_error', n_jobs=4, cv=skf.split(features,labels), verbose=3, random_state=1019 )"
   ]
  },
  {
   "cell_type": "code",
   "execution_count": null,
   "metadata": {},
   "outputs": [],
   "source": []
  },
  {
   "cell_type": "code",
   "execution_count": null,
   "metadata": {},
   "outputs": [],
   "source": [
    "xg_reg.fit(train_features,train_labels)"
   ]
  },
  {
   "cell_type": "code",
   "execution_count": null,
   "metadata": {},
   "outputs": [],
   "source": [
    "predicted_labels = xg_reg.predict(test_features)"
   ]
  },
  {
   "cell_type": "code",
   "execution_count": null,
   "metadata": {},
   "outputs": [],
   "source": [
    "rmse = np.sqrt(mean_squared_error(test_labels, predicted_labels))\n",
    "print(\"RMSE: %f\" % (rmse))"
   ]
  },
  {
   "cell_type": "code",
   "execution_count": null,
   "metadata": {},
   "outputs": [],
   "source": [
    "params = {\n",
    "        'learning_rate': [0.03, 0.04, 0.05, 0.06, 0.07]\n",
    "        }\n",
    "\n",
    "from sklearn.model_selection import StratifiedKFold\n",
    "\n",
    "folds = 5\n",
    "param_comb = 50\n",
    "\n",
    "skf = StratifiedKFold(n_splits=folds, shuffle = True, random_state = 1001)\n",
    "\n",
    "xgb_reg = xgb.XGBRegressor(objective='binary:linear',\n",
    "                    silent=True, nthread=1, scale_pos_weight = 19.8)\n",
    "\n",
    "from sklearn.model_selection import RandomizedSearchCV, GridSearchCV\n",
    "\n",
    "random_search = GridSearchCV(xgb_reg, param_grid=params, scoring='neg_mean_squared_error', n_jobs=4, cv=skf.split(features,labels), verbose=3)\n",
    "\n",
    "result = random_search.fit(features, labels)"
   ]
  },
  {
   "cell_type": "code",
   "execution_count": null,
   "metadata": {},
   "outputs": [],
   "source": []
  },
  {
   "cell_type": "code",
   "execution_count": null,
   "metadata": {},
   "outputs": [],
   "source": [
    "result = random_search.fit(features, labels)"
   ]
  },
  {
   "cell_type": "code",
   "execution_count": null,
   "metadata": {},
   "outputs": [],
   "source": [
    "result.best_params_"
   ]
  },
  {
   "cell_type": "code",
   "execution_count": null,
   "metadata": {},
   "outputs": [],
   "source": [
    "print(error)"
   ]
  },
  {
   "cell_type": "markdown",
   "metadata": {},
   "source": [
    "## Información de los resultados"
   ]
  },
  {
   "cell_type": "code",
   "execution_count": null,
   "metadata": {},
   "outputs": [],
   "source": [
    "cv_results.head()"
   ]
  },
  {
   "cell_type": "markdown",
   "metadata": {},
   "source": [
    "## Error final"
   ]
  },
  {
   "cell_type": "code",
   "execution_count": null,
   "metadata": {},
   "outputs": [],
   "source": [
    "print((cv_results[\"test-rmse-mean\"]).tail(1))"
   ]
  },
  {
   "cell_type": "markdown",
   "metadata": {},
   "source": [
    "## Visualizando los árboles"
   ]
  },
  {
   "cell_type": "code",
   "execution_count": null,
   "metadata": {},
   "outputs": [],
   "source": [
    "xg_reg = xgb.train(params=params, dtrain=data_dmatrix, num_boost_round=10)"
   ]
  },
  {
   "cell_type": "markdown",
   "metadata": {},
   "source": [
    "## Importancia de los features (cuantas veces aparecen en los árboles)"
   ]
  },
  {
   "cell_type": "code",
   "execution_count": null,
   "metadata": {},
   "outputs": [],
   "source": [
    "import matplotlib.pyplot as plt\n",
    "\n",
    "xgb.plot_importance(xg_reg)\n",
    "plt.rcParams['figure.figsize'] = [50, 60]\n",
    "plt.show()"
   ]
  },
  {
   "cell_type": "code",
   "execution_count": null,
   "metadata": {},
   "outputs": [],
   "source": [
    "features_ventana7 = pd.read_csv('../xgb/features_clicks_gonzalo_ventana7.csv').set_index('ref_hash')\n",
    "aux_ventana7 = pd.read_csv('../xgb/features_events_gonzalo_ventana7.csv').set_index('ref_hash')\n",
    "features_ventana7.join(aux_ventana7, how = 'outer', lsuffix = '_clicks', rsuffix = '_events')\n",
    "aux_ventana7 = pd.read_csv('../xgb/features_installs_gonzalo_ventana7.csv').set_index('ref_hash')\n",
    "features_ventana7.join(aux_ventana7, how = 'outer', rsuffix = '_installs')\n",
    "aux_ventana7 = pd.read_csv('../xgb/features_auctions_gonzalo_ventana7.csv').set_index('ref_hash')\n",
    "features_ventana7.join(aux_ventana7, how = 'outer', rsuffix = '_auctions')\n",
    "features_ventana7.fillna(0)"
   ]
  },
  {
   "cell_type": "code",
   "execution_count": null,
   "metadata": {},
   "outputs": [],
   "source": [
    "predicted_labels = xg_reg.predict(features_ventana7)"
   ]
  }
 ],
 "metadata": {
  "kernelspec": {
   "display_name": "Python 3",
   "language": "python",
   "name": "python3"
  },
  "language_info": {
   "codemirror_mode": {
    "name": "ipython",
    "version": 2
   },
   "file_extension": ".py",
   "mimetype": "text/x-python",
   "name": "python",
   "nbconvert_exporter": "python",
   "pygments_lexer": "ipython2",
   "version": "2.7.15+"
  }
 },
 "nbformat": 4,
 "nbformat_minor": 2
}
