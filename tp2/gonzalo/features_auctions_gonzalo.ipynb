{
 "cells": [
  {
   "cell_type": "markdown",
   "metadata": {},
   "source": [
    "# Analisis de superficial del csv de auctions\n",
    "### En este notebook exploramos los registros del csv con el objetivo de buscar relaciones entre las distintas variables"
   ]
  },
  {
   "cell_type": "code",
   "execution_count": 1,
   "metadata": {},
   "outputs": [],
   "source": [
    "import xgboost as xgb\n",
    "from sklearn.metrics import mean_squared_error\n",
    "import pandas as pd\n",
    "import numpy as np\n",
    "import matplotlib.pyplot as plt\n",
    "import seaborn as sns\n",
    "\n",
    "%matplotlib inline"
   ]
  },
  {
   "cell_type": "markdown",
   "metadata": {},
   "source": [
    "## Leemos el csv, y estalbecemos el tipo de dato de cada columna"
   ]
  },
  {
   "cell_type": "code",
   "execution_count": 2,
   "metadata": {},
   "outputs": [
    {
     "data": {
      "text/html": [
       "<div>\n",
       "<style scoped>\n",
       "    .dataframe tbody tr th:only-of-type {\n",
       "        vertical-align: middle;\n",
       "    }\n",
       "\n",
       "    .dataframe tbody tr th {\n",
       "        vertical-align: top;\n",
       "    }\n",
       "\n",
       "    .dataframe thead th {\n",
       "        text-align: right;\n",
       "    }\n",
       "</style>\n",
       "<table border=\"1\" class=\"dataframe\">\n",
       "  <thead>\n",
       "    <tr style=\"text-align: right;\">\n",
       "      <th></th>\n",
       "      <th>date</th>\n",
       "      <th>ref_hash</th>\n",
       "      <th>ref_type_id</th>\n",
       "      <th>source_id</th>\n",
       "      <th>day</th>\n",
       "      <th>hour</th>\n",
       "    </tr>\n",
       "  </thead>\n",
       "  <tbody>\n",
       "    <tr>\n",
       "      <th>0</th>\n",
       "      <td>2019-04-23 18:58:00.842116</td>\n",
       "      <td>2564673204772915246</td>\n",
       "      <td>1</td>\n",
       "      <td>0</td>\n",
       "      <td>2019-04-23</td>\n",
       "      <td>18</td>\n",
       "    </tr>\n",
       "    <tr>\n",
       "      <th>1</th>\n",
       "      <td>2019-04-23 18:58:01.530771</td>\n",
       "      <td>4441121667607578179</td>\n",
       "      <td>7</td>\n",
       "      <td>0</td>\n",
       "      <td>2019-04-23</td>\n",
       "      <td>18</td>\n",
       "    </tr>\n",
       "    <tr>\n",
       "      <th>2</th>\n",
       "      <td>2019-04-23 18:58:01.767562</td>\n",
       "      <td>7721769811471055264</td>\n",
       "      <td>1</td>\n",
       "      <td>0</td>\n",
       "      <td>2019-04-23</td>\n",
       "      <td>18</td>\n",
       "    </tr>\n",
       "    <tr>\n",
       "      <th>3</th>\n",
       "      <td>2019-04-23 18:58:02.363468</td>\n",
       "      <td>6416039086842158968</td>\n",
       "      <td>1</td>\n",
       "      <td>0</td>\n",
       "      <td>2019-04-23</td>\n",
       "      <td>18</td>\n",
       "    </tr>\n",
       "    <tr>\n",
       "      <th>4</th>\n",
       "      <td>2019-04-23 18:58:02.397559</td>\n",
       "      <td>1258642015983312729</td>\n",
       "      <td>1</td>\n",
       "      <td>0</td>\n",
       "      <td>2019-04-23</td>\n",
       "      <td>18</td>\n",
       "    </tr>\n",
       "  </tbody>\n",
       "</table>\n",
       "</div>"
      ],
      "text/plain": [
       "                        date             ref_hash ref_type_id source_id  \\\n",
       "0 2019-04-23 18:58:00.842116  2564673204772915246           1         0   \n",
       "1 2019-04-23 18:58:01.530771  4441121667607578179           7         0   \n",
       "2 2019-04-23 18:58:01.767562  7721769811471055264           1         0   \n",
       "3 2019-04-23 18:58:02.363468  6416039086842158968           1         0   \n",
       "4 2019-04-23 18:58:02.397559  1258642015983312729           1         0   \n",
       "\n",
       "          day  hour  \n",
       "0  2019-04-23    18  \n",
       "1  2019-04-23    18  \n",
       "2  2019-04-23    18  \n",
       "3  2019-04-23    18  \n",
       "4  2019-04-23    18  "
      ]
     },
     "execution_count": 2,
     "metadata": {},
     "output_type": "execute_result"
    }
   ],
   "source": [
    "auctions = pd.read_csv(\"../data/auctions.csv\", dtype={'date': 'str','device_id': 'category', 'ref_type_id': 'category','source_id':'category'}, parse_dates = ['date'])\n",
    "auctions['day'] = auctions['date'].dt.date\n",
    "auctions['hour'] = auctions['date'].dt.hour\n",
    "auctions.rename(columns = {\"device_id\": \"ref_hash\"}, inplace = True)\n",
    "auctions.head(5)"
   ]
  },
  {
   "cell_type": "markdown",
   "metadata": {},
   "source": [
    "## Elegimos las columnas con menor entropia o pocos valores diferentes y nos quedamos con los 5 valores mas comunes"
   ]
  },
  {
   "cell_type": "code",
   "execution_count": 3,
   "metadata": {},
   "outputs": [
    {
     "data": {
      "text/plain": [
       "{'day': [datetime.date(2019, 4, 22),\n",
       "  datetime.date(2019, 4, 18),\n",
       "  datetime.date(2019, 4, 23),\n",
       "  datetime.date(2019, 4, 24),\n",
       "  datetime.date(2019, 4, 25)],\n",
       " 'hour': [3, 4, 2, 1, 23],\n",
       " 'ref_type_id': ['1', '7'],\n",
       " 'source_id': ['1', '0', '3', '7', '6']}"
      ]
     },
     "execution_count": 3,
     "metadata": {},
     "output_type": "execute_result"
    }
   ],
   "source": [
    "grupos = ['ref_type_id', 'source_id', 'hour', 'day']\n",
    "top5 = {}\n",
    "for i in grupos: \n",
    "    top5[i]= auctions[i].value_counts().head(5).index.tolist()\n",
    "top5"
   ]
  },
  {
   "cell_type": "markdown",
   "metadata": {},
   "source": [
    "## Solo correr uno de los siguientes a la vez, es muy grande, y el codigo esta diseniado para solo realizar uno"
   ]
  },
  {
   "cell_type": "raw",
   "metadata": {},
   "source": [
    "fecha_minima=pd.to_datetime('2019-04-18 00:00:00')\n",
    "fecha_minima\n",
    "fecha_tope=pd.to_datetime('2019-04-21 00:00:00')\n",
    "auctions=auctions.loc[((auctions['date']>fecha_minima) & (auctions['date']<fecha_tope) )]\n",
    "numero_de_ventana = 1"
   ]
  },
  {
   "cell_type": "raw",
   "metadata": {},
   "source": [
    "fecha_minima=pd.to_datetime('2019-04-19 00:00:00')\n",
    "fecha_minima\n",
    "fecha_tope=pd.to_datetime('2019-04-22 00:00:00')\n",
    "auctions=auctions.loc[((auctions['date']>fecha_minima) & (auctions['date']<fecha_tope) )]\n",
    "numero_de_ventana = 2"
   ]
  },
  {
   "cell_type": "raw",
   "metadata": {},
   "source": [
    "fecha_minima=pd.to_datetime('2019-04-20 00:00:00')\n",
    "fecha_minima\n",
    "fecha_tope=pd.to_datetime('2019-04-23 00:00:00')\n",
    "auctions=auctions.loc[((auctions['date']>fecha_minima) & (auctions['date']<fecha_tope) )]\n",
    "numero_de_ventana = 3"
   ]
  },
  {
   "cell_type": "raw",
   "metadata": {},
   "source": [
    "fecha_minima=pd.to_datetime('2019-04-21 00:00:00')\n",
    "fecha_minima\n",
    "fecha_tope=pd.to_datetime('2019-04-24 00:00:00')\n",
    "auctions=auctions.loc[((auctions['date']>fecha_minima) & (auctions['date']<fecha_tope) )]\n",
    "numero_de_ventana = 4"
   ]
  },
  {
   "cell_type": "code",
   "execution_count": 4,
   "metadata": {},
   "outputs": [],
   "source": [
    "fecha_minima=pd.to_datetime('2019-04-24 00:00:00')\n",
    "fecha_minima\n",
    "fecha_tope=pd.to_datetime('2019-04-27 00:00:00')\n",
    "auctions=auctions.loc[((auctions['date']>fecha_minima) & (auctions['date']<fecha_tope) )]\n",
    "numero_de_ventana = 7"
   ]
  },
  {
   "cell_type": "markdown",
   "metadata": {},
   "source": [
    "## Esto si se corre siempre"
   ]
  },
  {
   "cell_type": "code",
   "execution_count": 5,
   "metadata": {},
   "outputs": [],
   "source": [
    "#auctions = auctions.sort_values(by = 'date')\n",
    "#auctions = auctions.sort_values(by = 'ref_hash')\n",
    "auctions['repeticiones'] = 1\n",
    "device_ids = auctions['ref_hash'].to_frame().set_index('ref_hash')\n",
    "#auctions = pd.get_dummies(auctions, columns = grupos)\n",
    "for column in grupos:\n",
    "    for value in top5[column]:\n",
    "        auctions[column + str(value)] = (auctions[column] == value)*1"
   ]
  },
  {
   "cell_type": "code",
   "execution_count": 6,
   "metadata": {},
   "outputs": [],
   "source": [
    "drop_columns_sc = [\n",
    "    'hour_sum',\n",
    "    'hour_mean',\n",
    "    'hour_std',\n",
    "    'hour_min',\n",
    "    'hour_max',\n",
    "    'repeticiones_sum',\n",
    "    'repeticiones_mean',\n",
    "    'repeticiones_std',\n",
    "    'repeticiones_min',\n",
    "    'repeticiones_max',\n",
    "    'ref_type_id1_sum',\n",
    "    'ref_type_id1_mean',\n",
    "    'ref_type_id1_std',\n",
    "    'ref_type_id1_min',\n",
    "    'ref_type_id1_max',\n",
    "    'ref_type_id7_sum',\n",
    "    'ref_type_id7_mean',\n",
    "    'ref_type_id7_std',\n",
    "    'ref_type_id7_min',\n",
    "    'ref_type_id7_max',\n",
    "    'source_id1_sum',\n",
    "    'source_id1_mean',\n",
    "    'source_id1_std',\n",
    "    'source_id1_min',\n",
    "    'source_id1_max',\n",
    "    'source_id0_sum',\n",
    "    'source_id0_mean',\n",
    "    'source_id0_std',\n",
    "    'source_id0_min',\n",
    "    'source_id0_max',\n",
    "    'source_id3_sum',\n",
    "    'source_id3_mean',\n",
    "    'source_id3_std',\n",
    "    'source_id3_min',\n",
    "    'source_id3_max',\n",
    "    'source_id7_sum',\n",
    "    'source_id7_mean',\n",
    "    'source_id7_std',\n",
    "    'source_id7_min',\n",
    "    'source_id7_max',\n",
    "    'source_id6_sum',\n",
    "    'source_id6_mean',\n",
    "    'source_id6_std',\n",
    "    'source_id6_min',\n",
    "    'source_id6_max',\n",
    "    'hour3_sum',\n",
    "    'hour3_mean',\n",
    "    'hour3_std',\n",
    "    'hour3_min',\n",
    "    'hour3_max',\n",
    "    'hour4_sum',\n",
    "    'hour4_mean',\n",
    "    'hour4_std',\n",
    "    'hour4_min',\n",
    "    'hour4_max',\n",
    "    'hour2_sum',\n",
    "    'hour2_mean',\n",
    "    'hour2_std',\n",
    "    'hour2_min',\n",
    "    'hour2_max',\n",
    "    'hour1_sum',\n",
    "    'hour1_mean',\n",
    "    'hour1_std',\n",
    "    'hour1_min',\n",
    "    'hour1_max',\n",
    "    'hour23_sum',\n",
    "    'hour23_std',\n",
    "    'hour23_min',\n",
    "    'hour23_max',\n",
    "    'day2019-04-22_sum',\n",
    "    'day2019-04-22_mean',\n",
    "    'day2019-04-22_std',\n",
    "    'day2019-04-22_min',\n",
    "    'day2019-04-22_max',\n",
    "    'day2019-04-18_sum',\n",
    "    'day2019-04-18_std',\n",
    "    'day2019-04-18_max',\n",
    "    'day2019-04-23_sum',\n",
    "    'day2019-04-23_mean',\n",
    "    'day2019-04-23_std',\n",
    "    'day2019-04-23_min',\n",
    "    'day2019-04-23_max',\n",
    "    'day2019-04-24_sum',\n",
    "    'day2019-04-24_mean',\n",
    "    'day2019-04-24_std',\n",
    "    'day2019-04-24_min',\n",
    "    'day2019-04-24_max',\n",
    "    'day2019-04-25_sum',\n",
    "    'day2019-04-25_mean',\n",
    "    'day2019-04-25_std',\n",
    "    'day2019-04-25_min',\n",
    "    'day2019-04-25_max']"
   ]
  },
  {
   "cell_type": "code",
   "execution_count": 7,
   "metadata": {},
   "outputs": [],
   "source": [
    "drop_columns_st = [\n",
    "    'repeticiones_std',\n",
    "    'ref_type_id1_mean',\n",
    "    'ref_type_id1_std',\n",
    "    'ref_type_id1_min',\n",
    "    'ref_type_id7_sum',\n",
    "    'ref_type_id7_std',\n",
    "    'ref_type_id7_min',\n",
    "    'ref_type_id7_max',\n",
    "    'source_id1_sum',\n",
    "    'source_id1_mean',\n",
    "    'source_id1_min',\n",
    "    'source_id1_max',\n",
    "    'source_id0_sum',\n",
    "    'source_id0_mean',\n",
    "    'source_id0_std',\n",
    "    'source_id0_min',\n",
    "    'source_id0_max',\n",
    "    'source_id3_sum',\n",
    "    'source_id3_mean',\n",
    "    'source_id3_std',\n",
    "    'source_id3_min',\n",
    "    'source_id3_max',\n",
    "    'source_id7_sum',\n",
    "    'source_id7_mean',\n",
    "    'source_id7_std',\n",
    "    'source_id7_min',\n",
    "    'source_id7_max',\n",
    "    'source_id6_sum',\n",
    "    'source_id6_mean',\n",
    "    'source_id6_std',\n",
    "    'source_id6_max',\n",
    "    'hour3_sum',\n",
    "    'hour3_std',\n",
    "    'hour3_min',\n",
    "    'hour3_max',\n",
    "    'hour4_mean',\n",
    "    'hour2_sum',\n",
    "    'hour2_mean',\n",
    "    'hour2_std',\n",
    "    'hour2_min',\n",
    "    'hour1_sum',\n",
    "    'hour1_mean',\n",
    "    'hour1_std',\n",
    "    'hour1_min',\n",
    "    'hour23_min',\n",
    "    'day2019-04-22_sum',\n",
    "    'day2019-04-22_mean',\n",
    "    'day2019-04-22_std',\n",
    "    'day2019-04-22_min',\n",
    "    'day2019-04-22_max',\n",
    "    'day2019-04-18_max',\n",
    "    'day2019-04-23_sum',\n",
    "    'day2019-04-23_mean',\n",
    "    'day2019-04-23_std',\n",
    "    'day2019-04-23_min',\n",
    "    'day2019-04-23_max',\n",
    "    'day2019-04-24_sum',\n",
    "    'day2019-04-24_mean',\n",
    "    'day2019-04-24_std',\n",
    "    'day2019-04-24_min',\n",
    "    'day2019-04-24_max',\n",
    "    'day2019-04-25_sum',\n",
    "    'day2019-04-25_mean',\n",
    "    'day2019-04-25_std',\n",
    "    'day2019-04-25_min',\n",
    "    'day2019-04-25_max']"
   ]
  },
  {
   "cell_type": "code",
   "execution_count": 8,
   "metadata": {},
   "outputs": [],
   "source": [
    "features = ['sum', 'mean', 'std', 'min', 'max']\n",
    "\n",
    "features_ventana = auctions.groupby('ref_hash').agg(features).fillna(0)\n",
    "level0 = features_ventana.columns.get_level_values(0)\n",
    "level1 = features_ventana.columns.get_level_values(1)\n",
    "features_ventana.columns = level0 + \"_\" + level1\n",
    "features_ventana = features_ventana.loc[features_ventana['repeticiones_sum'] > 0]\n",
    "features_st = features_ventana.drop(drop_columns_st, axis=1, inplace = False)\n",
    "features_st.to_csv('../xgb/features_auctions_gonzalo_st_ventana' + str(numero_de_ventana) + '.csv')\n",
    "features_sc = features_ventana.drop(drop_columns_sc, axis=1, inplace = False)\n",
    "features_sc.to_csv('../xgb/features_auctions_gonzalo_sc_ventana' + str(numero_de_ventana) + '.csv')"
   ]
  }
 ],
 "metadata": {
  "kernelspec": {
   "display_name": "Python 3",
   "language": "python",
   "name": "python3"
  },
  "language_info": {
   "codemirror_mode": {
    "name": "ipython",
    "version": 2
   },
   "file_extension": ".py",
   "mimetype": "text/x-python",
   "name": "python",
   "nbconvert_exporter": "python",
   "pygments_lexer": "ipython2",
   "version": "2.7.15+"
  }
 },
 "nbformat": 4,
 "nbformat_minor": 2
}
