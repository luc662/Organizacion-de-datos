{
 "cells": [
  {
   "cell_type": "markdown",
   "metadata": {},
   "source": [
    "# Analisis de superficial del csv de auctions\n",
    "### En este notebook exploramos los registros del csv con el objetivo de buscar relaciones entre las distintas variables"
   ]
  },
  {
   "cell_type": "code",
   "execution_count": 1,
   "metadata": {},
   "outputs": [],
   "source": [
    "import xgboost as xgb\n",
    "from sklearn.metrics import mean_squared_error\n",
    "import pandas as pd\n",
    "import numpy as np\n",
    "import matplotlib.pyplot as plt\n",
    "import seaborn as sns\n",
    "\n",
    "%matplotlib inline"
   ]
  },
  {
   "cell_type": "markdown",
   "metadata": {},
   "source": [
    "## Leemos el csv, y estalbecemos el tipo de dato de cada columna"
   ]
  },
  {
   "cell_type": "code",
   "execution_count": null,
   "metadata": {},
   "outputs": [],
   "source": [
    "auctions = pd.read_csv(\"../data/auctions.csv\", dtype={'date': 'str','device_id': 'category', 'ref_type_id': 'category','source_id':'category'}, parse_dates = ['date'])\n",
    "auctions['day'] = auctions['date'].dt.date\n",
    "auctions['hour'] = auctions['date'].dt.hour\n",
    "auctions.rename(columns = {\"device_id\": \"ref_hash\"}, inplace = True)\n",
    "auctions.head(5)"
   ]
  },
  {
   "cell_type": "markdown",
   "metadata": {},
   "source": [
    "## Elegimos las columnas con menor entropia o pocos valores diferentes y nos quedamos con los 5 valores mas comunes"
   ]
  },
  {
   "cell_type": "code",
   "execution_count": null,
   "metadata": {},
   "outputs": [],
   "source": [
    "#grupos = ['ref_type_id', 'source_id', 'hour', 'day']\n",
    "#top5 = {}\n",
    "#for i in grupos: \n",
    "#    top5[i]= auctions[i].value_counts().head(5).index.tolist()\n",
    "#top5\n",
    "auctions=auctions.drop(['ref_type_id','source_id'],axis=1)"
   ]
  },
  {
   "cell_type": "markdown",
   "metadata": {},
   "source": [
    "## Solo correr uno de los siguientes a la vez, es muy grande, y el codigo esta diseniado para solo realizar uno"
   ]
  },
  {
   "cell_type": "raw",
   "metadata": {},
   "source": [
    "fecha_minima=pd.to_datetime('2019-04-18 00:00:00')\n",
    "fecha_minima\n",
    "fecha_tope=pd.to_datetime('2019-04-21 00:00:00')\n",
    "auctions=auctions.loc[((auctions['date']>fecha_minima) & (auctions['date']<fecha_tope) )]\n",
    "numero_de_ventana = 1"
   ]
  },
  {
   "cell_type": "raw",
   "metadata": {},
   "source": [
    "fecha_minima=pd.to_datetime('2019-04-19 00:00:00')\n",
    "fecha_minima\n",
    "fecha_tope=pd.to_datetime('2019-04-22 00:00:00')\n",
    "auctions=auctions.loc[((auctions['date']>fecha_minima) & (auctions['date']<fecha_tope) )]\n",
    "numero_de_ventana = 2"
   ]
  },
  {
   "cell_type": "raw",
   "metadata": {},
   "source": [
    "fecha_minima=pd.to_datetime('2019-04-20 00:00:00')\n",
    "fecha_minima\n",
    "fecha_tope=pd.to_datetime('2019-04-23 00:00:00')\n",
    "auctions=auctions.loc[((auctions['date']>fecha_minima) & (auctions['date']<fecha_tope) )]\n",
    "numero_de_ventana = 3"
   ]
  },
  {
   "cell_type": "raw",
   "metadata": {},
   "source": [
    "fecha_minima=pd.to_datetime('2019-04-21 00:00:00')\n",
    "fecha_minima\n",
    "fecha_tope=pd.to_datetime('2019-04-24 00:00:00')\n",
    "auctions=auctions.loc[((auctions['date']>fecha_minima) & (auctions['date']<fecha_tope) )]\n",
    "numero_de_ventana = 4"
   ]
  },
  {
   "cell_type": "code",
   "execution_count": null,
   "metadata": {},
   "outputs": [],
   "source": [
    "fecha_minima=pd.to_datetime('2019-04-24 00:00:00')\n",
    "fecha_minima\n",
    "fecha_tope=pd.to_datetime('2019-04-27 00:00:00')\n",
    "auctions=auctions.loc[((auctions['date']>fecha_minima) & (auctions['date']<fecha_tope) )]\n",
    "numero_de_ventana = 7"
   ]
  },
  {
   "cell_type": "code",
   "execution_count": null,
   "metadata": {},
   "outputs": [],
   "source": [
    "#auctions = auctions.sort_values(by = 'date')\n",
    "#auctions = auctions.sort_values(by = 'ref_hash')\n",
    "auctions['repeticiones'] = 1\n",
    "device_ids = auctions['ref_hash'].to_frame().set_index('ref_hash')\n",
    "#auctions = pd.get_dummies(auctions, columns = grupos)\n",
    "for column in grupos:\n",
    "    for value in top5[column]:\n",
    "        auctions[column + str(value)] = (auctions[column] == value)*1"
   ]
  },
  {
   "cell_type": "markdown",
   "metadata": {},
   "source": [
    "## Esto si se corre siempre"
   ]
  },
  {
   "cell_type": "code",
   "execution_count": null,
   "metadata": {},
   "outputs": [],
   "source": [
    "features = ['sum', 'mean', 'std', 'min', 'max']\n",
    "\n",
    "features_ventana = auctions.groupby('ref_hash').agg(features).fillna(0)\n",
    "level0 = features_ventana.columns.get_level_values(0)\n",
    "level1 = features_ventana.columns.get_level_values(1)\n",
    "features_ventana.columns = level0 + \"_\" + level1\n",
    "features_ventana = features_ventana.loc[features_ventana['repeticiones_sum'] > 0]\n",
    "features_ventana.to_csv('../xgb/features_auctions_gonzalo_ventana' + str(numero_de_ventana) + '.csv')"
   ]
  },
  {
   "cell_type": "code",
   "execution_count": null,
   "metadata": {},
   "outputs": [],
   "source": []
  }
 ],
 "metadata": {
  "kernelspec": {
   "display_name": "Python 3",
   "language": "python",
   "name": "python3"
  },
  "language_info": {
   "codemirror_mode": {
    "name": "ipython",
    "version": 3
   },
   "file_extension": ".py",
   "mimetype": "text/x-python",
   "name": "python",
   "nbconvert_exporter": "python",
   "pygments_lexer": "ipython3",
   "version": "3.7.3"
  }
 },
 "nbformat": 4,
 "nbformat_minor": 2
}
