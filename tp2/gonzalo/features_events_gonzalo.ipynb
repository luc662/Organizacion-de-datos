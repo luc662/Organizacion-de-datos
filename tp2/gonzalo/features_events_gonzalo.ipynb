{
 "cells": [
  {
   "cell_type": "markdown",
   "metadata": {},
   "source": [
    "# Analisis de superficial del csv de events\n",
    "### En este notebook exploramos los registros del csv con el objetivo de buscar relaciones entre las distintas variables"
   ]
  },
  {
   "cell_type": "code",
   "execution_count": 1,
   "metadata": {},
   "outputs": [],
   "source": [
    "import xgboost as xgb\n",
    "from sklearn.metrics import mean_squared_error\n",
    "import pandas as pd\n",
    "import numpy as np\n",
    "import matplotlib.pyplot as plt\n",
    "import seaborn as sns\n",
    "\n",
    "%matplotlib inline"
   ]
  },
  {
   "cell_type": "markdown",
   "metadata": {},
   "source": [
    "## Leemos el csv, y estalbecemos el tipo de dato de cada columna"
   ]
  },
  {
   "cell_type": "code",
   "execution_count": 2,
   "metadata": {},
   "outputs": [
    {
     "data": {
      "text/html": [
       "<div>\n",
       "<style scoped>\n",
       "    .dataframe tbody tr th:only-of-type {\n",
       "        vertical-align: middle;\n",
       "    }\n",
       "\n",
       "    .dataframe tbody tr th {\n",
       "        vertical-align: top;\n",
       "    }\n",
       "\n",
       "    .dataframe thead th {\n",
       "        text-align: right;\n",
       "    }\n",
       "</style>\n",
       "<table border=\"1\" class=\"dataframe\">\n",
       "  <thead>\n",
       "    <tr style=\"text-align: right;\">\n",
       "      <th></th>\n",
       "      <th>index</th>\n",
       "      <th>date</th>\n",
       "      <th>event_id</th>\n",
       "      <th>ref_type</th>\n",
       "      <th>ref_hash</th>\n",
       "      <th>application_id</th>\n",
       "      <th>attributed</th>\n",
       "      <th>device_countrycode</th>\n",
       "      <th>device_os_version</th>\n",
       "      <th>device_brand</th>\n",
       "      <th>...</th>\n",
       "      <th>event_uuid</th>\n",
       "      <th>carrier</th>\n",
       "      <th>kind</th>\n",
       "      <th>device_os</th>\n",
       "      <th>wifi</th>\n",
       "      <th>connection_type</th>\n",
       "      <th>ip_address</th>\n",
       "      <th>device_language</th>\n",
       "      <th>day</th>\n",
       "      <th>hour</th>\n",
       "    </tr>\n",
       "  </thead>\n",
       "  <tbody>\n",
       "    <tr>\n",
       "      <th>0</th>\n",
       "      <td>2130678</td>\n",
       "      <td>2019-04-20 01:42:49.120</td>\n",
       "      <td>0</td>\n",
       "      <td>1891515180541284343</td>\n",
       "      <td>5857744372586891366</td>\n",
       "      <td>210</td>\n",
       "      <td>False</td>\n",
       "      <td>6287817205707153877</td>\n",
       "      <td>NaN</td>\n",
       "      <td>NaN</td>\n",
       "      <td>...</td>\n",
       "      <td>5b506964-5f47-4b28-a8c2-8a92d6c23379</td>\n",
       "      <td>NaN</td>\n",
       "      <td>5.882882e+18</td>\n",
       "      <td>NaN</td>\n",
       "      <td>0.0</td>\n",
       "      <td>NaN</td>\n",
       "      <td>7544543351571901618</td>\n",
       "      <td>3.301378e+18</td>\n",
       "      <td>2019-04-20</td>\n",
       "      <td>1</td>\n",
       "    </tr>\n",
       "    <tr>\n",
       "      <th>1</th>\n",
       "      <td>2130680</td>\n",
       "      <td>2019-04-20 01:42:49.340</td>\n",
       "      <td>1</td>\n",
       "      <td>1891515180541284343</td>\n",
       "      <td>7642521036780133571</td>\n",
       "      <td>210</td>\n",
       "      <td>False</td>\n",
       "      <td>6287817205707153877</td>\n",
       "      <td>NaN</td>\n",
       "      <td>NaN</td>\n",
       "      <td>...</td>\n",
       "      <td>f1fb9d15-1a7b-4116-8d3b-c4c403e197e2</td>\n",
       "      <td>NaN</td>\n",
       "      <td>4.017674e+18</td>\n",
       "      <td>NaN</td>\n",
       "      <td>0.0</td>\n",
       "      <td>NaN</td>\n",
       "      <td>6949523255335024165</td>\n",
       "      <td>NaN</td>\n",
       "      <td>2019-04-20</td>\n",
       "      <td>1</td>\n",
       "    </tr>\n",
       "    <tr>\n",
       "      <th>2</th>\n",
       "      <td>2130681</td>\n",
       "      <td>2019-04-20 01:42:49.365</td>\n",
       "      <td>1</td>\n",
       "      <td>1891515180541284343</td>\n",
       "      <td>2548841562898283198</td>\n",
       "      <td>210</td>\n",
       "      <td>False</td>\n",
       "      <td>6287817205707153877</td>\n",
       "      <td>NaN</td>\n",
       "      <td>NaN</td>\n",
       "      <td>...</td>\n",
       "      <td>c85a0b15-a5d7-472e-8116-6bfa3db19687</td>\n",
       "      <td>NaN</td>\n",
       "      <td>4.017674e+18</td>\n",
       "      <td>NaN</td>\n",
       "      <td>0.0</td>\n",
       "      <td>NaN</td>\n",
       "      <td>6428537280982666957</td>\n",
       "      <td>NaN</td>\n",
       "      <td>2019-04-20</td>\n",
       "      <td>1</td>\n",
       "    </tr>\n",
       "    <tr>\n",
       "      <th>3</th>\n",
       "      <td>2130684</td>\n",
       "      <td>2019-04-20 01:42:51.438</td>\n",
       "      <td>2</td>\n",
       "      <td>1891515180541284343</td>\n",
       "      <td>609402887625919085</td>\n",
       "      <td>210</td>\n",
       "      <td>False</td>\n",
       "      <td>6287817205707153877</td>\n",
       "      <td>NaN</td>\n",
       "      <td>NaN</td>\n",
       "      <td>...</td>\n",
       "      <td>f4aa0a97-2de6-4f22-95c6-1b3150112cb9</td>\n",
       "      <td>NaN</td>\n",
       "      <td>6.168309e+18</td>\n",
       "      <td>NaN</td>\n",
       "      <td>0.0</td>\n",
       "      <td>NaN</td>\n",
       "      <td>7607371352198017145</td>\n",
       "      <td>NaN</td>\n",
       "      <td>2019-04-20</td>\n",
       "      <td>1</td>\n",
       "    </tr>\n",
       "    <tr>\n",
       "      <th>4</th>\n",
       "      <td>2130688</td>\n",
       "      <td>2019-04-20 01:42:51.838</td>\n",
       "      <td>1</td>\n",
       "      <td>1891515180541284343</td>\n",
       "      <td>9114651763556439823</td>\n",
       "      <td>210</td>\n",
       "      <td>False</td>\n",
       "      <td>6287817205707153877</td>\n",
       "      <td>NaN</td>\n",
       "      <td>NaN</td>\n",
       "      <td>...</td>\n",
       "      <td>08e2f7f7-875f-4aa0-b337-b9b87b0d83ea</td>\n",
       "      <td>NaN</td>\n",
       "      <td>4.017674e+18</td>\n",
       "      <td>NaN</td>\n",
       "      <td>0.0</td>\n",
       "      <td>NaN</td>\n",
       "      <td>2901772839007473756</td>\n",
       "      <td>NaN</td>\n",
       "      <td>2019-04-20</td>\n",
       "      <td>1</td>\n",
       "    </tr>\n",
       "  </tbody>\n",
       "</table>\n",
       "<p>5 rows × 25 columns</p>\n",
       "</div>"
      ],
      "text/plain": [
       "     index                    date  event_id             ref_type  \\\n",
       "0  2130678 2019-04-20 01:42:49.120         0  1891515180541284343   \n",
       "1  2130680 2019-04-20 01:42:49.340         1  1891515180541284343   \n",
       "2  2130681 2019-04-20 01:42:49.365         1  1891515180541284343   \n",
       "3  2130684 2019-04-20 01:42:51.438         2  1891515180541284343   \n",
       "4  2130688 2019-04-20 01:42:51.838         1  1891515180541284343   \n",
       "\n",
       "              ref_hash  application_id  attributed   device_countrycode  \\\n",
       "0  5857744372586891366             210       False  6287817205707153877   \n",
       "1  7642521036780133571             210       False  6287817205707153877   \n",
       "2  2548841562898283198             210       False  6287817205707153877   \n",
       "3   609402887625919085             210       False  6287817205707153877   \n",
       "4  9114651763556439823             210       False  6287817205707153877   \n",
       "\n",
       "   device_os_version  device_brand  ...                            event_uuid  \\\n",
       "0                NaN           NaN  ...  5b506964-5f47-4b28-a8c2-8a92d6c23379   \n",
       "1                NaN           NaN  ...  f1fb9d15-1a7b-4116-8d3b-c4c403e197e2   \n",
       "2                NaN           NaN  ...  c85a0b15-a5d7-472e-8116-6bfa3db19687   \n",
       "3                NaN           NaN  ...  f4aa0a97-2de6-4f22-95c6-1b3150112cb9   \n",
       "4                NaN           NaN  ...  08e2f7f7-875f-4aa0-b337-b9b87b0d83ea   \n",
       "\n",
       "   carrier          kind device_os  wifi connection_type           ip_address  \\\n",
       "0      NaN  5.882882e+18       NaN   0.0             NaN  7544543351571901618   \n",
       "1      NaN  4.017674e+18       NaN   0.0             NaN  6949523255335024165   \n",
       "2      NaN  4.017674e+18       NaN   0.0             NaN  6428537280982666957   \n",
       "3      NaN  6.168309e+18       NaN   0.0             NaN  7607371352198017145   \n",
       "4      NaN  4.017674e+18       NaN   0.0             NaN  2901772839007473756   \n",
       "\n",
       "   device_language         day  hour  \n",
       "0     3.301378e+18  2019-04-20     1  \n",
       "1              NaN  2019-04-20     1  \n",
       "2              NaN  2019-04-20     1  \n",
       "3              NaN  2019-04-20     1  \n",
       "4              NaN  2019-04-20     1  \n",
       "\n",
       "[5 rows x 25 columns]"
      ]
     },
     "execution_count": 2,
     "metadata": {},
     "output_type": "execute_result"
    }
   ],
   "source": [
    "events = pd.read_csv(\"../data/events.csv\", dtype={'date': 'str', 'event_id': np.int16, 'ref_type': 'category',\n",
    "                                               'ref_hash': 'int64', 'application_id':np.int16, 'attributed': 'bool',\n",
    "                                               'device_countrycode': 'int64', 'device_os_version':'float64', 'device_brand': 'float64',\n",
    "                                               'device_model': 'float64', 'device_city':'float64', 'session_user_agent': 'float64',\n",
    "                                               'trans_id': 'str', 'user_agent':'float64', 'event_uuid': 'str',\n",
    "                                               'carrier': 'float64', 'kind':'float64', 'device_os': 'category',\n",
    "                                               'wifi': np.float16, 'connection_type':'str', 'ip_address': 'int64',\n",
    "                                               'device_language': 'float64'}, parse_dates = ['date'])\n",
    "events['day'] = events['date'].dt.date\n",
    "events['hour'] = events['date'].dt.hour\n",
    "events.head(5)"
   ]
  },
  {
   "cell_type": "code",
   "execution_count": 3,
   "metadata": {},
   "outputs": [
    {
     "data": {
      "text/plain": [
       "Timestamp('2019-04-26 23:59:59.881000')"
      ]
     },
     "execution_count": 3,
     "metadata": {},
     "output_type": "execute_result"
    }
   ],
   "source": [
    "events['date'].max()"
   ]
  },
  {
   "cell_type": "code",
   "execution_count": 4,
   "metadata": {},
   "outputs": [
    {
     "data": {
      "text/plain": [
       "Timestamp('2019-04-18 00:00:00.027000')"
      ]
     },
     "execution_count": 4,
     "metadata": {},
     "output_type": "execute_result"
    }
   ],
   "source": [
    "events['date'].min()"
   ]
  },
  {
   "cell_type": "markdown",
   "metadata": {},
   "source": [
    "## Revisamos el tipo de cada columna"
   ]
  },
  {
   "cell_type": "code",
   "execution_count": 5,
   "metadata": {},
   "outputs": [
    {
     "data": {
      "text/plain": [
       "index                          int64\n",
       "date                  datetime64[ns]\n",
       "event_id                       int16\n",
       "ref_type                    category\n",
       "ref_hash                       int64\n",
       "application_id                 int16\n",
       "attributed                      bool\n",
       "device_countrycode             int64\n",
       "device_os_version            float64\n",
       "device_brand                 float64\n",
       "device_model                 float64\n",
       "device_city                  float64\n",
       "session_user_agent           float64\n",
       "trans_id                      object\n",
       "user_agent                   float64\n",
       "event_uuid                    object\n",
       "carrier                      float64\n",
       "kind                         float64\n",
       "device_os                   category\n",
       "wifi                         float16\n",
       "connection_type               object\n",
       "ip_address                     int64\n",
       "device_language              float64\n",
       "day                           object\n",
       "hour                           int64\n",
       "dtype: object"
      ]
     },
     "execution_count": 5,
     "metadata": {},
     "output_type": "execute_result"
    }
   ],
   "source": [
    "events.dtypes"
   ]
  },
  {
   "cell_type": "markdown",
   "metadata": {},
   "source": [
    "## Elegimos las columnas con menor entropia o pocos valores diferentes y nos quedamos con los 5 valores mas comunes"
   ]
  },
  {
   "cell_type": "code",
   "execution_count": 6,
   "metadata": {},
   "outputs": [
    {
     "data": {
      "text/plain": [
       "{'application_id': [210, 122, 121, 65, 26],\n",
       " 'attributed': [False, True],\n",
       " 'connection_type': ['Cable/DSL', 'Cellular', 'Corporate', 'Dialup'],\n",
       " 'day': [datetime.date(2019, 4, 26),\n",
       "  datetime.date(2019, 4, 25),\n",
       "  datetime.date(2019, 4, 24),\n",
       "  datetime.date(2019, 4, 23),\n",
       "  datetime.date(2019, 4, 22)],\n",
       " 'device_os': ['7.531669329342818e+18', '6.941824626260379e+18'],\n",
       " 'event_id': [1, 15, 23, 2, 115],\n",
       " 'hour': [0, 2, 1, 23, 22],\n",
       " 'ref_type': ['1891515180541284343', '1494519392962156891'],\n",
       " 'wifi': [0.0, 1.0]}"
      ]
     },
     "execution_count": 6,
     "metadata": {},
     "output_type": "execute_result"
    }
   ],
   "source": [
    "grupos = ['event_id', 'ref_type','application_id', 'device_os', 'wifi', 'connection_type', 'hour', 'day', 'attributed']\n",
    "top5 = {}\n",
    "for i in grupos: \n",
    "    top5[i]= events[i].value_counts().head(5).index.tolist()\n",
    "top5"
   ]
  },
  {
   "cell_type": "code",
   "execution_count": 7,
   "metadata": {},
   "outputs": [],
   "source": [
    "events = events.sort_values(by = 'date')\n",
    "events = events.sort_values(by = 'ref_hash')\n",
    "events['repeticiones'] = 1\n",
    "device_ids = events['ref_hash'].to_frame().set_index('ref_hash')\n",
    "#events = pd.get_dummies(events, columns = grupos)\n",
    "for column in grupos:\n",
    "    for value in top5[column]:\n",
    "        events[column + str(value)] = (events[column] == value)*1"
   ]
  },
  {
   "cell_type": "code",
   "execution_count": 8,
   "metadata": {},
   "outputs": [],
   "source": [
    "fecha_minima=pd.to_datetime('2019-04-18 00:00:00')\n",
    "fecha_minima\n",
    "fecha_tope=pd.to_datetime('2019-04-21 00:00:00')\n",
    "events_ventana1=events.loc[((events['date']>fecha_minima) & (events['date']<fecha_tope) )].copy(deep=False)"
   ]
  },
  {
   "cell_type": "code",
   "execution_count": 9,
   "metadata": {},
   "outputs": [],
   "source": [
    "fecha_minima=pd.to_datetime('2019-04-19 00:00:00')\n",
    "fecha_minima\n",
    "fecha_tope=pd.to_datetime('2019-04-22 00:00:00')\n",
    "events_ventana2=events.loc[((events['date']>fecha_minima) & (events['date']<fecha_tope) )].copy(deep=False)"
   ]
  },
  {
   "cell_type": "code",
   "execution_count": 10,
   "metadata": {},
   "outputs": [],
   "source": [
    "fecha_minima=pd.to_datetime('2019-04-20 00:00:00')\n",
    "fecha_minima\n",
    "fecha_tope=pd.to_datetime('2019-04-23 00:00:00')\n",
    "events_ventana3=events.loc[((events['date']>fecha_minima) & (events['date']<fecha_tope) )].copy(deep=False)"
   ]
  },
  {
   "cell_type": "code",
   "execution_count": 11,
   "metadata": {},
   "outputs": [],
   "source": [
    "fecha_minima=pd.to_datetime('2019-04-21 00:00:00')\n",
    "fecha_minima\n",
    "fecha_tope=pd.to_datetime('2019-04-24 00:00:00')\n",
    "events_ventana4=events.loc[((events['date']>fecha_minima) & (events['date']<fecha_tope) )].copy(deep=False)"
   ]
  },
  {
   "cell_type": "code",
   "execution_count": 12,
   "metadata": {},
   "outputs": [],
   "source": [
    "fecha_minima=pd.to_datetime('2019-04-24 00:00:00')\n",
    "fecha_minima\n",
    "fecha_tope=pd.to_datetime('2019-04-27 00:00:00')\n",
    "events_ventana7=events.loc[((events['date']>fecha_minima) & (events['date']<fecha_tope) )].copy(deep=False)"
   ]
  },
  {
   "cell_type": "code",
   "execution_count": 13,
   "metadata": {},
   "outputs": [],
   "source": [
    "features = ['sum', 'mean', 'std', 'min', 'max']\n",
    "ventanas = [events_ventana1, events_ventana2, events_ventana3, events_ventana4, events_ventana7]\n",
    "numero_de_ventanas = [1,2,3,4,7]\n",
    "contador = 0\n",
    "for ventana in ventanas:\n",
    "    contador = contador + 1\n",
    "    features_ventana = ventana.groupby('ref_hash').agg(features).fillna(0)\n",
    "    level0 = features_ventana.columns.get_level_values(0)\n",
    "    level1 = features_ventana.columns.get_level_values(1)\n",
    "    features_ventana.columns = level0 + \"_\" + level1\n",
    "    features_ventana.to_csv('../xgb/features_events_gonzalo_ventana' + str(numero_de_ventanas[contador]) + '.csv')"
   ]
  }
 ],
 "metadata": {
  "kernelspec": {
   "display_name": "Python 3",
   "language": "python",
   "name": "python3"
  },
  "language_info": {
   "codemirror_mode": {
    "name": "ipython",
    "version": 2
   },
   "file_extension": ".py",
   "mimetype": "text/x-python",
   "name": "python",
   "nbconvert_exporter": "python",
   "pygments_lexer": "ipython2",
   "version": "2.7.15+"
  }
 },
 "nbformat": 4,
 "nbformat_minor": 2
}
