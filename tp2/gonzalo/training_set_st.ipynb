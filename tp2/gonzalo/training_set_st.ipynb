{
 "cells": [
  {
   "cell_type": "code",
   "execution_count": 1,
   "metadata": {},
   "outputs": [],
   "source": [
    "import pandas as pd\n",
    "import numpy as np"
   ]
  },
  {
   "cell_type": "code",
   "execution_count": 2,
   "metadata": {},
   "outputs": [],
   "source": [
    "features_ventana1 = pd.read_csv('../xgb/features_clicks_gonzalo_st_ventana1.csv').set_index('ref_hash')\n",
    "aux_ventana1 = pd.read_csv('../xgb/features_events_gonzalo_st_ventana1.csv').set_index('ref_hash')\n",
    "features_ventana1 = features_ventana1.join(aux_ventana1, how = 'outer', lsuffix = '_clicks', rsuffix = '_events')\n",
    "aux_ventana1 = pd.read_csv('../xgb/features_installs_gonzalo_st_ventana1.csv').set_index('ref_hash')\n",
    "features_ventana1 = features_ventana1.join(aux_ventana1, how = 'outer', rsuffix = '_installs')\n",
    "aux_ventana1 = pd.read_csv('../xgb/features_auctions_gonzalo_st_ventana1.csv').set_index('ref_hash')\n",
    "features_ventana1 = features_ventana1.join(aux_ventana1, how = 'outer', rsuffix = '_auctions')\n",
    "features_ventana1 = features_ventana1.fillna(0)\n",
    "\n",
    "labels_st_ventana1 = pd.read_csv('../xgb/labels_st_ventana1.csv').set_index('device_id')\n",
    "ventana1 = features_ventana1.join(labels_st_ventana1, how = 'left').fillna(259200)#3 dias pasado a segundos"
   ]
  },
  {
   "cell_type": "code",
   "execution_count": 3,
   "metadata": {},
   "outputs": [],
   "source": [
    "features_ventana2 = pd.read_csv('../xgb/features_clicks_gonzalo_st_ventana2.csv').set_index('ref_hash')\n",
    "aux_ventana2 = pd.read_csv('../xgb/features_events_gonzalo_st_ventana2.csv').set_index('ref_hash')\n",
    "features_ventana2 = features_ventana2.join(aux_ventana2, how = 'outer', lsuffix = '_clicks', rsuffix = '_events')\n",
    "aux_ventana2 = pd.read_csv('../xgb/features_installs_gonzalo_st_ventana2.csv').set_index('ref_hash')\n",
    "features_ventana2 = features_ventana2.join(aux_ventana2, how = 'outer', rsuffix = '_installs')\n",
    "aux_ventana2 = pd.read_csv('../xgb/features_auctions_gonzalo_st_ventana2.csv').set_index('ref_hash')\n",
    "features_ventana2 = features_ventana2.join(aux_ventana2, how = 'outer', rsuffix = '_auctions')\n",
    "features_ventana2 = features_ventana2.fillna(0)\n",
    "\n",
    "labels_st_ventana2 = pd.read_csv('../xgb/labels_st_ventana2.csv').set_index('device_id')\n",
    "ventana2 = features_ventana2.join(labels_st_ventana2, how = 'left').fillna(259200)#3 dias pasado a segundos"
   ]
  },
  {
   "cell_type": "code",
   "execution_count": 4,
   "metadata": {},
   "outputs": [],
   "source": [
    "features_ventana3 = pd.read_csv('../xgb/features_clicks_gonzalo_st_ventana3.csv').set_index('ref_hash')\n",
    "aux_ventana3 = pd.read_csv('../xgb/features_events_gonzalo_st_ventana3.csv').set_index('ref_hash')\n",
    "features_ventana3 = features_ventana3.join(aux_ventana3, how = 'outer', lsuffix = '_clicks', rsuffix = '_events')\n",
    "aux_ventana3 = pd.read_csv('../xgb/features_installs_gonzalo_st_ventana3.csv').set_index('ref_hash')\n",
    "features_ventana3 = features_ventana3.join(aux_ventana3, how = 'outer', rsuffix = '_installs')\n",
    "aux_ventana3 = pd.read_csv('../xgb/features_auctions_gonzalo_st_ventana3.csv').set_index('ref_hash')\n",
    "features_ventana3 = features_ventana3.join(aux_ventana3, how = 'outer', rsuffix = '_auctions')\n",
    "features_ventana3 = features_ventana3.fillna(0)\n",
    "\n",
    "labels_st_ventana3 = pd.read_csv('../xgb/labels_st_ventana3.csv').set_index('device_id')\n",
    "ventana3 = features_ventana3.join(labels_st_ventana3, how = 'left').fillna(259200)#3 dias pasado a segundos"
   ]
  },
  {
   "cell_type": "code",
   "execution_count": 5,
   "metadata": {},
   "outputs": [],
   "source": [
    "features_ventana4 = pd.read_csv('../xgb/features_clicks_gonzalo_st_ventana4.csv').set_index('ref_hash')\n",
    "aux_ventana4 = pd.read_csv('../xgb/features_events_gonzalo_st_ventana4.csv').set_index('ref_hash')\n",
    "features_ventana4 = features_ventana4.join(aux_ventana4, how = 'outer', lsuffix = '_clicks', rsuffix = '_events')\n",
    "aux_ventana4 = pd.read_csv('../xgb/features_installs_gonzalo_st_ventana4.csv').set_index('ref_hash')\n",
    "features_ventana4 = features_ventana4.join(aux_ventana4, how = 'outer', rsuffix = '_installs')\n",
    "aux_ventana4 = pd.read_csv('../xgb/features_auctions_gonzalo_st_ventana4.csv').set_index('ref_hash')\n",
    "features_ventana4 = features_ventana4.join(aux_ventana4, how = 'outer', rsuffix = '_auctions')\n",
    "features_ventana4 = features_ventana4.fillna(0)\n",
    "\n",
    "labels_st_ventana4 = pd.read_csv('../xgb/labels_st_ventana4.csv').set_index('device_id')\n",
    "ventana4 = features_ventana4.join(labels_st_ventana4, how = 'left').fillna(259200)#3 dias pasado a segundos"
   ]
  },
  {
   "cell_type": "code",
   "execution_count": 6,
   "metadata": {},
   "outputs": [],
   "source": [
    "matriz = ventana1.append(ventana2).append(ventana3).append(ventana4)\n",
    "matriz.to_csv('../xgb/training_set_st.csv')"
   ]
  }
 ],
 "metadata": {
  "kernelspec": {
   "display_name": "Python 3",
   "language": "python",
   "name": "python3"
  },
  "language_info": {
   "codemirror_mode": {
    "name": "ipython",
    "version": 2
   },
   "file_extension": ".py",
   "mimetype": "text/x-python",
   "name": "python",
   "nbconvert_exporter": "python",
   "pygments_lexer": "ipython2",
   "version": "2.7.15+"
  }
 },
 "nbformat": 4,
 "nbformat_minor": 2
}
