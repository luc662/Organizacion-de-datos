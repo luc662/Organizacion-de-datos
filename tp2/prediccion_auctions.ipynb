{
 "cells": [
  {
   "cell_type": "code",
   "execution_count": 1,
   "metadata": {},
   "outputs": [],
   "source": [
    "import pandas as pd\n",
    "import numpy as np\n",
    "import matplotlib.pyplot as plt\n",
    "import seaborn as sns\n",
    "import datetime as dat\n",
    "import matplotlib as mplt\n",
    "import datetime as dt\n",
    "%matplotlib inline\n",
    "sns.set()"
   ]
  },
  {
   "cell_type": "code",
   "execution_count": 2,
   "metadata": {},
   "outputs": [
    {
     "data": {
      "text/html": [
       "<div>\n",
       "<style scoped>\n",
       "    .dataframe tbody tr th:only-of-type {\n",
       "        vertical-align: middle;\n",
       "    }\n",
       "\n",
       "    .dataframe tbody tr th {\n",
       "        vertical-align: top;\n",
       "    }\n",
       "\n",
       "    .dataframe thead th {\n",
       "        text-align: right;\n",
       "    }\n",
       "</style>\n",
       "<table border=\"1\" class=\"dataframe\">\n",
       "  <thead>\n",
       "    <tr style=\"text-align: right;\">\n",
       "      <th></th>\n",
       "      <th>date</th>\n",
       "      <th>device_id</th>\n",
       "      <th>ref_type_id</th>\n",
       "      <th>source_id</th>\n",
       "    </tr>\n",
       "  </thead>\n",
       "  <tbody>\n",
       "    <tr>\n",
       "      <th>0</th>\n",
       "      <td>2019-04-23 18:58:00.842116</td>\n",
       "      <td>2564673204772915246</td>\n",
       "      <td>1</td>\n",
       "      <td>0</td>\n",
       "    </tr>\n",
       "    <tr>\n",
       "      <th>1</th>\n",
       "      <td>2019-04-23 18:58:01.530771</td>\n",
       "      <td>4441121667607578179</td>\n",
       "      <td>7</td>\n",
       "      <td>0</td>\n",
       "    </tr>\n",
       "    <tr>\n",
       "      <th>2</th>\n",
       "      <td>2019-04-23 18:58:01.767562</td>\n",
       "      <td>7721769811471055264</td>\n",
       "      <td>1</td>\n",
       "      <td>0</td>\n",
       "    </tr>\n",
       "    <tr>\n",
       "      <th>3</th>\n",
       "      <td>2019-04-23 18:58:02.363468</td>\n",
       "      <td>6416039086842158968</td>\n",
       "      <td>1</td>\n",
       "      <td>0</td>\n",
       "    </tr>\n",
       "    <tr>\n",
       "      <th>4</th>\n",
       "      <td>2019-04-23 18:58:02.397559</td>\n",
       "      <td>1258642015983312729</td>\n",
       "      <td>1</td>\n",
       "      <td>0</td>\n",
       "    </tr>\n",
       "  </tbody>\n",
       "</table>\n",
       "</div>"
      ],
      "text/plain": [
       "                        date            device_id ref_type_id source_id\n",
       "0 2019-04-23 18:58:00.842116  2564673204772915246           1         0\n",
       "1 2019-04-23 18:58:01.530771  4441121667607578179           7         0\n",
       "2 2019-04-23 18:58:01.767562  7721769811471055264           1         0\n",
       "3 2019-04-23 18:58:02.363468  6416039086842158968           1         0\n",
       "4 2019-04-23 18:58:02.397559  1258642015983312729           1         0"
      ]
     },
     "execution_count": 2,
     "metadata": {},
     "output_type": "execute_result"
    }
   ],
   "source": [
    "auctions = pd.read_csv(\"data/auctions.csv\", dtype={'date': 'str','device_id': 'category', 'ref_type_id': 'category','source_id':'category'}, parse_dates = ['date'])\n",
    "auctions.head(5)"
   ]
  },
  {
   "cell_type": "code",
   "execution_count": 3,
   "metadata": {},
   "outputs": [],
   "source": [
    "auctions=auctions.sort_values(by='date')"
   ]
  },
  {
   "cell_type": "code",
   "execution_count": 7,
   "metadata": {},
   "outputs": [],
   "source": [
    "serie=auctions.groupby('device_id').cumcount()\n",
    "serie=serie.to_list()\n",
    "auctions['entradas_previas']=serie"
   ]
  },
  {
   "cell_type": "code",
   "execution_count": 9,
   "metadata": {},
   "outputs": [],
   "source": [
    "fecha_minima=pd.to_datetime('2019-04-18 00:00:00')\n",
    "fecha_minima\n",
    "fecha_tope=pd.to_datetime('2019-04-21 00:00:00')\n",
    "auctions_ventana1=auctions.loc[auctions['date']<fecha_tope].copy(deep=False)\n",
    "#la division es para pasar la diferencia de tiempso de timedelta a float de dias\n",
    "auctions_ventana1['tiempo_hasta_aparicion']=(auctions_ventana1['date']-fecha_minima)/ np.timedelta64(1, 's')"
   ]
  },
  {
   "cell_type": "code",
   "execution_count": 10,
   "metadata": {},
   "outputs": [],
   "source": [
    "auctions_ventana1_reducido=auctions_ventana1.groupby(['device_id']).agg({\"date\" : min,\\\n",
    "                                                                         #\"std_hour\" : \"first\",\\\n",
    "                                                                         #\"mean_hour\" : \"first\",\\\n",
    "                                                                         'tiempo_hasta_aparicion':\"min\",\\\n",
    "                                                                        'entradas_previas':min})\\\n",
    "                                                                            .reset_index('device_id')\n",
    "#entradas previas no se debe usar para predecir en esta ventana, sino para                \n",
    "auctions_ventana1_reducido=auctions_ventana1_reducido.dropna()"
   ]
  },
  {
   "cell_type": "code",
   "execution_count": 11,
   "metadata": {},
   "outputs": [],
   "source": [
    "fecha_minima=pd.to_datetime('2019-04-21 00:00:00')\n",
    "fecha_tope=pd.to_datetime('2019-04-24 00:00:00')\n",
    "\n",
    "auctions_ventana2=auctions.loc[((auctions['date']>fecha_minima) & (auctions['date']<fecha_tope) )].copy(deep=False)\n",
    "#la division es para pasar la diferencia de tiempso de timedelta a float de dias\n",
    "auctions_ventana2['tiempo_hasta_aparicion']=(auctions_ventana2['date']-fecha_minima)/ np.timedelta64(1, 's')"
   ]
  },
  {
   "cell_type": "code",
   "execution_count": 12,
   "metadata": {},
   "outputs": [],
   "source": [
    "auctions_ventana2_reducido=auctions_ventana2.groupby(['device_id']).agg({\"date\" : min,\\\n",
    "                                                                         #\"std_hour\" : \"first\",\\\n",
    "                                                                         #\"mean_hour\" : \"first\",\\\n",
    "                                                                         'tiempo_hasta_aparicion':\"min\",\\\n",
    "                                                                        'entradas_previas':min})\\\n",
    "                                                                            .reset_index('device_id')\n",
    "#entradas previas no se debe usar para predecir en esta ventana, sino para                \n",
    "auctions_ventana2_reducido=auctions_ventana2_reducido.dropna()"
   ]
  },
  {
   "cell_type": "code",
   "execution_count": 13,
   "metadata": {},
   "outputs": [],
   "source": [
    "fecha_minima=pd.to_datetime('2019-04-22 00:00:00')\n",
    "fecha_tope=pd.to_datetime('2019-04-25 00:00:00')\n",
    "\n",
    "auctions_ventana3=auctions.loc[((auctions['date']>fecha_minima) & (auctions['date']<fecha_tope) )].copy(deep=False)\n",
    "#la division es para pasar la diferencia de tiempso de timedelta a float de dias\n",
    "auctions_ventana3['tiempo_hasta_aparicion']=(auctions_ventana2['date']-fecha_minima)/ np.timedelta64(24, 'h')\n",
    "auctions_ventana3['dia_mean']=auctions_ventana3['date'].dt.day\n",
    "auctions_ventana3['dia_desvio_std']=auctions_ventana3['date'].dt.day\n",
    "auctions_ventana3.head(25)\n",
    "auctions_ventana3_reducido=auctions_ventana3.groupby(['device_id']).agg({\"date\" : min,\\\n",
    "                                                                         #\"std_hour\" : \"first\",\\\n",
    "                                                                         #\"mean_hour\" : \"first\",\\\n",
    "                                                                         'tiempo_hasta_aparicion':\"min\",\\\n",
    "                                                                        'entradas_previas':min})\\\n",
    "                                                                            .reset_index('device_id')\n",
    "#entradas previas no se debe usar para predecir en esta ventana, sino para                \n",
    "auctions_ventana3_reducido=auctions_ventana3_reducido.dropna()"
   ]
  },
  {
   "cell_type": "code",
   "execution_count": 14,
   "metadata": {},
   "outputs": [],
   "source": [
    "fecha_minima=pd.to_datetime('2019-04-23 00:00:00')\n",
    "fecha_tope=pd.to_datetime('2019-04-26 00:00:00')\n",
    "\n",
    "auctions_ventana4=auctions.loc[((auctions['date']>fecha_minima) & (auctions['date']<fecha_tope) )].copy(deep=False)\n",
    "#la division es para pasar la diferencia de tiempso de timedelta a float de dias\n",
    "auctions_ventana4['tiempo_hasta_aparicion']=(auctions_ventana2['date']-fecha_minima)/ np.timedelta64(24, 'h')\n",
    "auctions_ventana4['dia_mean']=auctions_ventana4['date'].dt.day\n",
    "auctions_ventana4['dia_desvio_std']=auctions_ventana4['date'].dt.day\n",
    "auctions_ventana4.head(25)\n",
    "auctions_ventana4_reducido=auctions_ventana4.groupby(['device_id']).agg({\"date\" : min,\\\n",
    "                                                                        # \"std_hour\" : \"first\",\\\n",
    "                                                                        # \"mean_hour\" : \"first\",\\\n",
    "                                                                         'tiempo_hasta_aparicion':\"min\",\\\n",
    "                                                                        'entradas_previas':min})\\\n",
    "                                                                            .reset_index('device_id')\n",
    "#entradas previas no se debe usar para predecir en esta ventana, sino para                \n",
    "auctions_ventana4_reducido=auctions_ventana4_reducido.dropna()"
   ]
  },
  {
   "cell_type": "code",
   "execution_count": 16,
   "metadata": {},
   "outputs": [],
   "source": [
    "fecha_minima=pd.to_datetime('2019-04-24 00:00:00')\n",
    "fecha_tope=pd.to_datetime('2019-04-27 00:00:00')\n",
    "\n",
    "auctions_ventana5=auctions.loc[((auctions['date']>fecha_minima) & (auctions['date']<fecha_tope) )].copy(deep=False)\n",
    "#la division es para pasar la diferencia de tiempso de timedelta a float de dias\n",
    "auctions_ventana5['tiempo_hasta_aparicion']=(auctions_ventana2['date']-fecha_minima)/ np.timedelta64(24, 'h')\n",
    "auctions_ventana5['dia_mean']=auctions_ventana5['date'].dt.day\n",
    "auctions_ventana5['dia_desvio_std']=auctions_ventana5['date'].dt.day\n",
    "auctions_ventana5.head(25)\n",
    "auctions_ventana5_reducido=auctions_ventana1.groupby(['device_id']).agg({\"date\" : min,\\\n",
    "                                                                         #\"std_hour\" : \"first\",\\\n",
    "                                                                         #\"mean_hour\" : \"first\",\\\n",
    "                                                                         'tiempo_hasta_aparicion':\"min\",\\\n",
    "                                                                        'entradas_previas':min})\\\n",
    "                                                                            .reset_index('device_id')\n",
    "#entradas previas no se debe usar para predecir en esta ventana, sino para                \n",
    "auctions_ventana5_reducido=auctions_ventana5_reducido.dropna()"
   ]
  },
  {
   "cell_type": "code",
   "execution_count": null,
   "metadata": {},
   "outputs": [],
   "source": []
  }
 ],
 "metadata": {
  "kernelspec": {
   "display_name": "Python 3",
   "language": "python",
   "name": "python3"
  },
  "language_info": {
   "codemirror_mode": {
    "name": "ipython",
    "version": 3
   },
   "file_extension": ".py",
   "mimetype": "text/x-python",
   "name": "python",
   "nbconvert_exporter": "python",
   "pygments_lexer": "ipython3",
   "version": "3.7.3"
  }
 },
 "nbformat": 4,
 "nbformat_minor": 2
}
